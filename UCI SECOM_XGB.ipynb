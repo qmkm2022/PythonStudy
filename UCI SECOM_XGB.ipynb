{
 "cells": [
  {
   "cell_type": "code",
   "execution_count": 1,
   "id": "3608e135",
   "metadata": {},
   "outputs": [],
   "source": [
    "# 사용할 모델 불러오기\n",
    "import numpy as np\n",
    "import pandas as pd\n",
    "\n",
    "import matplotlib.pyplot as plt\n",
    "import seaborn as sns\n",
    "\n",
    "from sklearn.metrics import confusion_matrix\n",
    "from sklearn.model_selection import GridSearchCV\n",
    "from imblearn.over_sampling import SMOTE\n",
    "from sklearn.model_selection import train_test_split\n",
    "from sklearn.preprocessing import StandardScaler\n",
    "import xgboost as xgb\n",
    "from xgboost.sklearn import XGBClassifier\n",
    "\n",
    "import warnings\n",
    "warnings.filterwarnings(\"ignore\", category=DeprecationWarning)"
   ]
  },
  {
   "cell_type": "code",
   "execution_count": 2,
   "id": "642c2575",
   "metadata": {},
   "outputs": [
    {
     "name": "stdout",
     "output_type": "stream",
     "text": [
      "(1567, 373)\n"
     ]
    }
   ],
   "source": [
    "data = pd.read_csv('./Final_data_fix.csv')\n",
    "\n",
    "print(data.shape)"
   ]
  },
  {
   "cell_type": "markdown",
   "id": "fee2b26b",
   "metadata": {},
   "source": [
    "## Under-Sampling"
   ]
  },
  {
   "cell_type": "markdown",
   "id": "dfe9e363",
   "metadata": {},
   "source": [
    " - Pass/Fail 데이터 분리"
   ]
  },
  {
   "cell_type": "code",
   "execution_count": 3,
   "id": "0b894cc8",
   "metadata": {},
   "outputs": [
    {
     "name": "stdout",
     "output_type": "stream",
     "text": [
      "104\n"
     ]
    }
   ],
   "source": [
    "failed_tests = np.array(data[data['Pass/Fail'] == 1].index)\n",
    "no_failed_tests = len(failed_tests)\n",
    "\n",
    "print(no_failed_tests)"
   ]
  },
  {
   "cell_type": "code",
   "execution_count": 4,
   "id": "fa5f0deb",
   "metadata": {},
   "outputs": [
    {
     "name": "stdout",
     "output_type": "stream",
     "text": [
      "1463\n"
     ]
    }
   ],
   "source": [
    "normal_indices = data[data['Pass/Fail'] == -1]\n",
    "no_normal_indices = len(normal_indices)\n",
    "\n",
    "print(no_normal_indices)"
   ]
  },
  {
   "cell_type": "code",
   "execution_count": 5,
   "id": "56ee589d",
   "metadata": {},
   "outputs": [
    {
     "name": "stdout",
     "output_type": "stream",
     "text": [
      "104\n"
     ]
    }
   ],
   "source": [
    "# Pass 데이터에서 무작위로 104개 추출\n",
    "random_normal_indices = np.random.choice(no_normal_indices, size = no_failed_tests, replace = True)\n",
    "random_normal_indices = np.array(random_normal_indices)\n",
    "\n",
    "print(len(random_normal_indices))"
   ]
  },
  {
   "cell_type": "code",
   "execution_count": 6,
   "id": "bc751a99",
   "metadata": {},
   "outputs": [
    {
     "name": "stdout",
     "output_type": "stream",
     "text": [
      "208\n"
     ]
    }
   ],
   "source": [
    "under_sample = np.concatenate([failed_tests, random_normal_indices])\n",
    "print(len(under_sample))"
   ]
  },
  {
   "cell_type": "code",
   "execution_count": 7,
   "id": "3db00515",
   "metadata": {},
   "outputs": [],
   "source": [
    "undersample_data = data.iloc[under_sample, :]"
   ]
  },
  {
   "cell_type": "code",
   "execution_count": 8,
   "id": "9e4709fb",
   "metadata": {},
   "outputs": [
    {
     "name": "stdout",
     "output_type": "stream",
     "text": [
      "(208, 372)\n",
      "(208, 1)\n"
     ]
    }
   ],
   "source": [
    "x = undersample_data.iloc[:, undersample_data.columns != 'Pass/Fail'] \n",
    "y = undersample_data.iloc[:, undersample_data.columns == 'Pass/Fail']\n",
    "\n",
    "print(x.shape)\n",
    "print(y.shape)"
   ]
  },
  {
   "cell_type": "code",
   "execution_count": 9,
   "id": "67c7fc24",
   "metadata": {},
   "outputs": [
    {
     "name": "stdout",
     "output_type": "stream",
     "text": [
      "(145, 372)\n",
      "(145, 1)\n",
      "(63, 372)\n",
      "(63, 1)\n"
     ]
    }
   ],
   "source": [
    "# train, test 분리\n",
    "from sklearn.model_selection import train_test_split\n",
    "\n",
    "x_train_us, x_test_us, y_train_us, y_test_us = train_test_split(x, y, test_size = 0.3, random_state = 1)\n",
    "\n",
    "print(x_train_us.shape)\n",
    "print(y_train_us.shape)\n",
    "print(x_test_us.shape)\n",
    "print(y_test_us.shape)"
   ]
  },
  {
   "cell_type": "code",
   "execution_count": 10,
   "id": "56b8848b",
   "metadata": {},
   "outputs": [],
   "source": [
    "# 표준화\n",
    "sc = StandardScaler()\n",
    "x_train_us = sc.fit_transform(x_train_us)\n",
    "x_test_us = sc.transform(x_test_us)"
   ]
  },
  {
   "cell_type": "markdown",
   "id": "c9f56caa",
   "metadata": {},
   "source": [
    "## XGBoost(Under-Sampling)"
   ]
  },
  {
   "cell_type": "code",
   "execution_count": 11,
   "id": "dc7a55f5",
   "metadata": {},
   "outputs": [
    {
     "name": "stderr",
     "output_type": "stream",
     "text": [
      "c:\\python38\\lib\\site-packages\\sklearn\\preprocessing\\_label.py:116: DataConversionWarning: A column-vector y was passed when a 1d array was expected. Please change the shape of y to (n_samples, ), for example using ravel().\n",
      "  y = column_or_1d(y, warn=True)\n"
     ]
    }
   ],
   "source": [
    "# XGBoost 모델 오류로 인해 y_train_us 모델 변형\n",
    "from sklearn.preprocessing import LabelEncoder\n",
    "le = LabelEncoder()\n",
    "y_train_us = le.fit_transform(y_train_us)"
   ]
  },
  {
   "cell_type": "code",
   "execution_count": 12,
   "id": "7ae55362",
   "metadata": {},
   "outputs": [],
   "source": [
    "# XGB 모델 적용\n",
    "model = XGBClassifier(random_state=1)\n",
    "\n",
    "model.fit(x_train_us, y_train_us)\n",
    "\n",
    "y_pred = model.predict(x_test_us)\n",
    "\n",
    "cm = confusion_matrix(y_test_us, y_pred)"
   ]
  },
  {
   "cell_type": "code",
   "execution_count": 13,
   "id": "da4971ee",
   "metadata": {},
   "outputs": [
    {
     "name": "stdout",
     "output_type": "stream",
     "text": [
      "[[29  2]\n",
      " [ 4 28]]\n"
     ]
    },
    {
     "data": {
      "text/plain": [
       "0.9047619047619048"
      ]
     },
     "execution_count": 13,
     "metadata": {},
     "output_type": "execute_result"
    }
   ],
   "source": [
    "# 혼동행렬 적용을 위해 y_train_us 복구\n",
    "from sklearn.metrics import confusion_matrix, accuracy_score\n",
    "y_pred = model.predict(x_test_us)\n",
    "y_pred = le.inverse_transform(y_pred)\n",
    "cm = confusion_matrix(y_test_us, y_pred)\n",
    "print(cm)\n",
    "accuracy_score(y_test_us, y_pred)"
   ]
  },
  {
   "cell_type": "code",
   "execution_count": 14,
   "id": "aeea5fcd",
   "metadata": {
    "scrolled": true
   },
   "outputs": [
    {
     "data": {
      "text/plain": [
       "<Axes: >"
      ]
     },
     "execution_count": 14,
     "metadata": {},
     "output_type": "execute_result"
    },
    {
     "data": {
      "image/png": "[encoded data removed]",
      "text/plain": [
       "<Figure size 500x500 with 2 Axes>"
      ]
     },
     "metadata": {},
     "output_type": "display_data"
    }
   ],
   "source": [
    "# 혼동행렬 시각화\n",
    "cm = confusion_matrix(y_test_us, y_pred)\n",
    "\n",
    "\n",
    "plt.rcParams['figure.figsize'] = (5, 5)\n",
    "sns.set(style = 'dark', font_scale = 1.4)\n",
    "sns.heatmap(cm, annot = True, annot_kws = {\"size\": 15}, cmap = 'spring')"
   ]
  },
  {
   "cell_type": "code",
   "execution_count": 15,
   "id": "d01c2715",
   "metadata": {
    "scrolled": true
   },
   "outputs": [
    {
     "data": {
      "image/png": "[encoded data removed]",
      "text/plain": [
       "<Figure size 500x500 with 1 Axes>"
      ]
     },
     "metadata": {},
     "output_type": "display_data"
    }
   ],
   "source": [
    "# 중요도 시각화\n",
    "colors = plt.cm.spring(np.linspace(0, 1, 9))\n",
    "xgb.plot_importance(model, height = 1, color = colors, grid = True, importance_type = 'cover', show_values = False)\n",
    "\n",
    "plt.rcParams['figure.figsize'] = (1000, 1000)\n",
    "plt.ylabel('Importances')\n",
    "plt.show()"
   ]
  },
  {
   "cell_type": "markdown",
   "id": "4c12410b",
   "metadata": {},
   "source": [
    "# Over-Sampling"
   ]
  },
  {
   "cell_type": "code",
   "execution_count": 16,
   "id": "d22364d6",
   "metadata": {},
   "outputs": [
    {
     "name": "stdout",
     "output_type": "stream",
     "text": [
      "(208, 372)\n",
      "(208,)\n"
     ]
    }
   ],
   "source": [
    "# SMOTE 를 이용한 오버샘플링\n",
    "from imblearn.over_sampling import SMOTE\n",
    "\n",
    "x_resample, y_resample  = SMOTE().fit_resample(x, y.values.ravel())\n",
    "\n",
    "print(x_resample.shape)\n",
    "print(y_resample.shape)"
   ]
  },
  {
   "cell_type": "code",
   "execution_count": 17,
   "id": "b39afbb3",
   "metadata": {},
   "outputs": [
    {
     "name": "stdout",
     "output_type": "stream",
     "text": [
      "(145, 372)\n",
      "(145, 1)\n",
      "(63, 372)\n",
      "(63, 1)\n"
     ]
    }
   ],
   "source": [
    "# train, test 모델 분리\n",
    "x_train_os, x_test_os, y_train_os, y_test_os = train_test_split(x, y, test_size = 0.3, random_state = 1)\n",
    "\n",
    "print(x_train_os.shape)\n",
    "print(y_train_os.shape)\n",
    "print(x_test_os.shape)\n",
    "print(y_test_os.shape)"
   ]
  },
  {
   "cell_type": "code",
   "execution_count": 18,
   "id": "4d1cd40f",
   "metadata": {},
   "outputs": [],
   "source": [
    "# 표준화\n",
    "sc = StandardScaler()\n",
    "x_train_os = sc.fit_transform(x_train_os)\n",
    "x_test_os = sc.transform(x_test_os)"
   ]
  },
  {
   "cell_type": "markdown",
   "id": "5711da5c",
   "metadata": {},
   "source": [
    "## XGBoost(Over-Sampling)"
   ]
  },
  {
   "cell_type": "code",
   "execution_count": 19,
   "id": "43304204",
   "metadata": {},
   "outputs": [
    {
     "name": "stderr",
     "output_type": "stream",
     "text": [
      "c:\\python38\\lib\\site-packages\\sklearn\\preprocessing\\_label.py:116: DataConversionWarning: A column-vector y was passed when a 1d array was expected. Please change the shape of y to (n_samples, ), for example using ravel().\n",
      "  y = column_or_1d(y, warn=True)\n"
     ]
    }
   ],
   "source": [
    "# XGBoost 모델 오류로 인해 y_train_us 모델 변형\n",
    "from sklearn.preprocessing import LabelEncoder\n",
    "le = LabelEncoder()\n",
    "y_train_os = le.fit_transform(y_train_os)"
   ]
  },
  {
   "cell_type": "code",
   "execution_count": 20,
   "id": "dd3694c5",
   "metadata": {},
   "outputs": [],
   "source": [
    "# XGB 모델 적용\n",
    "import xgboost as xgb\n",
    "from xgboost.sklearn import XGBClassifier\n",
    "\n",
    "model = XGBClassifier(random_state=1)\n",
    "\n",
    "model.fit(x_train_os, y_train_os)\n",
    "\n",
    "y_pred_os = model.predict(x_test_os)"
   ]
  },
  {
   "cell_type": "code",
   "execution_count": 21,
   "id": "4eb16466",
   "metadata": {},
   "outputs": [
    {
     "name": "stdout",
     "output_type": "stream",
     "text": [
      "[15:17:40] WARNING: C:\\buildkite-agent\\builds\\buildkite-windows-cpu-autoscaling-group-i-07593ffd91cd9da33-1\\xgboost\\xgboost-ci-windows\\src\\learner.cc:767: \n",
      "Parameters: { \"cv\" } are not used.\n",
      "\n"
     ]
    }
   ],
   "source": [
    "# GridSearchCV 적용(더 정확한 결과값을 얻기 위해서)\n",
    "from sklearn.model_selection import GridSearchCV\n",
    "\n",
    "# 매개변수 목록\n",
    "parameters = [{'max_depth' : [1, 2, 3, 4, 5, 6],\n",
    "              'cv' : [2,4,6,8,10],\n",
    "              'random_state' : [1]}]\n",
    "\n",
    "# GridSearch 모델 \n",
    "grid_search = GridSearchCV(estimator = model, param_grid = parameters, scoring = 'accuracy', n_jobs = -1)\n",
    "grid_search = grid_search.fit(x_train_os, y_train_os)\n",
    "\n",
    "best_accuracy = grid_search.best_score_\n",
    "best_parameters = grid_search.best_params_"
   ]
  },
  {
   "cell_type": "code",
   "execution_count": 22,
   "id": "9ccddd77",
   "metadata": {},
   "outputs": [
    {
     "name": "stdout",
     "output_type": "stream",
     "text": [
      "Best Accuracy:  0.7586206896551724\n",
      "Best Parameter:  {'cv': 2, 'max_depth': 4, 'random_state': 1}\n"
     ]
    }
   ],
   "source": [
    "# 최적의 조건 산출\n",
    "print(\"Best Accuracy: \", best_accuracy)\n",
    "print(\"Best Parameter: \", best_parameters)"
   ]
  },
  {
   "cell_type": "code",
   "execution_count": 23,
   "id": "e73833f0",
   "metadata": {},
   "outputs": [
    {
     "name": "stdout",
     "output_type": "stream",
     "text": [
      "[15:17:57] WARNING: C:\\buildkite-agent\\builds\\buildkite-windows-cpu-autoscaling-group-i-07593ffd91cd9da33-1\\xgboost\\xgboost-ci-windows\\src\\learner.cc:767: \n",
      "Parameters: { \"cv\", \"scale_pos_weights\" } are not used.\n",
      "\n"
     ]
    }
   ],
   "source": [
    "# 최적의 조건 적용해서 XGBoost 모델 적용\n",
    "weights = (y == 0).sum()/(1.0*(y == -1).sum())\n",
    "model = XGBClassifier(max_depth = 4, scale_pos_weights = weights, n_jobs = -1,random_state=1,cv=2)\n",
    "\n",
    "model.fit(x_train_os, y_train_os)\n",
    "\n",
    "y_pred = model.predict(x_test_os)"
   ]
  },
  {
   "cell_type": "code",
   "execution_count": 24,
   "id": "13fc85a8",
   "metadata": {},
   "outputs": [
    {
     "name": "stdout",
     "output_type": "stream",
     "text": [
      "[[26  5]\n",
      " [ 4 28]]\n"
     ]
    },
    {
     "data": {
      "text/plain": [
       "0.8571428571428571"
      ]
     },
     "execution_count": 24,
     "metadata": {},
     "output_type": "execute_result"
    }
   ],
   "source": [
    "# 혼동행렬 적용을 위해 y_train_us 복구\n",
    "from sklearn.metrics import confusion_matrix, accuracy_score\n",
    "y_pred_os = model.predict(x_test_os)\n",
    "y_pred_os = le.inverse_transform(y_pred_os)\n",
    "CM = confusion_matrix(y_test_os, y_pred_os)\n",
    "print(CM)\n",
    "accuracy_score(y_test_os, y_pred_os)"
   ]
  },
  {
   "cell_type": "code",
   "execution_count": 25,
   "id": "16f03bc3",
   "metadata": {},
   "outputs": [
    {
     "data": {
      "text/plain": [
       "<Axes: >"
      ]
     },
     "execution_count": 25,
     "metadata": {},
     "output_type": "execute_result"
    },
    {
     "data": {
      "image/png": "[encoded data removed]",
      "text/plain": [
       "<Figure size 500x500 with 2 Axes>"
      ]
     },
     "metadata": {},
     "output_type": "display_data"
    }
   ],
   "source": [
    "# 혼동행렬 적용\n",
    "CM = confusion_matrix(y_test_os, y_pred_os)\n",
    "\n",
    "plt.rcParams['figure.figsize'] = (5, 5)\n",
    "sns.set(style = 'dark', font_scale = 1.4)\n",
    "sns.heatmap(CM, annot = True, annot_kws = {\"size\": 15}, cmap = 'spring')"
   ]
  },
  {
   "cell_type": "code",
   "execution_count": null,
   "id": "64356b8d",
   "metadata": {},
   "outputs": [],
   "source": []
  }
 ],
 "metadata": {
  "kernelspec": {
   "display_name": "Python 3 (ipykernel)",
   "language": "python",
   "name": "python3"
  },
  "language_info": {
   "codemirror_mode": {
    "name": "ipython",
    "version": 3
   },
   "file_extension": ".py",
   "mimetype": "text/x-python",
   "name": "python",
   "nbconvert_exporter": "python",
   "pygments_lexer": "ipython3",
   "version": "3.8.7"
  }
 },
 "nbformat": 4,
 "nbformat_minor": 5
}
