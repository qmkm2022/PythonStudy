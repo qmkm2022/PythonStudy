{
 "cells": [
  {
   "cell_type": "markdown",
   "id": "ea0b71b4",
   "metadata": {},
   "source": [
    "# 1. 한글폰트설치\n",
    "* colab에서\n",
    " * !apt-get install -y fonts-nanum\n",
    " * !fc-cache -fv\n",
    " * rm -rf ~/.cache/matplotlib\n",
    " * #설치후 런타임 다시시작"
   ]
  },
  {
   "cell_type": "markdown",
   "id": "eb7849b0",
   "metadata": {},
   "source": [
    "# 2. Jupyter에 폰트 표시"
   ]
  },
  {
   "cell_type": "code",
   "execution_count": 19,
   "id": "316047f3",
   "metadata": {},
   "outputs": [],
   "source": [
    "import numpy as np\n",
    "from matplotlib import font_manager, rc\n",
    "import matplotlib as mpl\n",
    "# minus 표시\n",
    "mpl.rcParams['axes.unicode_minus'] = False\n",
    "plt.rc('font', family = 'Malgun Gothic')"
   ]
  }
 ],
 "metadata": {
  "kernelspec": {
   "display_name": "Python 3 (ipykernel)",
   "language": "python",
   "name": "python3"
  },
  "language_info": {
   "codemirror_mode": {
    "name": "ipython",
    "version": 3
   },
   "file_extension": ".py",
   "mimetype": "text/x-python",
   "name": "python",
   "nbconvert_exporter": "python",
   "pygments_lexer": "ipython3",
   "version": "3.8.7"
  }
 },
 "nbformat": 4,
 "nbformat_minor": 5
}
