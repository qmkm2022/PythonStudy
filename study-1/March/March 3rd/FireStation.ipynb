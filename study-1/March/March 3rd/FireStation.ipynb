{
 "cells": [
  {
   "cell_type": "markdown",
   "id": "4a08f151",
   "metadata": {},
   "source": [
    "# 소방청 - 서울지역 검색"
   ]
  },
  {
   "cell_type": "markdown",
   "id": "c132ca3a",
   "metadata": {},
   "source": [
    "관서명 주소 전화번호\n",
    "'https://www.nfa.go.kr/nfa/introduce/status/firestationidfo/?searchDistance=10&searchMode=keyword&myX=37.5382842&myY=126.9213649&searchKeyword=%EC%84%9C%EC%9A%B8&pageIndex=1'\n",
    "csv 파일로 저장\n",
    "kakao api로 위도경도\n",
    "못 받아온 경우 인덱스 확인 후 drop\n",
    "페이지를 바꾼 것은 셀레늄으로 바꾸고 난 후는 BS로 크로링"
   ]
  },
  {
   "cell_type": "code",
   "execution_count": 1,
   "id": "b1fda3cb",
   "metadata": {},
   "outputs": [],
   "source": [
    "import numpy as np\n",
    "import pandas as pd\n",
    "import requests\n",
    "from urllib.parse import quote\n",
    "import folium, json\n",
    "from bs4 import BeautifulSoup\n",
    "import pandas as pd\n",
    "from tqdm.notebook import tqdm\n",
    "import time\n",
    "from selenium import webdriver\n",
    "from selenium.webdriver.common.keys import Keys\n",
    "from selenium.webdriver.common.by import By\n",
    "import math"
   ]
  },
  {
   "cell_type": "code",
   "execution_count": 2,
   "id": "f5a65db9",
   "metadata": {},
   "outputs": [],
   "source": [
    "url = 'https://www.nfa.go.kr/nfa/introduce/status/firestationidfo/?searchDistance=10&searchMode=keyword&myX=37.5382842&myY=126.9213649&searchKeyword='\n",
    "driver = webdriver.Chrome()\n",
    "driver.get(url)"
   ]
  },
  {
   "cell_type": "code",
   "execution_count": 3,
   "id": "f8769f86",
   "metadata": {},
   "outputs": [],
   "source": [
    "# 입력창에 서울 입력하고 검색 버튼을 누르는 동작\n",
    "driver.find_element(By.ID, \"searchKeyword\").send_keys('서울')\n",
    "driver.find_element(By.ID, \"fsSearchBtn\").click()"
   ]
  },
  {
   "cell_type": "code",
   "execution_count": 4,
   "id": "743a1c2d",
   "metadata": {},
   "outputs": [
    {
     "data": {
      "text/plain": [
       "10"
      ]
     },
     "execution_count": 4,
     "metadata": {},
     "output_type": "execute_result"
    }
   ],
   "source": [
    "soup = BeautifulSoup(driver.page_source, 'html.parser')\n",
    "lis = soup.select('.stations-list > li')\n",
    "len(lis)"
   ]
  },
  {
   "cell_type": "code",
   "execution_count": 5,
   "id": "e3ad8c0f",
   "metadata": {},
   "outputs": [],
   "source": [
    "li = lis[0]\n",
    "name = li.select_one('.title').get_text().strip()\n",
    "addr = li.find('address').get_text().strip()\n",
    "tel = li.select_one('.tel').get_text().strip()"
   ]
  },
  {
   "cell_type": "code",
   "execution_count": 6,
   "id": "0a482d88",
   "metadata": {},
   "outputs": [
    {
     "data": {
      "text/plain": [
       "('동작소방서', '서울특별시 동작구 여의대방로16길 55(신대방동)', '02-847-1190')"
      ]
     },
     "execution_count": 6,
     "metadata": {},
     "output_type": "execute_result"
    }
   ],
   "source": [
    "name, addr, tel"
   ]
  },
  {
   "cell_type": "code",
   "execution_count": 7,
   "id": "85480d28",
   "metadata": {},
   "outputs": [],
   "source": [
    "lines = []\n",
    "for li in lis:\n",
    "    name = li.select_one('.title').get_text().strip()\n",
    "    addr = li.find('address').get_text().strip()\n",
    "    tel = li.select_one('.tel').get_text().strip()\n",
    "    lines.append([name, addr, tel])"
   ]
  },
  {
   "cell_type": "code",
   "execution_count": 8,
   "id": "1c2fcecf",
   "metadata": {},
   "outputs": [
    {
     "data": {
      "text/plain": [
       "[['동작소방서', '서울특별시 동작구 여의대방로16길 55(신대방동)', '02-847-1190'],\n",
       " ['서대문소방서', '서울특별시 서대문구 연희로 182(연희동)', '02-3144-1190'],\n",
       " ['광진소방서', '서울특별시 광진구 광나루로 480(구의동)', '02-457-0119'],\n",
       " ['송파소방서', '서울특별시 송파구 오금로51길 56(마천동)', '02-403-2119'],\n",
       " ['양천소방서', '서울특별시 양천구 목동서로 180(목동)', '02-2655-1119'],\n",
       " ['은평소방서', '서울특별시 은평구 통일로 962(진관동)', '02-355-0119'],\n",
       " ['노원소방서', '서울특별시 노원구 한글비석로 1길 8(하계동)', '02-977-0119'],\n",
       " ['종로소방서', '서울특별시 종로구 종로1길 28(수송동)', '02-735-6119'],\n",
       " ['도봉소방서', '서울특별시 도봉구 도봉로 666(방학동)', '02-3492-3437'],\n",
       " ['용산소방서', '서울특별시 용산구 한강대로 167(한강로2가)', '02-794-0119']]"
      ]
     },
     "execution_count": 8,
     "metadata": {},
     "output_type": "execute_result"
    }
   ],
   "source": [
    "lines"
   ]
  },
  {
   "cell_type": "markdown",
   "id": "46002e66",
   "metadata": {},
   "source": [
    "# 두번째 페이지로 이동"
   ]
  },
  {
   "cell_type": "code",
   "execution_count": 9,
   "id": "182eea24",
   "metadata": {},
   "outputs": [],
   "source": [
    "# 1페이지에서 다음 페이지를 누르면 2페이지 아님\n",
    "# 3페이지가 나옴 그부분을 if 문으로 처리해야 함\n",
    "driver.find_element(By.XPATH, '//*[@id=\"listForm\"]/div/section/ul/li[1]/div/div/ul/li[4]/a').click()"
   ]
  },
  {
   "cell_type": "code",
   "execution_count": 10,
   "id": "f22da313",
   "metadata": {},
   "outputs": [],
   "source": [
    "driver.find_element(By.CSS_SELECTOR, '.next_page').click()"
   ]
  },
  {
   "cell_type": "code",
   "execution_count": 11,
   "id": "4cd780d4",
   "metadata": {},
   "outputs": [
    {
     "data": {
      "text/plain": [
       "[<strong>\"서울\"</strong>, <strong>100건</strong>]"
      ]
     },
     "execution_count": 11,
     "metadata": {},
     "output_type": "execute_result"
    }
   ],
   "source": [
    "# 검색결과 건수 휙득\n",
    "strong = soup.select('.stations-local-after > p > strong')\n",
    "strong"
   ]
  },
  {
   "cell_type": "code",
   "execution_count": 12,
   "id": "d841d470",
   "metadata": {},
   "outputs": [
    {
     "data": {
      "text/plain": [
       "100"
      ]
     },
     "execution_count": 12,
     "metadata": {},
     "output_type": "execute_result"
    }
   ],
   "source": [
    "count = int(strong[1].get_text().replace('건', '').strip())\n",
    "count"
   ]
  },
  {
   "cell_type": "markdown",
   "id": "63f93b90",
   "metadata": {},
   "source": [
    "# 전체 코드 정리"
   ]
  },
  {
   "cell_type": "code",
   "execution_count": 17,
   "id": "a608bbbf",
   "metadata": {},
   "outputs": [],
   "source": [
    "driver = webdriver.Chrome()\n",
    "url = 'https://www.nfa.go.kr/nfa/introduce/status/firestationidfo/?searchDistance=10&searchMode=keyword&myX=37.5382842&myY=126.9213649&searchKeyword='\n",
    "driver.get(url)\n",
    "time.sleep(3)\n",
    "driver.find_element(By.ID, \"searchKeyword\").send_keys('서울')\n",
    "driver.find_element(By.ID, \"fsSearchBtn\").click()\n",
    "time.sleep(3)"
   ]
  },
  {
   "cell_type": "code",
   "execution_count": 18,
   "id": "04bc69cc",
   "metadata": {},
   "outputs": [
    {
     "data": {
      "text/plain": [
       "10"
      ]
     },
     "execution_count": 18,
     "metadata": {},
     "output_type": "execute_result"
    }
   ],
   "source": [
    "strong = soup.select('.stations-local-after > p > strong')\n",
    "count = int(strong[1].get_text().replace('건', '').strip())\n",
    "count = math.ceil(count / 10)\n",
    "count"
   ]
  },
  {
   "cell_type": "code",
   "execution_count": 19,
   "id": "4e36cb5d",
   "metadata": {},
   "outputs": [],
   "source": [
    "lines = []\n",
    "for i in range(count):\n",
    "    if i >=1 and i % 2 == 0:\n",
    "        driver.find_element(By.CSS_SELECTOR, '.next_page').click()\n",
    "        time.sleep(2)\n",
    "    if i >=1 and i % 2 == 1:\n",
    "        driver.find_element(By.XPATH, '//*[@id=\"listForm\"]/div/section/ul/li[1]/div/div/ul/li[4]/a').click()\n",
    "        time.sleep(2)\n",
    "    soup = BeautifulSoup(driver.page_source, 'html.parser')\n",
    "    lis = soup.select('.stations-list > li')\n",
    "    for li in lis:\n",
    "        name = li.select_one('.title').get_text().strip()\n",
    "        addr = li.find('address').get_text().strip()\n",
    "        tel = li.select_one('.tel').get_text().strip()\n",
    "        lines.append([name, addr, tel])"
   ]
  },
  {
   "cell_type": "code",
   "execution_count": 20,
   "id": "1ef2791d",
   "metadata": {},
   "outputs": [
    {
     "data": {
      "text/plain": [
       "100"
      ]
     },
     "execution_count": 20,
     "metadata": {},
     "output_type": "execute_result"
    }
   ],
   "source": [
    "len(lines)"
   ]
  },
  {
   "cell_type": "code",
   "execution_count": 21,
   "id": "8be3b3f0",
   "metadata": {},
   "outputs": [],
   "source": [
    "driver.close()"
   ]
  },
  {
   "cell_type": "code",
   "execution_count": 22,
   "id": "f4992003",
   "metadata": {},
   "outputs": [
    {
     "data": {
      "text/html": [
       "<div>\n",
       "<style scoped>\n",
       "    .dataframe tbody tr th:only-of-type {\n",
       "        vertical-align: middle;\n",
       "    }\n",
       "\n",
       "    .dataframe tbody tr th {\n",
       "        vertical-align: top;\n",
       "    }\n",
       "\n",
       "    .dataframe thead th {\n",
       "        text-align: right;\n",
       "    }\n",
       "</style>\n",
       "<table border=\"1\" class=\"dataframe\">\n",
       "  <thead>\n",
       "    <tr style=\"text-align: right;\">\n",
       "      <th></th>\n",
       "      <th>관서명</th>\n",
       "      <th>주소</th>\n",
       "      <th>전화번호</th>\n",
       "    </tr>\n",
       "  </thead>\n",
       "  <tbody>\n",
       "    <tr>\n",
       "      <th>95</th>\n",
       "      <td>송파소방서-운동장-119 안전센터</td>\n",
       "      <td>서울특별시 송파구 올림픽로 25 (잠실동)</td>\n",
       "      <td>02-2203-2380</td>\n",
       "    </tr>\n",
       "    <tr>\n",
       "      <th>96</th>\n",
       "      <td>송파소방서-잠실-119 안전센터</td>\n",
       "      <td>서울특별시 송파구 석촌호수로 151 (잠실동)</td>\n",
       "      <td>02-422-0119</td>\n",
       "    </tr>\n",
       "    <tr>\n",
       "      <th>97</th>\n",
       "      <td>송파소방서-방이-119 안전센터</td>\n",
       "      <td>서울특별시 송파구 강동대로 286 (방이동)</td>\n",
       "      <td>02-409-0059</td>\n",
       "    </tr>\n",
       "    <tr>\n",
       "      <th>98</th>\n",
       "      <td>송파소방서-거여-119 안전센터</td>\n",
       "      <td>서울특별시 송파구 마천로 329 (마천동)</td>\n",
       "      <td>02-400-0119</td>\n",
       "    </tr>\n",
       "    <tr>\n",
       "      <th>99</th>\n",
       "      <td>송파소방서-마천-119 안전센터</td>\n",
       "      <td>서울특별시 송파구 오금로51길 56 (마천동)</td>\n",
       "      <td>02-3401-2119</td>\n",
       "    </tr>\n",
       "  </tbody>\n",
       "</table>\n",
       "</div>"
      ],
      "text/plain": [
       "                   관서명                         주소          전화번호\n",
       "95  송파소방서-운동장-119 안전센터    서울특별시 송파구 올림픽로 25 (잠실동)  02-2203-2380\n",
       "96   송파소방서-잠실-119 안전센터  서울특별시 송파구 석촌호수로 151 (잠실동)   02-422-0119\n",
       "97   송파소방서-방이-119 안전센터   서울특별시 송파구 강동대로 286 (방이동)   02-409-0059\n",
       "98   송파소방서-거여-119 안전센터    서울특별시 송파구 마천로 329 (마천동)   02-400-0119\n",
       "99   송파소방서-마천-119 안전센터  서울특별시 송파구 오금로51길 56 (마천동)  02-3401-2119"
      ]
     },
     "execution_count": 22,
     "metadata": {},
     "output_type": "execute_result"
    }
   ],
   "source": [
    "df = pd.DataFrame(lines, columns=['관서명', '주소', '전화번호'])\n",
    "df.tail()"
   ]
  },
  {
   "cell_type": "code",
   "execution_count": 24,
   "id": "b400ca42",
   "metadata": {},
   "outputs": [],
   "source": [
    "df.to_csv('서울소방서.csv', index=False)"
   ]
  }
 ],
 "metadata": {
  "kernelspec": {
   "display_name": "Python 3 (ipykernel)",
   "language": "python",
   "name": "python3"
  },
  "language_info": {
   "codemirror_mode": {
    "name": "ipython",
    "version": 3
   },
   "file_extension": ".py",
   "mimetype": "text/x-python",
   "name": "python",
   "nbconvert_exporter": "python",
   "pygments_lexer": "ipython3",
   "version": "3.8.7"
  }
 },
 "nbformat": 4,
 "nbformat_minor": 5
}
