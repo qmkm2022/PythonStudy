{
 "cells": [
  {
   "cell_type": "code",
   "execution_count": 27,
   "id": "2f956d63",
   "metadata": {},
   "outputs": [],
   "source": [
    "import numpy as np\n",
    "import pandas as pd\n",
    "import seaborn as sns\n",
    "import folium\n",
    "import matplotlib as mpl\n",
    "import matplotlib.pyplot as plt\n",
    "from matplotlib import font_manager, rc\n",
    "mpl.rcParams['axes.unicode_minus'] = False\n",
    "plt.rc('font', family = 'Malgun Gothic')"
   ]
  },
  {
   "cell_type": "code",
   "execution_count": 28,
   "id": "aea0b5fc",
   "metadata": {},
   "outputs": [],
   "source": [
    "park = pd.read_csv('./서울공원요약.csv')"
   ]
  },
  {
   "cell_type": "code",
   "execution_count": 29,
   "id": "d6ace4a1",
   "metadata": {},
   "outputs": [
    {
     "data": {
      "text/html": [
       "<div>\n",
       "<style scoped>\n",
       "    .dataframe tbody tr th:only-of-type {\n",
       "        vertical-align: middle;\n",
       "    }\n",
       "\n",
       "    .dataframe tbody tr th {\n",
       "        vertical-align: top;\n",
       "    }\n",
       "\n",
       "    .dataframe thead th {\n",
       "        text-align: right;\n",
       "    }\n",
       "</style>\n",
       "<table border=\"1\" class=\"dataframe\">\n",
       "  <thead>\n",
       "    <tr style=\"text-align: right;\">\n",
       "      <th></th>\n",
       "      <th>공원명</th>\n",
       "      <th>지역</th>\n",
       "      <th>경도</th>\n",
       "      <th>위도</th>\n",
       "      <th>면적</th>\n",
       "      <th>분류</th>\n",
       "      <th>크기</th>\n",
       "    </tr>\n",
       "  </thead>\n",
       "  <tbody>\n",
       "    <tr>\n",
       "      <th>0</th>\n",
       "      <td>남산도시자연공원</td>\n",
       "      <td>중구</td>\n",
       "      <td>126.990377</td>\n",
       "      <td>37.550140</td>\n",
       "      <td>2896887</td>\n",
       "      <td>대형</td>\n",
       "      <td>15</td>\n",
       "    </tr>\n",
       "    <tr>\n",
       "      <th>1</th>\n",
       "      <td>길동생태공원</td>\n",
       "      <td>강동구</td>\n",
       "      <td>127.154779</td>\n",
       "      <td>37.540394</td>\n",
       "      <td>80683</td>\n",
       "      <td>소형</td>\n",
       "      <td>3</td>\n",
       "    </tr>\n",
       "    <tr>\n",
       "      <th>2</th>\n",
       "      <td>서울대공원</td>\n",
       "      <td>과천시</td>\n",
       "      <td>127.019846</td>\n",
       "      <td>37.426449</td>\n",
       "      <td>9132690</td>\n",
       "      <td>대형</td>\n",
       "      <td>15</td>\n",
       "    </tr>\n",
       "    <tr>\n",
       "      <th>3</th>\n",
       "      <td>서울숲</td>\n",
       "      <td>성동구</td>\n",
       "      <td>127.041798</td>\n",
       "      <td>37.543072</td>\n",
       "      <td>480994</td>\n",
       "      <td>중형</td>\n",
       "      <td>7</td>\n",
       "    </tr>\n",
       "    <tr>\n",
       "      <th>4</th>\n",
       "      <td>월드컵공원</td>\n",
       "      <td>마포구</td>\n",
       "      <td>126.878907</td>\n",
       "      <td>37.571805</td>\n",
       "      <td>2284085</td>\n",
       "      <td>대형</td>\n",
       "      <td>15</td>\n",
       "    </tr>\n",
       "    <tr>\n",
       "      <th>...</th>\n",
       "      <td>...</td>\n",
       "      <td>...</td>\n",
       "      <td>...</td>\n",
       "      <td>...</td>\n",
       "      <td>...</td>\n",
       "      <td>...</td>\n",
       "      <td>...</td>\n",
       "    </tr>\n",
       "    <tr>\n",
       "      <th>125</th>\n",
       "      <td>숭인근린공원</td>\n",
       "      <td>종로구</td>\n",
       "      <td>127.017827</td>\n",
       "      <td>37.576442</td>\n",
       "      <td>45615</td>\n",
       "      <td>소형</td>\n",
       "      <td>3</td>\n",
       "    </tr>\n",
       "    <tr>\n",
       "      <th>126</th>\n",
       "      <td>서일대뒷산공원</td>\n",
       "      <td>중랑구</td>\n",
       "      <td>127.098782</td>\n",
       "      <td>37.587716</td>\n",
       "      <td>631021</td>\n",
       "      <td>중형</td>\n",
       "      <td>7</td>\n",
       "    </tr>\n",
       "    <tr>\n",
       "      <th>127</th>\n",
       "      <td>용마도시자연공원(사가정공원)</td>\n",
       "      <td>중랑구</td>\n",
       "      <td>127.095997</td>\n",
       "      <td>37.579762</td>\n",
       "      <td>109635</td>\n",
       "      <td>중형</td>\n",
       "      <td>7</td>\n",
       "    </tr>\n",
       "    <tr>\n",
       "      <th>128</th>\n",
       "      <td>문화비축기지</td>\n",
       "      <td>마포구</td>\n",
       "      <td>126.893246</td>\n",
       "      <td>37.571718</td>\n",
       "      <td>140022</td>\n",
       "      <td>중형</td>\n",
       "      <td>7</td>\n",
       "    </tr>\n",
       "    <tr>\n",
       "      <th>129</th>\n",
       "      <td>율현공원</td>\n",
       "      <td>강남구</td>\n",
       "      <td>127.115594</td>\n",
       "      <td>37.472332</td>\n",
       "      <td>157535</td>\n",
       "      <td>중형</td>\n",
       "      <td>7</td>\n",
       "    </tr>\n",
       "  </tbody>\n",
       "</table>\n",
       "<p>130 rows × 7 columns</p>\n",
       "</div>"
      ],
      "text/plain": [
       "                 공원명   지역          경도         위도       면적  분류  크기\n",
       "0           남산도시자연공원   중구  126.990377  37.550140  2896887  대형  15\n",
       "1             길동생태공원  강동구  127.154779  37.540394    80683  소형   3\n",
       "2              서울대공원  과천시  127.019846  37.426449  9132690  대형  15\n",
       "3                서울숲  성동구  127.041798  37.543072   480994  중형   7\n",
       "4              월드컵공원  마포구  126.878907  37.571805  2284085  대형  15\n",
       "..               ...  ...         ...        ...      ...  ..  ..\n",
       "125           숭인근린공원  종로구  127.017827  37.576442    45615  소형   3\n",
       "126          서일대뒷산공원  중랑구  127.098782  37.587716   631021  중형   7\n",
       "127  용마도시자연공원(사가정공원)  중랑구  127.095997  37.579762   109635  중형   7\n",
       "128           문화비축기지  마포구  126.893246  37.571718   140022  중형   7\n",
       "129             율현공원  강남구  127.115594  37.472332   157535  중형   7\n",
       "\n",
       "[130 rows x 7 columns]"
      ]
     },
     "execution_count": 29,
     "metadata": {},
     "output_type": "execute_result"
    }
   ],
   "source": [
    "park"
   ]
  },
  {
   "cell_type": "markdown",
   "id": "77713c51",
   "metadata": {},
   "source": [
    "# 1. 자치구별 공원면적과 공원수"
   ]
  },
  {
   "cell_type": "code",
   "execution_count": 30,
   "id": "547638fb",
   "metadata": {},
   "outputs": [],
   "source": [
    "df = park.groupby('지역')['면적'].agg(['sum','count'])\n",
    "df.columns=['공원면적', '공원수']"
   ]
  },
  {
   "cell_type": "code",
   "execution_count": 26,
   "id": "2fae89ff",
   "metadata": {},
   "outputs": [
    {
     "data": {
      "text/html": [
       "<div>\n",
       "<style scoped>\n",
       "    .dataframe tbody tr th:only-of-type {\n",
       "        vertical-align: middle;\n",
       "    }\n",
       "\n",
       "    .dataframe tbody tr th {\n",
       "        vertical-align: top;\n",
       "    }\n",
       "\n",
       "    .dataframe thead th {\n",
       "        text-align: right;\n",
       "    }\n",
       "</style>\n",
       "<table border=\"1\" class=\"dataframe\">\n",
       "  <thead>\n",
       "    <tr style=\"text-align: right;\">\n",
       "      <th></th>\n",
       "      <th>공원면적</th>\n",
       "      <th>공원수</th>\n",
       "    </tr>\n",
       "    <tr>\n",
       "      <th>지역</th>\n",
       "      <th></th>\n",
       "      <th></th>\n",
       "    </tr>\n",
       "  </thead>\n",
       "  <tbody>\n",
       "    <tr>\n",
       "      <th>강남구</th>\n",
       "      <td>3626398</td>\n",
       "      <td>7</td>\n",
       "    </tr>\n",
       "    <tr>\n",
       "      <th>강동구</th>\n",
       "      <td>1526390</td>\n",
       "      <td>7</td>\n",
       "    </tr>\n",
       "    <tr>\n",
       "      <th>강북구</th>\n",
       "      <td>3714902</td>\n",
       "      <td>4</td>\n",
       "    </tr>\n",
       "    <tr>\n",
       "      <th>강서구</th>\n",
       "      <td>2194154</td>\n",
       "      <td>9</td>\n",
       "    </tr>\n",
       "    <tr>\n",
       "      <th>과천시</th>\n",
       "      <td>9132690</td>\n",
       "      <td>1</td>\n",
       "    </tr>\n",
       "  </tbody>\n",
       "</table>\n",
       "</div>"
      ],
      "text/plain": [
       "        공원면적  공원수\n",
       "지역               \n",
       "강남구  3626398    7\n",
       "강동구  1526390    7\n",
       "강북구  3714902    4\n",
       "강서구  2194154    9\n",
       "과천시  9132690    1"
      ]
     },
     "execution_count": 26,
     "metadata": {},
     "output_type": "execute_result"
    }
   ],
   "source": [
    "df.head()"
   ]
  },
  {
   "cell_type": "code",
   "execution_count": 31,
   "id": "09468f0a",
   "metadata": {},
   "outputs": [
    {
     "data": {
      "text/plain": [
       "(26, 2)"
      ]
     },
     "execution_count": 31,
     "metadata": {},
     "output_type": "execute_result"
    }
   ],
   "source": [
    "df.shape"
   ]
  },
  {
   "cell_type": "code",
   "execution_count": 32,
   "id": "c9755a31",
   "metadata": {},
   "outputs": [],
   "source": [
    "df.drop(index='과천시',inplace=True)"
   ]
  },
  {
   "cell_type": "code",
   "execution_count": 33,
   "id": "01cca2ee",
   "metadata": {},
   "outputs": [
    {
     "data": {
      "text/plain": [
       "(25, 2)"
      ]
     },
     "execution_count": 33,
     "metadata": {},
     "output_type": "execute_result"
    }
   ],
   "source": [
    "df.shape"
   ]
  },
  {
   "cell_type": "markdown",
   "id": "91254133",
   "metadata": {},
   "source": [
    "# 2. 구별 공원면적 비율 및 인당 공원 면적 비교"
   ]
  },
  {
   "cell_type": "code",
   "execution_count": 34,
   "id": "946f17ce",
   "metadata": {},
   "outputs": [],
   "source": [
    "seoul_df = pd.read_csv('./data1/서울시 인구와 면적.txt', sep='\\t')"
   ]
  },
  {
   "cell_type": "code",
   "execution_count": 35,
   "id": "c9c64236",
   "metadata": {},
   "outputs": [
    {
     "data": {
      "text/html": [
       "<div>\n",
       "<style scoped>\n",
       "    .dataframe tbody tr th:only-of-type {\n",
       "        vertical-align: middle;\n",
       "    }\n",
       "\n",
       "    .dataframe tbody tr th {\n",
       "        vertical-align: top;\n",
       "    }\n",
       "\n",
       "    .dataframe thead th {\n",
       "        text-align: right;\n",
       "    }\n",
       "</style>\n",
       "<table border=\"1\" class=\"dataframe\">\n",
       "  <thead>\n",
       "    <tr style=\"text-align: right;\">\n",
       "      <th></th>\n",
       "      <th>기간</th>\n",
       "      <th>지역</th>\n",
       "      <th>인구</th>\n",
       "      <th>면적</th>\n",
       "      <th>인구밀도(명/㎢)</th>\n",
       "    </tr>\n",
       "  </thead>\n",
       "  <tbody>\n",
       "    <tr>\n",
       "      <th>0</th>\n",
       "      <td>2020</td>\n",
       "      <td>합계</td>\n",
       "      <td>9,911,088</td>\n",
       "      <td>605.23</td>\n",
       "      <td>16,376</td>\n",
       "    </tr>\n",
       "    <tr>\n",
       "      <th>1</th>\n",
       "      <td>2020</td>\n",
       "      <td>종로구</td>\n",
       "      <td>158,996</td>\n",
       "      <td>23.91</td>\n",
       "      <td>6,649</td>\n",
       "    </tr>\n",
       "    <tr>\n",
       "      <th>2</th>\n",
       "      <td>2020</td>\n",
       "      <td>중구</td>\n",
       "      <td>134,635</td>\n",
       "      <td>9.96</td>\n",
       "      <td>13,517</td>\n",
       "    </tr>\n",
       "    <tr>\n",
       "      <th>3</th>\n",
       "      <td>2020</td>\n",
       "      <td>용산구</td>\n",
       "      <td>244,645</td>\n",
       "      <td>21.87</td>\n",
       "      <td>11,188</td>\n",
       "    </tr>\n",
       "    <tr>\n",
       "      <th>4</th>\n",
       "      <td>2020</td>\n",
       "      <td>성동구</td>\n",
       "      <td>300,505</td>\n",
       "      <td>16.86</td>\n",
       "      <td>17,822</td>\n",
       "    </tr>\n",
       "  </tbody>\n",
       "</table>\n",
       "</div>"
      ],
      "text/plain": [
       "     기간   지역         인구      면적 인구밀도(명/㎢)\n",
       "0  2020   합계  9,911,088  605.23    16,376\n",
       "1  2020  종로구    158,996   23.91     6,649\n",
       "2  2020   중구    134,635    9.96    13,517\n",
       "3  2020  용산구    244,645   21.87    11,188\n",
       "4  2020  성동구    300,505   16.86    17,822"
      ]
     },
     "execution_count": 35,
     "metadata": {},
     "output_type": "execute_result"
    }
   ],
   "source": [
    "seoul_df.head()"
   ]
  },
  {
   "cell_type": "code",
   "execution_count": 36,
   "id": "4684396a",
   "metadata": {},
   "outputs": [
    {
     "data": {
      "text/html": [
       "<div>\n",
       "<style scoped>\n",
       "    .dataframe tbody tr th:only-of-type {\n",
       "        vertical-align: middle;\n",
       "    }\n",
       "\n",
       "    .dataframe tbody tr th {\n",
       "        vertical-align: top;\n",
       "    }\n",
       "\n",
       "    .dataframe thead th {\n",
       "        text-align: right;\n",
       "    }\n",
       "</style>\n",
       "<table border=\"1\" class=\"dataframe\">\n",
       "  <thead>\n",
       "    <tr style=\"text-align: right;\">\n",
       "      <th></th>\n",
       "      <th>기간</th>\n",
       "      <th>지역</th>\n",
       "      <th>인구</th>\n",
       "      <th>면적</th>\n",
       "      <th>인구밀도(명/㎢)</th>\n",
       "    </tr>\n",
       "  </thead>\n",
       "  <tbody>\n",
       "    <tr>\n",
       "      <th>1</th>\n",
       "      <td>2020</td>\n",
       "      <td>종로구</td>\n",
       "      <td>158,996</td>\n",
       "      <td>23.91</td>\n",
       "      <td>6,649</td>\n",
       "    </tr>\n",
       "    <tr>\n",
       "      <th>2</th>\n",
       "      <td>2020</td>\n",
       "      <td>중구</td>\n",
       "      <td>134,635</td>\n",
       "      <td>9.96</td>\n",
       "      <td>13,517</td>\n",
       "    </tr>\n",
       "    <tr>\n",
       "      <th>3</th>\n",
       "      <td>2020</td>\n",
       "      <td>용산구</td>\n",
       "      <td>244,645</td>\n",
       "      <td>21.87</td>\n",
       "      <td>11,188</td>\n",
       "    </tr>\n",
       "    <tr>\n",
       "      <th>4</th>\n",
       "      <td>2020</td>\n",
       "      <td>성동구</td>\n",
       "      <td>300,505</td>\n",
       "      <td>16.86</td>\n",
       "      <td>17,822</td>\n",
       "    </tr>\n",
       "    <tr>\n",
       "      <th>5</th>\n",
       "      <td>2020</td>\n",
       "      <td>광진구</td>\n",
       "      <td>360,109</td>\n",
       "      <td>17.06</td>\n",
       "      <td>21,105</td>\n",
       "    </tr>\n",
       "  </tbody>\n",
       "</table>\n",
       "</div>"
      ],
      "text/plain": [
       "     기간   지역       인구     면적 인구밀도(명/㎢)\n",
       "1  2020  종로구  158,996  23.91     6,649\n",
       "2  2020   중구  134,635   9.96    13,517\n",
       "3  2020  용산구  244,645  21.87    11,188\n",
       "4  2020  성동구  300,505  16.86    17,822\n",
       "5  2020  광진구  360,109  17.06    21,105"
      ]
     },
     "execution_count": 36,
     "metadata": {},
     "output_type": "execute_result"
    }
   ],
   "source": [
    "seoul_df.drop(index=0, inplace=True)\n",
    "seoul_df.head()"
   ]
  },
  {
   "cell_type": "code",
   "execution_count": 37,
   "id": "bbd4628d",
   "metadata": {},
   "outputs": [
    {
     "data": {
      "text/plain": [
       "(25, 5)"
      ]
     },
     "execution_count": 37,
     "metadata": {},
     "output_type": "execute_result"
    }
   ],
   "source": [
    "seoul_df.shape"
   ]
  },
  {
   "cell_type": "code",
   "execution_count": 38,
   "id": "4cfb78ca",
   "metadata": {},
   "outputs": [],
   "source": [
    "seoul_df.set_index('지역', inplace=True)"
   ]
  },
  {
   "cell_type": "code",
   "execution_count": 39,
   "id": "47c6535f",
   "metadata": {},
   "outputs": [
    {
     "data": {
      "text/html": [
       "<div>\n",
       "<style scoped>\n",
       "    .dataframe tbody tr th:only-of-type {\n",
       "        vertical-align: middle;\n",
       "    }\n",
       "\n",
       "    .dataframe tbody tr th {\n",
       "        vertical-align: top;\n",
       "    }\n",
       "\n",
       "    .dataframe thead th {\n",
       "        text-align: right;\n",
       "    }\n",
       "</style>\n",
       "<table border=\"1\" class=\"dataframe\">\n",
       "  <thead>\n",
       "    <tr style=\"text-align: right;\">\n",
       "      <th></th>\n",
       "      <th>기간</th>\n",
       "      <th>인구</th>\n",
       "      <th>면적</th>\n",
       "      <th>인구밀도(명/㎢)</th>\n",
       "    </tr>\n",
       "    <tr>\n",
       "      <th>지역</th>\n",
       "      <th></th>\n",
       "      <th></th>\n",
       "      <th></th>\n",
       "      <th></th>\n",
       "    </tr>\n",
       "  </thead>\n",
       "  <tbody>\n",
       "    <tr>\n",
       "      <th>종로구</th>\n",
       "      <td>2020</td>\n",
       "      <td>158,996</td>\n",
       "      <td>23.91</td>\n",
       "      <td>6,649</td>\n",
       "    </tr>\n",
       "    <tr>\n",
       "      <th>중구</th>\n",
       "      <td>2020</td>\n",
       "      <td>134,635</td>\n",
       "      <td>9.96</td>\n",
       "      <td>13,517</td>\n",
       "    </tr>\n",
       "    <tr>\n",
       "      <th>용산구</th>\n",
       "      <td>2020</td>\n",
       "      <td>244,645</td>\n",
       "      <td>21.87</td>\n",
       "      <td>11,188</td>\n",
       "    </tr>\n",
       "    <tr>\n",
       "      <th>성동구</th>\n",
       "      <td>2020</td>\n",
       "      <td>300,505</td>\n",
       "      <td>16.86</td>\n",
       "      <td>17,822</td>\n",
       "    </tr>\n",
       "    <tr>\n",
       "      <th>광진구</th>\n",
       "      <td>2020</td>\n",
       "      <td>360,109</td>\n",
       "      <td>17.06</td>\n",
       "      <td>21,105</td>\n",
       "    </tr>\n",
       "  </tbody>\n",
       "</table>\n",
       "</div>"
      ],
      "text/plain": [
       "       기간       인구     면적 인구밀도(명/㎢)\n",
       "지역                                 \n",
       "종로구  2020  158,996  23.91     6,649\n",
       "중구   2020  134,635   9.96    13,517\n",
       "용산구  2020  244,645  21.87    11,188\n",
       "성동구  2020  300,505  16.86    17,822\n",
       "광진구  2020  360,109  17.06    21,105"
      ]
     },
     "execution_count": 39,
     "metadata": {},
     "output_type": "execute_result"
    }
   ],
   "source": [
    "seoul_df.head()"
   ]
  },
  {
   "cell_type": "code",
   "execution_count": 40,
   "id": "5780660a",
   "metadata": {},
   "outputs": [],
   "source": [
    "# 공원집계 데이터와 인구데이터를 합치기\n",
    "df = df.join(seoul_df[['인구','면적']])"
   ]
  },
  {
   "cell_type": "code",
   "execution_count": 41,
   "id": "654eae80",
   "metadata": {},
   "outputs": [
    {
     "data": {
      "text/html": [
       "<div>\n",
       "<style scoped>\n",
       "    .dataframe tbody tr th:only-of-type {\n",
       "        vertical-align: middle;\n",
       "    }\n",
       "\n",
       "    .dataframe tbody tr th {\n",
       "        vertical-align: top;\n",
       "    }\n",
       "\n",
       "    .dataframe thead th {\n",
       "        text-align: right;\n",
       "    }\n",
       "</style>\n",
       "<table border=\"1\" class=\"dataframe\">\n",
       "  <thead>\n",
       "    <tr style=\"text-align: right;\">\n",
       "      <th></th>\n",
       "      <th>공원면적</th>\n",
       "      <th>공원수</th>\n",
       "      <th>인구</th>\n",
       "      <th>면적</th>\n",
       "    </tr>\n",
       "    <tr>\n",
       "      <th>지역</th>\n",
       "      <th></th>\n",
       "      <th></th>\n",
       "      <th></th>\n",
       "      <th></th>\n",
       "    </tr>\n",
       "  </thead>\n",
       "  <tbody>\n",
       "    <tr>\n",
       "      <th>강남구</th>\n",
       "      <td>3626398</td>\n",
       "      <td>7</td>\n",
       "      <td>544,055</td>\n",
       "      <td>39.50</td>\n",
       "    </tr>\n",
       "    <tr>\n",
       "      <th>강동구</th>\n",
       "      <td>1526390</td>\n",
       "      <td>7</td>\n",
       "      <td>463,998</td>\n",
       "      <td>24.59</td>\n",
       "    </tr>\n",
       "    <tr>\n",
       "      <th>강북구</th>\n",
       "      <td>3714902</td>\n",
       "      <td>4</td>\n",
       "      <td>311,569</td>\n",
       "      <td>23.60</td>\n",
       "    </tr>\n",
       "    <tr>\n",
       "      <th>강서구</th>\n",
       "      <td>2194154</td>\n",
       "      <td>9</td>\n",
       "      <td>585,901</td>\n",
       "      <td>41.44</td>\n",
       "    </tr>\n",
       "    <tr>\n",
       "      <th>관악구</th>\n",
       "      <td>10431453</td>\n",
       "      <td>2</td>\n",
       "      <td>509,803</td>\n",
       "      <td>29.57</td>\n",
       "    </tr>\n",
       "  </tbody>\n",
       "</table>\n",
       "</div>"
      ],
      "text/plain": [
       "         공원면적  공원수       인구     면적\n",
       "지역                                \n",
       "강남구   3626398    7  544,055  39.50\n",
       "강동구   1526390    7  463,998  24.59\n",
       "강북구   3714902    4  311,569  23.60\n",
       "강서구   2194154    9  585,901  41.44\n",
       "관악구  10431453    2  509,803  29.57"
      ]
     },
     "execution_count": 41,
     "metadata": {},
     "output_type": "execute_result"
    }
   ],
   "source": [
    "df.head()"
   ]
  },
  {
   "cell_type": "code",
   "execution_count": 42,
   "id": "a06d49d8",
   "metadata": {},
   "outputs": [],
   "source": [
    "df['면적'] = df.면적 * 1000000"
   ]
  },
  {
   "cell_type": "code",
   "execution_count": 43,
   "id": "b509cfa3",
   "metadata": {},
   "outputs": [
    {
     "data": {
      "text/html": [
       "<div>\n",
       "<style scoped>\n",
       "    .dataframe tbody tr th:only-of-type {\n",
       "        vertical-align: middle;\n",
       "    }\n",
       "\n",
       "    .dataframe tbody tr th {\n",
       "        vertical-align: top;\n",
       "    }\n",
       "\n",
       "    .dataframe thead th {\n",
       "        text-align: right;\n",
       "    }\n",
       "</style>\n",
       "<table border=\"1\" class=\"dataframe\">\n",
       "  <thead>\n",
       "    <tr style=\"text-align: right;\">\n",
       "      <th></th>\n",
       "      <th>공원면적</th>\n",
       "      <th>공원수</th>\n",
       "      <th>인구</th>\n",
       "      <th>면적</th>\n",
       "    </tr>\n",
       "    <tr>\n",
       "      <th>지역</th>\n",
       "      <th></th>\n",
       "      <th></th>\n",
       "      <th></th>\n",
       "      <th></th>\n",
       "    </tr>\n",
       "  </thead>\n",
       "  <tbody>\n",
       "    <tr>\n",
       "      <th>강남구</th>\n",
       "      <td>3626398</td>\n",
       "      <td>7</td>\n",
       "      <td>544,055</td>\n",
       "      <td>39500000.0</td>\n",
       "    </tr>\n",
       "    <tr>\n",
       "      <th>강동구</th>\n",
       "      <td>1526390</td>\n",
       "      <td>7</td>\n",
       "      <td>463,998</td>\n",
       "      <td>24590000.0</td>\n",
       "    </tr>\n",
       "    <tr>\n",
       "      <th>강북구</th>\n",
       "      <td>3714902</td>\n",
       "      <td>4</td>\n",
       "      <td>311,569</td>\n",
       "      <td>23600000.0</td>\n",
       "    </tr>\n",
       "    <tr>\n",
       "      <th>강서구</th>\n",
       "      <td>2194154</td>\n",
       "      <td>9</td>\n",
       "      <td>585,901</td>\n",
       "      <td>41440000.0</td>\n",
       "    </tr>\n",
       "    <tr>\n",
       "      <th>관악구</th>\n",
       "      <td>10431453</td>\n",
       "      <td>2</td>\n",
       "      <td>509,803</td>\n",
       "      <td>29570000.0</td>\n",
       "    </tr>\n",
       "  </tbody>\n",
       "</table>\n",
       "</div>"
      ],
      "text/plain": [
       "         공원면적  공원수       인구          면적\n",
       "지역                                     \n",
       "강남구   3626398    7  544,055  39500000.0\n",
       "강동구   1526390    7  463,998  24590000.0\n",
       "강북구   3714902    4  311,569  23600000.0\n",
       "강서구   2194154    9  585,901  41440000.0\n",
       "관악구  10431453    2  509,803  29570000.0"
      ]
     },
     "execution_count": 43,
     "metadata": {},
     "output_type": "execute_result"
    }
   ],
   "source": [
    "df.head()"
   ]
  },
  {
   "cell_type": "code",
   "execution_count": 44,
   "id": "8fdc723b",
   "metadata": {},
   "outputs": [],
   "source": [
    "df['인구'] = df.인구.apply(lambda x : int(x.replace(',', '')))"
   ]
  },
  {
   "cell_type": "code",
   "execution_count": 45,
   "id": "3445fec3",
   "metadata": {
    "scrolled": false
   },
   "outputs": [
    {
     "data": {
      "text/html": [
       "<div>\n",
       "<style scoped>\n",
       "    .dataframe tbody tr th:only-of-type {\n",
       "        vertical-align: middle;\n",
       "    }\n",
       "\n",
       "    .dataframe tbody tr th {\n",
       "        vertical-align: top;\n",
       "    }\n",
       "\n",
       "    .dataframe thead th {\n",
       "        text-align: right;\n",
       "    }\n",
       "</style>\n",
       "<table border=\"1\" class=\"dataframe\">\n",
       "  <thead>\n",
       "    <tr style=\"text-align: right;\">\n",
       "      <th></th>\n",
       "      <th>공원면적</th>\n",
       "      <th>공원수</th>\n",
       "      <th>인구</th>\n",
       "      <th>면적</th>\n",
       "    </tr>\n",
       "    <tr>\n",
       "      <th>지역</th>\n",
       "      <th></th>\n",
       "      <th></th>\n",
       "      <th></th>\n",
       "      <th></th>\n",
       "    </tr>\n",
       "  </thead>\n",
       "  <tbody>\n",
       "    <tr>\n",
       "      <th>강남구</th>\n",
       "      <td>3626398</td>\n",
       "      <td>7</td>\n",
       "      <td>544055</td>\n",
       "      <td>39500000.0</td>\n",
       "    </tr>\n",
       "    <tr>\n",
       "      <th>강동구</th>\n",
       "      <td>1526390</td>\n",
       "      <td>7</td>\n",
       "      <td>463998</td>\n",
       "      <td>24590000.0</td>\n",
       "    </tr>\n",
       "    <tr>\n",
       "      <th>강북구</th>\n",
       "      <td>3714902</td>\n",
       "      <td>4</td>\n",
       "      <td>311569</td>\n",
       "      <td>23600000.0</td>\n",
       "    </tr>\n",
       "    <tr>\n",
       "      <th>강서구</th>\n",
       "      <td>2194154</td>\n",
       "      <td>9</td>\n",
       "      <td>585901</td>\n",
       "      <td>41440000.0</td>\n",
       "    </tr>\n",
       "    <tr>\n",
       "      <th>관악구</th>\n",
       "      <td>10431453</td>\n",
       "      <td>2</td>\n",
       "      <td>509803</td>\n",
       "      <td>29570000.0</td>\n",
       "    </tr>\n",
       "  </tbody>\n",
       "</table>\n",
       "</div>"
      ],
      "text/plain": [
       "         공원면적  공원수      인구          면적\n",
       "지역                                    \n",
       "강남구   3626398    7  544055  39500000.0\n",
       "강동구   1526390    7  463998  24590000.0\n",
       "강북구   3714902    4  311569  23600000.0\n",
       "강서구   2194154    9  585901  41440000.0\n",
       "관악구  10431453    2  509803  29570000.0"
      ]
     },
     "execution_count": 45,
     "metadata": {},
     "output_type": "execute_result"
    }
   ],
   "source": [
    "df.head()"
   ]
  },
  {
   "cell_type": "code",
   "execution_count": 50,
   "id": "e4a09133",
   "metadata": {},
   "outputs": [],
   "source": [
    "df_m = df['면적비율'] = (df['공원면적'] / df.면적) * 100\n",
    "df_p = df['인당면적'] = (df['공원면적'] / df.인구)"
   ]
  },
  {
   "cell_type": "code",
   "execution_count": 51,
   "id": "4d06fb79",
   "metadata": {},
   "outputs": [
    {
     "data": {
      "text/plain": [
       "지역\n",
       "강남구     9.180754\n",
       "강동구     6.207361\n",
       "강북구    15.741110\n",
       "강서구     5.294773\n",
       "관악구    35.277149\n",
       "dtype: float64"
      ]
     },
     "execution_count": 51,
     "metadata": {},
     "output_type": "execute_result"
    }
   ],
   "source": [
    "df_m.head()"
   ]
  },
  {
   "cell_type": "code",
   "execution_count": 52,
   "id": "5e67b25f",
   "metadata": {},
   "outputs": [
    {
     "data": {
      "text/plain": [
       "지역\n",
       "강남구     6.665499\n",
       "강동구     3.289648\n",
       "강북구    11.923208\n",
       "강서구     3.744923\n",
       "관악구    20.461733\n",
       "dtype: float64"
      ]
     },
     "execution_count": 52,
     "metadata": {},
     "output_type": "execute_result"
    }
   ],
   "source": [
    "df_p.head()"
   ]
  },
  {
   "cell_type": "markdown",
   "id": "116f3866",
   "metadata": {},
   "source": [
    "# 시각화"
   ]
  },
  {
   "cell_type": "code",
   "execution_count": 53,
   "id": "dbd0cb84",
   "metadata": {},
   "outputs": [
    {
     "data": {
      "image/png": "[encoded data removed]",
      "text/plain": [
       "<Figure size 1200x800 with 1 Axes>"
      ]
     },
     "metadata": {},
     "output_type": "display_data"
    }
   ],
   "source": [
    "# 자치구별 공원 면적 비율\n",
    "df.면적비율.sort_values().plot(kind='barh',\n",
    "                           grid=True, figsize=(12,8))\n",
    "plt.title('자치구 공원면적비율(%)', size=15)\n",
    "plt.show()"
   ]
  },
  {
   "cell_type": "code",
   "execution_count": 54,
   "id": "435e4940",
   "metadata": {},
   "outputs": [
    {
     "data": {
      "image/png": "[encoded data removed]",
      "text/plain": [
       "<Figure size 1200x800 with 1 Axes>"
      ]
     },
     "metadata": {},
     "output_type": "display_data"
    }
   ],
   "source": [
    "# 자치구별 인당 면적 비율\n",
    "df.인당면적.sort_values().plot(kind='barh',\n",
    "                           grid=True, figsize=(12,8))\n",
    "plt.title('자치구 인당면적비율(%)', size=15)\n",
    "plt.show()"
   ]
  },
  {
   "cell_type": "code",
   "execution_count": 55,
   "id": "2c9c9930",
   "metadata": {},
   "outputs": [
    {
     "data": {
      "image/png": "[encoded data removed]",
      "text/plain": [
       "<Figure size 1200x800 with 1 Axes>"
      ]
     },
     "metadata": {},
     "output_type": "display_data"
    }
   ],
   "source": [
    "# 자치구별 공원 개수\n",
    "df.공원수.sort_values().plot(kind='barh',\n",
    "                           grid=True, figsize=(12,8))\n",
    "plt.title('자치구 인당면적비율(%)', size=15)\n",
    "plt.show()"
   ]
  },
  {
   "cell_type": "code",
   "execution_count": 56,
   "id": "9d6f7fdb",
   "metadata": {},
   "outputs": [],
   "source": [
    "df.to_csv('자치구별 공원 현황.csv') # index=False는 안넣기"
   ]
  }
 ],
 "metadata": {
  "kernelspec": {
   "display_name": "Python 3 (ipykernel)",
   "language": "python",
   "name": "python3"
  },
  "language_info": {
   "codemirror_mode": {
    "name": "ipython",
    "version": 3
   },
   "file_extension": ".py",
   "mimetype": "text/x-python",
   "name": "python",
   "nbconvert_exporter": "python",
   "pygments_lexer": "ipython3",
   "version": "3.8.7"
  }
 },
 "nbformat": 4,
 "nbformat_minor": 5
}
