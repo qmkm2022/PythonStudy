{
 "cells": [
  {
   "cell_type": "code",
   "execution_count": 1,
   "id": "c48ac912",
   "metadata": {},
   "outputs": [],
   "source": [
    "filename = './data1/행안부API.txt'\n",
    "with open(filename) as f:\n",
    "    api_key = f.read()"
   ]
  },
  {
   "cell_type": "code",
   "execution_count": 2,
   "id": "d7414deb",
   "metadata": {},
   "outputs": [
    {
     "data": {
      "text/plain": [
       "43"
      ]
     },
     "execution_count": 2,
     "metadata": {},
     "output_type": "execute_result"
    }
   ],
   "source": [
    "len(api_key)"
   ]
  },
  {
   "cell_type": "code",
   "execution_count": 5,
   "id": "850051df",
   "metadata": {
    "collapsed": true
   },
   "outputs": [
    {
     "ename": "NameError",
     "evalue": "name 'uploaded' is not defined",
     "output_type": "error",
     "traceback": [
      "\u001b[1;31m---------------------------------------------------------------------------\u001b[0m",
      "\u001b[1;31mNameError\u001b[0m                                 Traceback (most recent call last)",
      "Cell \u001b[1;32mIn[5], line 3\u001b[0m\n\u001b[0;32m      1\u001b[0m \u001b[38;5;66;03m#from goolge.colab import files\u001b[39;00m\n\u001b[0;32m      2\u001b[0m \u001b[38;5;66;03m#uploaded = files.upload()\u001b[39;00m\n\u001b[1;32m----> 3\u001b[0m filename \u001b[38;5;241m=\u001b[39m \u001b[38;5;28mlist\u001b[39m(\u001b[43muploaded\u001b[49m\u001b[38;5;241m.\u001b[39mkeys())[\u001b[38;5;241m0\u001b[39m]\n\u001b[0;32m      4\u001b[0m filename\n",
      "\u001b[1;31mNameError\u001b[0m: name 'uploaded' is not defined"
     ]
    }
   ],
   "source": [
    "# Colab에서 올리기\n",
    "# from goolge.colab import files\n",
    "# uploaded = files.upload()\n",
    "# filename = list(uploaded.keys())[0]\n",
    "# filename"
   ]
  },
  {
   "cell_type": "code",
   "execution_count": 3,
   "id": "18ce7e07",
   "metadata": {},
   "outputs": [],
   "source": [
    "import requests\n",
    "from urllib.parse import quote"
   ]
  },
  {
   "cell_type": "code",
   "execution_count": 16,
   "id": "73516a9c",
   "metadata": {
    "scrolled": true
   },
   "outputs": [
    {
     "data": {
      "text/plain": [
       "'%EC%84%9C%EC%9A%B8%ED%8A%B9%EB%B3%84%EC%8B%9C%EC%B2%AD'"
      ]
     },
     "execution_count": 16,
     "metadata": {},
     "output_type": "execute_result"
    }
   ],
   "source": [
    "bldg = '서울특별시청'\n",
    "temp = quote(bldg)\n",
    "temp"
   ]
  },
  {
   "cell_type": "code",
   "execution_count": 18,
   "id": "e6a049a0",
   "metadata": {},
   "outputs": [],
   "source": [
    "base_url = 'https://business.juso.go.kr/addrlink/addrLinkApi.do'\n",
    "params1 = f'currentPage=1&countPerPage=10&keyword={temp}'\n",
    "params2 = f'&confmKey={api_key}&resultType=json'\n",
    "url = f'{base_url}?{params1}?{params2}'"
   ]
  },
  {
   "cell_type": "code",
   "execution_count": 21,
   "id": "1019028c",
   "metadata": {},
   "outputs": [
    {
     "data": {
      "text/plain": [
       "200"
      ]
     },
     "execution_count": 21,
     "metadata": {},
     "output_type": "execute_result"
    }
   ],
   "source": [
    "result = requests.get(url)\n",
    "result.status_code"
   ]
  },
  {
   "cell_type": "code",
   "execution_count": 22,
   "id": "cd3a08ed",
   "metadata": {},
   "outputs": [
    {
     "name": "stdout",
     "output_type": "stream",
     "text": [
      "https://business.juso.go.kr/addrlink/addrLinkApi.do?currentPage=1&countPerPage=10&keyword=%EC%84%9C%EC%9A%B8%ED%8A%B9%EB%B3%84%EC%8B%9C%EC%B2%AD?&confmKey=devU01TX0FVVEgyMDIzMDMyMjA5NDExNzExMzYxMjc=&resultType=json\n"
     ]
    }
   ],
   "source": [
    "print(url)"
   ]
  },
  {
   "cell_type": "code",
   "execution_count": 23,
   "id": "d0764f8b",
   "metadata": {},
   "outputs": [
    {
     "data": {
      "text/plain": [
       "'{\"results\":{\"common\":{\"errorMessage\":\"정상\",\"countPerPage\":\"10\",\"totalCount\":\"1\",\"errorCode\":\"0\",\"currentPage\":\"1\"},\"juso\":[{\"detBdNmList\":\"본관동,신관\",\"engAddr\":\"110 Sejong-daero, Jung-gu, Seoul\",\"rn\":\"세종대로\",\"emdNm\":\"태평로1가\",\"zipNo\":\"04524\",\"roadAddrPart2\":\"(태평로1가)\",\"emdNo\":\"02\",\"sggNm\":\"중구\",\"jibunAddr\":\"서울특별시 중구 태평로1가 31 서울특별시청\",\"siNm\":\"서울특별시\",\"roadAddrPart1\":\"서울특별시 중구 세종대로 110\",\"bdNm\":\"서울특별시청\",\"admCd\":\"1114010300\",\"udrtYn\":\"0\",\"lnbrMnnm\":\"31\",\"roadAddr\":\"서울특별시 중구 세종대로 110(태평로1가)\",\"lnbrSlno\":\"0\",\"buldMnnm\":\"110\",\"bdKdcd\":\"0\",\"liNm\":\"\",\"rnMgtSn\":\"111402005001\",\"mtYn\":\"0\",\"bdMgtSn\":\"1114010300100310000019224\",\"buldSlno\":\"0\"}]}}'"
      ]
     },
     "execution_count": 23,
     "metadata": {},
     "output_type": "execute_result"
    }
   ],
   "source": [
    "result.text"
   ]
  },
  {
   "cell_type": "code",
   "execution_count": 25,
   "id": "9e131369",
   "metadata": {},
   "outputs": [
    {
     "data": {
      "text/plain": [
       "{'results': {'common': {'errorMessage': '정상',\n",
       "   'countPerPage': '10',\n",
       "   'totalCount': '1',\n",
       "   'errorCode': '0',\n",
       "   'currentPage': '1'},\n",
       "  'juso': [{'detBdNmList': '본관동,신관',\n",
       "    'engAddr': '110 Sejong-daero, Jung-gu, Seoul',\n",
       "    'rn': '세종대로',\n",
       "    'emdNm': '태평로1가',\n",
       "    'zipNo': '04524',\n",
       "    'roadAddrPart2': '(태평로1가)',\n",
       "    'emdNo': '02',\n",
       "    'sggNm': '중구',\n",
       "    'jibunAddr': '서울특별시 중구 태평로1가 31 서울특별시청',\n",
       "    'siNm': '서울특별시',\n",
       "    'roadAddrPart1': '서울특별시 중구 세종대로 110',\n",
       "    'bdNm': '서울특별시청',\n",
       "    'admCd': '1114010300',\n",
       "    'udrtYn': '0',\n",
       "    'lnbrMnnm': '31',\n",
       "    'roadAddr': '서울특별시 중구 세종대로 110(태평로1가)',\n",
       "    'lnbrSlno': '0',\n",
       "    'buldMnnm': '110',\n",
       "    'bdKdcd': '0',\n",
       "    'liNm': '',\n",
       "    'rnMgtSn': '111402005001',\n",
       "    'mtYn': '0',\n",
       "    'bdMgtSn': '1114010300100310000019224',\n",
       "    'buldSlno': '0'}]}}"
      ]
     },
     "execution_count": 25,
     "metadata": {},
     "output_type": "execute_result"
    }
   ],
   "source": [
    "import json\n",
    "res = json.loads(result.text)\n",
    "res"
   ]
  },
  {
   "cell_type": "code",
   "execution_count": 27,
   "id": "a0da5cc8",
   "metadata": {},
   "outputs": [
    {
     "data": {
      "text/plain": [
       "dict_keys(['results'])"
      ]
     },
     "execution_count": 27,
     "metadata": {},
     "output_type": "execute_result"
    }
   ],
   "source": [
    "res.keys()"
   ]
  },
  {
   "cell_type": "code",
   "execution_count": 33,
   "id": "62c23cbb",
   "metadata": {},
   "outputs": [
    {
     "data": {
      "text/plain": [
       "dict_keys(['common', 'juso'])"
      ]
     },
     "execution_count": 33,
     "metadata": {},
     "output_type": "execute_result"
    }
   ],
   "source": [
    "res['results'].keys()"
   ]
  },
  {
   "cell_type": "code",
   "execution_count": 34,
   "id": "6b560fc0",
   "metadata": {
    "collapsed": true
   },
   "outputs": [
    {
     "data": {
      "text/plain": [
       "[{'detBdNmList': '본관동,신관',\n",
       "  'engAddr': '110 Sejong-daero, Jung-gu, Seoul',\n",
       "  'rn': '세종대로',\n",
       "  'emdNm': '태평로1가',\n",
       "  'zipNo': '04524',\n",
       "  'roadAddrPart2': '(태평로1가)',\n",
       "  'emdNo': '02',\n",
       "  'sggNm': '중구',\n",
       "  'jibunAddr': '서울특별시 중구 태평로1가 31 서울특별시청',\n",
       "  'siNm': '서울특별시',\n",
       "  'roadAddrPart1': '서울특별시 중구 세종대로 110',\n",
       "  'bdNm': '서울특별시청',\n",
       "  'admCd': '1114010300',\n",
       "  'udrtYn': '0',\n",
       "  'lnbrMnnm': '31',\n",
       "  'roadAddr': '서울특별시 중구 세종대로 110(태평로1가)',\n",
       "  'lnbrSlno': '0',\n",
       "  'buldMnnm': '110',\n",
       "  'bdKdcd': '0',\n",
       "  'liNm': '',\n",
       "  'rnMgtSn': '111402005001',\n",
       "  'mtYn': '0',\n",
       "  'bdMgtSn': '1114010300100310000019224',\n",
       "  'buldSlno': '0'}]"
      ]
     },
     "execution_count": 34,
     "metadata": {},
     "output_type": "execute_result"
    }
   ],
   "source": [
    "res['results']['juso']"
   ]
  },
  {
   "cell_type": "code",
   "execution_count": 35,
   "id": "00389f58",
   "metadata": {
    "collapsed": true
   },
   "outputs": [
    {
     "data": {
      "text/plain": [
       "{'detBdNmList': '본관동,신관',\n",
       " 'engAddr': '110 Sejong-daero, Jung-gu, Seoul',\n",
       " 'rn': '세종대로',\n",
       " 'emdNm': '태평로1가',\n",
       " 'zipNo': '04524',\n",
       " 'roadAddrPart2': '(태평로1가)',\n",
       " 'emdNo': '02',\n",
       " 'sggNm': '중구',\n",
       " 'jibunAddr': '서울특별시 중구 태평로1가 31 서울특별시청',\n",
       " 'siNm': '서울특별시',\n",
       " 'roadAddrPart1': '서울특별시 중구 세종대로 110',\n",
       " 'bdNm': '서울특별시청',\n",
       " 'admCd': '1114010300',\n",
       " 'udrtYn': '0',\n",
       " 'lnbrMnnm': '31',\n",
       " 'roadAddr': '서울특별시 중구 세종대로 110(태평로1가)',\n",
       " 'lnbrSlno': '0',\n",
       " 'buldMnnm': '110',\n",
       " 'bdKdcd': '0',\n",
       " 'liNm': '',\n",
       " 'rnMgtSn': '111402005001',\n",
       " 'mtYn': '0',\n",
       " 'bdMgtSn': '1114010300100310000019224',\n",
       " 'buldSlno': '0'}"
      ]
     },
     "execution_count": 35,
     "metadata": {},
     "output_type": "execute_result"
    }
   ],
   "source": [
    "res['results']['juso'][0]"
   ]
  },
  {
   "cell_type": "code",
   "execution_count": 38,
   "id": "6b66f507",
   "metadata": {},
   "outputs": [
    {
     "data": {
      "text/plain": [
       "'서울특별시 중구 세종대로 110(태평로1가)'"
      ]
     },
     "execution_count": 38,
     "metadata": {},
     "output_type": "execute_result"
    }
   ],
   "source": [
    "road_add = res['results']['juso'][0]['roadAddr']\n",
    "road_add"
   ]
  },
  {
   "cell_type": "code",
   "execution_count": 4,
   "id": "7ef0f15a",
   "metadata": {},
   "outputs": [
    {
     "data": {
      "text/plain": [
       "['종로구청', '노원구청', '송파구청', '마포구청', '양천구청']"
      ]
     },
     "execution_count": 4,
     "metadata": {},
     "output_type": "execute_result"
    }
   ],
   "source": [
    "place = '종로구청 노원구청 송파구청 마포구청 양천구청'\n",
    "places = place.split(' ')\n",
    "places"
   ]
  },
  {
   "cell_type": "code",
   "execution_count": 9,
   "id": "56526274",
   "metadata": {},
   "outputs": [],
   "source": [
    "base_url = 'https://business.juso.go.kr/addrlink/addrLinkApi.do'\n",
    "params2 = f'&confmKey={api_key}&resultType=json'\n",
    "addr_list = []\n",
    "for i in places:\n",
    "    params1 = f'currentPage=1&countPerPage=10&keyword={quote(i)}'\n",
    "    url = f'{base_url}?{params1}?{params2}'\n",
    "    result = requests.get(url).json()\n",
    "    addr_list.append(result['results']['juso'][0]['roadAddr'])"
   ]
  },
  {
   "cell_type": "code",
   "execution_count": 10,
   "id": "c45857d6",
   "metadata": {},
   "outputs": [
    {
     "data": {
      "text/plain": [
       "['서울특별시 종로구 종로1길 36(수송동)',\n",
       " '서울특별시 노원구 노해로 437(상계동)',\n",
       " '서울특별시 송파구 올림픽로 326(신천동)',\n",
       " '서울특별시 마포구 월드컵로 지하190(성산동)',\n",
       " '서울특별시 양천구 목동동로 105(신정동)']"
      ]
     },
     "execution_count": 10,
     "metadata": {},
     "output_type": "execute_result"
    }
   ],
   "source": [
    "addr_list"
   ]
  },
  {
   "cell_type": "code",
   "execution_count": 13,
   "id": "ad4cfe7f",
   "metadata": {},
   "outputs": [],
   "source": [
    "import pandas as pd\n",
    "#데이터 프레임으로 저장\n",
    "df = pd.DataFrame({'공공기관':places, '도로명주소':addr_list})\n",
    "df.to_csv('공공기관_행안부.csv', encoding='cp949')"
   ]
  },
  {
   "cell_type": "code",
   "execution_count": null,
   "id": "95c68ad7",
   "metadata": {},
   "outputs": [],
   "source": []
  }
 ],
 "metadata": {
  "kernelspec": {
   "display_name": "Python 3 (ipykernel)",
   "language": "python",
   "name": "python3"
  },
  "language_info": {
   "codemirror_mode": {
    "name": "ipython",
    "version": 3
   },
   "file_extension": ".py",
   "mimetype": "text/x-python",
   "name": "python",
   "nbconvert_exporter": "python",
   "pygments_lexer": "ipython3",
   "version": "3.8.7"
  }
 },
 "nbformat": 4,
 "nbformat_minor": 5
}
