{
 "cells": [
  {
   "cell_type": "code",
   "execution_count": 3,
   "id": "69cae0af",
   "metadata": {},
   "outputs": [],
   "source": [
    "filename = './data1/kakaoAPI.txt'\n",
    "with open(filename) as f:\n",
    "    api_key = f.read()"
   ]
  },
  {
   "cell_type": "code",
   "execution_count": 4,
   "id": "9d47d717",
   "metadata": {},
   "outputs": [
    {
     "data": {
      "text/plain": [
       "32"
      ]
     },
     "execution_count": 4,
     "metadata": {},
     "output_type": "execute_result"
    }
   ],
   "source": [
    "len(api_key)"
   ]
  },
  {
   "cell_type": "code",
   "execution_count": 5,
   "id": "e9e840a8",
   "metadata": {},
   "outputs": [],
   "source": [
    "import requests\n",
    "from urllib.parse import quote"
   ]
  },
  {
   "cell_type": "code",
   "execution_count": 7,
   "id": "83f96825",
   "metadata": {},
   "outputs": [],
   "source": [
    "addr = '서울시 종로구 종로1길 36(수송동)'\n",
    "temp = quote(addr)"
   ]
  },
  {
   "cell_type": "code",
   "execution_count": 11,
   "id": "2f4143f9",
   "metadata": {},
   "outputs": [
    {
     "data": {
      "text/plain": [
       "'https://dapi.kakao.com/v2/local/search/address.json?query=%EC%84%9C%EC%9A%B8%EC%8B%9C%20%EC%A2%85%EB%A1%9C%EA%B5%AC%20%EC%A2%85%EB%A1%9C1%EA%B8%B8%2036%28%EC%88%98%EC%86%A1%EB%8F%99%29'"
      ]
     },
     "execution_count": 11,
     "metadata": {},
     "output_type": "execute_result"
    }
   ],
   "source": [
    "search_url = 'https://dapi.kakao.com/v2/local/search/address.json'\n",
    "url = f'{search_url}?query={temp}'\n",
    "url"
   ]
  },
  {
   "cell_type": "code",
   "execution_count": 34,
   "id": "c61bd756",
   "metadata": {},
   "outputs": [],
   "source": [
    "result = requests.get(url, headers={\"Authorization\" : f'KakaoAK {api_key}'}).json()\n",
    "#result = requests.get(url, headers={\"Authorization\" : f'KakaoAK {api_key}'}).json()"
   ]
  },
  {
   "cell_type": "code",
   "execution_count": 36,
   "id": "be930d9c",
   "metadata": {},
   "outputs": [],
   "source": [
    "#위코드에서 json 삭제후 확인\n",
    "#result.status_code"
   ]
  },
  {
   "cell_type": "code",
   "execution_count": 37,
   "id": "8388a512",
   "metadata": {
    "collapsed": true
   },
   "outputs": [
    {
     "data": {
      "text/plain": [
       "{'documents': [{'address': {'address_name': '서울 종로구 수송동 146-12',\n",
       "    'b_code': '1111012400',\n",
       "    'h_code': '1111061500',\n",
       "    'main_address_no': '146',\n",
       "    'mountain_yn': 'N',\n",
       "    'region_1depth_name': '서울',\n",
       "    'region_2depth_name': '종로구',\n",
       "    'region_3depth_h_name': '종로1.2.3.4가동',\n",
       "    'region_3depth_name': '수송동',\n",
       "    'sub_address_no': '12',\n",
       "    'x': '126.978988255925',\n",
       "    'y': '37.5735051436739'},\n",
       "   'address_name': '서울 종로구 종로1길 36',\n",
       "   'address_type': 'ROAD_ADDR',\n",
       "   'road_address': {'address_name': '서울 종로구 종로1길 36',\n",
       "    'building_name': '종로구청',\n",
       "    'main_building_no': '36',\n",
       "    'region_1depth_name': '서울',\n",
       "    'region_2depth_name': '종로구',\n",
       "    'region_3depth_name': '수송동',\n",
       "    'road_name': '종로1길',\n",
       "    'sub_building_no': '',\n",
       "    'underground_yn': 'N',\n",
       "    'x': '126.978988255925',\n",
       "    'y': '37.5735051436739',\n",
       "    'zone_no': '03152'},\n",
       "   'x': '126.978988255925',\n",
       "   'y': '37.5735051436739'}],\n",
       " 'meta': {'is_end': True, 'pageable_count': 1, 'total_count': 1}}"
      ]
     },
     "execution_count": 37,
     "metadata": {},
     "output_type": "execute_result"
    }
   ],
   "source": [
    "result"
   ]
  },
  {
   "cell_type": "code",
   "execution_count": 42,
   "id": "13a4ac73",
   "metadata": {},
   "outputs": [],
   "source": [
    "# .json으로 안가져온경우 밑 코드로 다시 부럴오기\n",
    "# import json\n",
    "# res = json.load(result.text)"
   ]
  },
  {
   "cell_type": "code",
   "execution_count": 43,
   "id": "0b27d3bb",
   "metadata": {},
   "outputs": [
    {
     "data": {
      "text/plain": [
       "dict_keys(['documents', 'meta'])"
      ]
     },
     "execution_count": 43,
     "metadata": {},
     "output_type": "execute_result"
    }
   ],
   "source": [
    "result.keys()"
   ]
  },
  {
   "cell_type": "code",
   "execution_count": 54,
   "id": "262d82ba",
   "metadata": {},
   "outputs": [
    {
     "name": "stdout",
     "output_type": "stream",
     "text": [
      "126.978988255925\n",
      "37.5735051436739\n"
     ]
    }
   ],
   "source": [
    "print(result['documents'][0]['x'])\n",
    "print(result['documents'][0]['y'])"
   ]
  },
  {
   "cell_type": "code",
   "execution_count": 56,
   "id": "d947a1f3",
   "metadata": {},
   "outputs": [],
   "source": [
    "lng = float(result['documents'][0]['x'])\n",
    "lat = float(result['documents'][0]['y'])"
   ]
  },
  {
   "cell_type": "code",
   "execution_count": 61,
   "id": "6e64934f",
   "metadata": {},
   "outputs": [
    {
     "name": "stdout",
     "output_type": "stream",
     "text": [
      "126.978988255925 37.5735051436739\n"
     ]
    }
   ],
   "source": [
    "print(lng, lat)"
   ]
  },
  {
   "cell_type": "code",
   "execution_count": 62,
   "id": "315c270b",
   "metadata": {},
   "outputs": [
    {
     "data": {
      "text/html": [
       "<div>\n",
       "<style scoped>\n",
       "    .dataframe tbody tr th:only-of-type {\n",
       "        vertical-align: middle;\n",
       "    }\n",
       "\n",
       "    .dataframe tbody tr th {\n",
       "        vertical-align: top;\n",
       "    }\n",
       "\n",
       "    .dataframe thead th {\n",
       "        text-align: right;\n",
       "    }\n",
       "</style>\n",
       "<table border=\"1\" class=\"dataframe\">\n",
       "  <thead>\n",
       "    <tr style=\"text-align: right;\">\n",
       "      <th></th>\n",
       "      <th>공공기관</th>\n",
       "      <th>도로명주소</th>\n",
       "    </tr>\n",
       "  </thead>\n",
       "  <tbody>\n",
       "    <tr>\n",
       "      <th>0</th>\n",
       "      <td>종로구청</td>\n",
       "      <td>서울특별시 종로구 종로1길 36(수송동)</td>\n",
       "    </tr>\n",
       "    <tr>\n",
       "      <th>1</th>\n",
       "      <td>노원구청</td>\n",
       "      <td>서울특별시 노원구 노해로 437(상계동)</td>\n",
       "    </tr>\n",
       "    <tr>\n",
       "      <th>2</th>\n",
       "      <td>송파구청</td>\n",
       "      <td>서울특별시 송파구 올림픽로 326(신천동)</td>\n",
       "    </tr>\n",
       "    <tr>\n",
       "      <th>3</th>\n",
       "      <td>마포구청</td>\n",
       "      <td>서울특별시 마포구 월드컵로 지하190(성산동)</td>\n",
       "    </tr>\n",
       "    <tr>\n",
       "      <th>4</th>\n",
       "      <td>양천구청</td>\n",
       "      <td>서울특별시 양천구 목동동로 105(신정동)</td>\n",
       "    </tr>\n",
       "  </tbody>\n",
       "</table>\n",
       "</div>"
      ],
      "text/plain": [
       "   공공기관                      도로명주소\n",
       "0  종로구청     서울특별시 종로구 종로1길 36(수송동)\n",
       "1  노원구청     서울특별시 노원구 노해로 437(상계동)\n",
       "2  송파구청    서울특별시 송파구 올림픽로 326(신천동)\n",
       "3  마포구청  서울특별시 마포구 월드컵로 지하190(성산동)\n",
       "4  양천구청    서울특별시 양천구 목동동로 105(신정동)"
      ]
     },
     "execution_count": 62,
     "metadata": {},
     "output_type": "execute_result"
    }
   ],
   "source": [
    "import pandas as pd\n",
    "df = pd.read_csv('./data1/공공기관.csv')\n",
    "df"
   ]
  },
  {
   "cell_type": "code",
   "execution_count": 66,
   "id": "2abf9e59",
   "metadata": {},
   "outputs": [],
   "source": [
    "lat_list = [] \n",
    "lng_list = []\n",
    "for i in df.index:\n",
    "    search_url = 'https://dapi.kakao.com/v2/local/search/address.json'\n",
    "    url = f'{search_url}?query={df.도로명주소[i]}'\n",
    "    result = requests.get(url, headers={\"Authorization\" : f'KakaoAK {api_key}'}).json()\n",
    "    lng = float(result['documents'][0]['x'])\n",
    "    lat = float(result['documents'][0]['y'])\n",
    "    lat_list.append(lat)\n",
    "    lng_list.append(lng)"
   ]
  },
  {
   "cell_type": "code",
   "execution_count": 76,
   "id": "e369a088",
   "metadata": {},
   "outputs": [],
   "source": [
    "df['위도'] = lat_list\n",
    "df['경도'] = lng_list\n",
    "df.to_csv('공공기관2.csv', index=False , encoding='cp949')"
   ]
  },
  {
   "cell_type": "code",
   "execution_count": 68,
   "id": "669f476a",
   "metadata": {},
   "outputs": [
    {
     "data": {
      "text/html": [
       "<div>\n",
       "<style scoped>\n",
       "    .dataframe tbody tr th:only-of-type {\n",
       "        vertical-align: middle;\n",
       "    }\n",
       "\n",
       "    .dataframe tbody tr th {\n",
       "        vertical-align: top;\n",
       "    }\n",
       "\n",
       "    .dataframe thead th {\n",
       "        text-align: right;\n",
       "    }\n",
       "</style>\n",
       "<table border=\"1\" class=\"dataframe\">\n",
       "  <thead>\n",
       "    <tr style=\"text-align: right;\">\n",
       "      <th></th>\n",
       "      <th>공공기관</th>\n",
       "      <th>도로명주소</th>\n",
       "      <th>위도</th>\n",
       "      <th>경도</th>\n",
       "    </tr>\n",
       "  </thead>\n",
       "  <tbody>\n",
       "    <tr>\n",
       "      <th>0</th>\n",
       "      <td>종로구청</td>\n",
       "      <td>서울특별시 종로구 종로1길 36(수송동)</td>\n",
       "      <td>37.573505</td>\n",
       "      <td>126.978988</td>\n",
       "    </tr>\n",
       "    <tr>\n",
       "      <th>1</th>\n",
       "      <td>노원구청</td>\n",
       "      <td>서울특별시 노원구 노해로 437(상계동)</td>\n",
       "      <td>37.654523</td>\n",
       "      <td>127.056268</td>\n",
       "    </tr>\n",
       "    <tr>\n",
       "      <th>2</th>\n",
       "      <td>송파구청</td>\n",
       "      <td>서울특별시 송파구 올림픽로 326(신천동)</td>\n",
       "      <td>37.514477</td>\n",
       "      <td>127.105860</td>\n",
       "    </tr>\n",
       "    <tr>\n",
       "      <th>3</th>\n",
       "      <td>마포구청</td>\n",
       "      <td>서울특별시 마포구 월드컵로 지하190(성산동)</td>\n",
       "      <td>37.563426</td>\n",
       "      <td>126.903357</td>\n",
       "    </tr>\n",
       "    <tr>\n",
       "      <th>4</th>\n",
       "      <td>양천구청</td>\n",
       "      <td>서울특별시 양천구 목동동로 105(신정동)</td>\n",
       "      <td>37.517075</td>\n",
       "      <td>126.866543</td>\n",
       "    </tr>\n",
       "  </tbody>\n",
       "</table>\n",
       "</div>"
      ],
      "text/plain": [
       "   공공기관                      도로명주소         위도          경도\n",
       "0  종로구청     서울특별시 종로구 종로1길 36(수송동)  37.573505  126.978988\n",
       "1  노원구청     서울특별시 노원구 노해로 437(상계동)  37.654523  127.056268\n",
       "2  송파구청    서울특별시 송파구 올림픽로 326(신천동)  37.514477  127.105860\n",
       "3  마포구청  서울특별시 마포구 월드컵로 지하190(성산동)  37.563426  126.903357\n",
       "4  양천구청    서울특별시 양천구 목동동로 105(신정동)  37.517075  126.866543"
      ]
     },
     "execution_count": 68,
     "metadata": {},
     "output_type": "execute_result"
    }
   ],
   "source": [
    "df"
   ]
  },
  {
   "cell_type": "code",
   "execution_count": 69,
   "id": "3df19520",
   "metadata": {},
   "outputs": [],
   "source": [
    "import folium"
   ]
  },
  {
   "cell_type": "code",
   "execution_count": 77,
   "id": "d9db876f",
   "metadata": {},
   "outputs": [
    {
     "data": {
      "text/html": [
       "<div style=\"width:100%;\"><div style=\"position:relative;width:100%;height:0;padding-bottom:60%;\"><span style=\"color:#565656\">Make this Notebook Trusted to load map: File -> Trust Notebook</span><iframe srcdoc=\"&lt;!DOCTYPE html&gt;\n",
       "&lt;html&gt;\n",
       "&lt;head&gt;\n",
       "    \n",
       "    &lt;meta http-equiv=&quot;content-type&quot; content=&quot;text/html; charset=UTF-8&quot; /&gt;\n",
       "    \n",
       "        &lt;script&gt;\n",
       "            L_NO_TOUCH = false;\n",
       "            L_DISABLE_3D = false;\n",
       "        &lt;/script&gt;\n",
       "    \n",
       "    &lt;style&gt;html, body {width: 100%;height: 100%;margin: 0;padding: 0;}&lt;/style&gt;\n",
       "    &lt;style&gt;#map {position:absolute;top:0;bottom:0;right:0;left:0;}&lt;/style&gt;\n",
       "    &lt;script src=&quot;https://cdn.jsdelivr.net/npm/leaflet@1.9.3/dist/leaflet.js&quot;&gt;&lt;/script&gt;\n",
       "    &lt;script src=&quot;https://code.jquery.com/jquery-1.12.4.min.js&quot;&gt;&lt;/script&gt;\n",
       "    &lt;script src=&quot;https://cdn.jsdelivr.net/npm/bootstrap@5.2.2/dist/js/bootstrap.bundle.min.js&quot;&gt;&lt;/script&gt;\n",
       "    &lt;script src=&quot;https://cdnjs.cloudflare.com/ajax/libs/Leaflet.awesome-markers/2.0.2/leaflet.awesome-markers.js&quot;&gt;&lt;/script&gt;\n",
       "    &lt;link rel=&quot;stylesheet&quot; href=&quot;https://cdn.jsdelivr.net/npm/leaflet@1.9.3/dist/leaflet.css&quot;/&gt;\n",
       "    &lt;link rel=&quot;stylesheet&quot; href=&quot;https://cdn.jsdelivr.net/npm/bootstrap@5.2.2/dist/css/bootstrap.min.css&quot;/&gt;\n",
       "    &lt;link rel=&quot;stylesheet&quot; href=&quot;https://netdna.bootstrapcdn.com/bootstrap/3.0.0/css/bootstrap.min.css&quot;/&gt;\n",
       "    &lt;link rel=&quot;stylesheet&quot; href=&quot;https://cdn.jsdelivr.net/npm/@fortawesome/fontawesome-free@6.2.0/css/all.min.css&quot;/&gt;\n",
       "    &lt;link rel=&quot;stylesheet&quot; href=&quot;https://cdnjs.cloudflare.com/ajax/libs/Leaflet.awesome-markers/2.0.2/leaflet.awesome-markers.css&quot;/&gt;\n",
       "    &lt;link rel=&quot;stylesheet&quot; href=&quot;https://cdn.jsdelivr.net/gh/python-visualization/folium/folium/templates/leaflet.awesome.rotate.min.css&quot;/&gt;\n",
       "    \n",
       "            &lt;meta name=&quot;viewport&quot; content=&quot;width=device-width,\n",
       "                initial-scale=1.0, maximum-scale=1.0, user-scalable=no&quot; /&gt;\n",
       "            &lt;style&gt;\n",
       "                #map_d9027d9fcc5ab0065451c673f33bbcc4 {\n",
       "                    position: relative;\n",
       "                    width: 100.0%;\n",
       "                    height: 100.0%;\n",
       "                    left: 0.0%;\n",
       "                    top: 0.0%;\n",
       "                }\n",
       "                .leaflet-container { font-size: 1rem; }\n",
       "            &lt;/style&gt;\n",
       "        \n",
       "&lt;/head&gt;\n",
       "&lt;body&gt;\n",
       "    \n",
       "    &lt;h3 align=&quot;center&quot; style=&quot;font-size:20&quot;&gt; 서울시 구청&lt;/h3&gt;\n",
       "    \n",
       "            &lt;div class=&quot;folium-map&quot; id=&quot;map_d9027d9fcc5ab0065451c673f33bbcc4&quot; &gt;&lt;/div&gt;\n",
       "        \n",
       "&lt;/body&gt;\n",
       "&lt;script&gt;\n",
       "    \n",
       "    \n",
       "            var map_d9027d9fcc5ab0065451c673f33bbcc4 = L.map(\n",
       "                &quot;map_d9027d9fcc5ab0065451c673f33bbcc4&quot;,\n",
       "                {\n",
       "                    center: [37.56460137149641, 126.98220321478],\n",
       "                    crs: L.CRS.EPSG3857,\n",
       "                    zoom: 12,\n",
       "                    zoomControl: true,\n",
       "                    preferCanvas: false,\n",
       "                }\n",
       "            );\n",
       "\n",
       "            \n",
       "\n",
       "        \n",
       "    \n",
       "            var tile_layer_19e467eaa27b1211275bf55bc1d25ee6 = L.tileLayer(\n",
       "                &quot;https://{s}.tile.openstreetmap.org/{z}/{x}/{y}.png&quot;,\n",
       "                {&quot;attribution&quot;: &quot;Data by \\u0026copy; \\u003ca target=\\&quot;_blank\\&quot; href=\\&quot;http://openstreetmap.org\\&quot;\\u003eOpenStreetMap\\u003c/a\\u003e, under \\u003ca target=\\&quot;_blank\\&quot; href=\\&quot;http://www.openstreetmap.org/copyright\\&quot;\\u003eODbL\\u003c/a\\u003e.&quot;, &quot;detectRetina&quot;: false, &quot;maxNativeZoom&quot;: 18, &quot;maxZoom&quot;: 18, &quot;minZoom&quot;: 0, &quot;noWrap&quot;: false, &quot;opacity&quot;: 1, &quot;subdomains&quot;: &quot;abc&quot;, &quot;tms&quot;: false}\n",
       "            ).addTo(map_d9027d9fcc5ab0065451c673f33bbcc4);\n",
       "        \n",
       "    \n",
       "            var circle_480ad75f8a5830990ce9e5351509d561 = L.circle(\n",
       "                [37.5735051436739, 126.978988255925],\n",
       "                {&quot;bubblingMouseEvents&quot;: true, &quot;color&quot;: &quot;red&quot;, &quot;dashArray&quot;: null, &quot;dashOffset&quot;: null, &quot;fill&quot;: true, &quot;fillColor&quot;: &quot;#3186cc&quot;, &quot;fillOpacity&quot;: 0.2, &quot;fillRule&quot;: &quot;evenodd&quot;, &quot;lineCap&quot;: &quot;round&quot;, &quot;lineJoin&quot;: &quot;round&quot;, &quot;opacity&quot;: 1.0, &quot;radius&quot;: 100, &quot;stroke&quot;: true, &quot;weight&quot;: 3}\n",
       "            ).addTo(map_d9027d9fcc5ab0065451c673f33bbcc4);\n",
       "        \n",
       "    \n",
       "        var popup_f5affecb3f79a4f8dab0677e89aec197 = L.popup({&quot;maxWidth&quot;: 200});\n",
       "\n",
       "        \n",
       "            \n",
       "                var html_1e7de6b286b9997755286574c9ec6b29 = $(`&lt;div id=&quot;html_1e7de6b286b9997755286574c9ec6b29&quot; style=&quot;width: 100.0%; height: 100.0%;&quot;&gt;서울특별시 종로구 종로1길 36(수송동)&lt;/div&gt;`)[0];\n",
       "                popup_f5affecb3f79a4f8dab0677e89aec197.setContent(html_1e7de6b286b9997755286574c9ec6b29);\n",
       "            \n",
       "        \n",
       "\n",
       "        circle_480ad75f8a5830990ce9e5351509d561.bindPopup(popup_f5affecb3f79a4f8dab0677e89aec197)\n",
       "        ;\n",
       "\n",
       "        \n",
       "    \n",
       "    \n",
       "            circle_480ad75f8a5830990ce9e5351509d561.bindTooltip(\n",
       "                `&lt;div&gt;\n",
       "                     종로구청\n",
       "                 &lt;/div&gt;`,\n",
       "                {&quot;sticky&quot;: true}\n",
       "            );\n",
       "        \n",
       "    \n",
       "            var circle_41cd1166544dcca8bf3f581eebd69a6e = L.circle(\n",
       "                [37.6545228397157, 127.056268317802],\n",
       "                {&quot;bubblingMouseEvents&quot;: true, &quot;color&quot;: &quot;red&quot;, &quot;dashArray&quot;: null, &quot;dashOffset&quot;: null, &quot;fill&quot;: true, &quot;fillColor&quot;: &quot;#3186cc&quot;, &quot;fillOpacity&quot;: 0.2, &quot;fillRule&quot;: &quot;evenodd&quot;, &quot;lineCap&quot;: &quot;round&quot;, &quot;lineJoin&quot;: &quot;round&quot;, &quot;opacity&quot;: 1.0, &quot;radius&quot;: 100, &quot;stroke&quot;: true, &quot;weight&quot;: 3}\n",
       "            ).addTo(map_d9027d9fcc5ab0065451c673f33bbcc4);\n",
       "        \n",
       "    \n",
       "        var popup_00e7f0eed69db1d872c89b06d48583a7 = L.popup({&quot;maxWidth&quot;: 200});\n",
       "\n",
       "        \n",
       "            \n",
       "                var html_32e2b322f64f45055cde60026e4cd640 = $(`&lt;div id=&quot;html_32e2b322f64f45055cde60026e4cd640&quot; style=&quot;width: 100.0%; height: 100.0%;&quot;&gt;서울특별시 노원구 노해로 437(상계동)&lt;/div&gt;`)[0];\n",
       "                popup_00e7f0eed69db1d872c89b06d48583a7.setContent(html_32e2b322f64f45055cde60026e4cd640);\n",
       "            \n",
       "        \n",
       "\n",
       "        circle_41cd1166544dcca8bf3f581eebd69a6e.bindPopup(popup_00e7f0eed69db1d872c89b06d48583a7)\n",
       "        ;\n",
       "\n",
       "        \n",
       "    \n",
       "    \n",
       "            circle_41cd1166544dcca8bf3f581eebd69a6e.bindTooltip(\n",
       "                `&lt;div&gt;\n",
       "                     노원구청\n",
       "                 &lt;/div&gt;`,\n",
       "                {&quot;sticky&quot;: true}\n",
       "            );\n",
       "        \n",
       "    \n",
       "            var circle_61c04868dad4f61486cab04bf647592e = L.circle(\n",
       "                [37.514477182474, 127.105859984389],\n",
       "                {&quot;bubblingMouseEvents&quot;: true, &quot;color&quot;: &quot;red&quot;, &quot;dashArray&quot;: null, &quot;dashOffset&quot;: null, &quot;fill&quot;: true, &quot;fillColor&quot;: &quot;#3186cc&quot;, &quot;fillOpacity&quot;: 0.2, &quot;fillRule&quot;: &quot;evenodd&quot;, &quot;lineCap&quot;: &quot;round&quot;, &quot;lineJoin&quot;: &quot;round&quot;, &quot;opacity&quot;: 1.0, &quot;radius&quot;: 100, &quot;stroke&quot;: true, &quot;weight&quot;: 3}\n",
       "            ).addTo(map_d9027d9fcc5ab0065451c673f33bbcc4);\n",
       "        \n",
       "    \n",
       "        var popup_c847e757fd42063ba6cbe42d16befbd4 = L.popup({&quot;maxWidth&quot;: 200});\n",
       "\n",
       "        \n",
       "            \n",
       "                var html_65c57114e128fb930c91a22327481cc2 = $(`&lt;div id=&quot;html_65c57114e128fb930c91a22327481cc2&quot; style=&quot;width: 100.0%; height: 100.0%;&quot;&gt;서울특별시 송파구 올림픽로 326(신천동)&lt;/div&gt;`)[0];\n",
       "                popup_c847e757fd42063ba6cbe42d16befbd4.setContent(html_65c57114e128fb930c91a22327481cc2);\n",
       "            \n",
       "        \n",
       "\n",
       "        circle_61c04868dad4f61486cab04bf647592e.bindPopup(popup_c847e757fd42063ba6cbe42d16befbd4)\n",
       "        ;\n",
       "\n",
       "        \n",
       "    \n",
       "    \n",
       "            circle_61c04868dad4f61486cab04bf647592e.bindTooltip(\n",
       "                `&lt;div&gt;\n",
       "                     송파구청\n",
       "                 &lt;/div&gt;`,\n",
       "                {&quot;sticky&quot;: true}\n",
       "            );\n",
       "        \n",
       "    \n",
       "            var circle_870b6b28ebdf9ec50c378459d3a94ad6 = L.circle(\n",
       "                [37.5634263131969, 126.903356973848],\n",
       "                {&quot;bubblingMouseEvents&quot;: true, &quot;color&quot;: &quot;red&quot;, &quot;dashArray&quot;: null, &quot;dashOffset&quot;: null, &quot;fill&quot;: true, &quot;fillColor&quot;: &quot;#3186cc&quot;, &quot;fillOpacity&quot;: 0.2, &quot;fillRule&quot;: &quot;evenodd&quot;, &quot;lineCap&quot;: &quot;round&quot;, &quot;lineJoin&quot;: &quot;round&quot;, &quot;opacity&quot;: 1.0, &quot;radius&quot;: 100, &quot;stroke&quot;: true, &quot;weight&quot;: 3}\n",
       "            ).addTo(map_d9027d9fcc5ab0065451c673f33bbcc4);\n",
       "        \n",
       "    \n",
       "        var popup_e125c205bcb9171a6a40cf05dbdb4f4e = L.popup({&quot;maxWidth&quot;: 200});\n",
       "\n",
       "        \n",
       "            \n",
       "                var html_d14617d031608d255e41eff27287a3a2 = $(`&lt;div id=&quot;html_d14617d031608d255e41eff27287a3a2&quot; style=&quot;width: 100.0%; height: 100.0%;&quot;&gt;서울특별시 마포구 월드컵로 지하190(성산동)&lt;/div&gt;`)[0];\n",
       "                popup_e125c205bcb9171a6a40cf05dbdb4f4e.setContent(html_d14617d031608d255e41eff27287a3a2);\n",
       "            \n",
       "        \n",
       "\n",
       "        circle_870b6b28ebdf9ec50c378459d3a94ad6.bindPopup(popup_e125c205bcb9171a6a40cf05dbdb4f4e)\n",
       "        ;\n",
       "\n",
       "        \n",
       "    \n",
       "    \n",
       "            circle_870b6b28ebdf9ec50c378459d3a94ad6.bindTooltip(\n",
       "                `&lt;div&gt;\n",
       "                     마포구청\n",
       "                 &lt;/div&gt;`,\n",
       "                {&quot;sticky&quot;: true}\n",
       "            );\n",
       "        \n",
       "    \n",
       "            var circle_1f4120c0923add5072e22ba45e467e64 = L.circle(\n",
       "                [37.5170753784215, 126.866542541936],\n",
       "                {&quot;bubblingMouseEvents&quot;: true, &quot;color&quot;: &quot;red&quot;, &quot;dashArray&quot;: null, &quot;dashOffset&quot;: null, &quot;fill&quot;: true, &quot;fillColor&quot;: &quot;#3186cc&quot;, &quot;fillOpacity&quot;: 0.2, &quot;fillRule&quot;: &quot;evenodd&quot;, &quot;lineCap&quot;: &quot;round&quot;, &quot;lineJoin&quot;: &quot;round&quot;, &quot;opacity&quot;: 1.0, &quot;radius&quot;: 100, &quot;stroke&quot;: true, &quot;weight&quot;: 3}\n",
       "            ).addTo(map_d9027d9fcc5ab0065451c673f33bbcc4);\n",
       "        \n",
       "    \n",
       "        var popup_f2c810ba2ae0e8aa6bee10f037a0de6a = L.popup({&quot;maxWidth&quot;: 200});\n",
       "\n",
       "        \n",
       "            \n",
       "                var html_e8e2215c595ac0700dafa4bcadd29f62 = $(`&lt;div id=&quot;html_e8e2215c595ac0700dafa4bcadd29f62&quot; style=&quot;width: 100.0%; height: 100.0%;&quot;&gt;서울특별시 양천구 목동동로 105(신정동)&lt;/div&gt;`)[0];\n",
       "                popup_f2c810ba2ae0e8aa6bee10f037a0de6a.setContent(html_e8e2215c595ac0700dafa4bcadd29f62);\n",
       "            \n",
       "        \n",
       "\n",
       "        circle_1f4120c0923add5072e22ba45e467e64.bindPopup(popup_f2c810ba2ae0e8aa6bee10f037a0de6a)\n",
       "        ;\n",
       "\n",
       "        \n",
       "    \n",
       "    \n",
       "            circle_1f4120c0923add5072e22ba45e467e64.bindTooltip(\n",
       "                `&lt;div&gt;\n",
       "                     양천구청\n",
       "                 &lt;/div&gt;`,\n",
       "                {&quot;sticky&quot;: true}\n",
       "            );\n",
       "        \n",
       "&lt;/script&gt;\n",
       "&lt;/html&gt;\" style=\"position:absolute;width:100%;height:100%;left:0;top:0;border:none !important;\" allowfullscreen webkitallowfullscreen mozallowfullscreen></iframe></div></div>"
      ],
      "text/plain": [
       "<folium.folium.Map at 0x1ef742c0430>"
      ]
     },
     "execution_count": 77,
     "metadata": {},
     "output_type": "execute_result"
    }
   ],
   "source": [
    "map = folium.Map(location=[df.위도.mean(), df.경도.mean()], zoom_start=12)\n",
    "for i in df.index:\n",
    "    folium.Circle( radius=100, location=[df.위도[i], df.경도[i]], popup=folium.Popup(df.도로명주소[i], max_width=200),\n",
    "                  tooltip=df.공공기관[i], color = 'red', fill=True, fill_color = '#3186cc').add_to(map)\n",
    "title = '<h3 align=\"center\" style=\"font-size:20\"> 서울시 구청</h3>'\n",
    "map.get_root().html.add_child(folium.Element(title))\n",
    "map"
   ]
  },
  {
   "cell_type": "code",
   "execution_count": null,
   "id": "89e4b3f6",
   "metadata": {},
   "outputs": [],
   "source": []
  }
 ],
 "metadata": {
  "kernelspec": {
   "display_name": "Python 3 (ipykernel)",
   "language": "python",
   "name": "python3"
  },
  "language_info": {
   "codemirror_mode": {
    "name": "ipython",
    "version": 3
   },
   "file_extension": ".py",
   "mimetype": "text/x-python",
   "name": "python",
   "nbconvert_exporter": "python",
   "pygments_lexer": "ipython3",
   "version": "3.8.7"
  }
 },
 "nbformat": 4,
 "nbformat_minor": 5
}
