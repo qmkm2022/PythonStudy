{
  "nbformat": 4,
  "nbformat_minor": 0,
  "metadata": {
    "colab": {
      "provenance": []
    },
    "kernelspec": {
      "name": "python3",
      "display_name": "Python 3"
    },
    "language_info": {
      "name": "python"
    },
    "widgets": {
      "application/vnd.jupyter.widget-state+json": {
        "18fae40211aa4d4981cc5e3575f01c8f": {
          "model_module": "@jupyter-widgets/controls",
          "model_name": "HBoxModel",
          "model_module_version": "1.5.0",
          "state": {
            "_dom_classes": [],
            "_model_module": "@jupyter-widgets/controls",
            "_model_module_version": "1.5.0",
            "_model_name": "HBoxModel",
            "_view_count": null,
            "_view_module": "@jupyter-widgets/controls",
            "_view_module_version": "1.5.0",
            "_view_name": "HBoxView",
            "box_style": "",
            "children": [
              "IPY_MODEL_9165543099854c80a19f3dc936cebdee",
              "IPY_MODEL_83c1d1153b0c41dba3a13f3ed65538af",
              "IPY_MODEL_7e32e6d5aae346d28cc726b04d692bb0"
            ],
            "layout": "IPY_MODEL_e644c10eb6e941c0a57d0ea72b32fdc8"
          }
        },
        "9165543099854c80a19f3dc936cebdee": {
          "model_module": "@jupyter-widgets/controls",
          "model_name": "HTMLModel",
          "model_module_version": "1.5.0",
          "state": {
            "_dom_classes": [],
            "_model_module": "@jupyter-widgets/controls",
            "_model_module_version": "1.5.0",
            "_model_name": "HTMLModel",
            "_view_count": null,
            "_view_module": "@jupyter-widgets/controls",
            "_view_module_version": "1.5.0",
            "_view_name": "HTMLView",
            "description": "",
            "description_tooltip": null,
            "layout": "IPY_MODEL_34b8570175ce41fc80abbe68ff606da7",
            "placeholder": "​",
            "style": "IPY_MODEL_0b2db423c2b047a08991f3b2d62dba26",
            "value": "100%"
          }
        },
        "83c1d1153b0c41dba3a13f3ed65538af": {
          "model_module": "@jupyter-widgets/controls",
          "model_name": "FloatProgressModel",
          "model_module_version": "1.5.0",
          "state": {
            "_dom_classes": [],
            "_model_module": "@jupyter-widgets/controls",
            "_model_module_version": "1.5.0",
            "_model_name": "FloatProgressModel",
            "_view_count": null,
            "_view_module": "@jupyter-widgets/controls",
            "_view_module_version": "1.5.0",
            "_view_name": "ProgressView",
            "bar_style": "success",
            "description": "",
            "description_tooltip": null,
            "layout": "IPY_MODEL_25507a3e865b4429b261e61f2c71126b",
            "max": 10,
            "min": 0,
            "orientation": "horizontal",
            "style": "IPY_MODEL_fd356edae8c24edba5582408f79ceb10",
            "value": 10
          }
        },
        "7e32e6d5aae346d28cc726b04d692bb0": {
          "model_module": "@jupyter-widgets/controls",
          "model_name": "HTMLModel",
          "model_module_version": "1.5.0",
          "state": {
            "_dom_classes": [],
            "_model_module": "@jupyter-widgets/controls",
            "_model_module_version": "1.5.0",
            "_model_name": "HTMLModel",
            "_view_count": null,
            "_view_module": "@jupyter-widgets/controls",
            "_view_module_version": "1.5.0",
            "_view_name": "HTMLView",
            "description": "",
            "description_tooltip": null,
            "layout": "IPY_MODEL_58136de46902489fb6074edaa165e6e3",
            "placeholder": "​",
            "style": "IPY_MODEL_86c81ee594754a049b87f9c5462b4bf7",
            "value": " 10/10 [02:06&lt;00:00, 12.63s/it]"
          }
        },
        "e644c10eb6e941c0a57d0ea72b32fdc8": {
          "model_module": "@jupyter-widgets/base",
          "model_name": "LayoutModel",
          "model_module_version": "1.2.0",
          "state": {
            "_model_module": "@jupyter-widgets/base",
            "_model_module_version": "1.2.0",
            "_model_name": "LayoutModel",
            "_view_count": null,
            "_view_module": "@jupyter-widgets/base",
            "_view_module_version": "1.2.0",
            "_view_name": "LayoutView",
            "align_content": null,
            "align_items": null,
            "align_self": null,
            "border": null,
            "bottom": null,
            "display": null,
            "flex": null,
            "flex_flow": null,
            "grid_area": null,
            "grid_auto_columns": null,
            "grid_auto_flow": null,
            "grid_auto_rows": null,
            "grid_column": null,
            "grid_gap": null,
            "grid_row": null,
            "grid_template_areas": null,
            "grid_template_columns": null,
            "grid_template_rows": null,
            "height": null,
            "justify_content": null,
            "justify_items": null,
            "left": null,
            "margin": null,
            "max_height": null,
            "max_width": null,
            "min_height": null,
            "min_width": null,
            "object_fit": null,
            "object_position": null,
            "order": null,
            "overflow": null,
            "overflow_x": null,
            "overflow_y": null,
            "padding": null,
            "right": null,
            "top": null,
            "visibility": null,
            "width": null
          }
        },
        "34b8570175ce41fc80abbe68ff606da7": {
          "model_module": "@jupyter-widgets/base",
          "model_name": "LayoutModel",
          "model_module_version": "1.2.0",
          "state": {
            "_model_module": "@jupyter-widgets/base",
            "_model_module_version": "1.2.0",
            "_model_name": "LayoutModel",
            "_view_count": null,
            "_view_module": "@jupyter-widgets/base",
            "_view_module_version": "1.2.0",
            "_view_name": "LayoutView",
            "align_content": null,
            "align_items": null,
            "align_self": null,
            "border": null,
            "bottom": null,
            "display": null,
            "flex": null,
            "flex_flow": null,
            "grid_area": null,
            "grid_auto_columns": null,
            "grid_auto_flow": null,
            "grid_auto_rows": null,
            "grid_column": null,
            "grid_gap": null,
            "grid_row": null,
            "grid_template_areas": null,
            "grid_template_columns": null,
            "grid_template_rows": null,
            "height": null,
            "justify_content": null,
            "justify_items": null,
            "left": null,
            "margin": null,
            "max_height": null,
            "max_width": null,
            "min_height": null,
            "min_width": null,
            "object_fit": null,
            "object_position": null,
            "order": null,
            "overflow": null,
            "overflow_x": null,
            "overflow_y": null,
            "padding": null,
            "right": null,
            "top": null,
            "visibility": null,
            "width": null
          }
        },
        "0b2db423c2b047a08991f3b2d62dba26": {
          "model_module": "@jupyter-widgets/controls",
          "model_name": "DescriptionStyleModel",
          "model_module_version": "1.5.0",
          "state": {
            "_model_module": "@jupyter-widgets/controls",
            "_model_module_version": "1.5.0",
            "_model_name": "DescriptionStyleModel",
            "_view_count": null,
            "_view_module": "@jupyter-widgets/base",
            "_view_module_version": "1.2.0",
            "_view_name": "StyleView",
            "description_width": ""
          }
        },
        "25507a3e865b4429b261e61f2c71126b": {
          "model_module": "@jupyter-widgets/base",
          "model_name": "LayoutModel",
          "model_module_version": "1.2.0",
          "state": {
            "_model_module": "@jupyter-widgets/base",
            "_model_module_version": "1.2.0",
            "_model_name": "LayoutModel",
            "_view_count": null,
            "_view_module": "@jupyter-widgets/base",
            "_view_module_version": "1.2.0",
            "_view_name": "LayoutView",
            "align_content": null,
            "align_items": null,
            "align_self": null,
            "border": null,
            "bottom": null,
            "display": null,
            "flex": null,
            "flex_flow": null,
            "grid_area": null,
            "grid_auto_columns": null,
            "grid_auto_flow": null,
            "grid_auto_rows": null,
            "grid_column": null,
            "grid_gap": null,
            "grid_row": null,
            "grid_template_areas": null,
            "grid_template_columns": null,
            "grid_template_rows": null,
            "height": null,
            "justify_content": null,
            "justify_items": null,
            "left": null,
            "margin": null,
            "max_height": null,
            "max_width": null,
            "min_height": null,
            "min_width": null,
            "object_fit": null,
            "object_position": null,
            "order": null,
            "overflow": null,
            "overflow_x": null,
            "overflow_y": null,
            "padding": null,
            "right": null,
            "top": null,
            "visibility": null,
            "width": null
          }
        },
        "fd356edae8c24edba5582408f79ceb10": {
          "model_module": "@jupyter-widgets/controls",
          "model_name": "ProgressStyleModel",
          "model_module_version": "1.5.0",
          "state": {
            "_model_module": "@jupyter-widgets/controls",
            "_model_module_version": "1.5.0",
            "_model_name": "ProgressStyleModel",
            "_view_count": null,
            "_view_module": "@jupyter-widgets/base",
            "_view_module_version": "1.2.0",
            "_view_name": "StyleView",
            "bar_color": null,
            "description_width": ""
          }
        },
        "58136de46902489fb6074edaa165e6e3": {
          "model_module": "@jupyter-widgets/base",
          "model_name": "LayoutModel",
          "model_module_version": "1.2.0",
          "state": {
            "_model_module": "@jupyter-widgets/base",
            "_model_module_version": "1.2.0",
            "_model_name": "LayoutModel",
            "_view_count": null,
            "_view_module": "@jupyter-widgets/base",
            "_view_module_version": "1.2.0",
            "_view_name": "LayoutView",
            "align_content": null,
            "align_items": null,
            "align_self": null,
            "border": null,
            "bottom": null,
            "display": null,
            "flex": null,
            "flex_flow": null,
            "grid_area": null,
            "grid_auto_columns": null,
            "grid_auto_flow": null,
            "grid_auto_rows": null,
            "grid_column": null,
            "grid_gap": null,
            "grid_row": null,
            "grid_template_areas": null,
            "grid_template_columns": null,
            "grid_template_rows": null,
            "height": null,
            "justify_content": null,
            "justify_items": null,
            "left": null,
            "margin": null,
            "max_height": null,
            "max_width": null,
            "min_height": null,
            "min_width": null,
            "object_fit": null,
            "object_position": null,
            "order": null,
            "overflow": null,
            "overflow_x": null,
            "overflow_y": null,
            "padding": null,
            "right": null,
            "top": null,
            "visibility": null,
            "width": null
          }
        },
        "86c81ee594754a049b87f9c5462b4bf7": {
          "model_module": "@jupyter-widgets/controls",
          "model_name": "DescriptionStyleModel",
          "model_module_version": "1.5.0",
          "state": {
            "_model_module": "@jupyter-widgets/controls",
            "_model_module_version": "1.5.0",
            "_model_name": "DescriptionStyleModel",
            "_view_count": null,
            "_view_module": "@jupyter-widgets/base",
            "_view_module_version": "1.2.0",
            "_view_name": "StyleView",
            "description_width": ""
          }
        }
      }
    }
  },
  "cells": [
    {
      "cell_type": "code",
      "execution_count": 23,
      "metadata": {
        "id": "Is3Am9DWy7Qa"
      },
      "outputs": [],
      "source": [
        "!apt-get update > /dev/null 2>&1\n",
        "!pip install selenium > /dev/null 2>&1\n",
        "!apt install chromium-chromedriver > /dev/null 2>&1"
      ]
    },
    {
      "cell_type": "code",
      "source": [
        "import time\n",
        "from selenium import webdriver\n",
        "from selenium.webdriver.common.keys import Keys\n",
        "from selenium.webdriver.common.by import By"
      ],
      "metadata": {
        "id": "B3UCUv3BztSZ"
      },
      "execution_count": 1,
      "outputs": []
    },
    {
      "cell_type": "code",
      "source": [
        "options = webdriver.ChromeOptions()\n",
        "options.add_argument('--headless')   # 화면없이 실행\n",
        "options.add_argument('--no-sandbox')\n",
        "options.add_argument(\"--single-process\")\n",
        "options.add_argument(\"--disable-dev-shm-usage\")\n",
        "driver = webdriver.Chrome('chromedriver', options=options)"
      ],
      "metadata": {
        "id": "c_iVU0IMzvFM"
      },
      "execution_count": 2,
      "outputs": []
    },
    {
      "cell_type": "markdown",
      "source": [
        "# 1. 다나와 데이터 수집 1페이지 크롤링"
      ],
      "metadata": {
        "id": "3Nh8Aeu9I3Pp"
      }
    },
    {
      "cell_type": "code",
      "source": [
        "url = \"http://search.danawa.com/dsearch.php?query={무선청소기}&tab=main\" \n",
        "driver.get(url)"
      ],
      "metadata": {
        "id": "--7MZultzwYp"
      },
      "execution_count": 3,
      "outputs": []
    },
    {
      "cell_type": "markdown",
      "source": [
        "# 다나와 검색 웹페이지에서 상품정보 가져오기\n"
      ],
      "metadata": {
        "id": "0bvodI3ENL2t"
      }
    },
    {
      "cell_type": "code",
      "source": [
        "from bs4 import BeautifulSoup"
      ],
      "metadata": {
        "id": "l0otGk7ONDFs"
      },
      "execution_count": 4,
      "outputs": []
    },
    {
      "cell_type": "code",
      "source": [
        "html = driver.page_source"
      ],
      "metadata": {
        "id": "hkmSzP1zNZt6"
      },
      "execution_count": 5,
      "outputs": []
    },
    {
      "cell_type": "code",
      "source": [
        "soup = BeautifulSoup(html, 'html.parser')"
      ],
      "metadata": {
        "id": "Hrs0eGxwNeS3"
      },
      "execution_count": 6,
      "outputs": []
    },
    {
      "cell_type": "code",
      "source": [
        "# 무선청소기에 대한 정보 가져오기 1 방법\n",
        "prod_items = soup.select('li.prod_item') \n",
        "len(prod_items)"
      ],
      "metadata": {
        "colab": {
          "base_uri": "https://localhost:8080/"
        },
        "id": "rsaH5HWjNoJI",
        "outputId": "b46e855d-0eec-431b-958c-d6a650077042"
      },
      "execution_count": 7,
      "outputs": [
        {
          "output_type": "execute_result",
          "data": {
            "text/plain": [
              "44"
            ]
          },
          "metadata": {},
          "execution_count": 7
        }
      ]
    },
    {
      "cell_type": "code",
      "source": [
        "#무선청소기 세부정보 가져오기 2 방법\n",
        "prod_items = soup.select('ul.product_list > li.prod_item')\n",
        "len(prod_items)"
      ],
      "metadata": {
        "colab": {
          "base_uri": "https://localhost:8080/"
        },
        "id": "z90qrLNpOZpM",
        "outputId": "78c52f62-7dec-4c29-80f5-58394bc4b345"
      },
      "execution_count": 8,
      "outputs": [
        {
          "output_type": "execute_result",
          "data": {
            "text/plain": [
              "44"
            ]
          },
          "metadata": {},
          "execution_count": 8
        }
      ]
    },
    {
      "cell_type": "code",
      "source": [
        "title = prod_items[0].select('p.prod_name > a')[0].text.strip()\n",
        "print(title)"
      ],
      "metadata": {
        "colab": {
          "base_uri": "https://localhost:8080/"
        },
        "id": "zmlP3BqDPL9V",
        "outputId": "c5b24c18-4abe-4d28-e8c7-045a669605c6"
      },
      "execution_count": 9,
      "outputs": [
        {
          "output_type": "stream",
          "name": "stdout",
          "text": [
            "삼성전자 비스포크 제트 VS20A956A3\n"
          ]
        }
      ]
    },
    {
      "cell_type": "code",
      "source": [
        "# 스펙 목록 정보 가져오기\n",
        "spec_list = prod_items[0].select('div.spec_list')[0].text.replace('\\t', '').replace('\\n', '') \n",
        "print(spec_list)"
      ],
      "metadata": {
        "colab": {
          "base_uri": "https://localhost:8080/"
        },
        "id": "sFiIqH4CPjTo",
        "outputId": "a5602760-9459-4356-8eba-cb6f060d23fe"
      },
      "execution_count": 10,
      "outputs": [
        {
          "output_type": "stream",
          "name": "stdout",
          "text": [
            "핸디스틱청소기 / 무선형 / 흡입전용 / 흡입력: 210W / [구성] 바닥 / 솔형 / 틈새 / 연장툴 / 청정스테이션 / [배터리] 분리형 (1개) / 충전시간: 3시간30분 / 사용시간(개당): 1시간 / [성능] 디지털인버터모터 / 5단계여과 / [기능] 물걸레(별도구매) / 디스플레이표시창 / 자동물공급 / 배터리잔량표시 / 자동먼지비움 / [부가] 먼지통용량: 0.5L / 물통용량: 0.15L / 색상: 미드나잇블루 / 무게: 2.5kg / 액세서리크래들  / 크기(가로x세로x깊이): 250x930x202mm\n"
          ]
        }
      ]
    },
    {
      "cell_type": "code",
      "source": [
        "# 가격정보 가져오기\n",
        "price = prod_items[0].select('li.rank_one > p.price_sect > a > strong')[0].text.strip().replace(',', '')\n",
        "print(price)"
      ],
      "metadata": {
        "colab": {
          "base_uri": "https://localhost:8080/"
        },
        "id": "QNAuBzEeRGnt",
        "outputId": "3d0b2f05-ebbb-4eb3-acfa-8c05bae3b083"
      },
      "execution_count": 11,
      "outputs": [
        {
          "output_type": "stream",
          "name": "stdout",
          "text": [
            "458920\n"
          ]
        }
      ]
    },
    {
      "cell_type": "code",
      "source": [
        "# 1페이지에 대한 상품정보 추출\n",
        "prod_data = []\n",
        "for prod_item in prod_items:\n",
        "    # 공백 ('li.prod_itme.product-pot') 제외\n",
        "    if 'product-pot' in prod_item['class']:\n",
        "        continue\n",
        "    try:\n",
        "        title = prod_item.select('p.prod_name > a')[0].text.strip()\n",
        "        spec_list = prod_item.select('div.spec_list')[0].text.replace('\\t', '').replace('\\n', '')\n",
        "        price = prod_item.select('li.rank_one > p.price_sect > a > strong')[0].text.strip().replace(',', '')\n",
        "        prod_data.append([title, spec_list, price])\n",
        "    except:\n",
        "        pass\n",
        "print(len(prod_data))\n",
        "print(prod_data)"
      ],
      "metadata": {
        "colab": {
          "base_uri": "https://localhost:8080/"
        },
        "id": "dQcC86yPR_J8",
        "outputId": "427fec78-4c63-4885-c024-72168532ee34"
      },
      "execution_count": 12,
      "outputs": [
        {
          "output_type": "stream",
          "name": "stdout",
          "text": [
            "40\n",
            "[['삼성전자 비스포크 제트 VS20A956A3', '핸디스틱청소기 / 무선형 / 흡입전용 / 흡입력: 210W / [구성] 바닥 / 솔형 / 틈새 / 연장툴 / 청정스테이션 / [배터리] 분리형 (1개) / 충전시간: 3시간30분 / 사용시간(개당): 1시간 / [성능] 디지털인버터모터 / 5단계여과 / [기능] 물걸레(별도구매) / 디스플레이표시창 / 자동물공급 / 배터리잔량표시 / 자동먼지비움 / [부가] 먼지통용량: 0.5L / 물통용량: 0.15L / 색상: 미드나잇블루 / 무게: 2.5kg / 액세서리크래들  / 크기(가로x세로x깊이): 250x930x202mm', '458920'], ['베이스어스 차량용 청소기 A3 (해외구매)', '차량용청소기 / 무선 / 흡입력: 15,000Pa / 최대출력: 135W / 헤파필터 / 추가노즐: 틈새, 솔브러쉬 / LED라이트 / 사용시간: 45분 / 배터리 잔량표시 / 소음: 75dB / 충전방식: USB C타입 / 충전시간: 3~5시간 / 색상: 블랙, 실버 / 크기: 296x56.5mm', '48360'], ['LG전자 오브제컬렉션 코드제로 A9S AU9982', '핸디스틱청소기 / 무선형 / 흡입+물걸레겸용 / 흡입력: 220W / [구성] 와이드바닥 / 스팀물걸레 / 침구 / 솔형 / 틈새 / 올인원타워 / [배터리] 분리형 (2개) / 충전시간: 4시간 / 사용시간(개당): 1시간 / [성능] 스마트인버터모터 / 헤파필터 / 5단계여과 / [기능] IoT기능 / 디스플레이표시창 / 자동물공급 / LED라이트 / 자동먼지비움 / [부가] 색상: 카밍베이지 / 무게: 2.7kg / 크기(가로x세로x깊이): 300x1120x260mm', '1038980'], ['삼성전자 비스포크 제트 VS20B956AX', '핸디스틱청소기 / 무선형 / 흡입전용 / 흡입력: 220W / [구성] 바닥 / 솔형 / 틈새 / 연장툴 / 청정스테이션 / [배터리] 분리형 (1개) / 충전시간: 3시간30분 / 사용시간(개당): 1시간 / [성능] 디지털인버터모터 / 5단계여과 / [기능] 물걸레(별도구매) / IoT기능 / 디스플레이표시창 / 자동물공급 / LED라이트 / 배터리잔량표시 / 자동먼지비움 / [부가] 먼지통용량: 0.5L / 색상: 산토리니베이지 / 크기(가로x세로x깊이): 250x930x202mm', '539990'], ['샤오미 CLEANFLY 차량용 무선 청소기 4세대 H2 (해외구매)', '차량용청소기 / 무선 / 흡입력: 16,800Pa / 최대출력: 120W / 헤파필터 / 스테인리스 필터 / 추가노즐: 틈새, 솔브러쉬, 연장호스 / 사용시간: 30분 / 소음: 73.8dB / 충전방식: USB C타입 / 배터리용량: 2,000mAh / 색상: 블랙, 화이트 / 크기: 369x72mm / 무게: 560g', '63330'], ['일렉트로룩스 에르고라피도 ZB3512IG', '핸디스틱청소기 / 무선형 / 흡입전용 / [구성] 바닥 / 솔형 / 틈새 / 긴틈새 / [배터리] 내장형 / 충전시간: 4시간 / 사용시간(개당): 35분 / [성능] 4단계여과 / [기능] 셀프스탠딩 / LED라이트 / 배터리잔량표시 / [부가] 먼지통용량: 0.42L / 색상: 아이언그레이 / 무게: 2.5kg / 크기(가로x세로x깊이): 299x689x165mm', '160080'], ['LG전자 코드제로 A9S AT9200BA', '핸디스틱청소기 / 무선형 / 흡입전용 / 흡입력: 200W / [구성] 바닥 / 솔형 / 틈새 / 올인원타워 / [배터리] 분리형 (1개) / 충전시간: 4시간 / 사용시간(개당): 1시간 / [성능] 스마트인버터모터 / 분리형배기필터 / 헤파필터 / 5단계여과 / [기능] 물걸레(별도구매) / IoT기능 / 자동물공급 / 배터리잔량표시 / 자동먼지비움 / [부가] 색상: 블랙+딥그레이 / 무게: 2.6kg / 크기(가로x세로x깊이): 250x1120x260mm', '576860'], ['삼성전자 제트 VS20T92K3QD', '핸디스틱청소기 / 무선형 / 흡입전용 / 흡입력: 200W / [구성] 바닥 / 솔형 / 틈새 / 거치대 / 청정스테이션 / [배터리] 분리형 (1개) / 충전시간: 3시간30분 / 사용시간(개당): 1시간 / [성능] 인버터모터 / 헤파필터 / 5단계여과 / [기능] 물걸레(별도구매) / 디스플레이표시창 / 프리볼트 / [부가] 먼지통용량: 0.6L / 색상: 티탄/그레이 / 무게: 2.64kg / 크기(가로x세로x깊이): 250x1123x215mm', '359980'], ['삼성전자 비스포크 제트 VS20A956AVW', '핸디스틱청소기 / 무선형 / 흡입전용 / 흡입력: 210W / [구성] 바닥 / 솔형 / 틈새 / 청정스테이션 / [배터리] 분리형 (1개) / 충전시간: 3시간30분 / 사용시간(개당): 1시간 / [성능] 디지털인버터모터 / 5단계여과 / [기능] 물걸레(별도구매) / 디스플레이표시창 / 자동물공급 / 배터리잔량표시 / 자동먼지비움 / [부가] 먼지통용량: 0.5L / 색상: 미스티화이트 / 무게: 2.5kg / 크기(가로x세로x깊이): 250x930x202mm', '439070'], ['오아 클린듀얼 차량용 청소기 OCL-028BK', '차량용청소기 / 무선 / 흡입력: 15,000~Pa / 2중필터 / 헤파필터 / 추가노즐: 틈새, 솔브러쉬, 연장호스 / 사용시간: 25분 / 충전시간: 3.5시간 / 크기: 70x54x330mm / 무게 : 520g', '79000'], ['다이슨 V10 앱솔루트', '핸디스틱청소기 / 무선형 / 흡입전용 / [구성] 소프트롤러 / 다이렉트드라이브 / 미니모터 / 솔형 / 더스팅 / 틈새 / 도킹스테이션 / [배터리] 충전시간: 3시간30분 / 사용시간(개당): 1시간 / [기능] 프리볼트 / [부가] 색상: 블루, 코퍼, 블랙 / 무게: 2.5kg / 크기(가로x세로x깊이): 250x1241x256mm', '468880'], ['샤오미 드리미 V10', '핸디스틱청소기 / 무선형 / 흡입전용 / 흡입력: 140AW / 흡입력: 22000Pa / [구성] 바닥 / 침구 / 솔형 / 틈새 / 연장툴 / 거치대 / [배터리] 충전시간: 3시간30분 / 사용시간(개당): 1시간 / [성능] BLDC모터 / 헤파필터 / 5단계여과 / [부가] 먼지통용량: 0.5L / 색상: 화이트 / 무게: 1.5kg', '157730'], ['벤딕트 차량용 핸디 무선 청소기 VDT-031', '차량용청소기 / 무선 / 흡입력: 6,000~15,000Pa / 최대출력: 120W / 헤파필터 / 스테인리스 필터 / 추가노즐: 틈새, 솔브러쉬 / 사용시간: 18~50분 / 충전방식: USB C타입 / 배터리용량: 7,500mAh / 크기: 294x55x55mm / 무게: 500g', '87000'], ['LG전자 오브제컬렉션 코드제로 A9S AU9882', '핸디스틱청소기 / 무선형 / 흡입+물걸레겸용 / 흡입력: 220W / [구성] 와이드바닥 / 스팀물걸레 / 솔형 / 틈새 / 올인원타워 / [배터리] 분리형 (2개) / 충전시간: 4시간 / 사용시간(개당): 1시간 / [성능] 스마트인버터모터 / 헤파필터 / 5단계여과 / [기능] IoT기능 / 디스플레이표시창 / 자동물공급 / LED라이트 / 자동먼지비움 / [부가] 색상: 카밍베이지 / 무게: 2.7kg / 크기(가로x세로x깊이): 300x1120x260mm', '1035510'], ['삼성전자 비스포크 제트 VS20B957D4', '핸디스틱청소기 / 무선형 / 흡입+물걸레겸용 / 흡입력: 220W / [구성] 바닥 / 물걸레 / 솔형 / 틈새 / 청정스테이션 / [배터리] 분리형 (2개) / 충전시간: 3시간30분 / 사용시간(개당): 1시간 / [성능] 디지털인버터모터 / 5단계여과 / [기능] IoT기능 / 디스플레이표시창 / 자동물공급 / LED라이트 / 배터리잔량표시 / 자동먼지비움 / [부가] 먼지통용량: 0.5L / 색상: 페블그레이 / 크기(가로x세로x깊이): 250x930x202mm', '719780'], ['지엔앰주식회사 콜튼 차량용 무선 청소기 에어건 3세대 CT30', '차량용청소기 / 무선 / 흡입력: ~12,000Pa / 헤파필터 / 추가노즐: 틈새 / LED라이트 / 배터리: 7,200mAh /  충전시간: 2.5시간 / 배터리 잔량 표시 / BLDC모터 / 90,000RPM', '98000'], ['아이닉 NEW i20', '핸디스틱청소기 / 무선형 / 흡입전용 / 흡입력: 30000Pa / [구성] 바닥 / 침구 / 솔형 / 틈새 / [배터리] 분리형 (1개) / 충전시간: 5시간 / 사용시간(개당): 50분 / [성능] BLDC모터 / 헤파필터 / 5단계여과 / [기능] 물걸레(별도구매) / 배터리잔량표시 / [부가] 먼지통용량: 0.5L / 색상: 블랙 / 무게: 2.5kg / 크기(가로x세로x깊이): 241x1144x211mm', '179000'], ['다이슨 V10 플러피 오리진', '핸디스틱청소기 / 무선형 / 흡입전용 / 흡입력: 151AW / [구성] 소프트롤러 / 미니모터 / 솔형 / 더스팅 / 틈새 / 도킹스테이션 / [배터리] 충전시간: 3시간30분 / 사용시간(개당): 1시간 / [부가] 먼지통용량: 0.5L / 색상: 레드 / 무게: 2.5kg / 크기(가로x세로x깊이): 256x1241x250mm', '484930'], ['삼성전자 비스포크 제트 VS20B956D5', '핸디스틱청소기 / 무선형 / 흡입+물걸레겸용 / 흡입력: 220W / [구성] 바닥 / 물걸레 / 솔형 / 틈새 / 연장툴 / 청정스테이션 / [배터리] 분리형 (1개) / 충전시간: 3시간30분 / 사용시간(개당): 1시간 / [성능] 디지털인버터모터 / 5단계여과 / [기능] IoT기능 / 디스플레이표시창 / 자동물공급 / LED라이트 / 배터리잔량표시 / 자동먼지비움 / [부가] 먼지통용량: 0.5L / 색상: 산토리니베이지 / 크기(가로x세로x깊이): 250x930x202mm', '619510'], ['샤오미 LYDSTO 차량용 무선 청소기 H2 (해외구매)', '차량용청소기 / 무선 / 흡입력: 16,000Pa / 최대출력: 120W / 헤파필터 / 추가노즐: 틈새, 솔브러쉬 / 사용시간: 32분 / 소음: 85dB 미만 / 충전방식: USB C타입 / 색상: 블랙, 화이트 / 크기: 56x265mm', '38200'], ['삼성전자 비스포크 제트 VS20A957D2', '핸디스틱청소기 / 무선형 / 흡입+물걸레겸용 / 흡입력: 210W / [구성] 바닥 / 물걸레 / 솔형 / 틈새 / 청정스테이션 / [배터리] 분리형 (2개) / 충전시간: 3시간30분 / 사용시간(개당): 1시간 / [성능] 디지털인버터모터 / 5단계여과 / [기능] 디스플레이표시창 / 자동물공급 / 배터리잔량표시 / 자동먼지비움 / [부가] 먼지통용량: 0.5L / 색상: 미드나잇블루 / 무게: 2.5kg / 액세서리크래들  / 크기(가로x세로x깊이): 250x930x202mm', '608000'], ['샤오미 미지아 차량용 핸디 무선 청소기 (해외구매)', '차량용청소기 / 무선 / 흡입력: 13,000Pa / 최대출력: 120W / 헤파필터 / 추가노즐: 틈새, 솔브러쉬 / 사용시간: 9~30분 / 버튼 잠금 장치 / 2단 세기 조절 / 크기: 55x267mm / 무게: 500g', '36800'], ['LG전자 오브제컬렉션 코드제로 A9S AT9201WB', '핸디스틱청소기 / 무선형 / 흡입전용 / 흡입력: 210W / [구성] 바닥 / 솔형 / 틈새 / 올인원타워 / [배터리] 분리형 (1개) / 충전시간: 4시간 / 사용시간(개당): 1시간 / [성능] 스마트인버터모터 / 타공/분리형배기필터 / 헤파필터 / 5단계여과 / [기능] 물걸레(별도구매) / IoT기능 / 자동물공급 / 배터리잔량표시 / 자동먼지비움 / [부가] 색상: 카밍베이지 / 무게: 2.6kg / 크기(가로x세로x깊이): 250x1120x260mm', '671260'], ['LG전자 오브제컬렉션 코드제로 A9S AU9602WD', '핸디스틱청소기 / 무선형 / 흡입전용 / 흡입력: 220W / [구성] 와이드바닥 / 솔형 / 틈새 / 올인원타워 / [배터리] 분리형 (1개) / 충전시간: 4시간 / 사용시간(개당): 1시간 / [성능] 스마트인버터모터 / 헤파필터 / 5단계여과 / [기능] 물걸레(별도구매) / IoT기능 / 디스플레이표시창 / 자동물공급 / LED라이트 / 자동먼지비움 / [부가] 색상: 카밍베이지 / 무게: 2.7kg / 크기(가로x세로x깊이): 300x1120x260mm', '824780'], ['리하스 차량용 미니 무선 청소기 TEB-4120', '차량용청소기 / 무선 / 흡입력: 15,000Pa / 최대출력: 120W / 헤파필터 / 스테인리스 필터 / 추가노즐: 틈새, 솔브러쉬, 연장호스 / 사용시간: 15~28분 / 충전시간: 4~5시간 / 색상: 블랙, 스카이블루, 화이트 / 크기: 415mm / 무게: 520g', '78000'], ['로엘 듀스핀3 PRO', '물걸레청소기 / 회전식 / 물걸레전용 / 무선형 / [배터리] 충전시간: 4시간 / 사용시간(개당): 3시간 / [기능] 물분사 / 각도조절 / 셀프스탠딩 / [부가] 먼지통용량: 0.24L / 색상: 화이트 / 무게: 1.99kg / 자동세척탈수 / 크기(가로x세로x깊이): 360x1160x170mm', '179880'], ['삼성전자 비스포크 제트 VS20B957E5', '핸디스틱청소기 / 무선형 / 흡입+물걸레겸용 / 흡입력: 220W / [구성] 바닥 / 물걸레 / 침구 / 솔형 / 틈새 / 연장툴 / 청정스테이션 / [배터리] 분리형 (1개) / 충전시간: 3시간30분 / 사용시간(개당): 1시간 / [성능] 디지털인버터모터 / 5단계여과 / [기능] IoT기능 / 디스플레이표시창 / 자동물공급 / LED라이트 / 배터리잔량표시 / 자동먼지비움 / [부가] 먼지통용량: 0.5L / 색상: 산토리니베이지 / 크기(가로x세로x깊이): 250x930x202mm', '764810'], ['샤오미 미지아 차량용 핸디 무선 청소기', '차량용청소기 / 무선 / 흡입력: 13,000Pa / 최대출력: 120W / 헤파필터 / 추가노즐: 틈새, 솔브러쉬 / 사용시간: 9~30분 / 버튼 잠금 장치 / 2단 세기 조절 / 크기: 55x267mm / 무게: 500g', '48000'], ['삼성전자 비스포크 제트 VS20B956BUE', '핸디스틱청소기 / 무선형 / 흡입전용 / 흡입력: 220W / [구성] 바닥 / 침구 / 솔형 / 틈새 / 연장툴 / 청정스테이션 / [배터리] 분리형 (1개) / 충전시간: 3시간30분 / 사용시간(개당): 1시간 / [성능] 디지털인버터모터 / 5단계여과 / [기능] 물걸레(별도구매) / IoT기능 / 디스플레이표시창 / 자동물공급 / LED라이트 / 배터리잔량표시 / 자동먼지비움 / [부가] 먼지통용량: 0.5L / 색상: 산토리니베이지 / 크기(가로x세로x깊이): 250x930x202mm', '565730'], ['LG전자 오브제컬렉션 코드제로 A9S AO9571', '핸디스틱청소기 / 무선형 / 흡입+물걸레겸용 / 흡입력: 210W / [구성] 바닥 / 물걸레 / 침구 / 솔형 / 틈새 / 올인원타워 / [배터리] 분리형 (2개) / 충전시간: 4시간 / 사용시간(개당): 1시간 / [성능] 스마트인버터모터 / 분리형배기필터 / 헤파필터 / 5단계여과 / [기능] IoT기능 / 자동물공급 / 배터리잔량표시 / 자동먼지비움 / [부가] 색상: 카밍베이지 / 무게: 2.6kg / 크기(가로x세로x깊이): 250x1120x260mm / 출시가: 1,650,000원', '928800'], ['다이슨 Gen5 디텍트™ 컴플리트', '핸디스틱청소기 / 무선형 / 흡입전용 / 흡입력: 262AW / [구성] 플러피옵틱클리너 / 헤어스크류 / 미니모터 / 긴틈새 / 거치대 / [배터리] 분리형 (1개) / 충전시간: 4시간30 / 사용시간(개당): 1시간10분 / [성능] 헤파필터 / [기능] 디스플레이표시창 / 먼지감지센서 / [부가] 먼지통용량: 0.77L / 색상: 퍼플/퍼플 / 무게: 3.5kg / 크기(가로x세로x깊이): 276x1276x250mm', '1320150'], ['LG전자 코드제로 A9S AS9271', '핸디스틱청소기 / 무선형 / 흡입+물걸레겸용 / 흡입력: 210W / [구성] 바닥 / 물걸레 / 솔형 / 틈새 / 거치대 / [배터리] 분리형 (1개) / 충전시간: 4시간 / 사용시간(개당): 1시간 / [성능] 스마트인버터모터 / 분리형배기필터 / 헤파필터 / 5단계여과 / [기능] IoT기능 / 자동물공급 / 배터리잔량표시 / 자동먼지비움 / [부가] 색상: 아이언그레이 / 무게: 2.6kg / 크기(가로x세로x깊이): 250x1120x260mm', '573140'], ['오토코스 차량용 프리미엄 무선 청소기 H2', '차량용청소기 / 무선 / 12V / 흡입력: 20,000Pa / 최대출력: 150W / 2중필터 / 추가노즐: 틈새, 솔브러쉬 / LED라이트 / 사용시간: 30분 / 무게: 530g', '88170'], ['LG전자 코드제로 A9S AT9271', '핸디스틱청소기 / 무선형 / 흡입+물걸레겸용 / 흡입력: 210W / [구성] 바닥 / 물걸레 / 솔형 / 틈새 / 올인원타워 / [배터리] 분리형 (1개) / 충전시간: 4시간 / 사용시간(개당): 1시간 / [성능] 스마트인버터모터 / 분리형배기필터 / 헤파필터 / 5단계여과 / [기능] IoT기능 / 자동물공급 / 배터리잔량표시 / 자동먼지비움 / [부가] 색상: 아이언그레+딥그레이 / 무게: 2.6kg / 크기(가로x세로x깊이): 250x1120x260mm', '691080'], ['샤오미 SHUNZAO 차량용 무선청소기 2세대 Z1 (해외구매)', '차량용청소기 / 무선 / 흡입력: 7,000Pa / 최대출력: 90W / 2중필터 / 추가노즐: 틈새, 솔브러쉬 / LED라이트 / 사용시간: 30분 / 충전방식: USB C타입 / 충전시간: 2시간30분 / 크기: 73x76x336mm / 무게: 700g', '25900'], ['시프이컴 핸디형 차량용 무선 청소기 DK-X112', '차량용청소기 / 무선 / 흡입력: 5200Pa / 추가노즐: 솔브러쉬, 연장호스 / 사용시간: 22분 / 크기: 277x72mm / 무게: 560g', '39900'], ['다이슨 V12 디텍트 슬림 컴플리트', '핸디스틱청소기 / 무선형 / 흡입전용 / 흡입력: 150AW / [구성] 레이저슬림플러피 / 다이렉트드라이브 / 헤어스크류 / 솔형 / 더스팅 / 스터번더트 / 틈새 / 거치대 / 도킹스테이션 / [배터리] 분리형 (1개) / 충전시간: 3시간30분 / 사용시간(개당): 1시간 / [성능] 헤파필터 / [기능] 디스플레이표시창 / 먼지감지센서 / [부가] 먼지통용량: 0.35L / 색상: 옐로우/아이언/니켈, 골드/골드 / 무게: 2.2kg / 크기(가로x세로x깊이): 250x1095x251mm', '870300'], ['LG전자 오브제컬렉션 코드제로 A9S AU9972', '핸디스틱청소기 / 무선형 / 흡입+물걸레겸용 / 흡입력: 220W / [구성] 와이드바닥 / 물걸레 / 침구 / 솔형 / 틈새 / 올인원타워 / [배터리] 분리형 (2개) / 충전시간: 4시간 / 사용시간(개당): 1시간 / [성능] 스마트인버터모터 / 헤파필터 / 5단계여과 / [기능] IoT기능 / 디스플레이표시창 / 자동물공급 / LED라이트 / 자동먼지비움 / [부가] 색상: 카밍베이지 / 무게: 2.7kg / 크기(가로x세로x깊이): 300x1120x260mm', '1108360'], ['LG전자 코드제로 A9S AS9200BA', '핸디스틱청소기 / 무선형 / 흡입전용 / 흡입력: 200W / [구성] 바닥 / 솔형 / 틈새 / 거치대 / [배터리] 분리형 (1개) / 충전시간: 4시간 / 사용시간(개당): 1시간 / [성능] 스마트인버터모터 / 5단계여과 / [기능] 물걸레(별도구매) / IoT기능 / 디스플레이표시창 / 배터리잔량표시 / [부가] 색상: 블랙 / 무게: 2.6kg / 크기(가로x세로x깊이): 250x1120x260mm', '521330'], ['일렉트로룩스 WELL Q6 WQ61-1EDB', '핸디스틱청소기 / 무선형 / 흡입전용 / [구성] 바닥 / 솔형 / 더스팅 / 긴틈새 / 거치대 / [배터리] 내장형 / 충전시간: 4시간30분 / 사용시간(개당): 45분 / [성능] 5단계여과 / [기능] 브러쉬자동청소 / 셀프스탠딩 / LED라이트 / 배터리잔량표시 / [부가] 먼지통용량: 0.3L / 색상: 데님블루 / 무게: 2.65kg / 크기(가로x세로x깊이): 258x1105x140mm', '179200']]\n"
          ]
        }
      ]
    },
    {
      "cell_type": "code",
      "source": [
        "# 상품 정보 태그에서 원하는 정보를 추출하는 함수\n",
        "def get_prod_items(prod_items):\n",
        "    prod_data = []\n",
        "    for prod_item in prod_items:\n",
        "        # 공백 ('li.prod_itme.product-pot') 제외\n",
        "        if 'product-pot' in prod_item['class']:\n",
        "            continue\n",
        "        try:\n",
        "            title = prod_item.select('p.prod_name > a')[0].text.strip()\n",
        "            spec_list = prod_item.select('div.spec_list')[0].text.replace('\\t', '').replace('\\n', '')\n",
        "            price = prod_item.select('li.rank_one > p.price_sect > a > strong')[0].text.strip().replace(',', '')\n",
        "            prod_data.append([title, spec_list, price])\n",
        "        except:\n",
        "            pass\n",
        "    return prod_data"
      ],
      "metadata": {
        "id": "FDuTZ88dTfp1"
      },
      "execution_count": 13,
      "outputs": []
    },
    {
      "cell_type": "code",
      "source": [
        "# 상품 정보를 가져오는 함수 테스트\n",
        "prod_items = soup.select('div.main_prodlist > ul.product_list > li.prod_item')\n",
        "prod_data = get_prod_items(prod_items)\n",
        "print(len(prod_data))"
      ],
      "metadata": {
        "colab": {
          "base_uri": "https://localhost:8080/"
        },
        "id": "UNcS4cESUR1U",
        "outputId": "c273d8dc-e9cd-40a0-94eb-e7c7d0afec70"
      },
      "execution_count": 14,
      "outputs": [
        {
          "output_type": "stream",
          "name": "stdout",
          "text": [
            "40\n"
          ]
        }
      ]
    },
    {
      "cell_type": "markdown",
      "source": [
        "# 2.여러페이지에 걸친 다나와 검색 페이지 크롤링"
      ],
      "metadata": {
        "id": "OT1PnJIbU7hG"
      }
    },
    {
      "cell_type": "code",
      "source": [
        "# 다나와 검색 URL을 만들어 주는 함수\n",
        "def get_search_page_url(keyword, page):\n",
        "    return 'http://search.danawa.com/dsearch.php?query={}&volumeType=allvs&page={}&limit=30&sort=saveDESC&list=list&boost=true&addDelivery=N&tab=goods&tab=goods'.format(keyword, page)\n",
        "keyword = '무선청소기'\n",
        "page =1 \n",
        "url = get_search_page_url(keyword, page) \n",
        "print(url)   "
      ],
      "metadata": {
        "colab": {
          "base_uri": "https://localhost:8080/"
        },
        "id": "ofDS1eu8Ul_D",
        "outputId": "51986679-d3e1-41ce-a0e2-51c5f5f43c68"
      },
      "execution_count": 15,
      "outputs": [
        {
          "output_type": "stream",
          "name": "stdout",
          "text": [
            "http://search.danawa.com/dsearch.php?query=무선청소기&volumeType=allvs&page=1&limit=30&sort=saveDESC&list=list&boost=true&addDelivery=N&tab=goods&tab=goods\n"
          ]
        }
      ]
    },
    {
      "cell_type": "code",
      "source": [
        "import time\n",
        "from tqdm.notebook import tqdm"
      ],
      "metadata": {
        "id": "AksdekAvWuUu"
      },
      "execution_count": 16,
      "outputs": []
    },
    {
      "cell_type": "code",
      "source": [
        "keyword = '무선청소기'\n",
        "total_page = 10\n",
        "prod_data_total = []\n",
        "for page in tqdm(range(1, total_page +1)):\n",
        "    url = get_search_page_url(keyword, page)\n",
        "    driver.get(url)\n",
        "    time.sleep(5)\n",
        "\n",
        "    html = driver.page_source\n",
        "    soup = BeautifulSoup(html, 'html.parser')\n",
        "\n",
        "    #상품정보 추출\n",
        "    prod_items = soup.select('div#productListArea > div.main_prodlist > ul.product_list > li.prod_item')\n",
        "    prod_item_list = get_prod_items(prod_items)\n",
        "\n",
        "    #추출한 데이터 저장\n",
        "    prod_data_total = prod_data_total + prod_item_list\n"
      ],
      "metadata": {
        "colab": {
          "base_uri": "https://localhost:8080/",
          "height": 49,
          "referenced_widgets": [
            "18fae40211aa4d4981cc5e3575f01c8f",
            "9165543099854c80a19f3dc936cebdee",
            "83c1d1153b0c41dba3a13f3ed65538af",
            "7e32e6d5aae346d28cc726b04d692bb0",
            "e644c10eb6e941c0a57d0ea72b32fdc8",
            "34b8570175ce41fc80abbe68ff606da7",
            "0b2db423c2b047a08991f3b2d62dba26",
            "25507a3e865b4429b261e61f2c71126b",
            "fd356edae8c24edba5582408f79ceb10",
            "58136de46902489fb6074edaa165e6e3",
            "86c81ee594754a049b87f9c5462b4bf7"
          ]
        },
        "id": "w2bQ30kCW9XB",
        "outputId": "69e6c271-a4ea-42ff-a44c-2bb6cb9d2c63"
      },
      "execution_count": 17,
      "outputs": [
        {
          "output_type": "display_data",
          "data": {
            "text/plain": [
              "  0%|          | 0/10 [00:00<?, ?it/s]"
            ],
            "application/vnd.jupyter.widget-view+json": {
              "version_major": 2,
              "version_minor": 0,
              "model_id": "18fae40211aa4d4981cc5e3575f01c8f"
            }
          },
          "metadata": {}
        }
      ]
    },
    {
      "cell_type": "markdown",
      "source": [
        "# 3.수집한 데이터 저장"
      ],
      "metadata": {
        "id": "70AryC-WcjXF"
      }
    },
    {
      "cell_type": "code",
      "source": [
        "import pandas as pd\n",
        "df = pd.DataFrame(prod_data_total)\n",
        "df.columns = ['상품명', '스펙 목록', '가격']\n",
        "df.to_csv('danawa_crawling_result.csv', index=False)"
      ],
      "metadata": {
        "id": "pUwAuXF7cayV"
      },
      "execution_count": 19,
      "outputs": []
    },
    {
      "cell_type": "code",
      "source": [],
      "metadata": {
        "id": "gyJIs0h5dC5Q"
      },
      "execution_count": 18,
      "outputs": []
    }
  ]
}