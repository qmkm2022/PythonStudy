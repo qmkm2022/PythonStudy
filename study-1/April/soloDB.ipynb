{
 "cells": [
  {
   "cell_type": "code",
   "execution_count": 1,
   "id": "8c5da745",
   "metadata": {},
   "outputs": [],
   "source": [
    "import pymysql"
   ]
  },
  {
   "cell_type": "code",
   "execution_count": 2,
   "id": "461ef57d",
   "metadata": {},
   "outputs": [],
   "source": [
    "conn, cur = None, None\n",
    "data1, data2, data3, data4 = \"\", \"\", \"\", \"\"\n",
    "sql=\"\""
   ]
  },
  {
   "cell_type": "code",
   "execution_count": 3,
   "id": "e48a7b98",
   "metadata": {
    "scrolled": true
   },
   "outputs": [],
   "source": [
    "# 기본포트가 아닌 임의의 포트 설정시 포트 오류가 발생함.\n",
    "# 포트번호를 3306이 아닌 임의로 설정시 꼭 port=설정번호 를 적어서 오류를 방지\n",
    "conn = pymysql.connect(host='127.0.0.1', port=3309, user='root', password='0000', db='solodb', charset='utf8')\n",
    "cur = conn.cursor()"
   ]
  },
  {
   "cell_type": "code",
   "execution_count": 21,
   "id": "c40cab23",
   "metadata": {},
   "outputs": [
    {
     "data": {
      "text/plain": [
       "0"
      ]
     },
     "execution_count": 21,
     "metadata": {},
     "output_type": "execute_result"
    }
   ],
   "source": [
    "cur.execute(\"CREATE TABLE userTable (id char(4), userName char(15), email char(20), birthYear int)\")"
   ]
  },
  {
   "cell_type": "code",
   "execution_count": 22,
   "id": "c1e9830d",
   "metadata": {},
   "outputs": [
    {
     "data": {
      "text/plain": [
       "1"
      ]
     },
     "execution_count": 22,
     "metadata": {},
     "output_type": "execute_result"
    }
   ],
   "source": [
    "cur.execute(\"INSERT INTO userTable VALUES( 'hong' , '홍지윤' , 'hong@naver.com', 1996)\")\n",
    "cur.execute(\"INSERT INTO userTable VALUES( 'star' , '별사랑' , 'star@paran.com', 1990)\")\n",
    "cur.execute(\"INSERT INTO userTable VALUES( 'yang' , '양지은' , 'yang@gmail.com', 1993)\")\n",
    "cur.execute(\"INSERT INTO userTable VALUES( 'kim' , '김태연' , 'kim@daum.net', 2011)\")"
   ]
  },
  {
   "cell_type": "code",
   "execution_count": 24,
   "id": "603d8170",
   "metadata": {},
   "outputs": [],
   "source": [
    "conn.close()"
   ]
  },
  {
   "cell_type": "code",
   "execution_count": 4,
   "id": "54c835eb",
   "metadata": {},
   "outputs": [],
   "source": [
    "from tkinter import *"
   ]
  },
  {
   "cell_type": "code",
   "execution_count": 5,
   "id": "b264a7e8",
   "metadata": {},
   "outputs": [],
   "source": [
    "root = Tk()"
   ]
  },
  {
   "cell_type": "code",
   "execution_count": null,
   "id": "76a05da7",
   "metadata": {},
   "outputs": [],
   "source": [
    "# code 8-7\n",
    "\n",
    "button1 = Button(root, text=\"혼공1\")\n",
    "button2 = Button(root, text=\"혼공2\")\n",
    "button3 = Button(root, text=\"혼공3\")\n",
    "\n",
    "button1.pack(side=TOP, fill=X, padx=10, pady=10)\n",
    "button2.pack(side=TOP, fill=X, padx=10, pady=10)\n",
    "button3.pack(side=TOP, fill=X, padx=10, pady=10)\n",
    "\n",
    "root.mainloop()\n"
   ]
  },
  {
   "cell_type": "code",
   "execution_count": 6,
   "id": "8fb7f425",
   "metadata": {},
   "outputs": [],
   "source": [
    "# code 8-8\n",
    "\n",
    "root.geometry(\"200x250\")\n",
    "\n",
    "upFrame = Frame(root)\n",
    "upFrame.pack()\n",
    "downFrame = Frame(root)\n",
    "downFrame.pack()\n",
    "\n",
    "editBox = Entry(upFrame, width = 10, )\n",
    "editBox.pack(padx = 20, pady = 20)\n",
    "\n",
    "listbox = Listbox(downFrame, bg = 'yellow');\n",
    "listbox.pack()\n",
    "\n",
    "listbox.insert(END, \"하나\")\n",
    "listbox.insert(END, \"둘\")\n",
    "listbox.insert(END, \"셋\")\n",
    "\n",
    "root.mainloop()"
   ]
  },
  {
   "cell_type": "code",
   "execution_count": null,
   "id": "2934aa0d",
   "metadata": {},
   "outputs": [],
   "source": [
    "# code 8-9"
   ]
  }
 ],
 "metadata": {
  "kernelspec": {
   "display_name": "Python 3 (ipykernel)",
   "language": "python",
   "name": "python3"
  },
  "language_info": {
   "codemirror_mode": {
    "name": "ipython",
    "version": 3
   },
   "file_extension": ".py",
   "mimetype": "text/x-python",
   "name": "python",
   "nbconvert_exporter": "python",
   "pygments_lexer": "ipython3",
   "version": "3.8.7"
  }
 },
 "nbformat": 4,
 "nbformat_minor": 5
}
