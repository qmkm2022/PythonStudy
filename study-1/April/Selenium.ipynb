{
 "cells": [
  {
   "cell_type": "code",
   "execution_count": 4,
   "id": "a58432c6",
   "metadata": {},
   "outputs": [],
   "source": [
    "import requests\n",
    "from bs4 import BeautifulSoup"
   ]
  },
  {
   "cell_type": "code",
   "execution_count": 5,
   "id": "cc69e075",
   "metadata": {},
   "outputs": [],
   "source": [
    "# 동적인 데이터를 입력하고 결과를 얻기 힘듬\n",
    "url = 'https://www.google.co.kr'\n",
    "req = requests.get(url)\n",
    "soup = BeautifulSoup(req.text, 'html.parser')"
   ]
  },
  {
   "cell_type": "markdown",
   "id": "6700eb27",
   "metadata": {},
   "source": [
    "# Selenium 활용"
   ]
  },
  {
   "cell_type": "code",
   "execution_count": 6,
   "id": "5b495e7f",
   "metadata": {},
   "outputs": [],
   "source": [
    "import time\n",
    "from selenium import webdriver\n",
    "from selenium.webdriver.common.keys import Keys\n",
    "from selenium.webdriver.common.by import By\n",
    "import pandas as pd"
   ]
  },
  {
   "cell_type": "code",
   "execution_count": 7,
   "id": "0bde6221",
   "metadata": {},
   "outputs": [],
   "source": [
    "driver = webdriver.Chrome()\n",
    "driver.get(url)"
   ]
  },
  {
   "cell_type": "code",
   "execution_count": 8,
   "id": "41c4322e",
   "metadata": {},
   "outputs": [],
   "source": [
    "search_box = driver.find_element(by=By.NAME, value='q')\n",
    "search_box.send_keys(\"chromdriver\")\n",
    "search_box.send_keys(Keys.ENTER)\n",
    "time.sleep(2)"
   ]
  },
  {
   "cell_type": "code",
   "execution_count": 12,
   "id": "0111014c",
   "metadata": {},
   "outputs": [
    {
     "data": {
      "text/plain": [
       "[<selenium.webdriver.remote.webelement.WebElement (session=\"16d9f03540cf7b947da6b7b754bf90c2\", element=\"3f6cf21d-35f1-48c9-a0cd-32cfa7f0b6f0\")>,\n",
       " <selenium.webdriver.remote.webelement.WebElement (session=\"16d9f03540cf7b947da6b7b754bf90c2\", element=\"ce5a7cb1-d4ad-4620-b96e-2271ad437113\")>,\n",
       " <selenium.webdriver.remote.webelement.WebElement (session=\"16d9f03540cf7b947da6b7b754bf90c2\", element=\"3893849b-9edc-4a56-9e9a-860bd606bb0c\")>,\n",
       " <selenium.webdriver.remote.webelement.WebElement (session=\"16d9f03540cf7b947da6b7b754bf90c2\", element=\"0265e066-9117-4745-af30-912beb090fae\")>,\n",
       " <selenium.webdriver.remote.webelement.WebElement (session=\"16d9f03540cf7b947da6b7b754bf90c2\", element=\"c6b36fad-ca2f-44bd-8a82-d3f5c0bd3904\")>,\n",
       " <selenium.webdriver.remote.webelement.WebElement (session=\"16d9f03540cf7b947da6b7b754bf90c2\", element=\"2b0dc81b-90b6-405a-85bd-f70c73952612\")>,\n",
       " <selenium.webdriver.remote.webelement.WebElement (session=\"16d9f03540cf7b947da6b7b754bf90c2\", element=\"adf4c905-794d-4c0b-970d-17c1554b7625\")>,\n",
       " <selenium.webdriver.remote.webelement.WebElement (session=\"16d9f03540cf7b947da6b7b754bf90c2\", element=\"054e2917-0624-42ab-8507-89bc689710df\")>,\n",
       " <selenium.webdriver.remote.webelement.WebElement (session=\"16d9f03540cf7b947da6b7b754bf90c2\", element=\"0a389380-0690-4e9c-9168-27c1257cf21a\")>]"
      ]
     },
     "execution_count": 12,
     "metadata": {},
     "output_type": "execute_result"
    }
   ],
   "source": [
    "divs = driver.find_elements(by=By.CSS_SELECTOR, value='#search .g')\n",
    "divs"
   ]
  },
  {
   "cell_type": "code",
   "execution_count": 13,
   "id": "b711202a",
   "metadata": {},
   "outputs": [
    {
     "name": "stdout",
     "output_type": "stream",
     "text": [
      "<selenium.webdriver.remote.webelement.WebElement (session=\"16d9f03540cf7b947da6b7b754bf90c2\", element=\"3f6cf21d-35f1-48c9-a0cd-32cfa7f0b6f0\")>\n"
     ]
    }
   ],
   "source": [
    "div = divs[0]\n",
    "print(div)"
   ]
  },
  {
   "cell_type": "code",
   "execution_count": 11,
   "id": "b4854e6c",
   "metadata": {},
   "outputs": [
    {
     "data": {
      "text/plain": [
       "'WebDriver for Chrome - Downloads'"
      ]
     },
     "execution_count": 11,
     "metadata": {},
     "output_type": "execute_result"
    }
   ],
   "source": [
    "title = div.find_element(By.CSS_SELECTOR, '.LC20lb.MBeuO.DKV0Md').text\n",
    "title"
   ]
  },
  {
   "cell_type": "code",
   "execution_count": 15,
   "id": "605968be",
   "metadata": {},
   "outputs": [
    {
     "data": {
      "text/plain": [
       "'If you are using Chrome version 111, please download ChromeDriver 111.0.5563.64. For older version of Chrome, please see below for the version of ...'"
      ]
     },
     "execution_count": 15,
     "metadata": {},
     "output_type": "execute_result"
    }
   ],
   "source": [
    "content = div.find_element(By.CSS_SELECTOR, '.VwiC3b.yXK7lf.MUxGbd ').text.strip()\n",
    "content"
   ]
  },
  {
   "cell_type": "code",
   "execution_count": 16,
   "id": "632cc06e",
   "metadata": {},
   "outputs": [],
   "source": [
    "lines = []\n",
    "for div in divs:\n",
    "    try:\n",
    "        title = div.find_element(By.CSS_SELECTOR, '.LC20lb.MBeuO.DKV0Md').text\n",
    "        content = div.find_element(By.CSS_SELECTOR, '.VwiC3b.yXK7lf.MUxGbd ').text.strip()\n",
    "    except:\n",
    "        continue\n",
    "    lines.append([title, content])"
   ]
  },
  {
   "cell_type": "code",
   "execution_count": 18,
   "id": "2ca6efa3",
   "metadata": {},
   "outputs": [
    {
     "data": {
      "text/html": [
       "<div>\n",
       "<style scoped>\n",
       "    .dataframe tbody tr th:only-of-type {\n",
       "        vertical-align: middle;\n",
       "    }\n",
       "\n",
       "    .dataframe tbody tr th {\n",
       "        vertical-align: top;\n",
       "    }\n",
       "\n",
       "    .dataframe thead th {\n",
       "        text-align: right;\n",
       "    }\n",
       "</style>\n",
       "<table border=\"1\" class=\"dataframe\">\n",
       "  <thead>\n",
       "    <tr style=\"text-align: right;\">\n",
       "      <th></th>\n",
       "      <th>제목</th>\n",
       "      <th>내용</th>\n",
       "    </tr>\n",
       "  </thead>\n",
       "  <tbody>\n",
       "    <tr>\n",
       "      <th>0</th>\n",
       "      <td>WebDriver for Chrome - Downloads</td>\n",
       "      <td>If you are using Chrome version 111, please do...</td>\n",
       "    </tr>\n",
       "    <tr>\n",
       "      <th>1</th>\n",
       "      <td>Chromedriver 다운로드 및 설치하는 법 - 코딩으로 자아실현</td>\n",
       "      <td>2021. 9. 25. — 여기서는 Chrome의 Webdriver인 Chromed...</td>\n",
       "    </tr>\n",
       "    <tr>\n",
       "      <th>2</th>\n",
       "      <td>Selenium으로 무적 크롤러 만들기</td>\n",
       "      <td>2017. 2. 27. — zip파일을 받고 풀어주면 chromedriver 라는 ...</td>\n",
       "    </tr>\n",
       "    <tr>\n",
       "      <th>3</th>\n",
       "      <td>selenium) 설치하기! chromedriver 버전 오류 해결하기</td>\n",
       "      <td>2019. 5. 17. — 압축을 푸시면 chromedriver.exe (맥의 경우...</td>\n",
       "    </tr>\n",
       "    <tr>\n",
       "      <th>4</th>\n",
       "      <td>[Python] Selenium 사용법, ChromeDriver 설치 방법 - ia...</td>\n",
       "      <td>2020. 2. 22. — Selenium이란?! · = 즉 자동화를 이용해서 여러...</td>\n",
       "    </tr>\n",
       "    <tr>\n",
       "      <th>5</th>\n",
       "      <td>크롬드라이버(Chrome Driver) 설치, 다운로드 - 시골쥐의 공부생활</td>\n",
       "      <td>2021. 7. 6. — 크롬드라이버 다운로드 사이트 접속 https://chrom...</td>\n",
       "    </tr>\n",
       "    <tr>\n",
       "      <th>6</th>\n",
       "      <td>ChromeDriver</td>\n",
       "      <td>chromedriver false 100.0.4896.20/chromedriver_...</td>\n",
       "    </tr>\n",
       "    <tr>\n",
       "      <th>7</th>\n",
       "      <td>3분 안에 해결하는 크롬 드라이버 버전 오류 - Unlimited</td>\n",
       "      <td>2022. 5. 18. — SessionNotCreatedException: Mes...</td>\n",
       "    </tr>\n",
       "    <tr>\n",
       "      <th>8</th>\n",
       "      <td>How to run Selenium tests on Chrome using Chro...</td>\n",
       "      <td>2023. 3. 20. — To execute tests in the Chrome ...</td>\n",
       "    </tr>\n",
       "  </tbody>\n",
       "</table>\n",
       "</div>"
      ],
      "text/plain": [
       "                                                  제목  \\\n",
       "0                   WebDriver for Chrome - Downloads   \n",
       "1             Chromedriver 다운로드 및 설치하는 법 - 코딩으로 자아실현   \n",
       "2                              Selenium으로 무적 크롤러 만들기   \n",
       "3            selenium) 설치하기! chromedriver 버전 오류 해결하기   \n",
       "4  [Python] Selenium 사용법, ChromeDriver 설치 방법 - ia...   \n",
       "5         크롬드라이버(Chrome Driver) 설치, 다운로드 - 시골쥐의 공부생활   \n",
       "6                                       ChromeDriver   \n",
       "7               3분 안에 해결하는 크롬 드라이버 버전 오류 - Unlimited   \n",
       "8  How to run Selenium tests on Chrome using Chro...   \n",
       "\n",
       "                                                  내용  \n",
       "0  If you are using Chrome version 111, please do...  \n",
       "1  2021. 9. 25. — 여기서는 Chrome의 Webdriver인 Chromed...  \n",
       "2  2017. 2. 27. — zip파일을 받고 풀어주면 chromedriver 라는 ...  \n",
       "3  2019. 5. 17. — 압축을 푸시면 chromedriver.exe (맥의 경우...  \n",
       "4  2020. 2. 22. — Selenium이란?! · = 즉 자동화를 이용해서 여러...  \n",
       "5  2021. 7. 6. — 크롬드라이버 다운로드 사이트 접속 https://chrom...  \n",
       "6  chromedriver false 100.0.4896.20/chromedriver_...  \n",
       "7  2022. 5. 18. — SessionNotCreatedException: Mes...  \n",
       "8  2023. 3. 20. — To execute tests in the Chrome ...  "
      ]
     },
     "execution_count": 18,
     "metadata": {},
     "output_type": "execute_result"
    }
   ],
   "source": [
    "df = pd.DataFrame(lines, columns=['제목', '내용'])\n",
    "df"
   ]
  },
  {
   "cell_type": "code",
   "execution_count": 19,
   "id": "5d5d81f4",
   "metadata": {},
   "outputs": [],
   "source": [
    "driver.close()"
   ]
  }
 ],
 "metadata": {
  "kernelspec": {
   "display_name": "Python 3 (ipykernel)",
   "language": "python",
   "name": "python3"
  },
  "language_info": {
   "codemirror_mode": {
    "name": "ipython",
    "version": 3
   },
   "file_extension": ".py",
   "mimetype": "text/x-python",
   "name": "python",
   "nbconvert_exporter": "python",
   "pygments_lexer": "ipython3",
   "version": "3.8.7"
  }
 },
 "nbformat": 4,
 "nbformat_minor": 5
}
