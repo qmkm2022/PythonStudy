{
 "cells": [
  {
   "cell_type": "code",
   "execution_count": 1,
   "id": "8f3a9f7d",
   "metadata": {},
   "outputs": [],
   "source": [
    "import requests\n",
    "from bs4 import BeautifulSoup\n",
    "import pandas as pd\n",
    "from tqdm.notebook import tqdm\n",
    "import time\n",
    "from selenium import webdriver\n",
    "from selenium.webdriver.common.keys import Keys\n",
    "from selenium.webdriver.common.by import By"
   ]
  },
  {
   "cell_type": "code",
   "execution_count": 2,
   "id": "23bd60ab",
   "metadata": {},
   "outputs": [],
   "source": [
    "driver = webdriver.Chrome()\n",
    "url = 'https://www.naver.com/'\n",
    "driver.get(url)"
   ]
  },
  {
   "cell_type": "code",
   "execution_count": 3,
   "id": "b3ff52cd",
   "metadata": {},
   "outputs": [],
   "source": [
    "driver.find_element(By.XPATH, '//*[@id=\"query\"]').click()"
   ]
  },
  {
   "cell_type": "code",
   "execution_count": 4,
   "id": "024fccbb",
   "metadata": {},
   "outputs": [],
   "source": [
    "search_box = driver.find_element(By.XPATH, '//*[@id=\"query\"]')\n",
    "search_box.click()\n",
    "search_box.send_keys('부모님 선물')\n",
    "driver.find_element(By.XPATH, '//*[@id=\"search_btn\"]/span[2]').click()"
   ]
  },
  {
   "cell_type": "code",
   "execution_count": 70,
   "id": "ec524320",
   "metadata": {},
   "outputs": [],
   "source": [
    "driver.find_element(By.XPATH, '//*[@id=\"lnb\"]/div[1]/div/ul/li[4]/a').click()"
   ]
  },
  {
   "cell_type": "code",
   "execution_count": 76,
   "id": "491b569a",
   "metadata": {
    "scrolled": true
   },
   "outputs": [
    {
     "data": {
      "text/plain": [
       "[<selenium.webdriver.remote.webelement.WebElement (session=\"e36b9210b1d0137f1a32a77a766bedfc\", element=\"dd4c7599-beca-4760-af1b-d64417b9824b\")>]"
      ]
     },
     "execution_count": 76,
     "metadata": {},
     "output_type": "execute_result"
    }
   ],
   "source": [
    "divs = driver.find_elements(By.XPATH,'//*[@id=\"main_pack\"]/section[1]/div/ul')\n",
    "divs"
   ]
  },
  {
   "cell_type": "code",
   "execution_count": 77,
   "id": "1d043651",
   "metadata": {},
   "outputs": [
    {
     "data": {
      "text/plain": [
       "<selenium.webdriver.remote.webelement.WebElement (session=\"e36b9210b1d0137f1a32a77a766bedfc\", element=\"dd4c7599-beca-4760-af1b-d64417b9824b\")>"
      ]
     },
     "execution_count": 77,
     "metadata": {},
     "output_type": "execute_result"
    }
   ],
   "source": [
    "div = divs[0]\n",
    "div"
   ]
  },
  {
   "cell_type": "code",
   "execution_count": 106,
   "id": "bdbec20b",
   "metadata": {},
   "outputs": [
    {
     "data": {
      "text/plain": [
       "'부모님 선물로 어떤 게 좋을까요 이번 달은 좀 특별해요 제 결혼식도 있고 아빠 환갑도 겹쳐서 결혼하기 전에 부모님 선물 겸 환갑 선물로 그동안 못했던 효도를 하려고 해요 저희 부모님께서는 몸이 찬편이라 초봄에도 무척 힘들어하시거든요 몸을 따뜻하게 해주는 보양식을 많이 사드려서 음식 같은 거 말고 다른 걸로 해드리고...'"
      ]
     },
     "execution_count": 106,
     "metadata": {},
     "output_type": "execute_result"
    }
   ],
   "source": [
    "a = 1\n",
    "a = str(a)\n",
    "question = div.find_element(By.CSS_SELECTOR, '#main_pack > section.sc_new.sp_nkin._au_kin_collection > div > ul > li:nth-child('+ a +') > div > div.question_area > div.question_group > a').text\n",
    "question"
   ]
  },
  {
   "cell_type": "code",
   "execution_count": 9,
   "id": "b23fa674",
   "metadata": {},
   "outputs": [
    {
     "data": {
      "text/plain": [
       "'부모님 선물 고르는게 진짜 힘들죠 ㅎㅎ 그래도 대부분 이때까지 받은것도 있으니 대단하게 해드리고 싶은 분들이 많더라구요 부모님 선물은 사실 질문자님이 부모님을 가장 잘 알고계시니 고민을 해보시는게 맞긴 하지만 좀 막막하실 수도 있으니 제가 고르는 팁좀 알려드리자면...'"
      ]
     },
     "execution_count": 9,
     "metadata": {},
     "output_type": "execute_result"
    }
   ],
   "source": [
    "answer = div.find_element(By.CSS_SELECTOR, '#main_pack > section.sc_new.sp_nkin._au_kin_collection > div > ul > li:nth-child(1) > div > div.answer_area > div.answer_group > a').text\n",
    "answer"
   ]
  },
  {
   "cell_type": "code",
   "execution_count": 98,
   "id": "f823dfec",
   "metadata": {},
   "outputs": [],
   "source": [
    "lines = []\n",
    "for i in range(1,11):\n",
    "    i = 1\n",
    "    i += 1\n",
    "    for div in divs:\n",
    "        try:\n",
    "            question = div.find_element(By.CSS_SELECTOR, '#main_pack > section.sc_new.sp_nkin._au_kin_collection > div > ul > li:nth-child('+ {i} +') > div > div.question_area > div.question_group > a').text\n",
    "            answer = div.find_element(By.CSS_SELECTOR, '#main_pack > section.sc_new.sp_nkin._au_kin_collection > div > ul > li:nth-child('+ {i} +') > div > div.answer_area > div.answer_group > a').text\n",
    "        except:\n",
    "            continue\n",
    "        lines.append([question, answer])"
   ]
  },
  {
   "cell_type": "code",
   "execution_count": 97,
   "id": "44b95aff",
   "metadata": {},
   "outputs": [
    {
     "data": {
      "text/html": [
       "<div>\n",
       "<style scoped>\n",
       "    .dataframe tbody tr th:only-of-type {\n",
       "        vertical-align: middle;\n",
       "    }\n",
       "\n",
       "    .dataframe tbody tr th {\n",
       "        vertical-align: top;\n",
       "    }\n",
       "\n",
       "    .dataframe thead th {\n",
       "        text-align: right;\n",
       "    }\n",
       "</style>\n",
       "<table border=\"1\" class=\"dataframe\">\n",
       "  <thead>\n",
       "    <tr style=\"text-align: right;\">\n",
       "      <th></th>\n",
       "      <th>질문</th>\n",
       "      <th>답변</th>\n",
       "    </tr>\n",
       "  </thead>\n",
       "  <tbody>\n",
       "  </tbody>\n",
       "</table>\n",
       "</div>"
      ],
      "text/plain": [
       "Empty DataFrame\n",
       "Columns: [질문, 답변]\n",
       "Index: []"
      ]
     },
     "execution_count": 97,
     "metadata": {},
     "output_type": "execute_result"
    }
   ],
   "source": [
    "df = pd.DataFrame(lines, columns=['질문', '답변'])\n",
    "df"
   ]
  },
  {
   "cell_type": "code",
   "execution_count": null,
   "id": "1ac84f25",
   "metadata": {},
   "outputs": [],
   "source": [
    "#main_pack > section.sc_new.sp_nkin._au_kin_collection > div > ul > li:nth-child(1)\n",
    "#main_pack > section.sc_new.sp_nkin._au_kin_collection > div > ul > li:nth-child(2)\n",
    "#main_pack > section.sc_new.sp_nkin._au_kin_collection > div > ul > li:nth-child(1)\n",
    "#main_pack > section.sc_new.sp_nkin._au_kin_collection > div > ul > li:nth-child(10)"
   ]
  }
 ],
 "metadata": {
  "kernelspec": {
   "display_name": "Python 3 (ipykernel)",
   "language": "python",
   "name": "python3"
  },
  "language_info": {
   "codemirror_mode": {
    "name": "ipython",
    "version": 3
   },
   "file_extension": ".py",
   "mimetype": "text/x-python",
   "name": "python",
   "nbconvert_exporter": "python",
   "pygments_lexer": "ipython3",
   "version": "3.8.7"
  }
 },
 "nbformat": 4,
 "nbformat_minor": 5
}
