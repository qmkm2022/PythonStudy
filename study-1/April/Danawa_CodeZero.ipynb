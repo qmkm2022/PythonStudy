{
 "cells": [
  {
   "cell_type": "markdown",
   "id": "2e4c4074",
   "metadata": {},
   "source": [
    "다나와 - 무선청소기\n",
    "https://search.danawa.com/dsearch.php?k1=%EB%AC%B4%EC%84%A0%EC%B2%AD%EC%86%8C%EA%B8%B0&module=goods&act=dispMain\n",
    "상품명/스펙/가격 컬럼 만들기"
   ]
  },
  {
   "cell_type": "code",
   "execution_count": 1,
   "id": "6401f5bf",
   "metadata": {},
   "outputs": [],
   "source": [
    "import time\n",
    "from selenium import webdriver\n",
    "from selenium.webdriver.common.keys import Keys\n",
    "from selenium.webdriver.common.by import By\n",
    "import pandas as pd\n",
    "from bs4 import BeautifulSoup\n",
    "from tqdm.notebook import tqdm\n",
    "driver = webdriver.Chrome()\n",
    "url = 'https://search.danawa.com/dsearch.php?query=%EB%AC%B4%EC%84%A0%EC%B2%AD%EC%86%8C%EA%B8%B0'\n",
    "driver.get(url)\n",
    "html = driver.page_source\n",
    "soup = BeautifulSoup(html, 'html.parser')"
   ]
  },
  {
   "cell_type": "code",
   "execution_count": 3,
   "id": "7d7a9745",
   "metadata": {
    "scrolled": true
   },
   "outputs": [
    {
     "name": "stdout",
     "output_type": "stream",
     "text": [
      "43\n"
     ]
    }
   ],
   "source": [
    "prod_items = soup.select('li.prod_item')\n",
    "print(len(prod_items))"
   ]
  },
  {
   "cell_type": "code",
   "execution_count": 4,
   "id": "28cb85a9",
   "metadata": {},
   "outputs": [
    {
     "data": {
      "text/plain": [
       "'베이스어스 차량용 청소기 A3 (해외구매)'"
      ]
     },
     "execution_count": 4,
     "metadata": {},
     "output_type": "execute_result"
    }
   ],
   "source": [
    "# 제품 이름\n",
    "title = prod_items[0].select('p.prod_name > a')[0].get_text().strip()\n",
    "title"
   ]
  },
  {
   "cell_type": "code",
   "execution_count": 5,
   "id": "1eea21df",
   "metadata": {},
   "outputs": [
    {
     "data": {
      "text/plain": [
       "'차량용청소기 / 무선 / 흡입력: 15,000Pa / 최대출력: 135W / 헤파필터 / 추가노즐: 틈새, 솔브러쉬 / LED라이트 / 사용시간: 45분 / 배터리 잔량표시 / 소음: 75dB / 충전방식: USB C타입 / 충전시간: 3~5시간 / 색상: 블랙, 실버 / 크기: 296x56.5mm'"
      ]
     },
     "execution_count": 5,
     "metadata": {},
     "output_type": "execute_result"
    }
   ],
   "source": [
    "# 스펙\n",
    "spec_list = prod_items[0].select('div.spec_list')[0].text.replace(\"\\t\", '').replace(\"\\n\", '')\n",
    "spec_list"
   ]
  },
  {
   "cell_type": "code",
   "execution_count": 6,
   "id": "c8f9fce3",
   "metadata": {},
   "outputs": [
    {
     "data": {
      "text/plain": [
       "'46960'"
      ]
     },
     "execution_count": 6,
     "metadata": {},
     "output_type": "execute_result"
    }
   ],
   "source": [
    "# 가격\n",
    "price = prod_items[0].select('li.rank_one > p.price_sect > a > strong')[0].text.strip().replace(',','')\n",
    "price"
   ]
  },
  {
   "cell_type": "code",
   "execution_count": 7,
   "id": "c7f1a508",
   "metadata": {},
   "outputs": [
    {
     "name": "stdout",
     "output_type": "stream",
     "text": [
      "40\n"
     ]
    },
    {
     "data": {
      "text/plain": [
       "[['베이스어스 차량용 청소기 A3 (해외구매)',\n",
       "  '차량용청소기 / 무선 / 흡입력: 15,000Pa / 최대출력: 135W / 헤파필터 / 추가노즐: 틈새, 솔브러쉬 / LED라이트 / 사용시간: 45분 / 배터리 잔량표시 / 소음: 75dB / 충전방식: USB C타입 / 충전시간: 3~5시간 / 색상: 블랙, 실버 / 크기: 296x56.5mm',\n",
       "  '46960'],\n",
       " ['LG전자 오브제컬렉션 코드제로 A9S AU9982',\n",
       "  '핸디스틱청소기 / 무선형 / 흡입+물걸레겸용 / 흡입력: 220W / [구성] 와이드바닥 / 스팀물걸레 / 침구 / 솔형 / 틈새 / 올인원타워 / [배터리] 분리형 (2개) / 충전시간: 4시간 / 사용시간: 1시간 / [성능] 스마트인버터모터 / 헤파필터 / 5단계여과 / [기능] IoT기능 / 디스플레이표시창 / 자동물공급 / LED라이트 / 자동먼지비움 / [부가] 색상: 카밍베이지 / 무게: 2.7kg / 크기(가로x세로x깊이): 300x1120x260mm',\n",
       "  '1019160'],\n",
       " ['샤오미 미지아 차량용 핸디 무선 청소기 (해외구매)',\n",
       "  '차량용청소기 / 무선 / 흡입력: 13,000Pa / 최대출력: 120W / 헤파필터 / 추가노즐: 틈새, 솔브러쉬 / 사용시간: 9~30분 / 버튼 잠금 장치 / 2단 세기 조절 / 크기: 55x267mm / 무게: 500g',\n",
       "  '38990'],\n",
       " ['LG전자 오브제컬렉션 코드제로 A9S AU9882',\n",
       "  '핸디스틱청소기 / 무선형 / 흡입+물걸레겸용 / 흡입력: 220W / [구성] 와이드바닥 / 스팀물걸레 / 솔형 / 틈새 / 올인원타워 / [배터리] 분리형 (2개) / 충전시간: 4시간 / 사용시간: 1시간 / [성능] 스마트인버터모터 / 헤파필터 / 5단계여과 / [기능] IoT기능 / 디스플레이표시창 / 자동물공급 / LED라이트 / 자동먼지비움 / [부가] 색상: 카밍베이지 / 무게: 2.7kg / 크기(가로x세로x깊이): 300x1120x260mm',\n",
       "  '894400'],\n",
       " ['삼성전자 비스포크 제트 VS20A956A3',\n",
       "  '핸디스틱청소기 / 무선형 / 흡입전용 / 흡입력: 210W / [구성] 바닥 / 솔형 / 틈새 / 연장툴 / 일체형청정스테이션 / [배터리] 분리형 (1개) / 충전시간: 3시간30분 / 사용시간: 1시간 / [성능] 디지털인버터모터 / 5단계여과 / [기능] 물걸레(별도구매) / 디스플레이표시창 / 자동물공급 / 배터리잔량표시 / 자동먼지비움 / [부가] 먼지통용량: 0.5L / 물통용량: 0.15L / 색상: 미드나잇블루 / 무게: 2.5kg / 크기(가로x세로x깊이): 250x930x202mm / 출시가: 1,150,000원',\n",
       "  '492190'],\n",
       " ['아이오랩 아이클린 무선 미니 핸디 청소기',\n",
       "  '차량용청소기 / 무선 / 흡입력: 10,000Pa / 최대출력: 65W / 헤파필터 / 스테인리스 필터 / 추가노즐: 틈새, 솔브러쉬 / 사용시간: 45분 / 충전방식: USB C타입 / 배터리용량: 7,200mAh / 크기: 253x57mm / 무게: 470g',\n",
       "  '59200'],\n",
       " ['LG전자 코드제로 A9S AT9271',\n",
       "  '핸디스틱청소기 / 무선형 / 흡입+물걸레겸용 / 흡입력: 210W / [구성] 바닥 / 물걸레 / 솔형 / 틈새 / 올인원타워 / [배터리] 분리형 (1개) / 충전시간: 4시간 / 사용시간: 1시간 / [성능] 스마트인버터모터 / 분리형배기필터 / 헤파필터 / 5단계여과 / [기능] IoT기능 / 자동물공급 / 배터리잔량표시 / 자동먼지비움 / [부가] 색상: 아이언그레+딥그레이 / 무게: 2.6kg / 크기(가로x세로x깊이): 250x1120x260mm',\n",
       "  '633330'],\n",
       " ['일렉트로룩스 에르고라피도 ZB3512IG',\n",
       "  '핸디스틱청소기 / 무선형 / 흡입전용 / [구성] 바닥 / 솔형 / 틈새 / 긴틈새 / [배터리] 내장형 / 충전시간: 4시간 / 사용시간: 35분 / [성능] 4단계여과 / [기능] 셀프스탠딩 / LED라이트 / 배터리잔량표시 / [부가] 먼지통용량: 0.42L / 색상: 아이언그레이 / 무게: 2.5kg / 크기(가로x세로x깊이): 299x689x165mm',\n",
       "  '183500'],\n",
       " ['삼성전자 비스포크 제트 VS20B956D5',\n",
       "  '핸디스틱청소기 / 무선형 / 흡입+물걸레겸용 / 흡입력: 220W / [구성] 바닥 / 물걸레 / 솔형 / 틈새 / 연장툴 / 일체형청정스테이션 / [배터리] 분리형 (1개) / 충전시간: 3시간30분 / 사용시간: 1시간 / [성능] 디지털인버터모터 / 5단계여과 / [기능] IoT기능 / 디스플레이표시창 / 자동물공급 / LED라이트 / 배터리잔량표시 / 자동먼지비움 / [부가] 먼지통용량: 0.5L / 색상: 산토리니베이지 / 크기(가로x세로x깊이): 250x930x202mm',\n",
       "  '605950'],\n",
       " ['LG전자 오브제컬렉션 코드제로 A9S AO9571',\n",
       "  '핸디스틱청소기 / 무선형 / 흡입+물걸레겸용 / 흡입력: 210W / [구성] 바닥 / 물걸레 / 침구 / 솔형 / 틈새 / 올인원타워 / [배터리] 분리형 (2개) / 충전시간: 4시간 / 사용시간: 1시간 / [성능] 스마트인버터모터 / 분리형배기필터 / 헤파필터 / 5단계여과 / [기능] IoT기능 / 자동물공급 / 배터리잔량표시 / 자동먼지비움 / [부가] 색상: 카밍베이지 / 무게: 2.6kg / 크기(가로x세로x깊이): 250x1120x260mm / 출시가: 1,650,000원',\n",
       "  '756710'],\n",
       " ['샤오미 드리미 V11',\n",
       "  '핸디스틱청소기 / 무선형 / 흡입전용 / 흡입력: 150AW / 흡입력: 25000Pa / [구성] 바닥 / 침구 / 솔형 / 틈새 / 연장툴 / 거치대 / [배터리] 충전시간: 4시간 / 사용시간: 1시간30분 / [성능] BLDC모터 / 5단계여과 / [기능] 물걸레(별도구매) / 디스플레이표시창 / [부가] 먼지통용량: 0.5L / 색상: 레드 / 무게: 1.6kg / 크기(가로x세로): 202x1226mm',\n",
       "  '183710'],\n",
       " ['샤오미 CLEANFLY 차량용 무선 청소기 4세대 H2 (해외구매)',\n",
       "  '차량용청소기 / 무선 / 흡입력: 16,800Pa / 최대출력: 120W / 헤파필터 / 스테인리스 필터 / 추가노즐: 틈새, 솔브러쉬, 연장호스 / 사용시간: 30분 / 소음: 73.8dB / 충전방식: USB C타입 / 배터리용량: 2,000mAh / 색상: 블랙, 화이트 / 크기: 369x72mm / 무게: 560g',\n",
       "  '61840'],\n",
       " ['삼성전자 제트 VS20T92K3QD',\n",
       "  '핸디스틱청소기 / 무선형 / 흡입전용 / 흡입력: 200W / [구성] 바닥 / 솔형 / 틈새 / 거치대 / 청정스테이션 / [배터리] 분리형 (1개) / 충전시간: 3시간30분 / 사용시간: 1시간 / [성능] 인버터모터 / 헤파필터 / 5단계여과 / [기능] 물걸레(별도구매) / 디스플레이표시창 / 프리볼트 / [부가] 먼지통용량: 0.6L / 색상: 티탄/그레이 / 무게: 2.64kg / 크기(가로x세로x깊이): 250x1123x215mm',\n",
       "  '381650'],\n",
       " ['샤오미 미지아 차량용 핸디 무선 청소기 SSXCQ01XY',\n",
       "  '차량용청소기 / 무선 / 흡입력: 13,000Pa / 최대출력: 120W / 헤파필터 / 추가노즐: 틈새, 솔브러쉬 / 사용시간: 9~30분 / 버튼 잠금 장치 / 2단 세기 조절 / 크기: 55x267mm / 무게: 500g',\n",
       "  '52710'],\n",
       " ['삼성전자 비스포크 제트 VS20B956AX',\n",
       "  '핸디스틱청소기 / 무선형 / 흡입전용 / 흡입력: 220W / [구성] 바닥 / 솔형 / 틈새 / 연장툴 / 일체형청정스테이션 / [배터리] 분리형 (1개) / 충전시간: 3시간30분 / 사용시간: 1시간 / [성능] 디지털인버터모터 / 5단계여과 / [기능] 물걸레(별도구매) / IoT기능 / 디스플레이표시창 / 자동물공급 / LED라이트 / 배터리잔량표시 / 자동먼지비움 / [부가] 먼지통용량: 0.5L / 색상: 산토리니베이지 / 크기(가로x세로x깊이): 250x930x202mm',\n",
       "  '525990'],\n",
       " ['삼성전자 비스포크 제트 VS20A957D2',\n",
       "  '핸디스틱청소기 / 무선형 / 흡입+물걸레겸용 / 흡입력: 210W / [구성] 바닥 / 물걸레 / 솔형 / 틈새 / 일체형청정스테이션 / [배터리] 분리형 (2개) / 충전시간: 3시간30분 / 사용시간: 1시간 / [성능] 디지털인버터모터 / 5단계여과 / [기능] 디스플레이표시창 / 자동물공급 / 배터리잔량표시 / 자동먼지비움 / [부가] 먼지통용량: 0.5L / 색상: 미드나잇블루 / 무게: 2.5kg / 크기(가로x세로x깊이): 250x930x202mm',\n",
       "  '595840'],\n",
       " ['삼성전자 비스포크 제트 VS20A956AVW',\n",
       "  '핸디스틱청소기 / 무선형 / 흡입전용 / 흡입력: 210W / [구성] 바닥 / 솔형 / 틈새 / 일체형청정스테이션 / [배터리] 분리형 (1개) / 충전시간: 3시간30분 / 사용시간: 1시간 / [성능] 디지털인버터모터 / 5단계여과 / [기능] 물걸레(별도구매) / 디스플레이표시창 / 자동물공급 / 배터리잔량표시 / 자동먼지비움 / [부가] 먼지통용량: 0.5L / 색상: 미스티화이트 / 무게: 2.5kg / 크기(가로x세로x깊이): 250x930x202mm',\n",
       "  '478710'],\n",
       " ['LG전자 코드제로 A9S AS9200BA',\n",
       "  '핸디스틱청소기 / 무선형 / 흡입전용 / 흡입력: 200W / [구성] 바닥 / 솔형 / 틈새 / 거치대 / [배터리] 분리형 (1개) / 충전시간: 4시간 / 사용시간: 1시간 / [성능] 스마트인버터모터 / 5단계여과 / [기능] 물걸레(별도구매) / IoT기능 / 디스플레이표시창 / 배터리잔량표시 / [부가] 색상: 블랙 / 무게: 2.6kg / 크기(가로x세로x깊이): 250x1120x260mm',\n",
       "  '520830'],\n",
       " ['다이슨 V10 앱솔루트',\n",
       "  '핸디스틱청소기 / 무선형 / 흡입전용 / [구성] 소프트롤러 / 다이렉트드라이브 / 미니모터 / 솔형 / 더스팅 / 틈새 / 도킹스테이션 / [배터리] 충전시간: 3시간30분 / 사용시간: 1시간 / [기능] 프리볼트 / [부가] 색상: 블루, 코퍼, 블랙 / 무게: 2.5kg / 크기(가로x세로x깊이): 250x1241x256mm',\n",
       "  '556980'],\n",
       " ['LG전자 오브제컬렉션 코드제로 A9S AU9802WD',\n",
       "  '핸디스틱청소기 / 무선형 / 흡입전용 / 흡입력: 220W / [구성] 와이드바닥 / 솔형 / 틈새 / 올인원타워 / [배터리] 분리형 (2개) / 충전시간: 4시간 / 사용시간: 1시간 / [성능] 스마트인버터모터 / 헤파필터 / 5단계여과 / [기능] 물걸레(별도구매) / IoT기능 / 디스플레이표시창 / 자동물공급 / LED라이트 / 자동먼지비움 / [부가] 색상: 카밍베이지 / 무게: 2.7kg / 크기(가로x세로x깊이): 300x1120x260mm',\n",
       "  '805450'],\n",
       " ['삼성전자 비스포크 제트 VS20B957E5',\n",
       "  '핸디스틱청소기 / 무선형 / 흡입+물걸레겸용 / 흡입력: 220W / [구성] 바닥 / 물걸레 / 침구 / 솔형 / 틈새 / 연장툴 / 일체형청정스테이션 / [배터리] 분리형 (2개) / 충전시간: 3시간30분 / 사용시간: 1시간 / [성능] 디지털인버터모터 / 5단계여과 / [기능] IoT기능 / 디스플레이표시창 / 자동물공급 / LED라이트 / 배터리잔량표시 / 자동먼지비움 / [부가] 먼지통용량: 0.5L / 색상: 산토리니베이지 / 크기(가로x세로x깊이): 250x930x202mm',\n",
       "  '766110'],\n",
       " ['아이닉 NEW i20',\n",
       "  '핸디스틱청소기 / 무선형 / 흡입전용 / 흡입력: 30000Pa / [구성] 바닥 / 침구 / 솔형 / 틈새 / [배터리] 분리형 (1개) / 충전시간: 5시간 / 사용시간: 50분 / [성능] BLDC모터 / 헤파필터 / 5단계여과 / [기능] 물걸레(별도구매) / 배터리잔량표시 / [부가] 먼지통용량: 0.5L / 색상: 블랙 / 무게: 2.5kg / 크기(가로x세로x깊이): 241x1144x211mm',\n",
       "  '169000'],\n",
       " ['조아스 차량용 듀얼 무선 에어건 청소기 JVC-3000',\n",
       "  '차량용청소기 / 무선 / 흡입력: 12,000Pa / 최대출력: 80W / 헤파필터 / 충전시간: 2시간 / 사용시간 : 20분 / 7가지 청소노즐 / 무게: 377g / 65,000RPM 회전 BLDC모터',\n",
       "  '74800'],\n",
       " ['LG전자 코드제로 A9S AS9271',\n",
       "  '핸디스틱청소기 / 무선형 / 흡입+물걸레겸용 / 흡입력: 210W / [구성] 바닥 / 물걸레 / 솔형 / 틈새 / 거치대 / [배터리] 분리형 (1개) / 충전시간: 4시간 / 사용시간: 1시간 / [성능] 스마트인버터모터 / 분리형배기필터 / 헤파필터 / 5단계여과 / [기능] IoT기능 / 자동물공급 / 배터리잔량표시 / 자동먼지비움 / [부가] 색상: 아이언그레이 / 무게: 2.6kg / 크기(가로x세로x깊이): 250x1120x260mm',\n",
       "  '592050'],\n",
       " ['디월트 DCPW550B', '업소용청소기 / 고압세척기 / 무선형 / [부가] 색상: 옐로우', '203830'],\n",
       " ['인트비즈 MORUN 차량용 무선 진공 청소기 V6',\n",
       "  '차량용청소기 / 무선 / 흡입력: 15,000Pa / 헤파필터 / 추가노즐: 틈새, 솔브러쉬, 연장호스 / 사용시간: 12분(고속),25분(저속) / 배터리 용량: 2000mAh  / 충전시간: 3.5 시간 / 크기: 54x330mm / 무게: 532g',\n",
       "  '79000'],\n",
       " ['LG전자 코드제로 A9S AT9200BA',\n",
       "  '핸디스틱청소기 / 무선형 / 흡입전용 / 흡입력: 200W / [구성] 바닥 / 솔형 / 틈새 / 올인원타워 / [배터리] 분리형 (1개) / 충전시간: 4시간 / 사용시간: 1시간 / [성능] 스마트인버터모터 / 분리형배기필터 / 헤파필터 / 5단계여과 / [기능] 물걸레(별도구매) / IoT기능 / 자동물공급 / 배터리잔량표시 / 자동먼지비움 / [부가] 색상: 블랙+딥그레이 / 무게: 2.6kg / 크기(가로x세로x깊이): 250x1120x260mm',\n",
       "  '571000'],\n",
       " ['로엘 듀스핀3 PRO',\n",
       "  '물걸레청소기 / 회전식 / 물걸레전용 / 무선형 / [배터리] 충전시간: 4시간 / 사용시간: 3시간 / [기능] 물분사 / 각도조절 / 셀프스탠딩 / [부가] 먼지통용량: 0.24L / 색상: 화이트 / 무게: 1.99kg / 자동세척탈수 / 크기(가로x세로x깊이): 360x1160x170mm',\n",
       "  '179780'],\n",
       " ['다이슨 V12 디텍트 슬림 컴플리트',\n",
       "  '핸디스틱청소기 / 무선형 / 흡입전용 / 흡입력: 150AW / [구성] 레이저슬림플러피 / 다이렉트드라이브 / 헤어스크류 / 솔형 / 더스팅 / 스터번더트 / 틈새 / 거치대 / 도킹스테이션 / [배터리] 분리형 (1개) / 충전시간: 3시간30분 / 사용시간: 1시간 / [성능] 헤파필터 / [기능] 디스플레이표시창 / 먼지감지센서 / [부가] 먼지통용량: 0.35L / 색상: 옐로우/아이언/니켈, 골드/골드 / 무게: 2.2kg / 크기(가로x세로x깊이): 250x1095x251mm',\n",
       "  '807700'],\n",
       " ['삼성전자 제트 VS15R8577Q5CW',\n",
       "  '핸디스틱청소기 / 무선형 / 흡입+물걸레겸용 / 흡입력: 150W / [구성] 바닥 / 물걸레 / 솔형 / 틈새 / 거치대 / 청정스테이션 / [배터리] 분리형 (2개) / 충전시간: 3시간30분 / 사용시간: 1시간 / [성능] 인버터모터 / 헤파필터 / 5단계여과 / [기능] 디스플레이표시창 / 프리볼트 / [부가] 먼지통용량: 0.5L / 색상: 틸실버 / 무게: 2.64kg / 크기(가로x세로x깊이): 250x1123x215mm',\n",
       "  '378900'],\n",
       " ['아이닉 i30 아이타워',\n",
       "  '핸디스틱청소기 / 무선형 / 흡입전용 / 흡입력: 35000Pa / [구성] 바닥 / 침구 / 솔형 / 틈새 / 거치대 / 청정스테이션 / [배터리] 분리형 (1개) / 사용시간: 50분 / [성능] BLDC모터 / 헤파필터 / 2단계여과 / [기능] 물걸레(별도구매) / 디스플레이표시창 / 먼지감지센서 / LED라이트 / 자동먼지비움 / [부가] 먼지통용량: 0.4L / 무게: 2.5kg / 크기(가로x세로x깊이): 313x628x143mm',\n",
       "  '269000'],\n",
       " ['삼성전자 제트 VS20T92K0BF',\n",
       "  '핸디스틱청소기 / 무선형 / 흡입전용 / 흡입력: 200W / [구성] 바닥 / 솔형 / 틈새 / 거치대 / 청정스테이션 / [배터리] 분리형 (1개) / 충전시간: 3시간30분 / 사용시간: 1시간 / [성능] 인버터모터 / 헤파필터 / 5단계여과 / [기능] 물걸레(별도구매) / 디스플레이표시창 / 프리볼트 / [부가] 먼지통용량: 0.6L / 색상: 코타블랙 / 무게: 2.64kg / 크기(가로x세로x깊이): 250x1123x215mm',\n",
       "  '394740'],\n",
       " ['샤오미 미지아 K10',\n",
       "  '핸디스틱청소기 / 무선형 / 흡입전용 / 흡입력: 150AW / [구성] 바닥 / 침구 / 솔형 / 틈새 / 연장툴 / 거치대 / [배터리] 분리형 (1개) / 충전시간: 4시간 / 사용시간: 1시간5분 / [성능] BLDC모터 / 헤파필터 / 5단계여과 / [기능] 디스플레이표시창 / [부가] 먼지통용량: 0.5L / 물통용량: 0.25L',\n",
       "  '166230'],\n",
       " ['LG전자 오브제컬렉션 코드제로 A9S AU9602WD',\n",
       "  '핸디스틱청소기 / 무선형 / 흡입전용 / 흡입력: 220W / [구성] 와이드바닥 / 솔형 / 틈새 / 올인원타워 / [배터리] 분리형 (1개) / 충전시간: 4시간 / 사용시간: 1시간 / [성능] 스마트인버터모터 / 헤파필터 / 5단계여과 / [기능] 물걸레(별도구매) / IoT기능 / 디스플레이표시창 / 자동물공급 / LED라이트 / 자동먼지비움 / [부가] 색상: 카밍베이지 / 무게: 2.7kg / 크기(가로x세로x깊이): 300x1120x260mm',\n",
       "  '785570'],\n",
       " ['아이닉 무선 미니 청소기 imini',\n",
       "  '차량용청소기 / 무선 / 흡입력: 5,000Pa / 최대출력: 75W / 헤파필터 / 추가노즐: 틈새, 솔브러쉬, 연장호스 / 사용시간: 20분 / 충전시간: 4~5시간 / 충전방식: USB C타입 / 배터리용량: 2,000mAh / 크기: 50x235mm / 무게: 428g',\n",
       "  '43900'],\n",
       " ['LG전자 오브제컬렉션 코드제로 A9S AU9872MPD',\n",
       "  '핸디스틱청소기 / 무선형 / 흡입+물걸레겸용 / 흡입력: 220W / [구성] 와이드바닥 / 물걸레 / 펫 / 솔형 / 틈새 / 올인원타워 / [배터리] 분리형 (2개) / 충전시간: 4시간 / 사용시간: 1시간 / [성능] 스마트인버터모터 / 헤파필터 / 5단계여과 / [기능] IoT기능 / 디스플레이표시창 / 자동물공급 / LED라이트 / 자동먼지비움 / [부가] 색상: 클레이블루 / 무게: 2.7kg / 크기(가로x세로x깊이): 300x1120x260mm',\n",
       "  '897380'],\n",
       " ['다이슨 V10 플러피 오리진',\n",
       "  '핸디스틱청소기 / 무선형 / 흡입전용 / 흡입력: 151AW / [구성] 소프트롤러 / 미니모터 / 솔형 / 더스팅 / 틈새 / 도킹스테이션 / [배터리] 충전시간: 3시간30분 / 사용시간: 1시간 / [부가] 먼지통용량: 0.5L / 색상: 레드 / 무게: 2.5kg / 크기(가로x세로x깊이): 256x1241x250mm',\n",
       "  '575840'],\n",
       " ['다이슨 옴니 글라이드 컴플리트',\n",
       "  '핸디스틱청소기 / 무선형 / 흡입전용 / 흡입력: 50AW / [구성] 전방향플러피 / 미니모터 / 솔형 / 틈새 / 서페이스 / 연장툴 / 거치대 / 도킹스테이션 / [배터리] 분리형 (1개) / 충전시간: 3시간30분 / 사용시간: 20분 / [성능] 헤파필터 / 5단계여과 / [부가] 먼지통용량: 0.2L / 색상: 퍼플 / 무게: 1.9kg / 버튼식 / 크기(가로x세로x깊이): 208x1077x92mm',\n",
       "  '446220'],\n",
       " ['로엘 듀스핀5 PRO',\n",
       "  '물걸레청소기 / 회전식 / 물걸레전용 / 무선형 / [배터리] 충전시간: 2시간30분 / 사용시간: 3시간 / [기능] 물분사 / 각도조절 / 셀프스탠딩 / 걸레자동세척 / [부가] 물통용량: 0.3L / 패드: 극세사(벨크로형) / 크기(가로x세로x깊이): 380x1210x180mm',\n",
       "  '298890'],\n",
       " ['삼성전자 파워스틱 VS02R6512JG',\n",
       "  '핸디스틱청소기 / 무선형 / 흡입전용 / [구성] 바닥 / 틈새 / [배터리] 분리형 (1개) / [기능] 셀프스탠딩 / [부가] 먼지통용량: 0.25L / 색상: 뉴트럴그레이 / 무게: 2.7kg / 크기(가로x세로x깊이): 250x1130x225mm',\n",
       "  '165710']]"
      ]
     },
     "execution_count": 7,
     "metadata": {},
     "output_type": "execute_result"
    }
   ],
   "source": [
    "# 1페이지에 대한 상품정보 추출\n",
    "prod_data = []\n",
    "for prod_item in prod_items:\n",
    "    if 'ad_nvista' in prod_item.select_one('div')['class']:\n",
    "        continue\n",
    "    try:\n",
    "        title = prod_item.select('p.prod_name > a')[0].get_text().strip()\n",
    "        spec_list = prod_item.select('div.spec_list')[0].text.replace(\"\\t\", '').replace(\"\\n\", '')\n",
    "        price = prod_item.select('li.rank_one > p.price_sect > a > strong')[0].text.strip().replace(',','')\n",
    "        prod_data.append([title, spec_list, price])\n",
    "    except:\n",
    "        pass\n",
    "print(len(prod_data))\n",
    "prod_data"
   ]
  },
  {
   "cell_type": "code",
   "execution_count": 8,
   "id": "ce357c5f",
   "metadata": {},
   "outputs": [],
   "source": [
    "# 상품 정보 태그에서 원하는 정보를 추출하는 함수\n",
    "def get_prod_items(prod_items):\n",
    "    prod_data = []\n",
    "    for prod_item in prod_items:\n",
    "        if 'ad_nvista' in prod_item.select_one('div')['class']:\n",
    "            continue\n",
    "        try:\n",
    "            title = prod_item.select('p.prod_name > a')[0].get_text().strip()\n",
    "            spec_list = prod_item.select('div.spec_list')[0].text.replace(\"\\t\", '').replace(\"\\n\", '')\n",
    "            price = prod_item.select('li.rank_one > p.price_sect > a > strong')[0].text.strip().replace(',','')\n",
    "            prod_data.append([title, spec_list, price])\n",
    "        except:\n",
    "            pass\n",
    "    return  prod_data"
   ]
  },
  {
   "cell_type": "code",
   "execution_count": 9,
   "id": "69c062d8",
   "metadata": {},
   "outputs": [
    {
     "data": {
      "text/plain": [
       "40"
      ]
     },
     "execution_count": 9,
     "metadata": {},
     "output_type": "execute_result"
    }
   ],
   "source": [
    "prod_data = get_prod_items(prod_items)\n",
    "len(prod_data)"
   ]
  },
  {
   "cell_type": "markdown",
   "id": "2f15665f",
   "metadata": {},
   "source": [
    "# 2. 여러페이지에 걸친 검색페이지 크롤링"
   ]
  },
  {
   "cell_type": "code",
   "execution_count": 10,
   "id": "75fafa91",
   "metadata": {},
   "outputs": [],
   "source": [
    "def get_search_page_url(keyword, page):\n",
    "    return 'https://search.danawa.com/dsearch.php?query={}&volumeType=allvs&page={}&limit=120&sort=saveDESC&list=list&boost=true&addDelivery=N&mode=simple&recommendedSort=Y&defaultUICategoryCode=14237761&defaultPhysicsCategoryCode=1840%7C59152%7C59189%7C0&defaultVmTab=3014&defaultVaTab=970283&tab=main'.format(keyword, page)"
   ]
  },
  {
   "cell_type": "code",
   "execution_count": 11,
   "id": "2346b799",
   "metadata": {
    "scrolled": true
   },
   "outputs": [
    {
     "name": "stdout",
     "output_type": "stream",
     "text": [
      "https://search.danawa.com/dsearch.php?query=무선청소기&volumeType=allvs&page=10&limit=120&sort=saveDESC&list=list&boost=true&addDelivery=N&mode=simple&recommendedSort=Y&defaultUICategoryCode=14237761&defaultPhysicsCategoryCode=1840%7C59152%7C59189%7C0&defaultVmTab=3014&defaultVaTab=970283&tab=main\n"
     ]
    }
   ],
   "source": [
    "keyword = '무선청소기'\n",
    "page = 10\n",
    "url = get_search_page_url(keyword, page)\n",
    "print(url)"
   ]
  },
  {
   "cell_type": "code",
   "execution_count": 12,
   "id": "5a222b31",
   "metadata": {},
   "outputs": [
    {
     "data": {
      "application/vnd.jupyter.widget-view+json": {
       "model_id": "8653b9a3b3924cf6a147d7ae0dab227e",
       "version_major": 2,
       "version_minor": 0
      },
      "text/plain": [
       "  0%|          | 0/10 [00:00<?, ?it/s]"
      ]
     },
     "metadata": {},
     "output_type": "display_data"
    }
   ],
   "source": [
    "# 전체 페이지 코드정리\n",
    "keyword = '무선청소기'\n",
    "total_page = 10\n",
    "prod_data_total = []\n",
    "for page in tqdm(range(1, total_page+1)):\n",
    "    url = get_search_page_url(keyword, page)\n",
    "    driver.get(url)\n",
    "    time.sleep(4)\n",
    "    html = driver.page_source\n",
    "    soup = BeautifulSoup(html, 'html.parser')\n",
    "    #상품정보 추출\n",
    "    prod_items = soup.select('li.prod_item')\n",
    "    prod_item_list = get_prod_items(prod_items)\n",
    "    # 추출한 정보 저장\n",
    "    prod_data_total += prod_item_list"
   ]
  },
  {
   "cell_type": "code",
   "execution_count": 13,
   "id": "047dac9e",
   "metadata": {},
   "outputs": [
    {
     "data": {
      "text/html": [
       "<div>\n",
       "<style scoped>\n",
       "    .dataframe tbody tr th:only-of-type {\n",
       "        vertical-align: middle;\n",
       "    }\n",
       "\n",
       "    .dataframe tbody tr th {\n",
       "        vertical-align: top;\n",
       "    }\n",
       "\n",
       "    .dataframe thead th {\n",
       "        text-align: right;\n",
       "    }\n",
       "</style>\n",
       "<table border=\"1\" class=\"dataframe\">\n",
       "  <thead>\n",
       "    <tr style=\"text-align: right;\">\n",
       "      <th></th>\n",
       "      <th>상품명</th>\n",
       "      <th>스펙목록</th>\n",
       "      <th>가격</th>\n",
       "    </tr>\n",
       "  </thead>\n",
       "  <tbody>\n",
       "    <tr>\n",
       "      <th>1195</th>\n",
       "      <td>모온 오비큠 워터</td>\n",
       "      <td>물걸레청소기 / 왕복식 / 물걸레전용 / 무선형 / [배터리] 리튬이온 / 충전시간...</td>\n",
       "      <td>269000</td>\n",
       "    </tr>\n",
       "    <tr>\n",
       "      <th>1196</th>\n",
       "      <td>LG전자 코드제로 A9S AS9471SWKT</td>\n",
       "      <td>핸디스틱청소기 / 무선형 / 흡입+물걸레겸용 / 흡입력: 210W / [구성] 바닥...</td>\n",
       "      <td>1128000</td>\n",
       "    </tr>\n",
       "    <tr>\n",
       "      <th>1197</th>\n",
       "      <td>디오바코 V200 LDVCLA200</td>\n",
       "      <td>핸디스틱청소기 / 무선형 / 흡입전용 / 흡입력: 9000Pa / [구성] 바닥 /...</td>\n",
       "      <td>120000</td>\n",
       "    </tr>\n",
       "    <tr>\n",
       "      <th>1198</th>\n",
       "      <td>LG전자 코드제로 A9 A9200I</td>\n",
       "      <td>핸디스틱청소기 / 무선형 / 흡입전용 / [구성] 바닥 / 솔형 / 틈새 / 거치대...</td>\n",
       "      <td>608990</td>\n",
       "    </tr>\n",
       "    <tr>\n",
       "      <th>1199</th>\n",
       "      <td>삼성전자 제트 VS20T8282B2</td>\n",
       "      <td>핸디스틱청소기 / 무선형 / 흡입+물걸레겸용 / 흡입력: 200W / [구성] 바닥...</td>\n",
       "      <td>724380</td>\n",
       "    </tr>\n",
       "  </tbody>\n",
       "</table>\n",
       "</div>"
      ],
      "text/plain": [
       "                           상품명  \\\n",
       "1195                 모온 오비큠 워터   \n",
       "1196  LG전자 코드제로 A9S AS9471SWKT   \n",
       "1197       디오바코 V200 LDVCLA200   \n",
       "1198       LG전자 코드제로 A9 A9200I   \n",
       "1199       삼성전자 제트 VS20T8282B2   \n",
       "\n",
       "                                                   스펙목록       가격  \n",
       "1195  물걸레청소기 / 왕복식 / 물걸레전용 / 무선형 / [배터리] 리튬이온 / 충전시간...   269000  \n",
       "1196  핸디스틱청소기 / 무선형 / 흡입+물걸레겸용 / 흡입력: 210W / [구성] 바닥...  1128000  \n",
       "1197  핸디스틱청소기 / 무선형 / 흡입전용 / 흡입력: 9000Pa / [구성] 바닥 /...   120000  \n",
       "1198  핸디스틱청소기 / 무선형 / 흡입전용 / [구성] 바닥 / 솔형 / 틈새 / 거치대...   608990  \n",
       "1199  핸디스틱청소기 / 무선형 / 흡입+물걸레겸용 / 흡입력: 200W / [구성] 바닥...   724380  "
      ]
     },
     "execution_count": 13,
     "metadata": {},
     "output_type": "execute_result"
    }
   ],
   "source": [
    "df = pd.DataFrame(prod_data_total, columns=['상품명', '스펙목록', '가격'])\n",
    "df.tail()"
   ]
  },
  {
   "cell_type": "code",
   "execution_count": 14,
   "id": "51eba25a",
   "metadata": {},
   "outputs": [],
   "source": [
    "df.to_csv('danawa_crawling_result.csv', index=False)"
   ]
  }
 ],
 "metadata": {
  "kernelspec": {
   "display_name": "Python 3 (ipykernel)",
   "language": "python",
   "name": "python3"
  },
  "language_info": {
   "codemirror_mode": {
    "name": "ipython",
    "version": 3
   },
   "file_extension": ".py",
   "mimetype": "text/x-python",
   "name": "python",
   "nbconvert_exporter": "python",
   "pygments_lexer": "ipython3",
   "version": "3.8.7"
  }
 },
 "nbformat": 4,
 "nbformat_minor": 5
}
