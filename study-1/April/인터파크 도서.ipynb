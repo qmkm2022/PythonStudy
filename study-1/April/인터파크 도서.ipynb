{
 "cells": [
  {
   "cell_type": "code",
   "execution_count": 5,
   "id": "58a62098",
   "metadata": {},
   "outputs": [],
   "source": [
    "import requests\n",
    "import pandas as pd\n",
    "from urllib.parse import quote\n",
    "from bs4 import BeautifulSoup"
   ]
  },
  {
   "cell_type": "code",
   "execution_count": 9,
   "id": "ce09359b",
   "metadata": {},
   "outputs": [],
   "source": [
    "url = 'http://book.interpark.com/display/collectlist.do?_method=bestsellerHourNew&bookblockname=b_gnb&booklinkname=%BA%A3%BD%BA%C6%AE%C1%B8&bid1=w_bgnb&bid2=LiveRanking&bid3=main&bid4=001'\n",
    "req = requests.get(url)\n",
    "html = req.text\n",
    "soup = BeautifulSoup( html, 'html.parser')"
   ]
  },
  {
   "cell_type": "markdown",
   "id": "76f81837",
   "metadata": {},
   "source": [
    "# 1.찾고자하는 목록을 가져오기"
   ]
  },
  {
   "cell_type": "code",
   "execution_count": 10,
   "id": "a8f1bd8c",
   "metadata": {},
   "outputs": [
    {
     "data": {
      "text/plain": [
       "3784"
      ]
     },
     "execution_count": 10,
     "metadata": {},
     "output_type": "execute_result"
    }
   ],
   "source": [
    "lis = soup.find_all('li')\n",
    "len(lis)"
   ]
  },
  {
   "cell_type": "code",
   "execution_count": 11,
   "id": "22e0a796",
   "metadata": {},
   "outputs": [
    {
     "data": {
      "text/plain": [
       "70"
      ]
     },
     "execution_count": 11,
     "metadata": {},
     "output_type": "execute_result"
    }
   ],
   "source": [
    "lis = soup.select_one(\".rankBestContentList\").find_all('li')\n",
    "len(lis)"
   ]
  },
  {
   "cell_type": "code",
   "execution_count": 12,
   "id": "c831d776",
   "metadata": {},
   "outputs": [
    {
     "data": {
      "text/plain": [
       "15"
      ]
     },
     "execution_count": 12,
     "metadata": {},
     "output_type": "execute_result"
    }
   ],
   "source": [
    "lis = soup.select_one('div.rankBestContentList').select('ol > li')\n",
    "len(lis)"
   ]
  },
  {
   "cell_type": "code",
   "execution_count": 13,
   "id": "85f82bf4",
   "metadata": {},
   "outputs": [
    {
     "data": {
      "text/plain": [
       "<li>\n",
       "<!-- listItem | singleType or setType :: start -->\n",
       "<div class=\"listItem singleType\">\n",
       "<div class=\"cover\">\n",
       "<div class=\"coverImage\">\n",
       "<label>\n",
       "<a href=\"/product/BookDisplay.do?_method=detail&amp;sc.shopNo=0000400000&amp;sc.prdNo=356522531&amp;sc.saNo=003003001&amp;bid1=Best_zone&amp;bid2=LiveRanking&amp;bid3=PRD&amp;bid4=001\" target=\"_blank\">\n",
       "<span class=\"checkBox\">\n",
       "<input name=\"_KEY\" type=\"checkbox\" value=\"356522531\"/>\n",
       "</span>\n",
       "<img alt=\"세이노의 가르침\" src=\"http://bimage.interpark.com/goods_image/2/5/3/1/356522531s.jpg\"/>\n",
       "<i class=\"decoFront\"></i>\n",
       "</a>\n",
       "</label>\n",
       "</div>\n",
       "<div class=\"coverOption\">\n",
       "<ul>\n",
       "<li class=\"cart\">\n",
       "<a class=\"cartGo\" href=\"#\" value=\"356522531\"><span>CART</span></a>\n",
       "</li>\n",
       "<li class=\"buy\">\n",
       "<a href=\"javascript:directOrd('356522531');\"><span>BUY</span></a>\n",
       "</li>\n",
       "</ul>\n",
       "</div>\n",
       "<div class=\"rankNumber digit2\">\n",
       "<span class=\"rankBtn_ctrl rkNum_B01\"></span>\n",
       "</div>\n",
       "</div>\n",
       "<div class=\"itemIcon\">\n",
       "<span class=\"bestSeller\">베스트셀러</span>\n",
       "</div>\n",
       "<a href=\"/product/BookDisplay.do?_method=detail&amp;sc.shopNo=0000400000&amp;sc.prdNo=356522531&amp;sc.saNo=003003001&amp;bid1=Best_zone&amp;bid2=LiveRanking&amp;bid3=PRD&amp;bid4=001\" target=\"_blank\">\n",
       "<div class=\"itemName\"><strong>세이노의 가르침 </strong></div>\n",
       "<div class=\"itemMeta\">\n",
       "<span class=\"author\">세이노</span>\n",
       "<span class=\"company\">데이원</span>\n",
       "</div>\n",
       "<div class=\"priceWrap\">\n",
       "<span class=\"price\">\n",
       "<em>6,480</em>\n",
       "<span class=\"currency\">원</span>\n",
       "</span>\n",
       "<span class=\"benefits\">\n",
       "<span>(</span>\n",
       "<span class=\"discount\">\n",
       "<em>10%</em>\n",
       "<span class=\"unit\">할인</span>\n",
       "</span>\n",
       "<span class=\"save\">\n",
       "<em>5%</em>\n",
       "<span class=\"unit\">적립</span>\n",
       "</span>\n",
       "<span>)</span>\n",
       "</span>\n",
       "</div>\n",
       "</a>\n",
       "<div class=\"reviewStat\">\n",
       "<span class=\"title\">평점</span>\n",
       "<span class=\"starRateWrap\">\n",
       "<span class=\"starRate\" style=\"width:99%\">9.9</span>\n",
       "</span>\n",
       "<em class=\"rateNumber\">9.9</em>\n",
       "</div>\n",
       "<div class=\"saleIndex\">\n",
       "<span class=\"title\">판매지수</span>\n",
       "<em class=\"indexNumber\">238,523</em>\n",
       "</div>\n",
       "<div class=\"relatedEvent\">\n",
       "<ul>\n",
       "<li>\n",
       "<a href=\"http://book.interpark.com/book/genbookeventaction.do?_method=EventPlan&amp;sc.evtNo=242640\" target=\"_blank\">[기획] 4월 인생주간 추천도서전...</a>\n",
       "</li>\n",
       "<li>\n",
       "<a href=\"http://book.interpark.com/book/genbookeventaction.do?_method=EventPlan&amp;sc.evtNo=242639\" target=\"_blank\">[기획] 카카오페이와 도서상품권 ...</a>\n",
       "</li>\n",
       "</ul>\n",
       "</div>\n",
       "</div>\n",
       "<!-- singleType or setType :: end -->\n",
       "</li>"
      ]
     },
     "execution_count": 13,
     "metadata": {},
     "output_type": "execute_result"
    }
   ],
   "source": [
    "li = lis[0]\n",
    "li"
   ]
  },
  {
   "cell_type": "code",
   "execution_count": 14,
   "id": "3038a657",
   "metadata": {},
   "outputs": [
    {
     "data": {
      "text/plain": [
       "'세이노의 가르침'"
      ]
     },
     "execution_count": 14,
     "metadata": {},
     "output_type": "execute_result"
    }
   ],
   "source": [
    "title = li.select_one('.itemName').get_text().strip()\n",
    "title"
   ]
  },
  {
   "cell_type": "code",
   "execution_count": 15,
   "id": "4e4b2b16",
   "metadata": {},
   "outputs": [
    {
     "data": {
      "text/plain": [
       "'세이노'"
      ]
     },
     "execution_count": 15,
     "metadata": {},
     "output_type": "execute_result"
    }
   ],
   "source": [
    "author = li.select_one('.author').get_text().strip()\n",
    "author"
   ]
  },
  {
   "cell_type": "code",
   "execution_count": 16,
   "id": "5e99b4a3",
   "metadata": {},
   "outputs": [
    {
     "data": {
      "text/plain": [
       "'데이원'"
      ]
     },
     "execution_count": 16,
     "metadata": {},
     "output_type": "execute_result"
    }
   ],
   "source": [
    "company = li.select_one('.company').get_text().strip()\n",
    "company"
   ]
  },
  {
   "cell_type": "code",
   "execution_count": 17,
   "id": "17476a1a",
   "metadata": {},
   "outputs": [
    {
     "data": {
      "text/plain": [
       "6480"
      ]
     },
     "execution_count": 17,
     "metadata": {},
     "output_type": "execute_result"
    }
   ],
   "source": [
    "price = li.select_one('.price > em').get_text().strip()\n",
    "price = int(price.replace(',',\"\")) #'6,480'\n",
    "price"
   ]
  },
  {
   "cell_type": "code",
   "execution_count": 18,
   "id": "93869e89",
   "metadata": {},
   "outputs": [
    {
     "data": {
      "text/plain": [
       "[<span class=\"rankBtn_ctrl rkNum_M01\"></span>,\n",
       " <span class=\"rankBtn_ctrl rkNum_M04\"></span>]"
      ]
     },
     "execution_count": 18,
     "metadata": {},
     "output_type": "execute_result"
    }
   ],
   "source": [
    "# 순위\n",
    "li = lis[14]\n",
    "rank_spans = li.select('.rankBtn_ctrl')\n",
    "rank_spans"
   ]
  },
  {
   "cell_type": "code",
   "execution_count": 19,
   "id": "b929016d",
   "metadata": {},
   "outputs": [
    {
     "name": "stdout",
     "output_type": "stream",
     "text": [
      "1\n",
      "4\n"
     ]
    }
   ],
   "source": [
    "for span in rank_spans:\n",
    "    print(span['class'][1][-1])"
   ]
  },
  {
   "cell_type": "code",
   "execution_count": 21,
   "id": "9001bf89",
   "metadata": {},
   "outputs": [],
   "source": [
    "rank = ''\n",
    "for span in rank_spans:\n",
    "    rank += span['class'][1][-1]"
   ]
  },
  {
   "cell_type": "code",
   "execution_count": 22,
   "id": "96bccf7d",
   "metadata": {},
   "outputs": [
    {
     "data": {
      "text/plain": [
       "'14'"
      ]
     },
     "execution_count": 22,
     "metadata": {},
     "output_type": "execute_result"
    }
   ],
   "source": [
    "rank"
   ]
  },
  {
   "cell_type": "code",
   "execution_count": 37,
   "id": "13001e17",
   "metadata": {},
   "outputs": [],
   "source": [
    "lines = []\n",
    "for li in lis:\n",
    "    title = li.select_one('.itemName').get_text().strip()\n",
    "    author = li.select_one('.author').get_text().strip()\n",
    "    company = li.select_one('.company').get_text().strip()\n",
    "    price = li.select_one('.price > em').get_text().strip()\n",
    "    price = int(price.replace(',',\"\")) #'6,480'\n",
    "    rank = ''\n",
    "    rank_spans = li.select('.rankBtn_ctrl')\n",
    "    for span in rank_spans:\n",
    "        rank += span['class'][1][-1]\n",
    "    rank = int(rank)\n",
    "    lines.append([rank, title, author, company, price])"
   ]
  },
  {
   "cell_type": "code",
   "execution_count": 34,
   "id": "6f7ba236",
   "metadata": {
    "scrolled": true
   },
   "outputs": [
    {
     "data": {
      "text/html": [
       "<div>\n",
       "<style scoped>\n",
       "    .dataframe tbody tr th:only-of-type {\n",
       "        vertical-align: middle;\n",
       "    }\n",
       "\n",
       "    .dataframe tbody tr th {\n",
       "        vertical-align: top;\n",
       "    }\n",
       "\n",
       "    .dataframe thead th {\n",
       "        text-align: right;\n",
       "    }\n",
       "</style>\n",
       "<table border=\"1\" class=\"dataframe\">\n",
       "  <thead>\n",
       "    <tr style=\"text-align: right;\">\n",
       "      <th></th>\n",
       "      <th>순위</th>\n",
       "      <th>제목</th>\n",
       "      <th>저자</th>\n",
       "      <th>출판사</th>\n",
       "      <th>가격</th>\n",
       "    </tr>\n",
       "  </thead>\n",
       "  <tbody>\n",
       "    <tr>\n",
       "      <th>0</th>\n",
       "      <td>1</td>\n",
       "      <td>세이노의 가르침</td>\n",
       "      <td>세이노</td>\n",
       "      <td>데이원</td>\n",
       "      <td>6480</td>\n",
       "    </tr>\n",
       "    <tr>\n",
       "      <th>1</th>\n",
       "      <td>2</td>\n",
       "      <td>메리골드 마음 세탁소</td>\n",
       "      <td>윤정은</td>\n",
       "      <td>북로망스</td>\n",
       "      <td>13500</td>\n",
       "    </tr>\n",
       "    <tr>\n",
       "      <th>2</th>\n",
       "      <td>3</td>\n",
       "      <td>살 때, 팔 때, 벌 때</td>\n",
       "      <td>강영현</td>\n",
       "      <td>21세기북스</td>\n",
       "      <td>19800</td>\n",
       "    </tr>\n",
       "    <tr>\n",
       "      <th>3</th>\n",
       "      <td>3</td>\n",
       "      <td>영어책 한 권 외워봤니?</td>\n",
       "      <td></td>\n",
       "      <td>위즈덤하우스</td>\n",
       "      <td>12600</td>\n",
       "    </tr>\n",
       "    <tr>\n",
       "      <th>4</th>\n",
       "      <td>5</td>\n",
       "      <td>장하준의 경제학 레시피</td>\n",
       "      <td>장하준</td>\n",
       "      <td>부키</td>\n",
       "      <td>16200</td>\n",
       "    </tr>\n",
       "    <tr>\n",
       "      <th>5</th>\n",
       "      <td>6</td>\n",
       "      <td>사장학개론</td>\n",
       "      <td>김승호</td>\n",
       "      <td>스노우폭스북스</td>\n",
       "      <td>22500</td>\n",
       "    </tr>\n",
       "    <tr>\n",
       "      <th>6</th>\n",
       "      <td>6</td>\n",
       "      <td>괜찮아, 그 길 끝에 행복이 기다릴 거야</td>\n",
       "      <td>손미나</td>\n",
       "      <td>코알라컴퍼니</td>\n",
       "      <td>17100</td>\n",
       "    </tr>\n",
       "    <tr>\n",
       "      <th>7</th>\n",
       "      <td>6</td>\n",
       "      <td>표류하는 세계</td>\n",
       "      <td>스콧 갤러웨이</td>\n",
       "      <td>리더스북</td>\n",
       "      <td>17820</td>\n",
       "    </tr>\n",
       "    <tr>\n",
       "      <th>8</th>\n",
       "      <td>6</td>\n",
       "      <td>내면소통</td>\n",
       "      <td>김주환</td>\n",
       "      <td>인플루엔셜</td>\n",
       "      <td>29700</td>\n",
       "    </tr>\n",
       "    <tr>\n",
       "      <th>9</th>\n",
       "      <td>6</td>\n",
       "      <td>이미 늦었다고 생각하는 당신을 위한 김미경의 마흔 수업</td>\n",
       "      <td>김미경</td>\n",
       "      <td>어웨이크북스</td>\n",
       "      <td>16200</td>\n",
       "    </tr>\n",
       "    <tr>\n",
       "      <th>10</th>\n",
       "      <td>6</td>\n",
       "      <td>불편한 편의점 2(단풍 에디션)</td>\n",
       "      <td>김호연</td>\n",
       "      <td>나무옆의자</td>\n",
       "      <td>12600</td>\n",
       "    </tr>\n",
       "    <tr>\n",
       "      <th>11</th>\n",
       "      <td>6</td>\n",
       "      <td>브라질에 비가 내리면 스타벅스 주식을 사라</td>\n",
       "      <td>피터 나바로/이창식 역/윤지호 감수</td>\n",
       "      <td>에프엔미디어</td>\n",
       "      <td>16200</td>\n",
       "    </tr>\n",
       "    <tr>\n",
       "      <th>12</th>\n",
       "      <td>6</td>\n",
       "      <td>당신은 결국 무엇이든 해내는 사람(10만 부 기념 특별 리커버 에디션)</td>\n",
       "      <td>김상현</td>\n",
       "      <td>필름(Feelm)</td>\n",
       "      <td>13500</td>\n",
       "    </tr>\n",
       "    <tr>\n",
       "      <th>13</th>\n",
       "      <td>14</td>\n",
       "      <td>2023 제14회 젊은작가상 수상작품집</td>\n",
       "      <td>이미상, 김멜라, 성혜령, 이서수, 정선임</td>\n",
       "      <td>문학동네</td>\n",
       "      <td>6930</td>\n",
       "    </tr>\n",
       "    <tr>\n",
       "      <th>14</th>\n",
       "      <td>14</td>\n",
       "      <td>거인의 노트</td>\n",
       "      <td>김익한</td>\n",
       "      <td>다산북스</td>\n",
       "      <td>16200</td>\n",
       "    </tr>\n",
       "  </tbody>\n",
       "</table>\n",
       "</div>"
      ],
      "text/plain": [
       "    순위                                       제목                       저자  \\\n",
       "0    1                                 세이노의 가르침                      세이노   \n",
       "1    2                              메리골드 마음 세탁소                      윤정은   \n",
       "2    3                            살 때, 팔 때, 벌 때                      강영현   \n",
       "3    3                            영어책 한 권 외워봤니?                            \n",
       "4    5                             장하준의 경제학 레시피                      장하준   \n",
       "5    6                                    사장학개론                      김승호   \n",
       "6    6                   괜찮아, 그 길 끝에 행복이 기다릴 거야                      손미나   \n",
       "7    6                                  표류하는 세계                  스콧 갤러웨이   \n",
       "8    6                                     내면소통                      김주환   \n",
       "9    6           이미 늦었다고 생각하는 당신을 위한 김미경의 마흔 수업                      김미경   \n",
       "10   6                        불편한 편의점 2(단풍 에디션)                      김호연   \n",
       "11   6                  브라질에 비가 내리면 스타벅스 주식을 사라      피터 나바로/이창식 역/윤지호 감수   \n",
       "12   6  당신은 결국 무엇이든 해내는 사람(10만 부 기념 특별 리커버 에디션)                      김상현   \n",
       "13  14                    2023 제14회 젊은작가상 수상작품집  이미상, 김멜라, 성혜령, 이서수, 정선임   \n",
       "14  14                                   거인의 노트                      김익한   \n",
       "\n",
       "          출판사     가격  \n",
       "0         데이원   6480  \n",
       "1        북로망스  13500  \n",
       "2      21세기북스  19800  \n",
       "3      위즈덤하우스  12600  \n",
       "4          부키  16200  \n",
       "5     스노우폭스북스  22500  \n",
       "6      코알라컴퍼니  17100  \n",
       "7        리더스북  17820  \n",
       "8       인플루엔셜  29700  \n",
       "9      어웨이크북스  16200  \n",
       "10      나무옆의자  12600  \n",
       "11     에프엔미디어  16200  \n",
       "12  필름(Feelm)  13500  \n",
       "13       문학동네   6930  \n",
       "14       다산북스  16200  "
      ]
     },
     "execution_count": 34,
     "metadata": {},
     "output_type": "execute_result"
    }
   ],
   "source": [
    "df = pd.DataFrame(lines, columns = ['순위', '제목', '저자', '출판사','가격'])\n",
    "df"
   ]
  },
  {
   "cell_type": "code",
   "execution_count": 38,
   "id": "58dd6509",
   "metadata": {},
   "outputs": [],
   "source": [
    "df.to_csv('도서 베스트셀러.csv', index = False)"
   ]
  }
 ],
 "metadata": {
  "kernelspec": {
   "display_name": "Python 3 (ipykernel)",
   "language": "python",
   "name": "python3"
  },
  "language_info": {
   "codemirror_mode": {
    "name": "ipython",
    "version": 3
   },
   "file_extension": ".py",
   "mimetype": "text/x-python",
   "name": "python",
   "nbconvert_exporter": "python",
   "pygments_lexer": "ipython3",
   "version": "3.8.7"
  }
 },
 "nbformat": 4,
 "nbformat_minor": 5
}
