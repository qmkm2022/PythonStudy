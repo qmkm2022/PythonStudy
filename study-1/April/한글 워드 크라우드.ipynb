{
 "cells": [
  {
   "cell_type": "markdown",
   "id": "415b4319",
   "metadata": {},
   "source": [
    "# 한글 워드 크라우드"
   ]
  },
  {
   "cell_type": "code",
   "execution_count": 1,
   "id": "fd123faa",
   "metadata": {},
   "outputs": [],
   "source": [
    "import pandas as pd\n",
    "import numpy as np\n",
    "import matplotlib as mpl\n",
    "import matplotlib.pyplot as plt\n",
    "import seaborn as sns\n",
    "import folium\n",
    "import json\n",
    "import nltk\n",
    "from wordcloud import WordCloud, STOPWORDS\n",
    "from PIL import Image # 그림을 불러오는 패키지\n",
    "from nltk.corpus import stopwords\n",
    "import pickle\n",
    "from matplotlib import font_manager, rc\n",
    "mpl.rcParams['axes.unicode_minus'] = False\n",
    "plt.rc('font', family = 'Malgun Gothic')\n",
    "from konlpy.tag import Okt, Kkma, Komoran\n",
    "import requests\n",
    "from bs4 import BeautifulSoup\n",
    "from tqdm.notebook import tqdm"
   ]
  },
  {
   "cell_type": "code",
   "execution_count": 2,
   "id": "2a7166da",
   "metadata": {},
   "outputs": [],
   "source": [
    "#konlpy\n",
    "okt = Okt()\n",
    "kkma = Kkma()\n",
    "kr = Komoran()"
   ]
  },
  {
   "cell_type": "code",
   "execution_count": 3,
   "id": "69277ec2",
   "metadata": {},
   "outputs": [],
   "source": [
    "text = '열심히 코딩한 당신, 연휴에는 여행을 떠나 보세요.'"
   ]
  },
  {
   "cell_type": "code",
   "execution_count": 4,
   "id": "78f1819a",
   "metadata": {},
   "outputs": [
    {
     "name": "stdout",
     "output_type": "stream",
     "text": [
      "['열심히', '코딩', '한', '당신', ',', '연휴', '에는', '여행', '을', '떠나', '보세요', '.']\n",
      "['열심히', '코딩', '하', 'ㄴ', '당신', ',', '연휴', '에', '는', '여행', '을', '떨', '나', '보', '세요', '.']\n",
      "['열심히', '코', '딩', '하', 'ㄴ', '당신', ',', '연휴', '에', '는', '여행', '을', '떠나', '아', '보', '시', '어요', '.']\n"
     ]
    }
   ],
   "source": [
    "# 한글 형태소 분석기별 차이점\n",
    "print(okt.morphs(text))\n",
    "print(kkma.morphs(text))\n",
    "print(kr.morphs(text))"
   ]
  },
  {
   "cell_type": "code",
   "execution_count": 5,
   "id": "4732b0bb",
   "metadata": {},
   "outputs": [
    {
     "name": "stdout",
     "output_type": "stream",
     "text": [
      "[('열심히', 'Adverb'), ('코딩', 'Noun'), ('한', 'Josa'), ('당신', 'Noun'), (',', 'Punctuation'), ('연휴', 'Noun'), ('에는', 'Josa'), ('여행', 'Noun'), ('을', 'Josa'), ('떠나', 'Verb'), ('보세요', 'Verb'), ('.', 'Punctuation')]\n",
      "[('열심히', 'MAG'), ('코딩', 'NNG'), ('하', 'XSV'), ('ㄴ', 'ETD'), ('당신', 'NP'), (',', 'SP'), ('연휴', 'NNG'), ('에', 'JKM'), ('는', 'JX'), ('여행', 'NNG'), ('을', 'JKO'), ('떨', 'VV'), ('나', 'ECE'), ('보', 'VXV'), ('세요', 'EFN'), ('.', 'SF')]\n",
      "[('열심히', 'MAG'), ('코', 'NNG'), ('딩', 'MAG'), ('하', 'XSV'), ('ㄴ', 'ETM'), ('당신', 'NNP'), (',', 'SP'), ('연휴', 'NNG'), ('에', 'JKB'), ('는', 'JX'), ('여행', 'NNG'), ('을', 'JKO'), ('떠나', 'VV'), ('아', 'EC'), ('보', 'VV'), ('시', 'EP'), ('어요', 'EF'), ('.', 'SF')]\n"
     ]
    }
   ],
   "source": [
    "# 품사 태깅 pos = part-of-speech tagging\n",
    "# http://kkma.snu.ac.kr/documents/?doc=postag\n",
    "print(okt.pos(text))\n",
    "print(kkma.pos(text))\n",
    "print(kr.pos(text))"
   ]
  },
  {
   "cell_type": "markdown",
   "id": "09ae336b",
   "metadata": {},
   "source": [
    "# 명사만 추출"
   ]
  },
  {
   "cell_type": "code",
   "execution_count": 6,
   "id": "20153250",
   "metadata": {},
   "outputs": [
    {
     "name": "stdout",
     "output_type": "stream",
     "text": [
      "['코딩', '당신', '연휴', '여행']\n",
      "['코딩', '당신', '연휴', '여행']\n",
      "['코', '당신', '연휴', '여행']\n"
     ]
    }
   ],
   "source": [
    "print(okt.nouns(text))\n",
    "print(kkma.nouns(text))\n",
    "print(kr.nouns(text))"
   ]
  },
  {
   "cell_type": "markdown",
   "id": "67d1caf6",
   "metadata": {},
   "source": [
    "# 새로나온책 200권 tag 워드 크라우드 만들기"
   ]
  },
  {
   "cell_type": "code",
   "execution_count": 69,
   "id": "a74c9b15",
   "metadata": {},
   "outputs": [],
   "source": [
    "base_url = 'https://www.hanbit.co.kr'\n",
    "sub_url = '/academy/books/new_book_list.html'\n",
    "url = base_url + sub_url + '?page=' + str(1)\n",
    "res = requests.get(url)\n",
    "soup = BeautifulSoup(res.text, 'html.parser')"
   ]
  },
  {
   "cell_type": "code",
   "execution_count": 70,
   "id": "8fc00906",
   "metadata": {},
   "outputs": [
    {
     "data": {
      "text/plain": [
       "20"
      ]
     },
     "execution_count": 70,
     "metadata": {},
     "output_type": "execute_result"
    }
   ],
   "source": [
    "lis = soup.select('li.sub_book_list')\n",
    "len(lis)"
   ]
  },
  {
   "cell_type": "code",
   "execution_count": 71,
   "id": "bc98513f",
   "metadata": {},
   "outputs": [],
   "source": [
    "li = lis[0]"
   ]
  },
  {
   "cell_type": "code",
   "execution_count": 72,
   "id": "266b6e8d",
   "metadata": {},
   "outputs": [],
   "source": [
    "#서브페이지 링크 추출\n",
    "book_url = li.find('a')['href']"
   ]
  },
  {
   "cell_type": "code",
   "execution_count": 73,
   "id": "80d79d0a",
   "metadata": {},
   "outputs": [],
   "source": [
    "res = requests.get(base_url + sub_url)\n",
    "book_soup = BeautifulSoup(res.text, 'html.parser')"
   ]
  },
  {
   "cell_type": "code",
   "execution_count": 74,
   "id": "f62081a4",
   "metadata": {
    "scrolled": true
   },
   "outputs": [
    {
     "data": {
      "text/plain": [
       "0"
      ]
     },
     "execution_count": 74,
     "metadata": {},
     "output_type": "execute_result"
    }
   ],
   "source": [
    "tags = soup.select('.tag_area > a')\n",
    "len(tags)"
   ]
  },
  {
   "cell_type": "code",
   "execution_count": 64,
   "id": "8cd32e1a",
   "metadata": {},
   "outputs": [],
   "source": [
    "tag_list = []\n",
    "for i in tags:\n",
    "    tag_list.append(i.get_text().strip)"
   ]
  },
  {
   "cell_type": "code",
   "execution_count": 65,
   "id": "9a6f6ba6",
   "metadata": {
    "scrolled": false
   },
   "outputs": [
    {
     "name": "stdout",
     "output_type": "stream",
     "text": [
      "[<built-in method strip of str object at 0x0000014AA79408A0>, <built-in method strip of str object at 0x0000014AA8665430>, <built-in method strip of str object at 0x0000014AA7425D50>]\n"
     ]
    }
   ],
   "source": [
    "print(tag_list)"
   ]
  },
  {
   "cell_type": "code",
   "execution_count": 66,
   "id": "f0d45581",
   "metadata": {},
   "outputs": [
    {
     "data": {
      "application/vnd.jupyter.widget-view+json": {
       "model_id": "5edf1738843a4dc6b34d88a3ce2fd6f2",
       "version_major": 2,
       "version_minor": 0
      },
      "text/plain": [
       "  0%|          | 0/10 [00:00<?, ?it/s]"
      ]
     },
     "metadata": {},
     "output_type": "display_data"
    }
   ],
   "source": [
    "tag_list = []\n",
    "for page in tqdm(range(1, 11)):\n",
    "    url = f'{base_url}{sub_url}?page={page}'\n",
    "    res=requests.get(url)\n",
    "    soup = BeautifulSoup(res.text, 'html.parser')\n",
    "    lis = soup.select('sub_book_list')\n",
    "    for li in lis:\n",
    "        book_url = li.find('a')['href']\n",
    "        res = requests.get(base_url + book_url)\n",
    "        book_soup = BeautifulSoup(sub_req.text, 'html.parser')\n",
    "        tags = book_soup.select('.tag_area > a')\n",
    "        for i in tags:\n",
    "            tag_list.append(i.get_text().strip)"
   ]
  },
  {
   "cell_type": "code",
   "execution_count": 67,
   "id": "f938800d",
   "metadata": {},
   "outputs": [
    {
     "data": {
      "text/plain": [
       "0"
      ]
     },
     "execution_count": 67,
     "metadata": {},
     "output_type": "execute_result"
    }
   ],
   "source": [
    "len(tag_list)"
   ]
  },
  {
   "cell_type": "code",
   "execution_count": null,
   "id": "1719cb4c",
   "metadata": {},
   "outputs": [],
   "source": []
  }
 ],
 "metadata": {
  "kernelspec": {
   "display_name": "Python 3 (ipykernel)",
   "language": "python",
   "name": "python3"
  },
  "language_info": {
   "codemirror_mode": {
    "name": "ipython",
    "version": 3
   },
   "file_extension": ".py",
   "mimetype": "text/x-python",
   "name": "python",
   "nbconvert_exporter": "python",
   "pygments_lexer": "ipython3",
   "version": "3.8.7"
  }
 },
 "nbformat": 4,
 "nbformat_minor": 5
}
