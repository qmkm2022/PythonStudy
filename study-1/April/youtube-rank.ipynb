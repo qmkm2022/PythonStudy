{
 "cells": [
  {
   "cell_type": "markdown",
   "id": "8e786387",
   "metadata": {},
   "source": [
    "https://youtube-rank.com/\n",
    "https://youtube-rank.com/board/bbs/board.php?\n",
    "순위, 카테고리, 채널, 구독자수, 조회수, 비디오수\n",
    "셀레늄으로 해당페이지를 열고 + BS4를 사용해서 크롤링\n",
    "https://youtube-rank.com/board/bbs/board.php?\n",
    "10페이지"
   ]
  },
  {
   "cell_type": "code",
   "execution_count": 41,
   "id": "b49dbe5d",
   "metadata": {},
   "outputs": [],
   "source": [
    "import time\n",
    "from selenium import webdriver\n",
    "from bs4 import BeautifulSoup\n",
    "import pandas as pd\n",
    "from tqdm.notebook import tqdm"
   ]
  },
  {
   "cell_type": "code",
   "execution_count": 2,
   "id": "ec71539c",
   "metadata": {},
   "outputs": [],
   "source": [
    "url = 'https://youtube-rank.com/board/bbs/board.php?bo_table=youtube'\n",
    "driver = webdriver.Chrome()\n",
    "driver.get(url)\n",
    "time.sleep(2)"
   ]
  },
  {
   "cell_type": "code",
   "execution_count": 3,
   "id": "3ce35c4c",
   "metadata": {},
   "outputs": [
    {
     "data": {
      "text/plain": [
       "100"
      ]
     },
     "execution_count": 3,
     "metadata": {},
     "output_type": "execute_result"
    }
   ],
   "source": [
    "# soup\n",
    "soup = BeautifulSoup(driver.page_source, 'html.parser')\n",
    "trs = soup.select('tr.aos-init')\n",
    "len(trs)"
   ]
  },
  {
   "cell_type": "code",
   "execution_count": 4,
   "id": "2c4b6341",
   "metadata": {},
   "outputs": [],
   "source": [
    "tr = trs[0]"
   ]
  },
  {
   "cell_type": "code",
   "execution_count": 17,
   "id": "52c33c09",
   "metadata": {},
   "outputs": [
    {
     "data": {
      "text/plain": [
       "'1'"
      ]
     },
     "execution_count": 17,
     "metadata": {},
     "output_type": "execute_result"
    }
   ],
   "source": [
    "rank = tr.select_one('.rank').get_text().strip()\n",
    "rank"
   ]
  },
  {
   "cell_type": "code",
   "execution_count": 23,
   "id": "6228ba8f",
   "metadata": {},
   "outputs": [
    {
     "data": {
      "text/plain": [
       "'음악/댄스/가수'"
      ]
     },
     "execution_count": 23,
     "metadata": {},
     "output_type": "execute_result"
    }
   ],
   "source": [
    "category = tr.select_one('.category').get_text().strip()[1:-1]\n",
    "category"
   ]
  },
  {
   "cell_type": "code",
   "execution_count": 32,
   "id": "1a8fd2a5",
   "metadata": {},
   "outputs": [
    {
     "data": {
      "text/plain": [
       "'BLACKPINK'"
      ]
     },
     "execution_count": 32,
     "metadata": {},
     "output_type": "execute_result"
    }
   ],
   "source": [
    "channel = tr.select_one('.subject a').get_text().strip()\n",
    "channel"
   ]
  },
  {
   "cell_type": "code",
   "execution_count": 26,
   "id": "71569f0b",
   "metadata": {},
   "outputs": [
    {
     "data": {
      "text/plain": [
       "'8680만'"
      ]
     },
     "execution_count": 26,
     "metadata": {},
     "output_type": "execute_result"
    }
   ],
   "source": [
    "subscriber = tr.select_one('.subscriber_cnt').get_text().strip()\n",
    "subscriber"
   ]
  },
  {
   "cell_type": "code",
   "execution_count": 28,
   "id": "a217e07f",
   "metadata": {},
   "outputs": [
    {
     "data": {
      "text/plain": [
       "'303억4016만'"
      ]
     },
     "execution_count": 28,
     "metadata": {},
     "output_type": "execute_result"
    }
   ],
   "source": [
    "view = tr.select_one('.view_cnt').get_text().strip()\n",
    "view"
   ]
  },
  {
   "cell_type": "code",
   "execution_count": 29,
   "id": "3c947a78",
   "metadata": {},
   "outputs": [
    {
     "data": {
      "text/plain": [
       "'505개'"
      ]
     },
     "execution_count": 29,
     "metadata": {},
     "output_type": "execute_result"
    }
   ],
   "source": [
    "video = tr.select_one('.video_cnt').get_text().strip()\n",
    "video"
   ]
  },
  {
   "cell_type": "code",
   "execution_count": 33,
   "id": "b3afc86c",
   "metadata": {},
   "outputs": [],
   "source": [
    "# 첫페이지 크롤링\n",
    "lines = []\n",
    "for tr in trs:\n",
    "    rank = tr.select_one('.rank').get_text().strip()\n",
    "    category = tr.select_one('.category').get_text().strip()[1:-1]\n",
    "    channel = tr.select_one('.subject a').get_text().strip()\n",
    "    view = tr.select_one('.view_cnt').get_text().strip()\n",
    "    video = tr.select_one('.video_cnt').get_text().strip()\n",
    "    lines.append([rank, category, channel, subscriber, view, video])"
   ]
  },
  {
   "cell_type": "code",
   "execution_count": 34,
   "id": "f1eb1ed0",
   "metadata": {},
   "outputs": [
    {
     "data": {
      "text/html": [
       "<div>\n",
       "<style scoped>\n",
       "    .dataframe tbody tr th:only-of-type {\n",
       "        vertical-align: middle;\n",
       "    }\n",
       "\n",
       "    .dataframe tbody tr th {\n",
       "        vertical-align: top;\n",
       "    }\n",
       "\n",
       "    .dataframe thead th {\n",
       "        text-align: right;\n",
       "    }\n",
       "</style>\n",
       "<table border=\"1\" class=\"dataframe\">\n",
       "  <thead>\n",
       "    <tr style=\"text-align: right;\">\n",
       "      <th></th>\n",
       "      <th>순위</th>\n",
       "      <th>카테고리</th>\n",
       "      <th>채널</th>\n",
       "      <th>구독자수</th>\n",
       "      <th>조회수</th>\n",
       "      <th>영상수</th>\n",
       "    </tr>\n",
       "  </thead>\n",
       "  <tbody>\n",
       "    <tr>\n",
       "      <th>0</th>\n",
       "      <td>1</td>\n",
       "      <td>음악/댄스/가수</td>\n",
       "      <td>BLACKPINK</td>\n",
       "      <td>8680만</td>\n",
       "      <td>303억4016만</td>\n",
       "      <td>505개</td>\n",
       "    </tr>\n",
       "    <tr>\n",
       "      <th>1</th>\n",
       "      <td>2</td>\n",
       "      <td>음악/댄스/가수</td>\n",
       "      <td>BANGTANTV</td>\n",
       "      <td>8680만</td>\n",
       "      <td>200억7895만</td>\n",
       "      <td>2,174개</td>\n",
       "    </tr>\n",
       "    <tr>\n",
       "      <th>2</th>\n",
       "      <td>3</td>\n",
       "      <td>음악/댄스/가수</td>\n",
       "      <td>HYBE LABELS</td>\n",
       "      <td>8680만</td>\n",
       "      <td>272억1306만</td>\n",
       "      <td>1,142개</td>\n",
       "    </tr>\n",
       "    <tr>\n",
       "      <th>3</th>\n",
       "      <td>4</td>\n",
       "      <td>음악/댄스/가수</td>\n",
       "      <td>SMTOWN</td>\n",
       "      <td>8680만</td>\n",
       "      <td>267억4680만</td>\n",
       "      <td>4,108개</td>\n",
       "    </tr>\n",
       "    <tr>\n",
       "      <th>4</th>\n",
       "      <td>5</td>\n",
       "      <td>음악/댄스/가수</td>\n",
       "      <td>JYP Entertainment</td>\n",
       "      <td>8680만</td>\n",
       "      <td>192억3639만</td>\n",
       "      <td>1,662개</td>\n",
       "    </tr>\n",
       "    <tr>\n",
       "      <th>...</th>\n",
       "      <td>...</td>\n",
       "      <td>...</td>\n",
       "      <td>...</td>\n",
       "      <td>...</td>\n",
       "      <td>...</td>\n",
       "      <td>...</td>\n",
       "    </tr>\n",
       "    <tr>\n",
       "      <th>95</th>\n",
       "      <td>96</td>\n",
       "      <td>키즈/어린이</td>\n",
       "      <td>뽀로로(Pororo)</td>\n",
       "      <td>8680만</td>\n",
       "      <td>68억3934만</td>\n",
       "      <td>4,151개</td>\n",
       "    </tr>\n",
       "    <tr>\n",
       "      <th>96</th>\n",
       "      <td>97</td>\n",
       "      <td>애완/반려동물</td>\n",
       "      <td>SBS TV동물농장x애니멀봐</td>\n",
       "      <td>8680만</td>\n",
       "      <td>46억2878만</td>\n",
       "      <td>4,147개</td>\n",
       "    </tr>\n",
       "    <tr>\n",
       "      <th>97</th>\n",
       "      <td>98</td>\n",
       "      <td>키즈/어린이</td>\n",
       "      <td>CoCosToy 꼬꼬스토이</td>\n",
       "      <td>8680만</td>\n",
       "      <td>29억7937만</td>\n",
       "      <td>684개</td>\n",
       "    </tr>\n",
       "    <tr>\n",
       "      <th>98</th>\n",
       "      <td>99</td>\n",
       "      <td>음식/요리/레시피</td>\n",
       "      <td>Cooking tree 쿠킹트리</td>\n",
       "      <td>8680만</td>\n",
       "      <td>4억8734만</td>\n",
       "      <td>1,453개</td>\n",
       "    </tr>\n",
       "    <tr>\n",
       "      <th>99</th>\n",
       "      <td>100</td>\n",
       "      <td>TV/방송</td>\n",
       "      <td>JTBC Drama</td>\n",
       "      <td>8680만</td>\n",
       "      <td>52억2976만</td>\n",
       "      <td>27,723개</td>\n",
       "    </tr>\n",
       "  </tbody>\n",
       "</table>\n",
       "<p>100 rows × 6 columns</p>\n",
       "</div>"
      ],
      "text/plain": [
       "     순위       카테고리                 채널   구독자수        조회수      영상수\n",
       "0     1   음악/댄스/가수          BLACKPINK  8680만  303억4016만     505개\n",
       "1     2   음악/댄스/가수          BANGTANTV  8680만  200억7895만   2,174개\n",
       "2     3   음악/댄스/가수        HYBE LABELS  8680만  272억1306만   1,142개\n",
       "3     4   음악/댄스/가수             SMTOWN  8680만  267억4680만   4,108개\n",
       "4     5   음악/댄스/가수  JYP Entertainment  8680만  192억3639만   1,662개\n",
       "..  ...        ...                ...    ...        ...      ...\n",
       "95   96     키즈/어린이        뽀로로(Pororo)  8680만   68억3934만   4,151개\n",
       "96   97    애완/반려동물    SBS TV동물농장x애니멀봐  8680만   46억2878만   4,147개\n",
       "97   98     키즈/어린이     CoCosToy 꼬꼬스토이  8680만   29억7937만     684개\n",
       "98   99  음식/요리/레시피  Cooking tree 쿠킹트리  8680만    4억8734만   1,453개\n",
       "99  100      TV/방송         JTBC Drama  8680만   52억2976만  27,723개\n",
       "\n",
       "[100 rows x 6 columns]"
      ]
     },
     "execution_count": 34,
     "metadata": {},
     "output_type": "execute_result"
    }
   ],
   "source": [
    "df = pd.DataFrame(lines, columns=['순위', '카테고리', '채널', '구독자수', '조회수', '영상수'])\n",
    "df"
   ]
  },
  {
   "cell_type": "code",
   "execution_count": 38,
   "id": "79eb2f3d",
   "metadata": {},
   "outputs": [],
   "source": [
    "def convert_unit(s):\n",
    "    s = s.replace(\"억\", \"\").replace(\"개\", \"\").replace(',','').replace('만', '0,000')\n",
    "    return f'{int(s):,d}'"
   ]
  },
  {
   "cell_type": "code",
   "execution_count": 39,
   "id": "9dbc5e4a",
   "metadata": {
    "collapsed": true
   },
   "outputs": [
    {
     "ename": "ValueError",
     "evalue": "invalid literal for int() with base 10: '30340160,000'",
     "output_type": "error",
     "traceback": [
      "\u001b[1;31m---------------------------------------------------------------------------\u001b[0m",
      "\u001b[1;31mValueError\u001b[0m                                Traceback (most recent call last)",
      "Cell \u001b[1;32mIn[39], line 1\u001b[0m\n\u001b[1;32m----> 1\u001b[0m \u001b[43mconvert_unit\u001b[49m\u001b[43m(\u001b[49m\u001b[38;5;124;43m'\u001b[39;49m\u001b[38;5;124;43m303억4016만\u001b[39;49m\u001b[38;5;124;43m'\u001b[39;49m\u001b[43m)\u001b[49m\n",
      "Cell \u001b[1;32mIn[38], line 3\u001b[0m, in \u001b[0;36mconvert_unit\u001b[1;34m(s)\u001b[0m\n\u001b[0;32m      1\u001b[0m \u001b[38;5;28;01mdef\u001b[39;00m \u001b[38;5;21mconvert_unit\u001b[39m(s):\n\u001b[0;32m      2\u001b[0m     s \u001b[38;5;241m=\u001b[39m s\u001b[38;5;241m.\u001b[39mreplace(\u001b[38;5;124m\"\u001b[39m\u001b[38;5;124m억\u001b[39m\u001b[38;5;124m\"\u001b[39m, \u001b[38;5;124m\"\u001b[39m\u001b[38;5;124m\"\u001b[39m)\u001b[38;5;241m.\u001b[39mreplace(\u001b[38;5;124m\"\u001b[39m\u001b[38;5;124m개\u001b[39m\u001b[38;5;124m\"\u001b[39m, \u001b[38;5;124m\"\u001b[39m\u001b[38;5;124m\"\u001b[39m)\u001b[38;5;241m.\u001b[39mreplace(\u001b[38;5;124m'\u001b[39m\u001b[38;5;124m,\u001b[39m\u001b[38;5;124m'\u001b[39m,\u001b[38;5;124m'\u001b[39m\u001b[38;5;124m'\u001b[39m)\u001b[38;5;241m.\u001b[39mreplace(\u001b[38;5;124m'\u001b[39m\u001b[38;5;124m만\u001b[39m\u001b[38;5;124m'\u001b[39m, \u001b[38;5;124m'\u001b[39m\u001b[38;5;124m0,000\u001b[39m\u001b[38;5;124m'\u001b[39m)\n\u001b[1;32m----> 3\u001b[0m     \u001b[38;5;28;01mreturn\u001b[39;00m \u001b[38;5;124mf\u001b[39m\u001b[38;5;124m'\u001b[39m\u001b[38;5;132;01m{\u001b[39;00m\u001b[38;5;28mint\u001b[39m(s)\u001b[38;5;132;01m:\u001b[39;00m\u001b[38;5;124m,d\u001b[39m\u001b[38;5;132;01m}\u001b[39;00m\u001b[38;5;124m'\u001b[39m\n",
      "\u001b[1;31mValueError\u001b[0m: invalid literal for int() with base 10: '30340160,000'"
     ]
    }
   ],
   "source": [
    "convert_unit('303억4016만')"
   ]
  },
  {
   "cell_type": "code",
   "execution_count": 40,
   "id": "ffdefad7",
   "metadata": {
    "collapsed": true
   },
   "outputs": [
    {
     "ename": "NameError",
     "evalue": "name 'colunm' is not defined",
     "output_type": "error",
     "traceback": [
      "\u001b[1;31m---------------------------------------------------------------------------\u001b[0m",
      "\u001b[1;31mNameError\u001b[0m                                 Traceback (most recent call last)",
      "Cell \u001b[1;32mIn[40], line 2\u001b[0m\n\u001b[0;32m      1\u001b[0m \u001b[38;5;28;01mfor\u001b[39;00m column \u001b[38;5;129;01min\u001b[39;00m df\u001b[38;5;241m.\u001b[39mcolumns[\u001b[38;5;241m3\u001b[39m:]:\n\u001b[1;32m----> 2\u001b[0m     df[column] \u001b[38;5;241m=\u001b[39m df[\u001b[43mcolunm\u001b[49m]\u001b[38;5;241m.\u001b[39mapply(convert_unit)\n\u001b[0;32m      3\u001b[0m df\u001b[38;5;241m.\u001b[39mhead\n",
      "\u001b[1;31mNameError\u001b[0m: name 'colunm' is not defined"
     ]
    }
   ],
   "source": [
    "for column in df.columns[3:]:\n",
    "    df[column] = df[colunm].apply(convert_unit)\n",
    "df.head"
   ]
  },
  {
   "cell_type": "code",
   "execution_count": 45,
   "id": "4d44cfea",
   "metadata": {},
   "outputs": [
    {
     "data": {
      "application/vnd.jupyter.widget-view+json": {
       "model_id": "4b1acb052c7641d5bcf23404aa722f71",
       "version_major": 2,
       "version_minor": 0
      },
      "text/plain": [
       "  0%|          | 0/10 [00:00<?, ?it/s]"
      ]
     },
     "metadata": {},
     "output_type": "display_data"
    }
   ],
   "source": [
    "lines = []\n",
    "for page in tqdm(range(1, 11)):\n",
    "    url = 'https://youtube-rank.com/board/bbs/board.php?bo_table=youtube&page=' + str(page)\n",
    "    driver.get(url)\n",
    "    time.sleep(2)\n",
    "    soup = BeautifulSoup(driver.page_source, 'html.parser')\n",
    "    trs = soup.select('tr.aos-init')\n",
    "    \n",
    "    for tr in trs:\n",
    "        rank = tr.select_one('.rank').get_text().strip()\n",
    "        category = tr.select_one('.category').get_text().strip()[1:-1]\n",
    "        channel = tr.select_one('.subject a').get_text().strip()\n",
    "        view = tr.select_one('.view_cnt').get_text().strip()\n",
    "        video = tr.select_one('.video_cnt').get_text().strip()\n",
    "    lines.append([rank, category, channel, subscriber, view, video])"
   ]
  },
  {
   "cell_type": "code",
   "execution_count": 46,
   "id": "e6394de8",
   "metadata": {},
   "outputs": [
    {
     "data": {
      "text/html": [
       "<div>\n",
       "<style scoped>\n",
       "    .dataframe tbody tr th:only-of-type {\n",
       "        vertical-align: middle;\n",
       "    }\n",
       "\n",
       "    .dataframe tbody tr th {\n",
       "        vertical-align: top;\n",
       "    }\n",
       "\n",
       "    .dataframe thead th {\n",
       "        text-align: right;\n",
       "    }\n",
       "</style>\n",
       "<table border=\"1\" class=\"dataframe\">\n",
       "  <thead>\n",
       "    <tr style=\"text-align: right;\">\n",
       "      <th></th>\n",
       "      <th>순위</th>\n",
       "      <th>카테고리</th>\n",
       "      <th>채널</th>\n",
       "      <th>구독자수</th>\n",
       "      <th>조회수</th>\n",
       "      <th>영상수</th>\n",
       "    </tr>\n",
       "  </thead>\n",
       "  <tbody>\n",
       "    <tr>\n",
       "      <th>0</th>\n",
       "      <td>100</td>\n",
       "      <td>TV/방송</td>\n",
       "      <td>JTBC Drama</td>\n",
       "      <td>8680만</td>\n",
       "      <td>52억2976만</td>\n",
       "      <td>27,723개</td>\n",
       "    </tr>\n",
       "    <tr>\n",
       "      <th>1</th>\n",
       "      <td>199</td>\n",
       "      <td>취미/라이프</td>\n",
       "      <td>ASMR PPOMO</td>\n",
       "      <td>8680만</td>\n",
       "      <td>7억9147만</td>\n",
       "      <td>590개</td>\n",
       "    </tr>\n",
       "    <tr>\n",
       "      <th>2</th>\n",
       "      <td>297</td>\n",
       "      <td>키즈/어린이</td>\n",
       "      <td>대문밖장덕대</td>\n",
       "      <td>8680만</td>\n",
       "      <td>9억2704만</td>\n",
       "      <td>1,639개</td>\n",
       "    </tr>\n",
       "    <tr>\n",
       "      <th>3</th>\n",
       "      <td>404</td>\n",
       "      <td>음악/댄스/가수</td>\n",
       "      <td>Lemoring</td>\n",
       "      <td>8680만</td>\n",
       "      <td>10억9611만</td>\n",
       "      <td>567개</td>\n",
       "    </tr>\n",
       "    <tr>\n",
       "      <th>4</th>\n",
       "      <td>502</td>\n",
       "      <td>미분류</td>\n",
       "      <td>제발돼라 PleaseBee</td>\n",
       "      <td>8680만</td>\n",
       "      <td>3억5203만</td>\n",
       "      <td>235개</td>\n",
       "    </tr>\n",
       "    <tr>\n",
       "      <th>5</th>\n",
       "      <td>594</td>\n",
       "      <td>키즈/어린이</td>\n",
       "      <td>Toystar TV</td>\n",
       "      <td>8680만</td>\n",
       "      <td>5억0580만</td>\n",
       "      <td>99개</td>\n",
       "    </tr>\n",
       "    <tr>\n",
       "      <th>6</th>\n",
       "      <td>697</td>\n",
       "      <td>스포츠/운동</td>\n",
       "      <td>말왕TV</td>\n",
       "      <td>8680만</td>\n",
       "      <td>3억8778만</td>\n",
       "      <td>987개</td>\n",
       "    </tr>\n",
       "    <tr>\n",
       "      <th>7</th>\n",
       "      <td>801</td>\n",
       "      <td>키즈/어린이</td>\n",
       "      <td>Boram Tube Friends</td>\n",
       "      <td>8680만</td>\n",
       "      <td>736만</td>\n",
       "      <td>73개</td>\n",
       "    </tr>\n",
       "    <tr>\n",
       "      <th>8</th>\n",
       "      <td>901</td>\n",
       "      <td>미분류</td>\n",
       "      <td>유 퀴즈 온 더 튜브</td>\n",
       "      <td>8680만</td>\n",
       "      <td>4억6443만</td>\n",
       "      <td>4,131개</td>\n",
       "    </tr>\n",
       "    <tr>\n",
       "      <th>9</th>\n",
       "      <td>998</td>\n",
       "      <td>TV/방송</td>\n",
       "      <td>KBS COMEDY: 크큭티비</td>\n",
       "      <td>8680만</td>\n",
       "      <td>10억2626만</td>\n",
       "      <td>7,921개</td>\n",
       "    </tr>\n",
       "  </tbody>\n",
       "</table>\n",
       "</div>"
      ],
      "text/plain": [
       "    순위      카테고리                  채널   구독자수       조회수      영상수\n",
       "0  100     TV/방송          JTBC Drama  8680만  52억2976만  27,723개\n",
       "1  199    취미/라이프          ASMR PPOMO  8680만   7억9147만     590개\n",
       "2  297    키즈/어린이              대문밖장덕대  8680만   9억2704만   1,639개\n",
       "3  404  음악/댄스/가수            Lemoring  8680만  10억9611만     567개\n",
       "4  502       미분류      제발돼라 PleaseBee  8680만   3억5203만     235개\n",
       "5  594    키즈/어린이          Toystar TV  8680만   5억0580만      99개\n",
       "6  697    스포츠/운동                말왕TV  8680만   3억8778만     987개\n",
       "7  801    키즈/어린이  Boram Tube Friends  8680만      736만      73개\n",
       "8  901       미분류         유 퀴즈 온 더 튜브  8680만   4억6443만   4,131개\n",
       "9  998     TV/방송    KBS COMEDY: 크큭티비  8680만  10억2626만   7,921개"
      ]
     },
     "execution_count": 46,
     "metadata": {},
     "output_type": "execute_result"
    }
   ],
   "source": [
    "df = pd.DataFrame(lines, columns=['순위', '카테고리', '채널', '구독자수', '조회수', '영상수'])\n",
    "df"
   ]
  }
 ],
 "metadata": {
  "kernelspec": {
   "display_name": "Python 3 (ipykernel)",
   "language": "python",
   "name": "python3"
  },
  "language_info": {
   "codemirror_mode": {
    "name": "ipython",
    "version": 3
   },
   "file_extension": ".py",
   "mimetype": "text/x-python",
   "name": "python",
   "nbconvert_exporter": "python",
   "pygments_lexer": "ipython3",
   "version": "3.8.7"
  }
 },
 "nbformat": 4,
 "nbformat_minor": 5
}
