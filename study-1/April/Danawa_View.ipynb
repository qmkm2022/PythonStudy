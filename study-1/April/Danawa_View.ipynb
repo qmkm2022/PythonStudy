{
 "cells": [
  {
   "cell_type": "code",
   "execution_count": 35,
   "id": "19264fad",
   "metadata": {},
   "outputs": [],
   "source": [
    "import pandas as pd\n",
    "import matplotlib.pyplot as plt\n",
    "import seaborn as sns\n",
    "import numpy as np\n",
    "import matplotlib as mpl\n",
    "import folium\n",
    "import json\n",
    "from matplotlib import font_manager, rc\n",
    "mpl.rcParams['axes.unicode_minus'] = False\n",
    "plt.rc('font', family = 'Malgun Gothic')"
   ]
  },
  {
   "cell_type": "code",
   "execution_count": 2,
   "id": "7dd78f20",
   "metadata": {},
   "outputs": [
    {
     "name": "stdout",
     "output_type": "stream",
     "text": [
      "<class 'pandas.core.frame.DataFrame'>\n",
      "RangeIndex: 400 entries, 0 to 399\n",
      "Data columns (total 3 columns):\n",
      " #   Column  Non-Null Count  Dtype \n",
      "---  ------  --------------  ----- \n",
      " 0   상품명     400 non-null    object\n",
      " 1   스펙목록    400 non-null    object\n",
      " 2   가격      400 non-null    int64 \n",
      "dtypes: int64(1), object(2)\n",
      "memory usage: 9.5+ KB\n"
     ]
    },
    {
     "data": {
      "text/html": [
       "<div>\n",
       "<style scoped>\n",
       "    .dataframe tbody tr th:only-of-type {\n",
       "        vertical-align: middle;\n",
       "    }\n",
       "\n",
       "    .dataframe tbody tr th {\n",
       "        vertical-align: top;\n",
       "    }\n",
       "\n",
       "    .dataframe thead th {\n",
       "        text-align: right;\n",
       "    }\n",
       "</style>\n",
       "<table border=\"1\" class=\"dataframe\">\n",
       "  <thead>\n",
       "    <tr style=\"text-align: right;\">\n",
       "      <th></th>\n",
       "      <th>상품명</th>\n",
       "      <th>스펙목록</th>\n",
       "      <th>가격</th>\n",
       "    </tr>\n",
       "  </thead>\n",
       "  <tbody>\n",
       "    <tr>\n",
       "      <th>0</th>\n",
       "      <td>베이스어스 차량용 청소기 A3 (해외구매)</td>\n",
       "      <td>차량용청소기 / 무선 / 흡입력: 15,000Pa / 최대출력: 135W / 헤파필...</td>\n",
       "      <td>47510</td>\n",
       "    </tr>\n",
       "    <tr>\n",
       "      <th>1</th>\n",
       "      <td>LG전자 오브제컬렉션 코드제로 A9S AU9982</td>\n",
       "      <td>핸디스틱청소기 / 무선형 / 흡입+물걸레겸용 / 흡입력: 220W / [구성] 와이...</td>\n",
       "      <td>1019160</td>\n",
       "    </tr>\n",
       "    <tr>\n",
       "      <th>2</th>\n",
       "      <td>샤오미 미지아 차량용 핸디 무선 청소기 (해외구매)</td>\n",
       "      <td>차량용청소기 / 무선 / 흡입력: 13,000Pa / 최대출력: 120W / 헤파필...</td>\n",
       "      <td>38990</td>\n",
       "    </tr>\n",
       "    <tr>\n",
       "      <th>3</th>\n",
       "      <td>LG전자 오브제컬렉션 코드제로 A9S AU9882</td>\n",
       "      <td>핸디스틱청소기 / 무선형 / 흡입+물걸레겸용 / 흡입력: 220W / [구성] 와이...</td>\n",
       "      <td>894400</td>\n",
       "    </tr>\n",
       "    <tr>\n",
       "      <th>4</th>\n",
       "      <td>삼성전자 비스포크 제트 VS20A956A3</td>\n",
       "      <td>핸디스틱청소기 / 무선형 / 흡입전용 / 흡입력: 210W / [구성] 바닥 / 솔...</td>\n",
       "      <td>492190</td>\n",
       "    </tr>\n",
       "  </tbody>\n",
       "</table>\n",
       "</div>"
      ],
      "text/plain": [
       "                            상품명  \\\n",
       "0       베이스어스 차량용 청소기 A3 (해외구매)   \n",
       "1   LG전자 오브제컬렉션 코드제로 A9S AU9982   \n",
       "2  샤오미 미지아 차량용 핸디 무선 청소기 (해외구매)   \n",
       "3   LG전자 오브제컬렉션 코드제로 A9S AU9882   \n",
       "4       삼성전자 비스포크 제트 VS20A956A3   \n",
       "\n",
       "                                                스펙목록       가격  \n",
       "0  차량용청소기 / 무선 / 흡입력: 15,000Pa / 최대출력: 135W / 헤파필...    47510  \n",
       "1  핸디스틱청소기 / 무선형 / 흡입+물걸레겸용 / 흡입력: 220W / [구성] 와이...  1019160  \n",
       "2  차량용청소기 / 무선 / 흡입력: 13,000Pa / 최대출력: 120W / 헤파필...    38990  \n",
       "3  핸디스틱청소기 / 무선형 / 흡입+물걸레겸용 / 흡입력: 220W / [구성] 와이...   894400  \n",
       "4  핸디스틱청소기 / 무선형 / 흡입전용 / 흡입력: 210W / [구성] 바닥 / 솔...   492190  "
      ]
     },
     "execution_count": 2,
     "metadata": {},
     "output_type": "execute_result"
    }
   ],
   "source": [
    "data = pd.read_csv('./1_danawa_crawling_result.csv')\n",
    "data.info()\n",
    "data.head()"
   ]
  },
  {
   "cell_type": "markdown",
   "id": "c9b852b7",
   "metadata": {},
   "source": [
    "# 1. 회사명 모델명 분리"
   ]
  },
  {
   "cell_type": "code",
   "execution_count": 3,
   "id": "9650070c",
   "metadata": {},
   "outputs": [],
   "source": [
    "company_list = []\n",
    "product_list = []\n",
    "for title in data['상품명']:\n",
    "    title_info = title.split(' ',1)\n",
    "    company_name = title_info[0]\n",
    "    product_name = title_info[1]\n",
    "    company_list.append(company_name)\n",
    "    product_list.append(product_name)"
   ]
  },
  {
   "cell_type": "markdown",
   "id": "82d94429",
   "metadata": {},
   "source": [
    "# 2. 스펙목록에서 카테고리 사용시간  흡입력 추출"
   ]
  },
  {
   "cell_type": "code",
   "execution_count": 4,
   "id": "433df93e",
   "metadata": {
    "scrolled": true
   },
   "outputs": [
    {
     "data": {
      "text/plain": [
       "0      차량용청소기 / 무선 / 흡입력: 15,000Pa / 최대출력: 135W / 헤파필...\n",
       "1      핸디스틱청소기 / 무선형 / 흡입+물걸레겸용 / 흡입력: 220W / [구성] 와이...\n",
       "2      차량용청소기 / 무선 / 흡입력: 13,000Pa / 최대출력: 120W / 헤파필...\n",
       "3      핸디스틱청소기 / 무선형 / 흡입+물걸레겸용 / 흡입력: 220W / [구성] 와이...\n",
       "4      핸디스틱청소기 / 무선형 / 흡입전용 / 흡입력: 210W / [구성] 바닥 / 솔...\n",
       "                             ...                        \n",
       "395    차량용청소기 / 무선 / 흡입력: 14,000Pa / 추가노즐: 틈새, 솔브러쉬 /...\n",
       "396    핸디스틱청소기 / 무선형 / 흡입+물걸레겸용 / 흡입력: 210W / [구성] 바닥...\n",
       "397    핸디스틱청소기 / 무선형 / 흡입전용 / 흡입력: 200W / [구성] 바닥 / 솔...\n",
       "398    물걸레청소기 / 롤러식 / 물걸레+진공 / 무선형 / [배터리] 리튬이온 (분리형)...\n",
       "399    핸디스틱청소기 / 무선형 / 흡입+물걸레겸용 / 흡입력: 210W / [구성] 바닥...\n",
       "Name: 스펙목록, Length: 400, dtype: object"
      ]
     },
     "execution_count": 4,
     "metadata": {},
     "output_type": "execute_result"
    }
   ],
   "source": [
    "data['스펙목록']"
   ]
  },
  {
   "cell_type": "code",
   "execution_count": 5,
   "id": "7cf0bdb5",
   "metadata": {},
   "outputs": [
    {
     "data": {
      "text/plain": [
       "['차량용청소기',\n",
       " '무선',\n",
       " '흡입력: 15,000Pa',\n",
       " '최대출력: 135W',\n",
       " '헤파필터',\n",
       " '추가노즐: 틈새, 솔브러쉬',\n",
       " 'LED라이트',\n",
       " '사용시간: 45분',\n",
       " '배터리 잔량표시',\n",
       " '소음: 75dB',\n",
       " '충전방식: USB C타입',\n",
       " '충전시간: 3~5시간',\n",
       " '색상: 블랙, 실버',\n",
       " '크기: 296x56.5mm']"
      ]
     },
     "execution_count": 5,
     "metadata": {},
     "output_type": "execute_result"
    }
   ],
   "source": [
    "spec_list = data['스펙목록'][0].split(' / ')\n",
    "spec_list"
   ]
  },
  {
   "cell_type": "code",
   "execution_count": 6,
   "id": "a501c983",
   "metadata": {},
   "outputs": [
    {
     "data": {
      "text/plain": [
       "'차량용청소기'"
      ]
     },
     "execution_count": 6,
     "metadata": {},
     "output_type": "execute_result"
    }
   ],
   "source": [
    "# 카테고리 정보 추출\n",
    "category = spec_list[0]\n",
    "category"
   ]
  },
  {
   "cell_type": "code",
   "execution_count": 7,
   "id": "2ff32120",
   "metadata": {},
   "outputs": [
    {
     "name": "stdout",
     "output_type": "stream",
     "text": [
      "사용시간: 45분\n",
      "흡입력: 15,000Pa\n"
     ]
    }
   ],
   "source": [
    "for spec in spec_list:\n",
    "    if '사용시간' in spec:\n",
    "        use_time_spec = spec\n",
    "    elif '흡입력' in spec:\n",
    "        suction_spec = spec\n",
    "print(use_time_spec)\n",
    "print(suction_spec)"
   ]
  },
  {
   "cell_type": "code",
   "execution_count": 8,
   "id": "e2cd8fd1",
   "metadata": {},
   "outputs": [
    {
     "data": {
      "text/plain": [
       "'45분'"
      ]
     },
     "execution_count": 8,
     "metadata": {},
     "output_type": "execute_result"
    }
   ],
   "source": [
    "use_time_value = use_time_spec.split(' ')[1].strip()\n",
    "use_time_value"
   ]
  },
  {
   "cell_type": "code",
   "execution_count": 9,
   "id": "bd0a6c56",
   "metadata": {},
   "outputs": [
    {
     "data": {
      "text/plain": [
       "'15,000Pa'"
      ]
     },
     "execution_count": 9,
     "metadata": {},
     "output_type": "execute_result"
    }
   ],
   "source": [
    "suction_value = suction_spec.split(' ')[1].strip()\n",
    "suction_value"
   ]
  },
  {
   "cell_type": "code",
   "execution_count": 10,
   "id": "f1a42fc8",
   "metadata": {},
   "outputs": [],
   "source": [
    "# 카테고리, 사용시간, 흡입력\n",
    "category_list = []\n",
    "use_time_list = []\n",
    "suction_list = []\n",
    "for spec_data in data['스펙목록']:\n",
    "    spec_list = spec_data.split(' / ')\n",
    "    category = spec_list[0]\n",
    "    category_list.append(category)\n",
    "    # 사용시간/흡입력\n",
    "    use_time_value = None\n",
    "    suction_value = None\n",
    "    for spec in spec_list:\n",
    "        if '사용시간' in spec:\n",
    "            use_time_value = spec.split(' ')[1].strip()\n",
    "        elif '흡입력' in spec:\n",
    "            suction_value = spec.split(' ')[1].strip()\n",
    "    use_time_list.append(use_time_value)\n",
    "    suction_list.append(suction_value)"
   ]
  },
  {
   "cell_type": "code",
   "execution_count": 11,
   "id": "8253a059",
   "metadata": {
    "scrolled": true
   },
   "outputs": [
    {
     "name": "stdout",
     "output_type": "stream",
     "text": [
      "카테고리:  400 ['차량용청소기', '핸디스틱청소기', '차량용청소기', '핸디스틱청소기', '핸디스틱청소기']\n",
      "사용시간:  400 ['45분', '1시간', '9~30분', '1시간', '1시간']\n",
      "흡입력:  400 ['15,000Pa', '220W', '13,000Pa', '220W', '210W']\n"
     ]
    }
   ],
   "source": [
    "print('카테고리: ', len(category_list), category_list[0:5])\n",
    "print('사용시간: ', len(use_time_list), use_time_list[0:5])\n",
    "print('흡입력: ', len(suction_list), suction_list[0:5])"
   ]
  },
  {
   "cell_type": "markdown",
   "id": "5955991f",
   "metadata": {},
   "source": [
    "# 3. 무선청소기 사용시간 통일"
   ]
  },
  {
   "cell_type": "code",
   "execution_count": 12,
   "id": "3092c917",
   "metadata": {},
   "outputs": [],
   "source": [
    "def convert_time_minute(time):\n",
    "    try:\n",
    "        if '시간' in time:\n",
    "            hour = time.split('시간')[0] # 1시간 20분 = 1\n",
    "            if '분' in time:\n",
    "                minute = time.split('시간')[-1].split('분')[0] # 1시간 20분 = 20\n",
    "            else:\n",
    "                minute = 0\n",
    "        else:\n",
    "            hour = 0\n",
    "            minute = time.split('분')[0]\n",
    "        return int(hour) * 60 + int(minute)\n",
    "    except:\n",
    "        return None"
   ]
  },
  {
   "cell_type": "code",
   "execution_count": 13,
   "id": "951fde94",
   "metadata": {},
   "outputs": [
    {
     "name": "stdout",
     "output_type": "stream",
     "text": [
      "400\n",
      "[45, 60, None, 60, 60, 45, 60, 35, 60, 60]\n"
     ]
    }
   ],
   "source": [
    "new_use_time_list = []\n",
    "for time in use_time_list:\n",
    "    value = convert_time_minute(time)\n",
    "    new_use_time_list.append(value)\n",
    "print(len(new_use_time_list))\n",
    "print(new_use_time_list[:10])"
   ]
  },
  {
   "cell_type": "markdown",
   "id": "a96412ff",
   "metadata": {},
   "source": [
    "# 4. 무선 청소기 흡입력 단위 통일"
   ]
  },
  {
   "cell_type": "code",
   "execution_count": 14,
   "id": "6acf107a",
   "metadata": {},
   "outputs": [],
   "source": [
    "# w는 지우고 pa는 100으로 나눠서 단위를 통일\n",
    "def get_suction(value):\n",
    "    try:\n",
    "        value = value.upper()\n",
    "        if 'AW' in value or \"W\" in value:\n",
    "            result = value.replace('A','').replace(\"W\",\"\")\n",
    "            returl = int(result.replace(',',''))\n",
    "        elif 'PA' in value:\n",
    "            result = value.replace('PA',\"\")\n",
    "            result = int(int(result.replace(',', '')) / 100)\n",
    "        else:\n",
    "            result=None\n",
    "        return result\n",
    "    except:\n",
    "        return None"
   ]
  },
  {
   "cell_type": "code",
   "execution_count": 15,
   "id": "b5bc84eb",
   "metadata": {
    "scrolled": true
   },
   "outputs": [
    {
     "name": "stdout",
     "output_type": "stream",
     "text": [
      "150\n",
      "220\n",
      "130\n",
      "220\n",
      "210\n"
     ]
    }
   ],
   "source": [
    "suc = ['15,000Pa', '220W', '13,000Pa', '220W', '210W']\n",
    "for su in suc:\n",
    "    suc_va = get_suction(su)\n",
    "    print(suc_va)"
   ]
  },
  {
   "cell_type": "code",
   "execution_count": 16,
   "id": "d619dae6",
   "metadata": {},
   "outputs": [
    {
     "name": "stdout",
     "output_type": "stream",
     "text": [
      "400\n",
      "[150, '220', 130, '220', '210', 100, '210', None, '220', '210']\n"
     ]
    }
   ],
   "source": [
    "new_suction_list = []\n",
    "for power in suction_list:\n",
    "    value = get_suction(power)\n",
    "    new_suction_list.append(value)\n",
    "print(len(new_suction_list))\n",
    "print(new_suction_list[:10])"
   ]
  },
  {
   "cell_type": "markdown",
   "id": "5eeccd87",
   "metadata": {},
   "source": [
    "# 5. 전처리 결과를 엑셀로 저장"
   ]
  },
  {
   "cell_type": "code",
   "execution_count": 17,
   "id": "1f9da0c7",
   "metadata": {},
   "outputs": [
    {
     "data": {
      "text/html": [
       "<div>\n",
       "<style scoped>\n",
       "    .dataframe tbody tr th:only-of-type {\n",
       "        vertical-align: middle;\n",
       "    }\n",
       "\n",
       "    .dataframe tbody tr th {\n",
       "        vertical-align: top;\n",
       "    }\n",
       "\n",
       "    .dataframe thead th {\n",
       "        text-align: right;\n",
       "    }\n",
       "</style>\n",
       "<table border=\"1\" class=\"dataframe\">\n",
       "  <thead>\n",
       "    <tr style=\"text-align: right;\">\n",
       "      <th></th>\n",
       "      <th>카테고리</th>\n",
       "      <th>회사명</th>\n",
       "      <th>제품</th>\n",
       "      <th>가격</th>\n",
       "      <th>사용시간</th>\n",
       "      <th>흡입력</th>\n",
       "    </tr>\n",
       "  </thead>\n",
       "  <tbody>\n",
       "    <tr>\n",
       "      <th>0</th>\n",
       "      <td>차량용청소기</td>\n",
       "      <td>베이스어스</td>\n",
       "      <td>차량용 청소기 A3 (해외구매)</td>\n",
       "      <td>47510</td>\n",
       "      <td>45.0</td>\n",
       "      <td>150</td>\n",
       "    </tr>\n",
       "    <tr>\n",
       "      <th>1</th>\n",
       "      <td>핸디스틱청소기</td>\n",
       "      <td>LG전자</td>\n",
       "      <td>오브제컬렉션 코드제로 A9S AU9982</td>\n",
       "      <td>1019160</td>\n",
       "      <td>60.0</td>\n",
       "      <td>220</td>\n",
       "    </tr>\n",
       "    <tr>\n",
       "      <th>2</th>\n",
       "      <td>차량용청소기</td>\n",
       "      <td>샤오미</td>\n",
       "      <td>미지아 차량용 핸디 무선 청소기 (해외구매)</td>\n",
       "      <td>38990</td>\n",
       "      <td>NaN</td>\n",
       "      <td>130</td>\n",
       "    </tr>\n",
       "    <tr>\n",
       "      <th>3</th>\n",
       "      <td>핸디스틱청소기</td>\n",
       "      <td>LG전자</td>\n",
       "      <td>오브제컬렉션 코드제로 A9S AU9882</td>\n",
       "      <td>894400</td>\n",
       "      <td>60.0</td>\n",
       "      <td>220</td>\n",
       "    </tr>\n",
       "    <tr>\n",
       "      <th>4</th>\n",
       "      <td>핸디스틱청소기</td>\n",
       "      <td>삼성전자</td>\n",
       "      <td>비스포크 제트 VS20A956A3</td>\n",
       "      <td>492190</td>\n",
       "      <td>60.0</td>\n",
       "      <td>210</td>\n",
       "    </tr>\n",
       "  </tbody>\n",
       "</table>\n",
       "</div>"
      ],
      "text/plain": [
       "      카테고리    회사명                        제품       가격  사용시간  흡입력\n",
       "0   차량용청소기  베이스어스         차량용 청소기 A3 (해외구매)    47510  45.0  150\n",
       "1  핸디스틱청소기   LG전자    오브제컬렉션 코드제로 A9S AU9982  1019160  60.0  220\n",
       "2   차량용청소기    샤오미  미지아 차량용 핸디 무선 청소기 (해외구매)    38990   NaN  130\n",
       "3  핸디스틱청소기   LG전자    오브제컬렉션 코드제로 A9S AU9882   894400  60.0  220\n",
       "4  핸디스틱청소기   삼성전자        비스포크 제트 VS20A956A3   492190  60.0  210"
      ]
     },
     "execution_count": 17,
     "metadata": {},
     "output_type": "execute_result"
    }
   ],
   "source": [
    "pd_data = pd.DataFrame()\n",
    "pd_data['카테고리'] = category_list\n",
    "pd_data['회사명'] = company_list\n",
    "pd_data['제품'] = product_list\n",
    "pd_data['가격'] = data['가격']\n",
    "pd_data['사용시간'] = new_use_time_list\n",
    "pd_data['흡입력'] = new_suction_list\n",
    "pd_data.head()"
   ]
  },
  {
   "cell_type": "code",
   "execution_count": 18,
   "id": "b9f3e0ca",
   "metadata": {},
   "outputs": [],
   "source": [
    "pd_data.to_csv('result_preprocessing.csv', index=False)"
   ]
  },
  {
   "cell_type": "code",
   "execution_count": 19,
   "id": "4a8a20ac",
   "metadata": {},
   "outputs": [
    {
     "data": {
      "text/plain": [
       "핸디스틱청소기             214\n",
       "차량용청소기               92\n",
       "핸디청소기                39\n",
       "물걸레청소기               30\n",
       "욕실청소기                 8\n",
       "업소용청소기                6\n",
       "스틱청소기                 4\n",
       "핸디/스틱청소기+로봇청소기세트      4\n",
       "침구청소기                 2\n",
       "물걸레청소기+스팀청소기          1\n",
       "Name: 카테고리, dtype: int64"
      ]
     },
     "execution_count": 19,
     "metadata": {},
     "output_type": "execute_result"
    }
   ],
   "source": [
    "pd_data['카테고리'].value_counts()"
   ]
  },
  {
   "cell_type": "code",
   "execution_count": 20,
   "id": "3d6f889f",
   "metadata": {},
   "outputs": [
    {
     "data": {
      "text/html": [
       "<div>\n",
       "<style scoped>\n",
       "    .dataframe tbody tr th:only-of-type {\n",
       "        vertical-align: middle;\n",
       "    }\n",
       "\n",
       "    .dataframe tbody tr th {\n",
       "        vertical-align: top;\n",
       "    }\n",
       "\n",
       "    .dataframe thead th {\n",
       "        text-align: right;\n",
       "    }\n",
       "</style>\n",
       "<table border=\"1\" class=\"dataframe\">\n",
       "  <thead>\n",
       "    <tr style=\"text-align: right;\">\n",
       "      <th></th>\n",
       "      <th>카테고리</th>\n",
       "      <th>회사명</th>\n",
       "      <th>제품</th>\n",
       "      <th>가격</th>\n",
       "      <th>사용시간</th>\n",
       "      <th>흡입력</th>\n",
       "    </tr>\n",
       "  </thead>\n",
       "  <tbody>\n",
       "    <tr>\n",
       "      <th>1</th>\n",
       "      <td>핸디스틱청소기</td>\n",
       "      <td>LG전자</td>\n",
       "      <td>오브제컬렉션 코드제로 A9S AU9982</td>\n",
       "      <td>1019160</td>\n",
       "      <td>60.0</td>\n",
       "      <td>220</td>\n",
       "    </tr>\n",
       "    <tr>\n",
       "      <th>3</th>\n",
       "      <td>핸디스틱청소기</td>\n",
       "      <td>LG전자</td>\n",
       "      <td>오브제컬렉션 코드제로 A9S AU9882</td>\n",
       "      <td>894400</td>\n",
       "      <td>60.0</td>\n",
       "      <td>220</td>\n",
       "    </tr>\n",
       "    <tr>\n",
       "      <th>4</th>\n",
       "      <td>핸디스틱청소기</td>\n",
       "      <td>삼성전자</td>\n",
       "      <td>비스포크 제트 VS20A956A3</td>\n",
       "      <td>492190</td>\n",
       "      <td>60.0</td>\n",
       "      <td>210</td>\n",
       "    </tr>\n",
       "    <tr>\n",
       "      <th>6</th>\n",
       "      <td>핸디스틱청소기</td>\n",
       "      <td>LG전자</td>\n",
       "      <td>코드제로 A9S AT9271</td>\n",
       "      <td>633330</td>\n",
       "      <td>60.0</td>\n",
       "      <td>210</td>\n",
       "    </tr>\n",
       "    <tr>\n",
       "      <th>7</th>\n",
       "      <td>핸디스틱청소기</td>\n",
       "      <td>일렉트로룩스</td>\n",
       "      <td>에르고라피도 ZB3512IG</td>\n",
       "      <td>184270</td>\n",
       "      <td>35.0</td>\n",
       "      <td>None</td>\n",
       "    </tr>\n",
       "    <tr>\n",
       "      <th>...</th>\n",
       "      <td>...</td>\n",
       "      <td>...</td>\n",
       "      <td>...</td>\n",
       "      <td>...</td>\n",
       "      <td>...</td>\n",
       "      <td>...</td>\n",
       "    </tr>\n",
       "    <tr>\n",
       "      <th>388</th>\n",
       "      <td>핸디스틱청소기</td>\n",
       "      <td>일렉트로룩스</td>\n",
       "      <td>ZB3302AK</td>\n",
       "      <td>189000</td>\n",
       "      <td>42.0</td>\n",
       "      <td>None</td>\n",
       "    </tr>\n",
       "    <tr>\n",
       "      <th>394</th>\n",
       "      <td>핸디스틱청소기</td>\n",
       "      <td>로헨</td>\n",
       "      <td>L30</td>\n",
       "      <td>169000</td>\n",
       "      <td>50.0</td>\n",
       "      <td>350</td>\n",
       "    </tr>\n",
       "    <tr>\n",
       "      <th>396</th>\n",
       "      <td>핸디스틱청소기</td>\n",
       "      <td>삼성전자</td>\n",
       "      <td>비스포크 제트 VS20A957E2</td>\n",
       "      <td>708990</td>\n",
       "      <td>60.0</td>\n",
       "      <td>210</td>\n",
       "    </tr>\n",
       "    <tr>\n",
       "      <th>397</th>\n",
       "      <td>핸디스틱청소기</td>\n",
       "      <td>삼성전자</td>\n",
       "      <td>제트 VS20T9253QD</td>\n",
       "      <td>417600</td>\n",
       "      <td>60.0</td>\n",
       "      <td>200</td>\n",
       "    </tr>\n",
       "    <tr>\n",
       "      <th>399</th>\n",
       "      <td>핸디스틱청소기</td>\n",
       "      <td>LG전자</td>\n",
       "      <td>오브제컬렉션 코드제로 A9S AT9271</td>\n",
       "      <td>875970</td>\n",
       "      <td>60.0</td>\n",
       "      <td>210</td>\n",
       "    </tr>\n",
       "  </tbody>\n",
       "</table>\n",
       "<p>214 rows × 6 columns</p>\n",
       "</div>"
      ],
      "text/plain": [
       "        카테고리     회사명                      제품       가격  사용시간   흡입력\n",
       "1    핸디스틱청소기    LG전자  오브제컬렉션 코드제로 A9S AU9982  1019160  60.0   220\n",
       "3    핸디스틱청소기    LG전자  오브제컬렉션 코드제로 A9S AU9882   894400  60.0   220\n",
       "4    핸디스틱청소기    삼성전자      비스포크 제트 VS20A956A3   492190  60.0   210\n",
       "6    핸디스틱청소기    LG전자         코드제로 A9S AT9271   633330  60.0   210\n",
       "7    핸디스틱청소기  일렉트로룩스         에르고라피도 ZB3512IG   184270  35.0  None\n",
       "..       ...     ...                     ...      ...   ...   ...\n",
       "388  핸디스틱청소기  일렉트로룩스                ZB3302AK   189000  42.0  None\n",
       "394  핸디스틱청소기      로헨                     L30   169000  50.0   350\n",
       "396  핸디스틱청소기    삼성전자      비스포크 제트 VS20A957E2   708990  60.0   210\n",
       "397  핸디스틱청소기    삼성전자          제트 VS20T9253QD   417600  60.0   200\n",
       "399  핸디스틱청소기    LG전자  오브제컬렉션 코드제로 A9S AT9271   875970  60.0   210\n",
       "\n",
       "[214 rows x 6 columns]"
      ]
     },
     "execution_count": 20,
     "metadata": {},
     "output_type": "execute_result"
    }
   ],
   "source": [
    "pd_data_final = pd_data[pd_data['카테고리'].isin(['핸디스틱청소기'])]\n",
    "pd_data_final"
   ]
  },
  {
   "cell_type": "code",
   "execution_count": 21,
   "id": "41af7582",
   "metadata": {},
   "outputs": [
    {
     "data": {
      "text/plain": [
       "199000     4\n",
       "169000     4\n",
       "195000     3\n",
       "299000     3\n",
       "179000     2\n",
       "          ..\n",
       "375967     1\n",
       "1135240    1\n",
       "800020     1\n",
       "569990     1\n",
       "875970     1\n",
       "Name: 가격, Length: 202, dtype: int64"
      ]
     },
     "execution_count": 21,
     "metadata": {},
     "output_type": "execute_result"
    }
   ],
   "source": [
    "pd_data_final['가격'].value_counts()"
   ]
  },
  {
   "cell_type": "code",
   "execution_count": 22,
   "id": "0788fa31",
   "metadata": {},
   "outputs": [
    {
     "data": {
      "text/plain": [
       "array([1019160,  894400,  492190,  633330,  184270,  605950,  756710,\n",
       "        183710,  381650,  525990,  595850,  478710,  520830,  556980,\n",
       "        805450,  766110,  169000,  592050,  571000,  807700,  378900,\n",
       "        269000,  394740,  166230,  785570,  897380,  575930,  446220,\n",
       "        165710,  156860,  663980,  636980,  182860,  305290,  197490,\n",
       "        552360,  299000, 1225460,  234190,  587270,  168290,  751600,\n",
       "       1180800,  599430,  305970,  179000,  735980,  615670,  196570,\n",
       "        703870, 1185790,  584620,  791930,  899230,  109970,  706200,\n",
       "        221790,  518840,  368110,  199440,  139000,  199000,  349000,\n",
       "        248000,  601130,  583860,  195000,   75800, 1515400,   46650,\n",
       "         41900,   87900,  730800,  375967, 1135240,  800020,  569990,\n",
       "         74970,  668900,  482460,  745610,  736900,  227190,  695110,\n",
       "        139410,  245100,  217500,   79000,   48070,  170100,   93980,\n",
       "        595660,  409380,  299990,   78970,  258990,  421030,  232310,\n",
       "        454090,  294590,  179050, 1499990,  953950,  134850,  217600,\n",
       "        214320,   74240,  898990,  616250,   81890,   75270,  109000,\n",
       "        164250,  198000,  177100,  125120,  636500,   40790,  319000,\n",
       "        129912,  649350,  159930,  399000,  248310,  278060,  235030,\n",
       "       1439910,  241930,   67350,  232390,  338000,  699470, 1230620,\n",
       "         57010,  115640,  235900,   93930,  429140,  521770,  852210,\n",
       "        298880,  366820,  168370,  392700,  855590, 1002430,  161670,\n",
       "        429890,  172950,  442860,   88290,  135270,  159000,  128000,\n",
       "       1579990,   91170,  114000, 1054750,  122380,   54050,  153930,\n",
       "        538490,  137990,   89000,  182350,  184990,   74900,  567970,\n",
       "         81490,   89100,   49760,  506540,  138220,  186470,   34270,\n",
       "        129630,  178000,  344420,  280200,  145000,  117900,  548870,\n",
       "        138000,  271810, 1101950,  699390,   49790,  348990,  107000,\n",
       "        249000,  569860,   62800,  125400,  127980,  238990,  427800,\n",
       "       1190000,  240870,  189000,  708990,  417600,  875970], dtype=int64)"
      ]
     },
     "execution_count": 22,
     "metadata": {},
     "output_type": "execute_result"
    }
   ],
   "source": [
    "pd_data_final['가격'].unique()"
   ]
  },
  {
   "cell_type": "code",
   "execution_count": 23,
   "id": "c2ec960c",
   "metadata": {},
   "outputs": [],
   "source": [
    "pd_data_final.to_csv('2_result_preprocessing.csv', index=False)"
   ]
  },
  {
   "cell_type": "markdown",
   "id": "d2c75e47",
   "metadata": {},
   "source": [
    "# 데이터 다시 불러오기"
   ]
  },
  {
   "cell_type": "code",
   "execution_count": 24,
   "id": "66ba3e49",
   "metadata": {},
   "outputs": [],
   "source": [
    "pd_data_final = pd.read_csv('2_result_preprocessing.csv')"
   ]
  },
  {
   "cell_type": "markdown",
   "id": "bdcf733c",
   "metadata": {},
   "source": [
    "# 6. 흡입력 기준 정렬"
   ]
  },
  {
   "cell_type": "code",
   "execution_count": 25,
   "id": "069f6f4d",
   "metadata": {},
   "outputs": [
    {
     "data": {
      "text/plain": [
       "카테고리     0\n",
       "회사명      0\n",
       "제품       0\n",
       "가격       0\n",
       "사용시간    10\n",
       "흡입력     64\n",
       "dtype: int64"
      ]
     },
     "execution_count": 25,
     "metadata": {},
     "output_type": "execute_result"
    }
   ],
   "source": [
    "pd_data_final.isnull().sum()"
   ]
  },
  {
   "cell_type": "code",
   "execution_count": 26,
   "id": "c7e71c79",
   "metadata": {},
   "outputs": [
    {
     "data": {
      "text/html": [
       "<div>\n",
       "<style scoped>\n",
       "    .dataframe tbody tr th:only-of-type {\n",
       "        vertical-align: middle;\n",
       "    }\n",
       "\n",
       "    .dataframe tbody tr th {\n",
       "        vertical-align: top;\n",
       "    }\n",
       "\n",
       "    .dataframe thead th {\n",
       "        text-align: right;\n",
       "    }\n",
       "</style>\n",
       "<table border=\"1\" class=\"dataframe\">\n",
       "  <thead>\n",
       "    <tr style=\"text-align: right;\">\n",
       "      <th></th>\n",
       "      <th>카테고리</th>\n",
       "      <th>회사명</th>\n",
       "      <th>제품</th>\n",
       "      <th>가격</th>\n",
       "      <th>사용시간</th>\n",
       "      <th>흡입력</th>\n",
       "    </tr>\n",
       "  </thead>\n",
       "  <tbody>\n",
       "    <tr>\n",
       "      <th>34</th>\n",
       "      <td>핸디스틱청소기</td>\n",
       "      <td>DIBEA</td>\n",
       "      <td>차이슨 ALLNEW22000 스노우화이트</td>\n",
       "      <td>197490</td>\n",
       "      <td>40.0</td>\n",
       "      <td>400.0</td>\n",
       "    </tr>\n",
       "    <tr>\n",
       "      <th>64</th>\n",
       "      <td>핸디스틱청소기</td>\n",
       "      <td>DIBEA</td>\n",
       "      <td>차이슨 ALLNEW29000</td>\n",
       "      <td>248000</td>\n",
       "      <td>48.0</td>\n",
       "      <td>390.0</td>\n",
       "    </tr>\n",
       "    <tr>\n",
       "      <th>93</th>\n",
       "      <td>핸디스틱청소기</td>\n",
       "      <td>행커</td>\n",
       "      <td>400W</td>\n",
       "      <td>170100</td>\n",
       "      <td>60.0</td>\n",
       "      <td>390.0</td>\n",
       "    </tr>\n",
       "    <tr>\n",
       "      <th>62</th>\n",
       "      <td>핸디스틱청소기</td>\n",
       "      <td>에어메이드</td>\n",
       "      <td>스마트포스 AMC-3500</td>\n",
       "      <td>199000</td>\n",
       "      <td>45.0</td>\n",
       "      <td>370.0</td>\n",
       "    </tr>\n",
       "    <tr>\n",
       "      <th>210</th>\n",
       "      <td>핸디스틱청소기</td>\n",
       "      <td>로헨</td>\n",
       "      <td>L30</td>\n",
       "      <td>169000</td>\n",
       "      <td>50.0</td>\n",
       "      <td>350.0</td>\n",
       "    </tr>\n",
       "    <tr>\n",
       "      <th>...</th>\n",
       "      <td>...</td>\n",
       "      <td>...</td>\n",
       "      <td>...</td>\n",
       "      <td>...</td>\n",
       "      <td>...</td>\n",
       "      <td>...</td>\n",
       "    </tr>\n",
       "    <tr>\n",
       "      <th>198</th>\n",
       "      <td>핸디스틱청소기</td>\n",
       "      <td>일렉트로룩스</td>\n",
       "      <td>얼티밋홈 700 EFS71423</td>\n",
       "      <td>569860</td>\n",
       "      <td>53.0</td>\n",
       "      <td>NaN</td>\n",
       "    </tr>\n",
       "    <tr>\n",
       "      <th>199</th>\n",
       "      <td>핸디스틱청소기</td>\n",
       "      <td>보랄</td>\n",
       "      <td>큐텐 BR-Q390RV</td>\n",
       "      <td>62800</td>\n",
       "      <td>NaN</td>\n",
       "      <td>NaN</td>\n",
       "    </tr>\n",
       "    <tr>\n",
       "      <th>200</th>\n",
       "      <td>핸디스틱청소기</td>\n",
       "      <td>신일전자</td>\n",
       "      <td>SVC-DC2200SK</td>\n",
       "      <td>125400</td>\n",
       "      <td>35.0</td>\n",
       "      <td>NaN</td>\n",
       "    </tr>\n",
       "    <tr>\n",
       "      <th>202</th>\n",
       "      <td>핸디스틱청소기</td>\n",
       "      <td>일렉트로룩스</td>\n",
       "      <td>에르고라피도 ZB3311</td>\n",
       "      <td>238990</td>\n",
       "      <td>48.0</td>\n",
       "      <td>NaN</td>\n",
       "    </tr>\n",
       "    <tr>\n",
       "      <th>209</th>\n",
       "      <td>핸디스틱청소기</td>\n",
       "      <td>일렉트로룩스</td>\n",
       "      <td>ZB3302AK</td>\n",
       "      <td>189000</td>\n",
       "      <td>42.0</td>\n",
       "      <td>NaN</td>\n",
       "    </tr>\n",
       "  </tbody>\n",
       "</table>\n",
       "<p>214 rows × 6 columns</p>\n",
       "</div>"
      ],
      "text/plain": [
       "        카테고리     회사명                      제품      가격  사용시간    흡입력\n",
       "34   핸디스틱청소기   DIBEA  차이슨 ALLNEW22000 스노우화이트  197490  40.0  400.0\n",
       "64   핸디스틱청소기   DIBEA         차이슨 ALLNEW29000  248000  48.0  390.0\n",
       "93   핸디스틱청소기      행커                    400W  170100  60.0  390.0\n",
       "62   핸디스틱청소기   에어메이드          스마트포스 AMC-3500  199000  45.0  370.0\n",
       "210  핸디스틱청소기      로헨                     L30  169000  50.0  350.0\n",
       "..       ...     ...                     ...     ...   ...    ...\n",
       "198  핸디스틱청소기  일렉트로룩스       얼티밋홈 700 EFS71423  569860  53.0    NaN\n",
       "199  핸디스틱청소기      보랄            큐텐 BR-Q390RV   62800   NaN    NaN\n",
       "200  핸디스틱청소기    신일전자            SVC-DC2200SK  125400  35.0    NaN\n",
       "202  핸디스틱청소기  일렉트로룩스           에르고라피도 ZB3311  238990  48.0    NaN\n",
       "209  핸디스틱청소기  일렉트로룩스                ZB3302AK  189000  42.0    NaN\n",
       "\n",
       "[214 rows x 6 columns]"
      ]
     },
     "execution_count": 26,
     "metadata": {},
     "output_type": "execute_result"
    }
   ],
   "source": [
    "top_list = pd_data_final.sort_values(['흡입력'], ascending=False)\n",
    "top_list"
   ]
  },
  {
   "cell_type": "code",
   "execution_count": 27,
   "id": "0ffa488a",
   "metadata": {},
   "outputs": [
    {
     "data": {
      "text/html": [
       "<div>\n",
       "<style scoped>\n",
       "    .dataframe tbody tr th:only-of-type {\n",
       "        vertical-align: middle;\n",
       "    }\n",
       "\n",
       "    .dataframe tbody tr th {\n",
       "        vertical-align: top;\n",
       "    }\n",
       "\n",
       "    .dataframe thead th {\n",
       "        text-align: right;\n",
       "    }\n",
       "</style>\n",
       "<table border=\"1\" class=\"dataframe\">\n",
       "  <thead>\n",
       "    <tr style=\"text-align: right;\">\n",
       "      <th></th>\n",
       "      <th>카테고리</th>\n",
       "      <th>회사명</th>\n",
       "      <th>제품</th>\n",
       "      <th>가격</th>\n",
       "      <th>사용시간</th>\n",
       "      <th>흡입력</th>\n",
       "    </tr>\n",
       "  </thead>\n",
       "  <tbody>\n",
       "    <tr>\n",
       "      <th>76</th>\n",
       "      <td>핸디스틱청소기</td>\n",
       "      <td>샤오미</td>\n",
       "      <td>드리미 V12</td>\n",
       "      <td>375967</td>\n",
       "      <td>90.0</td>\n",
       "      <td>270.0</td>\n",
       "    </tr>\n",
       "    <tr>\n",
       "      <th>7</th>\n",
       "      <td>핸디스틱청소기</td>\n",
       "      <td>샤오미</td>\n",
       "      <td>드리미 V11</td>\n",
       "      <td>183710</td>\n",
       "      <td>90.0</td>\n",
       "      <td>250.0</td>\n",
       "    </tr>\n",
       "    <tr>\n",
       "      <th>131</th>\n",
       "      <td>핸디스틱청소기</td>\n",
       "      <td>삼성전자</td>\n",
       "      <td>비스포크 제트 AI VS25C972DR</td>\n",
       "      <td>1439910</td>\n",
       "      <td>80.0</td>\n",
       "      <td>250.0</td>\n",
       "    </tr>\n",
       "    <tr>\n",
       "      <th>69</th>\n",
       "      <td>핸디스틱청소기</td>\n",
       "      <td>삼성전자</td>\n",
       "      <td>비스포크 제트 AI VS28C973ES</td>\n",
       "      <td>1515400</td>\n",
       "      <td>80.0</td>\n",
       "      <td>280.0</td>\n",
       "    </tr>\n",
       "    <tr>\n",
       "      <th>106</th>\n",
       "      <td>핸디스틱청소기</td>\n",
       "      <td>삼성전자</td>\n",
       "      <td>비스포크 제트 AI VS28C973DR</td>\n",
       "      <td>1499990</td>\n",
       "      <td>80.0</td>\n",
       "      <td>280.0</td>\n",
       "    </tr>\n",
       "    <tr>\n",
       "      <th>...</th>\n",
       "      <td>...</td>\n",
       "      <td>...</td>\n",
       "      <td>...</td>\n",
       "      <td>...</td>\n",
       "      <td>...</td>\n",
       "      <td>...</td>\n",
       "    </tr>\n",
       "    <tr>\n",
       "      <th>127</th>\n",
       "      <td>핸디스틱청소기</td>\n",
       "      <td>샤오미</td>\n",
       "      <td>드리미 T30</td>\n",
       "      <td>399000</td>\n",
       "      <td>NaN</td>\n",
       "      <td>270.0</td>\n",
       "    </tr>\n",
       "    <tr>\n",
       "      <th>169</th>\n",
       "      <td>핸디스틱청소기</td>\n",
       "      <td>코슬리</td>\n",
       "      <td>스위트 KV-17IV</td>\n",
       "      <td>89000</td>\n",
       "      <td>NaN</td>\n",
       "      <td>170.0</td>\n",
       "    </tr>\n",
       "    <tr>\n",
       "      <th>187</th>\n",
       "      <td>핸디스틱청소기</td>\n",
       "      <td>아이룸</td>\n",
       "      <td>트윈파워 MAX</td>\n",
       "      <td>145000</td>\n",
       "      <td>NaN</td>\n",
       "      <td>NaN</td>\n",
       "    </tr>\n",
       "    <tr>\n",
       "      <th>194</th>\n",
       "      <td>핸디스틱청소기</td>\n",
       "      <td>보만</td>\n",
       "      <td>VC7210</td>\n",
       "      <td>49790</td>\n",
       "      <td>NaN</td>\n",
       "      <td>NaN</td>\n",
       "    </tr>\n",
       "    <tr>\n",
       "      <th>199</th>\n",
       "      <td>핸디스틱청소기</td>\n",
       "      <td>보랄</td>\n",
       "      <td>큐텐 BR-Q390RV</td>\n",
       "      <td>62800</td>\n",
       "      <td>NaN</td>\n",
       "      <td>NaN</td>\n",
       "    </tr>\n",
       "  </tbody>\n",
       "</table>\n",
       "<p>214 rows × 6 columns</p>\n",
       "</div>"
      ],
      "text/plain": [
       "        카테고리   회사명                     제품       가격  사용시간    흡입력\n",
       "76   핸디스틱청소기   샤오미                드리미 V12   375967  90.0  270.0\n",
       "7    핸디스틱청소기   샤오미                드리미 V11   183710  90.0  250.0\n",
       "131  핸디스틱청소기  삼성전자  비스포크 제트 AI VS25C972DR  1439910  80.0  250.0\n",
       "69   핸디스틱청소기  삼성전자  비스포크 제트 AI VS28C973ES  1515400  80.0  280.0\n",
       "106  핸디스틱청소기  삼성전자  비스포크 제트 AI VS28C973DR  1499990  80.0  280.0\n",
       "..       ...   ...                    ...      ...   ...    ...\n",
       "127  핸디스틱청소기   샤오미                드리미 T30   399000   NaN  270.0\n",
       "169  핸디스틱청소기   코슬리            스위트 KV-17IV    89000   NaN  170.0\n",
       "187  핸디스틱청소기   아이룸               트윈파워 MAX   145000   NaN    NaN\n",
       "194  핸디스틱청소기    보만                 VC7210    49790   NaN    NaN\n",
       "199  핸디스틱청소기    보랄           큐텐 BR-Q390RV    62800   NaN    NaN\n",
       "\n",
       "[214 rows x 6 columns]"
      ]
     },
     "execution_count": 27,
     "metadata": {},
     "output_type": "execute_result"
    }
   ],
   "source": [
    "top_list2 = pd_data_final.sort_values(['사용시간'], ascending=False)\n",
    "top_list2"
   ]
  },
  {
   "cell_type": "code",
   "execution_count": 28,
   "id": "26eece82",
   "metadata": {},
   "outputs": [
    {
     "data": {
      "text/html": [
       "<div>\n",
       "<style scoped>\n",
       "    .dataframe tbody tr th:only-of-type {\n",
       "        vertical-align: middle;\n",
       "    }\n",
       "\n",
       "    .dataframe tbody tr th {\n",
       "        vertical-align: top;\n",
       "    }\n",
       "\n",
       "    .dataframe thead th {\n",
       "        text-align: right;\n",
       "    }\n",
       "</style>\n",
       "<table border=\"1\" class=\"dataframe\">\n",
       "  <thead>\n",
       "    <tr style=\"text-align: right;\">\n",
       "      <th></th>\n",
       "      <th>카테고리</th>\n",
       "      <th>회사명</th>\n",
       "      <th>제품</th>\n",
       "      <th>가격</th>\n",
       "      <th>사용시간</th>\n",
       "      <th>흡입력</th>\n",
       "    </tr>\n",
       "  </thead>\n",
       "  <tbody>\n",
       "    <tr>\n",
       "      <th>76</th>\n",
       "      <td>핸디스틱청소기</td>\n",
       "      <td>샤오미</td>\n",
       "      <td>드리미 V12</td>\n",
       "      <td>375967</td>\n",
       "      <td>90.0</td>\n",
       "      <td>270.0</td>\n",
       "    </tr>\n",
       "    <tr>\n",
       "      <th>7</th>\n",
       "      <td>핸디스틱청소기</td>\n",
       "      <td>샤오미</td>\n",
       "      <td>드리미 V11</td>\n",
       "      <td>183710</td>\n",
       "      <td>90.0</td>\n",
       "      <td>250.0</td>\n",
       "    </tr>\n",
       "    <tr>\n",
       "      <th>69</th>\n",
       "      <td>핸디스틱청소기</td>\n",
       "      <td>삼성전자</td>\n",
       "      <td>비스포크 제트 AI VS28C973ES</td>\n",
       "      <td>1515400</td>\n",
       "      <td>80.0</td>\n",
       "      <td>280.0</td>\n",
       "    </tr>\n",
       "    <tr>\n",
       "      <th>106</th>\n",
       "      <td>핸디스틱청소기</td>\n",
       "      <td>삼성전자</td>\n",
       "      <td>비스포크 제트 AI VS28C973DR</td>\n",
       "      <td>1499990</td>\n",
       "      <td>80.0</td>\n",
       "      <td>280.0</td>\n",
       "    </tr>\n",
       "    <tr>\n",
       "      <th>159</th>\n",
       "      <td>핸디스틱청소기</td>\n",
       "      <td>삼성전자</td>\n",
       "      <td>비스포크 제트 AI VS28C973GSK</td>\n",
       "      <td>1579990</td>\n",
       "      <td>80.0</td>\n",
       "      <td>280.0</td>\n",
       "    </tr>\n",
       "  </tbody>\n",
       "</table>\n",
       "</div>"
      ],
      "text/plain": [
       "        카테고리   회사명                      제품       가격  사용시간    흡입력\n",
       "76   핸디스틱청소기   샤오미                 드리미 V12   375967  90.0  270.0\n",
       "7    핸디스틱청소기   샤오미                 드리미 V11   183710  90.0  250.0\n",
       "69   핸디스틱청소기  삼성전자   비스포크 제트 AI VS28C973ES  1515400  80.0  280.0\n",
       "106  핸디스틱청소기  삼성전자   비스포크 제트 AI VS28C973DR  1499990  80.0  280.0\n",
       "159  핸디스틱청소기  삼성전자  비스포크 제트 AI VS28C973GSK  1579990  80.0  280.0"
      ]
     },
     "execution_count": 28,
     "metadata": {},
     "output_type": "execute_result"
    }
   ],
   "source": [
    "top_list3 = pd_data_final.sort_values(['사용시간', '흡입력'], ascending=False)\n",
    "top_list3.head()"
   ]
  },
  {
   "cell_type": "code",
   "execution_count": 29,
   "id": "d992e7d2",
   "metadata": {},
   "outputs": [
    {
     "name": "stdout",
     "output_type": "stream",
     "text": [
      "가격 평균 :  400043.40654205607\n",
      "흡입력 평균 :  203.94666666666666\n",
      "사용시간 평균 :  49.61274509803921\n"
     ]
    }
   ],
   "source": [
    "# 평균값 정리\n",
    "price_mean_value = pd_data_final['가격'].mean()\n",
    "suction_mean_value = pd_data_final['흡입력'].mean()\n",
    "use_time_mean_value = pd_data_final['사용시간'].mean()\n",
    "print('가격 평균 : ', price_mean_value)\n",
    "print('흡입력 평균 : ', suction_mean_value)\n",
    "print('사용시간 평균 : ', use_time_mean_value)"
   ]
  },
  {
   "cell_type": "code",
   "execution_count": 30,
   "id": "4e86206d",
   "metadata": {},
   "outputs": [
    {
     "data": {
      "text/plain": [
       "18"
      ]
     },
     "execution_count": 30,
     "metadata": {},
     "output_type": "execute_result"
    }
   ],
   "source": [
    "# 가성비 좋은 제품 선택\n",
    "# 가격이 평균이하고, 흡입력, 사용시간이 평균보다 높으면\n",
    "condition_data = pd_data_final[(pd_data_final['가격'] <= price_mean_value) & (pd_data_final['흡입력'] >=  suction_mean_value) & (pd_data_final['사용시간'] >= use_time_mean_value)]\n",
    "len(condition_data)"
   ]
  },
  {
   "cell_type": "markdown",
   "id": "c397dc61",
   "metadata": {},
   "source": [
    "# 7. 데이터 시각화"
   ]
  },
  {
   "cell_type": "code",
   "execution_count": 31,
   "id": "4219a71d",
   "metadata": {},
   "outputs": [
    {
     "data": {
      "text/plain": [
       "147"
      ]
     },
     "execution_count": 31,
     "metadata": {},
     "output_type": "execute_result"
    }
   ],
   "source": [
    "chart_data = pd_data_final.dropna(axis=0)\n",
    "len(chart_data)"
   ]
  },
  {
   "cell_type": "code",
   "execution_count": 32,
   "id": "6179dc87",
   "metadata": {},
   "outputs": [],
   "source": [
    "# 흡입력, 사용시간의 최댓값과 최소값 정리\n",
    "suction_max_value = chart_data['흡입력'].max()\n",
    "suction_min_value = chart_data['흡입력'].min()\n",
    "use_time_max_value = chart_data['사용시간'].max()\n",
    "use_time_min_value = chart_data['사용시간'].min()"
   ]
  },
  {
   "cell_type": "code",
   "execution_count": 38,
   "id": "84007915",
   "metadata": {},
   "outputs": [
    {
     "data": {
      "image/png": "[encoded data removed]",
      "text/plain": [
       "<Figure size 1200x800 with 1 Axes>"
      ]
     },
     "metadata": {},
     "output_type": "display_data"
    }
   ],
   "source": [
    "# 청소기 성능 시각화\n",
    "plt.figure(figsize=(12,8))\n",
    "plt.title(\"핸디스틱청소기 성능표\")\n",
    "sns.scatterplot(x='흡입력' , y='사용시간' , size='가격', hue = chart_data['회사명'],\n",
    "                data=chart_data, sizes=(10, 1000), legend = False)\n",
    "plt.plot([0, suction_max_value], [use_time_mean_value, use_time_mean_value],\n",
    "        'r--', lw=1)\n",
    "plt.plot([suction_mean_value, suction_mean_value], [0, use_time_max_value],\n",
    "        'r--', lw=1)\n",
    "\n",
    "for index, row in condition_data.iterrows():\n",
    "    x = row['흡입력']\n",
    "    y = row['사용시간']\n",
    "    s = row['제품'].split(' ')[0]\n",
    "    plt.text(x, y, s, size=10)\n",
    "plt.show()"
   ]
  }
 ],
 "metadata": {
  "kernelspec": {
   "display_name": "Python 3 (ipykernel)",
   "language": "python",
   "name": "python3"
  },
  "language_info": {
   "codemirror_mode": {
    "name": "ipython",
    "version": 3
   },
   "file_extension": ".py",
   "mimetype": "text/x-python",
   "name": "python",
   "nbconvert_exporter": "python",
   "pygments_lexer": "ipython3",
   "version": "3.8.7"
  }
 },
 "nbformat": 4,
 "nbformat_minor": 5
}
