{
 "cells": [
  {
   "cell_type": "markdown",
   "id": "b88df1ce",
   "metadata": {},
   "source": [
    "# 커피지수 part_2"
   ]
  },
  {
   "cell_type": "code",
   "execution_count": 2,
   "id": "2bf5f57a",
   "metadata": {},
   "outputs": [],
   "source": [
    "import pandas as pd\n",
    "import numpy as np\n",
    "from glob import glob\n",
    "from tqdm.notebook import tqdm\n",
    "import matplotlib as mpl\n",
    "import matplotlib.pyplot as plt\n",
    "import seaborn as sns\n",
    "import folium\n",
    "import json\n",
    "from matplotlib import font_manager, rc\n",
    "mpl.rcParams['axes.unicode_minus'] = False\n",
    "plt.rc('font', family = 'Malgun Gothic')"
   ]
  },
  {
   "cell_type": "code",
   "execution_count": 3,
   "id": "3d31af61",
   "metadata": {},
   "outputs": [],
   "source": [
    "starbucks = pd.read_csv('./data1/스타벅스.csv')\n",
    "coffeebean = pd.read_csv('./data1/커피빈.csv')\n",
    "ediya = pd.read_csv('./data1/이디야.csv')\n",
    "paik = pd.read_csv('./data1/빽다방.csv')"
   ]
  },
  {
   "cell_type": "code",
   "execution_count": 4,
   "id": "41d791b0",
   "metadata": {},
   "outputs": [],
   "source": [
    "# 고성군 - 고성(강원), 고성(경남)\n",
    "# 광역시 - 서울 용산, 서울 서대문, 대전 서구, 대전 유성, 세종\n",
    "# 행정구 - 수원장안, 용인 수지, 고양 일산동, 창원 합포, 창원 회원\n",
    "tmp_gu_dict = {\n",
    "    '수원' : ['장안구', '권선구', '팔달구', '영통구'],\n",
    "    '성남' : ['수정구', '중원구', '분당구'],\n",
    "    '안양' : ['만안구', '동안구'],\n",
    "    '안산' : ['상록구', '단원구'],\n",
    "    '고양' : ['덕양구', '일산동구', '일산서구'],\n",
    "    '용인' : ['처인구', '기흥구', '수지구'],\n",
    "    '청주' : ['상당구', '서원구', '흥덕구', '청원구'],\n",
    "    '천안' : ['동남구', '서북구'],\n",
    "    '전주' : ['완산구', '덕진구'],\n",
    "    '포항' : ['남구', '북구'],\n",
    "    '창원' : ['의창구', '성산구', '진해구', '마산합포구', '마산회원구']\n",
    "    }"
   ]
  },
  {
   "cell_type": "code",
   "execution_count": 5,
   "id": "999082aa",
   "metadata": {},
   "outputs": [],
   "source": [
    "metro_list = ['서울특별시', '부산광역시', '대구광역시', '인천광역시', '대전광역시', '광주광역시', '울산광역시']"
   ]
  },
  {
   "cell_type": "code",
   "execution_count": 6,
   "id": "6403ed86",
   "metadata": {},
   "outputs": [],
   "source": [
    "def get_ID(df):\n",
    "    \n",
    "    # 시네임 체크\n",
    "    si_name = [None] * len(df)\n",
    "    for i in df.index:\n",
    "        if df.시도명[i] in metro_list:\n",
    "            if len(df.시군구명[i]) == 2: #서울 중구, 대전 서구\n",
    "                si_name[i] = df.시도명[i][:2] + ' ' + df.시군구명[i]\n",
    "            else: # 서울 용산, 서울 서대문\n",
    "                si_name[i] = df.시도명[i][:2] + ' ' + df.시군구명[i][:-1]\n",
    "        else:\n",
    "            si_len = len(df.시군구명[i].split())\n",
    "            if si_len == 1:\n",
    "                if df.시군구명[i][:-1] == '고성':\n",
    "                    if df.시도명[i] == '강원도' :\n",
    "                        si_name[i] = '고성(강원)'\n",
    "                    else:\n",
    "                        si_name[i] = '고성(경남)'\n",
    "                elif df.시군구명[i].find('세종') == 0:\n",
    "                    si_name[i] = '세종'\n",
    "                else:\n",
    "                    si_name[i] = df.시군구명[i][:-1] # 세종, 광명, 김포, 강릉\n",
    "            else:\n",
    "                admin_gu = df.시군구명[i].split()[-1]\n",
    "                for key, value in tmp_gu_dict.items():\n",
    "                    if admin_gu in value:\n",
    "                        if len(admin_gu) == 2: # 포항 북구, 포항 남구\n",
    "                            si_name[i] = key + ' ' + admin_gu\n",
    "                        elif len(admin_gu) == 5: # 창원 합포, 창원회원\n",
    "                            si_name[i] = key + ' ' + admin_gu[2:-1]\n",
    "                        else: # 수원 팔달, 용인 지\n",
    "                            si_name[i] = key + ' ' + admin_gu[:-1]\n",
    "    return si_name"
   ]
  },
  {
   "cell_type": "code",
   "execution_count": 7,
   "id": "e5dd746d",
   "metadata": {},
   "outputs": [
    {
     "data": {
      "text/plain": [
       "(191, 92, 238, 174)"
      ]
     },
     "execution_count": 7,
     "metadata": {},
     "output_type": "execute_result"
    }
   ],
   "source": [
    "starbucks['ID'] = get_ID(starbucks)\n",
    "coffeebean['ID'] = get_ID(coffeebean)\n",
    "ediya['ID'] = get_ID(ediya)\n",
    "paik['ID'] = get_ID(paik)\n",
    "len(starbucks.ID.unique()), len(coffeebean.ID.unique()), len(ediya.ID.unique()), len(paik.ID.unique())"
   ]
  },
  {
   "cell_type": "code",
   "execution_count": 8,
   "id": "91201046",
   "metadata": {},
   "outputs": [
    {
     "data": {
      "text/plain": [
       "244"
      ]
     },
     "execution_count": 8,
     "metadata": {},
     "output_type": "execute_result"
    }
   ],
   "source": [
    "# 모든 단위 도시를 합하면 합집합\n",
    "city_set = set(starbucks.ID.unique()) | set(coffeebean.ID.unique()) | set(ediya.ID.unique()) | set(paik.ID.unique())\n",
    "len(city_set)"
   ]
  },
  {
   "cell_type": "code",
   "execution_count": 9,
   "id": "a29621e6",
   "metadata": {},
   "outputs": [
    {
     "data": {
      "text/plain": [
       "{'계룡', '고성(강원)', '영양', '진도'}"
      ]
     },
     "execution_count": 9,
     "metadata": {},
     "output_type": "execute_result"
    }
   ],
   "source": [
    "# starbucks 만 있고, ediya / paik 가 없는곳\n",
    "set(starbucks.ID.unique()) - set(ediya.ID.unique()) - set(paik.ID.unique())"
   ]
  },
  {
   "cell_type": "code",
   "execution_count": 10,
   "id": "4c8d4497",
   "metadata": {},
   "outputs": [
    {
     "data": {
      "text/html": [
       "<div>\n",
       "<style scoped>\n",
       "    .dataframe tbody tr th:only-of-type {\n",
       "        vertical-align: middle;\n",
       "    }\n",
       "\n",
       "    .dataframe tbody tr th {\n",
       "        vertical-align: top;\n",
       "    }\n",
       "\n",
       "    .dataframe thead th {\n",
       "        text-align: right;\n",
       "    }\n",
       "</style>\n",
       "<table border=\"1\" class=\"dataframe\">\n",
       "  <thead>\n",
       "    <tr style=\"text-align: right;\">\n",
       "      <th></th>\n",
       "      <th>상호명</th>\n",
       "    </tr>\n",
       "    <tr>\n",
       "      <th>ID</th>\n",
       "      <th></th>\n",
       "    </tr>\n",
       "  </thead>\n",
       "  <tbody>\n",
       "    <tr>\n",
       "      <th>가평</th>\n",
       "      <td>2</td>\n",
       "    </tr>\n",
       "    <tr>\n",
       "      <th>강릉</th>\n",
       "      <td>4</td>\n",
       "    </tr>\n",
       "    <tr>\n",
       "      <th>거제</th>\n",
       "      <td>6</td>\n",
       "    </tr>\n",
       "    <tr>\n",
       "      <th>경산</th>\n",
       "      <td>8</td>\n",
       "    </tr>\n",
       "    <tr>\n",
       "      <th>경주</th>\n",
       "      <td>7</td>\n",
       "    </tr>\n",
       "  </tbody>\n",
       "</table>\n",
       "</div>"
      ],
      "text/plain": [
       "    상호명\n",
       "ID     \n",
       "가평    2\n",
       "강릉    4\n",
       "거제    6\n",
       "경산    8\n",
       "경주    7"
      ]
     },
     "execution_count": 10,
     "metadata": {},
     "output_type": "execute_result"
    }
   ],
   "source": [
    "# 브랜드별 매장수 계산\n",
    "# 스벅\n",
    "starbucks.groupby('ID')[['상호명']].count().head()"
   ]
  },
  {
   "cell_type": "code",
   "execution_count": 11,
   "id": "34c5aa1d",
   "metadata": {},
   "outputs": [
    {
     "data": {
      "text/html": [
       "<div>\n",
       "<style scoped>\n",
       "    .dataframe tbody tr th:only-of-type {\n",
       "        vertical-align: middle;\n",
       "    }\n",
       "\n",
       "    .dataframe tbody tr th {\n",
       "        vertical-align: top;\n",
       "    }\n",
       "\n",
       "    .dataframe thead th {\n",
       "        text-align: right;\n",
       "    }\n",
       "</style>\n",
       "<table border=\"1\" class=\"dataframe\">\n",
       "  <thead>\n",
       "    <tr style=\"text-align: right;\">\n",
       "      <th></th>\n",
       "      <th>ID</th>\n",
       "      <th>스타벅스</th>\n",
       "    </tr>\n",
       "  </thead>\n",
       "  <tbody>\n",
       "    <tr>\n",
       "      <th>0</th>\n",
       "      <td>가평</td>\n",
       "      <td>2</td>\n",
       "    </tr>\n",
       "    <tr>\n",
       "      <th>1</th>\n",
       "      <td>강릉</td>\n",
       "      <td>4</td>\n",
       "    </tr>\n",
       "    <tr>\n",
       "      <th>2</th>\n",
       "      <td>거제</td>\n",
       "      <td>6</td>\n",
       "    </tr>\n",
       "    <tr>\n",
       "      <th>3</th>\n",
       "      <td>경산</td>\n",
       "      <td>8</td>\n",
       "    </tr>\n",
       "    <tr>\n",
       "      <th>4</th>\n",
       "      <td>경주</td>\n",
       "      <td>7</td>\n",
       "    </tr>\n",
       "  </tbody>\n",
       "</table>\n",
       "</div>"
      ],
      "text/plain": [
       "   ID  스타벅스\n",
       "0  가평     2\n",
       "1  강릉     4\n",
       "2  거제     6\n",
       "3  경산     8\n",
       "4  경주     7"
      ]
     },
     "execution_count": 11,
     "metadata": {},
     "output_type": "execute_result"
    }
   ],
   "source": [
    "pt_sb = starbucks.groupby('ID')[['상호명']].count()\n",
    "pt_sb.reset_index(inplace=True)\n",
    "pt_sb.rename(columns={'상호명':'스타벅스'}, inplace=True)\n",
    "pt_sb.head()"
   ]
  },
  {
   "cell_type": "code",
   "execution_count": 12,
   "id": "06e91cf3",
   "metadata": {},
   "outputs": [
    {
     "data": {
      "text/html": [
       "<div>\n",
       "<style scoped>\n",
       "    .dataframe tbody tr th:only-of-type {\n",
       "        vertical-align: middle;\n",
       "    }\n",
       "\n",
       "    .dataframe tbody tr th {\n",
       "        vertical-align: top;\n",
       "    }\n",
       "\n",
       "    .dataframe thead th {\n",
       "        text-align: right;\n",
       "    }\n",
       "</style>\n",
       "<table border=\"1\" class=\"dataframe\">\n",
       "  <thead>\n",
       "    <tr style=\"text-align: right;\">\n",
       "      <th></th>\n",
       "      <th>ID</th>\n",
       "      <th>커피빈</th>\n",
       "    </tr>\n",
       "  </thead>\n",
       "  <tbody>\n",
       "    <tr>\n",
       "      <th>0</th>\n",
       "      <td>경주</td>\n",
       "      <td>2</td>\n",
       "    </tr>\n",
       "    <tr>\n",
       "      <th>1</th>\n",
       "      <td>고양 덕양</td>\n",
       "      <td>1</td>\n",
       "    </tr>\n",
       "    <tr>\n",
       "      <th>2</th>\n",
       "      <td>고양 일산동</td>\n",
       "      <td>1</td>\n",
       "    </tr>\n",
       "    <tr>\n",
       "      <th>3</th>\n",
       "      <td>고양 일산서</td>\n",
       "      <td>1</td>\n",
       "    </tr>\n",
       "    <tr>\n",
       "      <th>4</th>\n",
       "      <td>광명</td>\n",
       "      <td>1</td>\n",
       "    </tr>\n",
       "  </tbody>\n",
       "</table>\n",
       "</div>"
      ],
      "text/plain": [
       "       ID  커피빈\n",
       "0      경주    2\n",
       "1   고양 덕양    1\n",
       "2  고양 일산동    1\n",
       "3  고양 일산서    1\n",
       "4      광명    1"
      ]
     },
     "execution_count": 12,
     "metadata": {},
     "output_type": "execute_result"
    }
   ],
   "source": [
    "pt_cb = coffeebean.groupby('ID')[['상호명']].count()\n",
    "pt_cb.reset_index(inplace=True)\n",
    "pt_cb.rename(columns={'상호명':'커피빈'}, inplace=True)\n",
    "pt_cb.head()"
   ]
  },
  {
   "cell_type": "code",
   "execution_count": 13,
   "id": "6967b2ef",
   "metadata": {},
   "outputs": [
    {
     "data": {
      "text/html": [
       "<div>\n",
       "<style scoped>\n",
       "    .dataframe tbody tr th:only-of-type {\n",
       "        vertical-align: middle;\n",
       "    }\n",
       "\n",
       "    .dataframe tbody tr th {\n",
       "        vertical-align: top;\n",
       "    }\n",
       "\n",
       "    .dataframe thead th {\n",
       "        text-align: right;\n",
       "    }\n",
       "</style>\n",
       "<table border=\"1\" class=\"dataframe\">\n",
       "  <thead>\n",
       "    <tr style=\"text-align: right;\">\n",
       "      <th></th>\n",
       "      <th>ID</th>\n",
       "      <th>이디야</th>\n",
       "    </tr>\n",
       "  </thead>\n",
       "  <tbody>\n",
       "    <tr>\n",
       "      <th>0</th>\n",
       "      <td>가평</td>\n",
       "      <td>9</td>\n",
       "    </tr>\n",
       "    <tr>\n",
       "      <th>1</th>\n",
       "      <td>강릉</td>\n",
       "      <td>17</td>\n",
       "    </tr>\n",
       "    <tr>\n",
       "      <th>2</th>\n",
       "      <td>강진</td>\n",
       "      <td>1</td>\n",
       "    </tr>\n",
       "    <tr>\n",
       "      <th>3</th>\n",
       "      <td>거제</td>\n",
       "      <td>9</td>\n",
       "    </tr>\n",
       "    <tr>\n",
       "      <th>4</th>\n",
       "      <td>거창</td>\n",
       "      <td>1</td>\n",
       "    </tr>\n",
       "  </tbody>\n",
       "</table>\n",
       "</div>"
      ],
      "text/plain": [
       "   ID  이디야\n",
       "0  가평    9\n",
       "1  강릉   17\n",
       "2  강진    1\n",
       "3  거제    9\n",
       "4  거창    1"
      ]
     },
     "execution_count": 13,
     "metadata": {},
     "output_type": "execute_result"
    }
   ],
   "source": [
    "pt_ed = ediya.groupby('ID')[['상호명']].count()\n",
    "pt_ed.reset_index(inplace=True)\n",
    "pt_ed.rename(columns={'상호명':'이디야'}, inplace=True)\n",
    "pt_ed.head()"
   ]
  },
  {
   "cell_type": "code",
   "execution_count": 14,
   "id": "b5792d2b",
   "metadata": {},
   "outputs": [
    {
     "data": {
      "text/html": [
       "<div>\n",
       "<style scoped>\n",
       "    .dataframe tbody tr th:only-of-type {\n",
       "        vertical-align: middle;\n",
       "    }\n",
       "\n",
       "    .dataframe tbody tr th {\n",
       "        vertical-align: top;\n",
       "    }\n",
       "\n",
       "    .dataframe thead th {\n",
       "        text-align: right;\n",
       "    }\n",
       "</style>\n",
       "<table border=\"1\" class=\"dataframe\">\n",
       "  <thead>\n",
       "    <tr style=\"text-align: right;\">\n",
       "      <th></th>\n",
       "      <th>ID</th>\n",
       "      <th>빽다방</th>\n",
       "    </tr>\n",
       "  </thead>\n",
       "  <tbody>\n",
       "    <tr>\n",
       "      <th>0</th>\n",
       "      <td>강릉</td>\n",
       "      <td>2</td>\n",
       "    </tr>\n",
       "    <tr>\n",
       "      <th>1</th>\n",
       "      <td>거창</td>\n",
       "      <td>1</td>\n",
       "    </tr>\n",
       "    <tr>\n",
       "      <th>2</th>\n",
       "      <td>경산</td>\n",
       "      <td>4</td>\n",
       "    </tr>\n",
       "    <tr>\n",
       "      <th>3</th>\n",
       "      <td>경주</td>\n",
       "      <td>1</td>\n",
       "    </tr>\n",
       "    <tr>\n",
       "      <th>4</th>\n",
       "      <td>고령</td>\n",
       "      <td>1</td>\n",
       "    </tr>\n",
       "  </tbody>\n",
       "</table>\n",
       "</div>"
      ],
      "text/plain": [
       "   ID  빽다방\n",
       "0  강릉    2\n",
       "1  거창    1\n",
       "2  경산    4\n",
       "3  경주    1\n",
       "4  고령    1"
      ]
     },
     "execution_count": 14,
     "metadata": {},
     "output_type": "execute_result"
    }
   ],
   "source": [
    "pt_bd = paik.groupby('ID')[['상호명']].count()\n",
    "pt_bd.reset_index(inplace=True)\n",
    "pt_bd.rename(columns={'상호명':'빽다방'}, inplace=True)\n",
    "pt_bd.head()"
   ]
  },
  {
   "cell_type": "code",
   "execution_count": 15,
   "id": "261dcc51",
   "metadata": {},
   "outputs": [
    {
     "data": {
      "text/plain": [
       "(191, 92, 238, 174)"
      ]
     },
     "execution_count": 15,
     "metadata": {},
     "output_type": "execute_result"
    }
   ],
   "source": [
    "len(pt_sb), len(pt_cb), len(pt_ed), len(pt_bd)"
   ]
  },
  {
   "cell_type": "code",
   "execution_count": 16,
   "id": "2f10b711",
   "metadata": {},
   "outputs": [
    {
     "data": {
      "text/html": [
       "<div>\n",
       "<style scoped>\n",
       "    .dataframe tbody tr th:only-of-type {\n",
       "        vertical-align: middle;\n",
       "    }\n",
       "\n",
       "    .dataframe tbody tr th {\n",
       "        vertical-align: top;\n",
       "    }\n",
       "\n",
       "    .dataframe thead th {\n",
       "        text-align: right;\n",
       "    }\n",
       "</style>\n",
       "<table border=\"1\" class=\"dataframe\">\n",
       "  <thead>\n",
       "    <tr style=\"text-align: right;\">\n",
       "      <th></th>\n",
       "      <th>ID</th>\n",
       "      <th>이디야</th>\n",
       "      <th>스타벅스</th>\n",
       "    </tr>\n",
       "  </thead>\n",
       "  <tbody>\n",
       "    <tr>\n",
       "      <th>0</th>\n",
       "      <td>가평</td>\n",
       "      <td>9</td>\n",
       "      <td>2.0</td>\n",
       "    </tr>\n",
       "    <tr>\n",
       "      <th>1</th>\n",
       "      <td>강릉</td>\n",
       "      <td>17</td>\n",
       "      <td>4.0</td>\n",
       "    </tr>\n",
       "    <tr>\n",
       "      <th>2</th>\n",
       "      <td>강진</td>\n",
       "      <td>1</td>\n",
       "      <td>NaN</td>\n",
       "    </tr>\n",
       "    <tr>\n",
       "      <th>3</th>\n",
       "      <td>거제</td>\n",
       "      <td>9</td>\n",
       "      <td>6.0</td>\n",
       "    </tr>\n",
       "    <tr>\n",
       "      <th>4</th>\n",
       "      <td>거창</td>\n",
       "      <td>1</td>\n",
       "      <td>NaN</td>\n",
       "    </tr>\n",
       "  </tbody>\n",
       "</table>\n",
       "</div>"
      ],
      "text/plain": [
       "   ID  이디야  스타벅스\n",
       "0  가평    9   2.0\n",
       "1  강릉   17   4.0\n",
       "2  강진    1   NaN\n",
       "3  거제    9   6.0\n",
       "4  거창    1   NaN"
      ]
     },
     "execution_count": 16,
     "metadata": {},
     "output_type": "execute_result"
    }
   ],
   "source": [
    "# merge로 커피 데이터 병합\n",
    "cf = pd.merge(pt_ed, pt_sb, how='left')\n",
    "cf.head()"
   ]
  },
  {
   "cell_type": "code",
   "execution_count": 17,
   "id": "444acc50",
   "metadata": {},
   "outputs": [
    {
     "data": {
      "text/html": [
       "<div>\n",
       "<style scoped>\n",
       "    .dataframe tbody tr th:only-of-type {\n",
       "        vertical-align: middle;\n",
       "    }\n",
       "\n",
       "    .dataframe tbody tr th {\n",
       "        vertical-align: top;\n",
       "    }\n",
       "\n",
       "    .dataframe thead th {\n",
       "        text-align: right;\n",
       "    }\n",
       "</style>\n",
       "<table border=\"1\" class=\"dataframe\">\n",
       "  <thead>\n",
       "    <tr style=\"text-align: right;\">\n",
       "      <th></th>\n",
       "      <th>ID</th>\n",
       "      <th>이디야</th>\n",
       "      <th>스타벅스</th>\n",
       "      <th>커피빈</th>\n",
       "      <th>빽다방</th>\n",
       "    </tr>\n",
       "  </thead>\n",
       "  <tbody>\n",
       "    <tr>\n",
       "      <th>0</th>\n",
       "      <td>가평</td>\n",
       "      <td>9</td>\n",
       "      <td>2.0</td>\n",
       "      <td>NaN</td>\n",
       "      <td>NaN</td>\n",
       "    </tr>\n",
       "    <tr>\n",
       "      <th>1</th>\n",
       "      <td>강릉</td>\n",
       "      <td>17</td>\n",
       "      <td>4.0</td>\n",
       "      <td>NaN</td>\n",
       "      <td>2.0</td>\n",
       "    </tr>\n",
       "    <tr>\n",
       "      <th>2</th>\n",
       "      <td>강진</td>\n",
       "      <td>1</td>\n",
       "      <td>NaN</td>\n",
       "      <td>NaN</td>\n",
       "      <td>NaN</td>\n",
       "    </tr>\n",
       "    <tr>\n",
       "      <th>3</th>\n",
       "      <td>거제</td>\n",
       "      <td>9</td>\n",
       "      <td>6.0</td>\n",
       "      <td>NaN</td>\n",
       "      <td>NaN</td>\n",
       "    </tr>\n",
       "    <tr>\n",
       "      <th>4</th>\n",
       "      <td>거창</td>\n",
       "      <td>1</td>\n",
       "      <td>NaN</td>\n",
       "      <td>NaN</td>\n",
       "      <td>1.0</td>\n",
       "    </tr>\n",
       "  </tbody>\n",
       "</table>\n",
       "</div>"
      ],
      "text/plain": [
       "   ID  이디야  스타벅스  커피빈  빽다방\n",
       "0  가평    9   2.0  NaN  NaN\n",
       "1  강릉   17   4.0  NaN  2.0\n",
       "2  강진    1   NaN  NaN  NaN\n",
       "3  거제    9   6.0  NaN  NaN\n",
       "4  거창    1   NaN  NaN  1.0"
      ]
     },
     "execution_count": 17,
     "metadata": {},
     "output_type": "execute_result"
    }
   ],
   "source": [
    "cf = pd.merge(cf, pt_cb, how='left')\n",
    "cf = pd.merge(cf, pt_bd, how='left')\n",
    "cf.head()"
   ]
  },
  {
   "cell_type": "code",
   "execution_count": 18,
   "id": "0f4e5423",
   "metadata": {},
   "outputs": [],
   "source": [
    "cf.fillna(0, inplace=True)\n",
    "cf.스타벅스 = cf.스타벅스.astype(int)\n",
    "cf.이디야 = cf.이디야.astype(int)\n",
    "cf.커피빈 = cf.커피빈.astype(int)\n",
    "cf.빽다방 = cf.빽다방.astype(int)"
   ]
  },
  {
   "cell_type": "code",
   "execution_count": 19,
   "id": "7c9df80f",
   "metadata": {},
   "outputs": [
    {
     "data": {
      "text/html": [
       "<div>\n",
       "<style scoped>\n",
       "    .dataframe tbody tr th:only-of-type {\n",
       "        vertical-align: middle;\n",
       "    }\n",
       "\n",
       "    .dataframe tbody tr th {\n",
       "        vertical-align: top;\n",
       "    }\n",
       "\n",
       "    .dataframe thead th {\n",
       "        text-align: right;\n",
       "    }\n",
       "</style>\n",
       "<table border=\"1\" class=\"dataframe\">\n",
       "  <thead>\n",
       "    <tr style=\"text-align: right;\">\n",
       "      <th></th>\n",
       "      <th>ID</th>\n",
       "      <th>이디야</th>\n",
       "      <th>스타벅스</th>\n",
       "      <th>커피빈</th>\n",
       "      <th>빽다방</th>\n",
       "    </tr>\n",
       "  </thead>\n",
       "  <tbody>\n",
       "    <tr>\n",
       "      <th>0</th>\n",
       "      <td>가평</td>\n",
       "      <td>9</td>\n",
       "      <td>2</td>\n",
       "      <td>0</td>\n",
       "      <td>0</td>\n",
       "    </tr>\n",
       "    <tr>\n",
       "      <th>1</th>\n",
       "      <td>강릉</td>\n",
       "      <td>17</td>\n",
       "      <td>4</td>\n",
       "      <td>0</td>\n",
       "      <td>2</td>\n",
       "    </tr>\n",
       "    <tr>\n",
       "      <th>2</th>\n",
       "      <td>강진</td>\n",
       "      <td>1</td>\n",
       "      <td>0</td>\n",
       "      <td>0</td>\n",
       "      <td>0</td>\n",
       "    </tr>\n",
       "    <tr>\n",
       "      <th>3</th>\n",
       "      <td>거제</td>\n",
       "      <td>9</td>\n",
       "      <td>6</td>\n",
       "      <td>0</td>\n",
       "      <td>0</td>\n",
       "    </tr>\n",
       "    <tr>\n",
       "      <th>4</th>\n",
       "      <td>거창</td>\n",
       "      <td>1</td>\n",
       "      <td>0</td>\n",
       "      <td>0</td>\n",
       "      <td>1</td>\n",
       "    </tr>\n",
       "  </tbody>\n",
       "</table>\n",
       "</div>"
      ],
      "text/plain": [
       "   ID  이디야  스타벅스  커피빈  빽다방\n",
       "0  가평    9     2    0    0\n",
       "1  강릉   17     4    0    2\n",
       "2  강진    1     0    0    0\n",
       "3  거제    9     6    0    0\n",
       "4  거창    1     0    0    1"
      ]
     },
     "execution_count": 19,
     "metadata": {},
     "output_type": "execute_result"
    }
   ],
   "source": [
    "cf.head()"
   ]
  },
  {
   "cell_type": "code",
   "execution_count": 20,
   "id": "38084130",
   "metadata": {},
   "outputs": [
    {
     "data": {
      "text/html": [
       "<div>\n",
       "<style scoped>\n",
       "    .dataframe tbody tr th:only-of-type {\n",
       "        vertical-align: middle;\n",
       "    }\n",
       "\n",
       "    .dataframe tbody tr th {\n",
       "        vertical-align: top;\n",
       "    }\n",
       "\n",
       "    .dataframe thead th {\n",
       "        text-align: right;\n",
       "    }\n",
       "</style>\n",
       "<table border=\"1\" class=\"dataframe\">\n",
       "  <thead>\n",
       "    <tr style=\"text-align: right;\">\n",
       "      <th></th>\n",
       "      <th>ID</th>\n",
       "      <th>이디야</th>\n",
       "      <th>스타벅스</th>\n",
       "      <th>커피빈</th>\n",
       "      <th>빽다방</th>\n",
       "      <th>커피지수</th>\n",
       "    </tr>\n",
       "  </thead>\n",
       "  <tbody>\n",
       "    <tr>\n",
       "      <th>0</th>\n",
       "      <td>가평</td>\n",
       "      <td>9</td>\n",
       "      <td>2</td>\n",
       "      <td>0</td>\n",
       "      <td>0</td>\n",
       "      <td>0.222222</td>\n",
       "    </tr>\n",
       "    <tr>\n",
       "      <th>1</th>\n",
       "      <td>강릉</td>\n",
       "      <td>17</td>\n",
       "      <td>4</td>\n",
       "      <td>0</td>\n",
       "      <td>2</td>\n",
       "      <td>0.210526</td>\n",
       "    </tr>\n",
       "    <tr>\n",
       "      <th>2</th>\n",
       "      <td>강진</td>\n",
       "      <td>1</td>\n",
       "      <td>0</td>\n",
       "      <td>0</td>\n",
       "      <td>0</td>\n",
       "      <td>0.000000</td>\n",
       "    </tr>\n",
       "    <tr>\n",
       "      <th>3</th>\n",
       "      <td>거제</td>\n",
       "      <td>9</td>\n",
       "      <td>6</td>\n",
       "      <td>0</td>\n",
       "      <td>0</td>\n",
       "      <td>0.666667</td>\n",
       "    </tr>\n",
       "    <tr>\n",
       "      <th>4</th>\n",
       "      <td>거창</td>\n",
       "      <td>1</td>\n",
       "      <td>0</td>\n",
       "      <td>0</td>\n",
       "      <td>1</td>\n",
       "      <td>0.000000</td>\n",
       "    </tr>\n",
       "  </tbody>\n",
       "</table>\n",
       "</div>"
      ],
      "text/plain": [
       "   ID  이디야  스타벅스  커피빈  빽다방      커피지수\n",
       "0  가평    9     2    0    0  0.222222\n",
       "1  강릉   17     4    0    2  0.210526\n",
       "2  강진    1     0    0    0  0.000000\n",
       "3  거제    9     6    0    0  0.666667\n",
       "4  거창    1     0    0    1  0.000000"
      ]
     },
     "execution_count": 20,
     "metadata": {},
     "output_type": "execute_result"
    }
   ],
   "source": [
    "cf['커피지수'] = (cf.스타벅스 + cf.커피빈) / (cf.이디야 + cf.빽다방)\n",
    "cf.head()"
   ]
  },
  {
   "cell_type": "code",
   "execution_count": 21,
   "id": "f1fa7ce5",
   "metadata": {},
   "outputs": [],
   "source": [
    "cf.to_csv('./data1/커피지수.csv', index=False)"
   ]
  }
 ],
 "metadata": {
  "kernelspec": {
   "display_name": "Python 3 (ipykernel)",
   "language": "python",
   "name": "python3"
  },
  "language_info": {
   "codemirror_mode": {
    "name": "ipython",
    "version": 3
   },
   "file_extension": ".py",
   "mimetype": "text/x-python",
   "name": "python",
   "nbconvert_exporter": "python",
   "pygments_lexer": "ipython3",
   "version": "3.8.7"
  }
 },
 "nbformat": 4,
 "nbformat_minor": 5
}
