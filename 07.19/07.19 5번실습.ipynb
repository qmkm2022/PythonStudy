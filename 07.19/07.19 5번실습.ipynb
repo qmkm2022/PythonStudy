{
 "cells": [
  {
   "cell_type": "markdown",
   "metadata": {},
   "source": [
    "3) iris"
   ]
  },
  {
   "cell_type": "code",
   "execution_count": 1,
   "metadata": {},
   "outputs": [
    {
     "data": {
      "text/html": [
       "<div>\n",
       "<style scoped>\n",
       "    .dataframe tbody tr th:only-of-type {\n",
       "        vertical-align: middle;\n",
       "    }\n",
       "\n",
       "    .dataframe tbody tr th {\n",
       "        vertical-align: top;\n",
       "    }\n",
       "\n",
       "    .dataframe thead th {\n",
       "        text-align: right;\n",
       "    }\n",
       "</style>\n",
       "<table border=\"1\" class=\"dataframe\">\n",
       "  <thead>\n",
       "    <tr style=\"text-align: right;\">\n",
       "      <th></th>\n",
       "      <th>sepal_length</th>\n",
       "      <th>sepal_width</th>\n",
       "      <th>petal_length</th>\n",
       "      <th>petal_width</th>\n",
       "      <th>species</th>\n",
       "    </tr>\n",
       "  </thead>\n",
       "  <tbody>\n",
       "    <tr>\n",
       "      <th>0</th>\n",
       "      <td>5.1</td>\n",
       "      <td>3.5</td>\n",
       "      <td>1.4</td>\n",
       "      <td>0.2</td>\n",
       "      <td>setosa</td>\n",
       "    </tr>\n",
       "    <tr>\n",
       "      <th>1</th>\n",
       "      <td>4.9</td>\n",
       "      <td>3.0</td>\n",
       "      <td>1.4</td>\n",
       "      <td>0.2</td>\n",
       "      <td>setosa</td>\n",
       "    </tr>\n",
       "    <tr>\n",
       "      <th>2</th>\n",
       "      <td>4.7</td>\n",
       "      <td>3.2</td>\n",
       "      <td>1.3</td>\n",
       "      <td>0.2</td>\n",
       "      <td>setosa</td>\n",
       "    </tr>\n",
       "    <tr>\n",
       "      <th>3</th>\n",
       "      <td>4.6</td>\n",
       "      <td>3.1</td>\n",
       "      <td>1.5</td>\n",
       "      <td>0.2</td>\n",
       "      <td>setosa</td>\n",
       "    </tr>\n",
       "    <tr>\n",
       "      <th>4</th>\n",
       "      <td>5.0</td>\n",
       "      <td>3.6</td>\n",
       "      <td>1.4</td>\n",
       "      <td>0.2</td>\n",
       "      <td>setosa</td>\n",
       "    </tr>\n",
       "  </tbody>\n",
       "</table>\n",
       "</div>"
      ],
      "text/plain": [
       "   sepal_length  sepal_width  petal_length  petal_width species\n",
       "0           5.1          3.5           1.4          0.2  setosa\n",
       "1           4.9          3.0           1.4          0.2  setosa\n",
       "2           4.7          3.2           1.3          0.2  setosa\n",
       "3           4.6          3.1           1.5          0.2  setosa\n",
       "4           5.0          3.6           1.4          0.2  setosa"
      ]
     },
     "execution_count": 1,
     "metadata": {},
     "output_type": "execute_result"
    }
   ],
   "source": [
    "import seaborn as sns\n",
    "\n",
    "#붓꽃 데이터셋 로딩\n",
    "\n",
    "iris = sns.load_dataset(\"iris\")\n",
    "\n",
    "iris.head()"
   ]
  },
  {
   "cell_type": "code",
   "execution_count": 2,
   "metadata": {},
   "outputs": [
    {
     "data": {
      "text/plain": [
       "array(['setosa', 'versicolor', 'virginica'], dtype=object)"
      ]
     },
     "execution_count": 2,
     "metadata": {},
     "output_type": "execute_result"
    }
   ],
   "source": [
    "#품종 확인\n",
    "\n",
    "iris['species'].unique()"
   ]
  },
  {
   "cell_type": "code",
   "execution_count": 3,
   "metadata": {},
   "outputs": [
    {
     "name": "stdout",
     "output_type": "stream",
     "text": [
      "['setosa' 'setosa' 'setosa' 'setosa' 'setosa']\n",
      "[0 0 0 0 0]\n",
      "[[ True False False]\n",
      " [ True False False]\n",
      " [ True False False]\n",
      " [ True False False]\n",
      " [ True False False]]\n"
     ]
    }
   ],
   "source": [
    "from sklearn.preprocessing import LabelEncoder\n",
    "\n",
    "import pandas as pd\n",
    "\n",
    "X=iris.iloc[:, :4].values # 독립변수\n",
    "\n",
    "y=iris.iloc[:,4].values  #종속변수\n",
    "\n",
    "print(y[:5])\n",
    "\n",
    "encoder=LabelEncoder() #문자열에 label을 붙임\n",
    "\n",
    "y1=encoder.fit_transform(y)\n",
    "\n",
    "print(y1[:5])\n",
    "\n",
    "y2=pd.get_dummies(y1).values #종속변수에 대한 원핫인코딩 처리\n",
    "\n",
    "print(y2[:5])"
   ]
  },
  {
   "cell_type": "code",
   "execution_count": 4,
   "metadata": {},
   "outputs": [],
   "source": [
    "from sklearn.model_selection import train_test_split\n",
    "\n",
    "#학습용, 검증용 데이터셋 구분\n",
    "\n",
    "X_train, X_test, y_train, y_test = train_test_split(X, y2, test_size=0.2, stratify=y,random_state=10)"
   ]
  },
  {
   "cell_type": "code",
   "execution_count": 5,
   "metadata": {},
   "outputs": [],
   "source": [
    "\n",
    "from keras.models import Sequential\n",
    "\n",
    "from keras.layers import Dense\n",
    "\n",
    "from keras.optimizers import SGD\n",
    "\n",
    "#모델 생성\n",
    "\n",
    "model = Sequential() # input 4\n",
    "\n",
    "model.add(Dense(64,input_shape=(4,),activation='relu')) # relu  64\n",
    "\n",
    "model.add(Dense(64,activation='relu')) # relu  64\n",
    "\n",
    "model.add(Dense(3,activation='softmax')) # output(softmax)  3\n",
    "\n",
    "sgd = SGD(learning_rate=0.01)  # 확률적 경사하강법\n",
    "\n",
    "model.compile(loss='categorical_crossentropy', optimizer=sgd, metrics=['accuracy'])"
   ]
  },
  {
   "cell_type": "markdown",
   "metadata": {},
   "source": [
    "train       validation      test\n",
    "\n",
    "6           2               2\n",
    "\n",
    "훈련용      보조및튜닝      검증"
   ]
  },
  {
   "cell_type": "code",
   "execution_count": 6,
   "metadata": {},
   "outputs": [
    {
     "name": "stdout",
     "output_type": "stream",
     "text": [
      "Model: \"sequential\"\n",
      "_________________________________________________________________\n",
      " Layer (type)                Output Shape              Param #   \n",
      "=================================================================\n",
      " dense (Dense)               (None, 64)                320       \n",
      "                                                                 \n",
      " dense_1 (Dense)             (None, 64)                4160      \n",
      "                                                                 \n",
      " dense_2 (Dense)             (None, 3)                 195       \n",
      "                                                                 \n",
      "=================================================================\n",
      "Total params: 4,675\n",
      "Trainable params: 4,675\n",
      "Non-trainable params: 0\n",
      "_________________________________________________________________\n"
     ]
    }
   ],
   "source": [
    "model.summary()"
   ]
  },
  {
   "cell_type": "code",
   "execution_count": 7,
   "metadata": {},
   "outputs": [
    {
     "data": {
      "image/png": "[encoded data removed]",
      "text/plain": [
       "<IPython.core.display.Image object>"
      ]
     },
     "execution_count": 7,
     "metadata": {},
     "output_type": "execute_result"
    }
   ],
   "source": [
    "from keras.utils import plot_model  \n",
    "\n",
    "plot_model(model,show_shapes=True)"
   ]
  },
  {
   "cell_type": "code",
   "execution_count": 9,
   "metadata": {},
   "outputs": [
    {
     "name": "stdout",
     "output_type": "stream",
     "text": [
      "Epoch 1/100\n",
      "3/3 [==============================] - 1s 117ms/step - loss: 1.0999 - accuracy: 0.3229 - val_loss: 1.1421 - val_accuracy: 0.3333 - lr: 0.0100\n",
      "Epoch 2/100\n",
      "3/3 [==============================] - 0s 35ms/step - loss: 0.9954 - accuracy: 0.3646 - val_loss: 1.0302 - val_accuracy: 0.1667 - lr: 0.0100\n",
      "Epoch 3/100\n",
      "3/3 [==============================] - 0s 32ms/step - loss: 0.9373 - accuracy: 0.4896 - val_loss: 0.9594 - val_accuracy: 0.8333 - lr: 0.0100\n",
      "Epoch 4/100\n",
      "3/3 [==============================] - 0s 32ms/step - loss: 0.9122 - accuracy: 0.7604 - val_loss: 0.9221 - val_accuracy: 0.8750 - lr: 0.0100\n",
      "Epoch 5/100\n",
      "3/3 [==============================] - 0s 34ms/step - loss: 0.8850 - accuracy: 0.8958 - val_loss: 0.8683 - val_accuracy: 0.9167 - lr: 0.0100\n",
      "Epoch 6/100\n",
      "3/3 [==============================] - 0s 36ms/step - loss: 0.8663 - accuracy: 0.8229 - val_loss: 0.8561 - val_accuracy: 0.8333 - lr: 0.0100\n",
      "Epoch 7/100\n",
      "3/3 [==============================] - 0s 35ms/step - loss: 0.8485 - accuracy: 0.8229 - val_loss: 0.8279 - val_accuracy: 0.7500 - lr: 0.0100\n",
      "Epoch 8/100\n",
      "3/3 [==============================] - 0s 35ms/step - loss: 0.8185 - accuracy: 0.9062 - val_loss: 0.7650 - val_accuracy: 0.8750 - lr: 0.0100\n",
      "Epoch 9/100\n",
      "3/3 [==============================] - 0s 35ms/step - loss: 0.7970 - accuracy: 0.8229 - val_loss: 0.7473 - val_accuracy: 1.0000 - lr: 0.0100\n",
      "Epoch 10/100\n",
      "3/3 [==============================] - 0s 34ms/step - loss: 0.7792 - accuracy: 0.8333 - val_loss: 0.7325 - val_accuracy: 0.9583 - lr: 0.0100\n",
      "Epoch 11/100\n",
      "3/3 [==============================] - 0s 30ms/step - loss: 0.7637 - accuracy: 0.9167 - val_loss: 0.7021 - val_accuracy: 1.0000 - lr: 0.0100\n",
      "Epoch 12/100\n",
      "3/3 [==============================] - 0s 34ms/step - loss: 0.7438 - accuracy: 0.8542 - val_loss: 0.6904 - val_accuracy: 1.0000 - lr: 0.0100\n",
      "Epoch 13/100\n",
      "3/3 [==============================] - 0s 34ms/step - loss: 0.7292 - accuracy: 0.9271 - val_loss: 0.6661 - val_accuracy: 0.9583 - lr: 0.0100\n",
      "Epoch 14/100\n",
      "3/3 [==============================] - 0s 34ms/step - loss: 0.7119 - accuracy: 0.8542 - val_loss: 0.6536 - val_accuracy: 1.0000 - lr: 0.0100\n",
      "Epoch 15/100\n",
      "3/3 [==============================] - 0s 35ms/step - loss: 0.7050 - accuracy: 0.8229 - val_loss: 0.6458 - val_accuracy: 0.9167 - lr: 0.0100\n",
      "Epoch 16/100\n",
      "3/3 [==============================] - 0s 35ms/step - loss: 0.6840 - accuracy: 0.8958 - val_loss: 0.5906 - val_accuracy: 0.8333 - lr: 0.0100\n",
      "Epoch 17/100\n",
      "3/3 [==============================] - 0s 25ms/step - loss: 0.6712 - accuracy: 0.7604 - val_loss: 0.5978 - val_accuracy: 1.0000 - lr: 0.0100\n",
      "Epoch 18/100\n",
      "3/3 [==============================] - 0s 27ms/step - loss: 0.6561 - accuracy: 0.9688 - val_loss: 0.5753 - val_accuracy: 0.9583 - lr: 0.0100\n",
      "Epoch 19/100\n",
      "3/3 [==============================] - 0s 28ms/step - loss: 0.6437 - accuracy: 0.9375 - val_loss: 0.5562 - val_accuracy: 0.9583 - lr: 0.0100\n",
      "Epoch 20/100\n",
      "3/3 [==============================] - 0s 34ms/step - loss: 0.6351 - accuracy: 0.9583 - val_loss: 0.5317 - val_accuracy: 0.8750 - lr: 0.0100\n",
      "Epoch 21/100\n",
      "3/3 [==============================] - 0s 29ms/step - loss: 0.6270 - accuracy: 0.8542 - val_loss: 0.5182 - val_accuracy: 0.8750 - lr: 0.0100\n",
      "Epoch 22/100\n",
      "3/3 [==============================] - 0s 19ms/step - loss: 0.6103 - accuracy: 0.7917 - val_loss: 0.5298 - val_accuracy: 1.0000 - lr: 0.0100\n",
      "Epoch 23/100\n",
      "3/3 [==============================] - 0s 28ms/step - loss: 0.6024 - accuracy: 0.9167 - val_loss: 0.5130 - val_accuracy: 1.0000 - lr: 0.0100\n",
      "Epoch 24/100\n",
      "3/3 [==============================] - 0s 27ms/step - loss: 0.5980 - accuracy: 0.8542 - val_loss: 0.5001 - val_accuracy: 1.0000 - lr: 0.0100\n",
      "Epoch 25/100\n",
      "3/3 [==============================] - 0s 26ms/step - loss: 0.5803 - accuracy: 0.9479 - val_loss: 0.4850 - val_accuracy: 1.0000 - lr: 0.0100\n",
      "Epoch 26/100\n",
      "3/3 [==============================] - 0s 26ms/step - loss: 0.5702 - accuracy: 0.9167 - val_loss: 0.4811 - val_accuracy: 1.0000 - lr: 0.0100\n",
      "Epoch 27/100\n",
      "3/3 [==============================] - 0s 30ms/step - loss: 0.5609 - accuracy: 0.9688 - val_loss: 0.4601 - val_accuracy: 0.9583 - lr: 0.0100\n",
      "Epoch 28/100\n",
      "3/3 [==============================] - 0s 24ms/step - loss: 0.5524 - accuracy: 0.9167 - val_loss: 0.4603 - val_accuracy: 1.0000 - lr: 0.0100\n",
      "Epoch 29/100\n",
      "3/3 [==============================] - 0s 31ms/step - loss: 0.5491 - accuracy: 0.9479 - val_loss: 0.4374 - val_accuracy: 0.9583 - lr: 0.0100\n",
      "Epoch 30/100\n",
      "3/3 [==============================] - 0s 26ms/step - loss: 0.5406 - accuracy: 0.9271 - val_loss: 0.4259 - val_accuracy: 0.9583 - lr: 0.0100\n",
      "Epoch 31/100\n",
      "3/3 [==============================] - 0s 27ms/step - loss: 0.5511 - accuracy: 0.8333 - val_loss: 0.4234 - val_accuracy: 0.9583 - lr: 0.0100\n",
      "Epoch 32/100\n",
      "3/3 [==============================] - 0s 19ms/step - loss: 0.5544 - accuracy: 0.8229 - val_loss: 0.4403 - val_accuracy: 0.9167 - lr: 0.0100\n",
      "Epoch 33/100\n",
      "3/3 [==============================] - 0s 28ms/step - loss: 0.5441 - accuracy: 0.7812 - val_loss: 0.4173 - val_accuracy: 1.0000 - lr: 0.0100\n",
      "Epoch 34/100\n",
      "3/3 [==============================] - 0s 19ms/step - loss: 0.5093 - accuracy: 0.9479 - val_loss: 0.4215 - val_accuracy: 0.9583 - lr: 0.0100\n",
      "Epoch 35/100\n",
      "3/3 [==============================] - 0s 27ms/step - loss: 0.5084 - accuracy: 0.9375 - val_loss: 0.4058 - val_accuracy: 1.0000 - lr: 0.0100\n",
      "Epoch 36/100\n",
      "3/3 [==============================] - 0s 42ms/step - loss: 0.4949 - accuracy: 0.9479 - val_loss: 0.3984 - val_accuracy: 1.0000 - lr: 0.0100\n",
      "Epoch 37/100\n",
      "3/3 [==============================] - 0s 22ms/step - loss: 0.5029 - accuracy: 0.8438 - val_loss: 0.4197 - val_accuracy: 0.8750 - lr: 0.0100\n",
      "Epoch 38/100\n",
      "3/3 [==============================] - 0s 30ms/step - loss: 0.5040 - accuracy: 0.8854 - val_loss: 0.3912 - val_accuracy: 1.0000 - lr: 0.0100\n",
      "Epoch 39/100\n",
      "3/3 [==============================] - 0s 21ms/step - loss: 0.4804 - accuracy: 0.9375 - val_loss: 0.3944 - val_accuracy: 0.9167 - lr: 0.0100\n",
      "Epoch 40/100\n",
      "3/3 [==============================] - 0s 19ms/step - loss: 0.4854 - accuracy: 0.8646 - val_loss: 0.3982 - val_accuracy: 0.9167 - lr: 0.0100\n",
      "Epoch 41/100\n",
      "3/3 [==============================] - 0s 27ms/step - loss: 0.4739 - accuracy: 0.9167 - val_loss: 0.3503 - val_accuracy: 0.9167 - lr: 0.0100\n",
      "Epoch 42/100\n",
      "3/3 [==============================] - 0s 19ms/step - loss: 0.4653 - accuracy: 0.9479 - val_loss: 0.3577 - val_accuracy: 1.0000 - lr: 0.0100\n",
      "Epoch 43/100\n",
      "3/3 [==============================] - 0s 26ms/step - loss: 0.4578 - accuracy: 0.9271 - val_loss: 0.3492 - val_accuracy: 1.0000 - lr: 0.0100\n",
      "Epoch 44/100\n",
      "3/3 [==============================] - 0s 25ms/step - loss: 0.4517 - accuracy: 0.9479 - val_loss: 0.3468 - val_accuracy: 1.0000 - lr: 0.0100\n",
      "Epoch 45/100\n",
      "3/3 [==============================] - 0s 26ms/step - loss: 0.4704 - accuracy: 0.8958 - val_loss: 0.3364 - val_accuracy: 0.9583 - lr: 0.0100\n",
      "Epoch 46/100\n",
      "3/3 [==============================] - 0s 20ms/step - loss: 0.4427 - accuracy: 0.9167 - val_loss: 0.3647 - val_accuracy: 0.9167 - lr: 0.0100\n",
      "Epoch 47/100\n",
      "3/3 [==============================] - 0s 23ms/step - loss: 0.4391 - accuracy: 0.9479 - val_loss: 0.3476 - val_accuracy: 1.0000 - lr: 0.0100\n",
      "Epoch 48/100\n",
      "3/3 [==============================] - 0s 28ms/step - loss: 0.4315 - accuracy: 0.9479 - val_loss: 0.3262 - val_accuracy: 1.0000 - lr: 0.0100\n",
      "Epoch 49/100\n",
      "3/3 [==============================] - 0s 19ms/step - loss: 0.4418 - accuracy: 0.8958 - val_loss: 0.3475 - val_accuracy: 0.9167 - lr: 0.0100\n",
      "Epoch 50/100\n",
      "3/3 [==============================] - 0s 26ms/step - loss: 0.4410 - accuracy: 0.9062 - val_loss: 0.3711 - val_accuracy: 0.8750 - lr: 0.0100\n",
      "Epoch 51/100\n",
      "3/3 [==============================] - 0s 27ms/step - loss: 0.4190 - accuracy: 0.9271 - val_loss: 0.3136 - val_accuracy: 1.0000 - lr: 0.0100\n",
      "Epoch 52/100\n",
      "3/3 [==============================] - 0s 29ms/step - loss: 0.4114 - accuracy: 0.9583 - val_loss: 0.3110 - val_accuracy: 1.0000 - lr: 0.0100\n",
      "Epoch 53/100\n",
      "3/3 [==============================] - 0s 21ms/step - loss: 0.4095 - accuracy: 0.9375 - val_loss: 0.3362 - val_accuracy: 0.9167 - lr: 0.0100\n",
      "Epoch 54/100\n",
      "3/3 [==============================] - 0s 28ms/step - loss: 0.4062 - accuracy: 0.9375 - val_loss: 0.2983 - val_accuracy: 1.0000 - lr: 0.0100\n",
      "Epoch 55/100\n",
      "3/3 [==============================] - 0s 27ms/step - loss: 0.3997 - accuracy: 0.9583 - val_loss: 0.2967 - val_accuracy: 1.0000 - lr: 0.0100\n",
      "Epoch 56/100\n",
      "3/3 [==============================] - 0s 18ms/step - loss: 0.3984 - accuracy: 0.9375 - val_loss: 0.3140 - val_accuracy: 1.0000 - lr: 0.0100\n",
      "Epoch 57/100\n",
      "3/3 [==============================] - 0s 20ms/step - loss: 0.4041 - accuracy: 0.8958 - val_loss: 0.3437 - val_accuracy: 0.8750 - lr: 0.0100\n",
      "Epoch 58/100\n",
      "3/3 [==============================] - 0s 20ms/step - loss: 0.3965 - accuracy: 0.9375 - val_loss: 0.3078 - val_accuracy: 0.9583 - lr: 0.0100\n",
      "Epoch 59/100\n",
      "3/3 [==============================] - 0s 28ms/step - loss: 0.3833 - accuracy: 0.9688 - val_loss: 0.2866 - val_accuracy: 1.0000 - lr: 0.0100\n",
      "Epoch 60/100\n",
      "3/3 [==============================] - 0s 28ms/step - loss: 0.3820 - accuracy: 0.9583 - val_loss: 0.2791 - val_accuracy: 1.0000 - lr: 0.0100\n",
      "Epoch 61/100\n",
      "3/3 [==============================] - 0s 18ms/step - loss: 0.3743 - accuracy: 0.9479 - val_loss: 0.2998 - val_accuracy: 0.9583 - lr: 0.0100\n",
      "Epoch 62/100\n",
      "3/3 [==============================] - 0s 20ms/step - loss: 0.3717 - accuracy: 0.9583 - val_loss: 0.2877 - val_accuracy: 1.0000 - lr: 0.0100\n",
      "Epoch 63/100\n",
      "3/3 [==============================] - 0s 20ms/step - loss: 0.3719 - accuracy: 0.9375 - val_loss: 0.3001 - val_accuracy: 0.9167 - lr: 0.0100\n",
      "Epoch 64/100\n",
      "3/3 [==============================] - 0s 26ms/step - loss: 0.3671 - accuracy: 0.9375 - val_loss: 0.2609 - val_accuracy: 0.9583 - lr: 0.0100\n",
      "Epoch 65/100\n",
      "3/3 [==============================] - 0s 21ms/step - loss: 0.3762 - accuracy: 0.9375 - val_loss: 0.2629 - val_accuracy: 1.0000 - lr: 0.0100\n",
      "Epoch 66/100\n",
      "3/3 [==============================] - 0s 19ms/step - loss: 0.3696 - accuracy: 0.9375 - val_loss: 0.2744 - val_accuracy: 1.0000 - lr: 0.0100\n",
      "Epoch 67/100\n",
      "3/3 [==============================] - 0s 24ms/step - loss: 0.3538 - accuracy: 0.9688 - val_loss: 0.2637 - val_accuracy: 1.0000 - lr: 0.0100\n",
      "Epoch 68/100\n",
      "3/3 [==============================] - 0s 28ms/step - loss: 0.3533 - accuracy: 0.9583 - val_loss: 0.2569 - val_accuracy: 1.0000 - lr: 0.0100\n",
      "Epoch 69/100\n",
      "3/3 [==============================] - 0s 18ms/step - loss: 0.3496 - accuracy: 0.9688 - val_loss: 0.2707 - val_accuracy: 1.0000 - lr: 0.0100\n",
      "Epoch 70/100\n",
      "3/3 [==============================] - 0s 27ms/step - loss: 0.3473 - accuracy: 0.9583 - val_loss: 0.2483 - val_accuracy: 1.0000 - lr: 0.0100\n",
      "Epoch 71/100\n",
      "3/3 [==============================] - 0s 18ms/step - loss: 0.3459 - accuracy: 0.9583 - val_loss: 0.2576 - val_accuracy: 1.0000 - lr: 0.0100\n",
      "Epoch 72/100\n",
      "3/3 [==============================] - 0s 19ms/step - loss: 0.3470 - accuracy: 0.9375 - val_loss: 0.2573 - val_accuracy: 1.0000 - lr: 0.0100\n",
      "Epoch 73/100\n",
      "3/3 [==============================] - 0s 28ms/step - loss: 0.3352 - accuracy: 0.9688 - val_loss: 0.2457 - val_accuracy: 1.0000 - lr: 0.0100\n",
      "Epoch 74/100\n",
      "3/3 [==============================] - 0s 19ms/step - loss: 0.3381 - accuracy: 0.9375 - val_loss: 0.2504 - val_accuracy: 1.0000 - lr: 0.0100\n",
      "Epoch 75/100\n",
      "3/3 [==============================] - 0s 19ms/step - loss: 0.3313 - accuracy: 0.9479 - val_loss: 0.2706 - val_accuracy: 0.9167 - lr: 0.0100\n",
      "Epoch 76/100\n",
      "3/3 [==============================] - 0s 29ms/step - loss: 0.3268 - accuracy: 0.9688 - val_loss: 0.2418 - val_accuracy: 1.0000 - lr: 0.0100\n",
      "Epoch 77/100\n",
      "3/3 [==============================] - 0s 48ms/step - loss: 0.3246 - accuracy: 0.9583 - val_loss: 0.2366 - val_accuracy: 1.0000 - lr: 0.0100\n",
      "Epoch 78/100\n",
      "3/3 [==============================] - 0s 20ms/step - loss: 0.3237 - accuracy: 0.9583 - val_loss: 0.2561 - val_accuracy: 0.9167 - lr: 0.0100\n",
      "Epoch 79/100\n",
      "3/3 [==============================] - 0s 28ms/step - loss: 0.3208 - accuracy: 0.9479 - val_loss: 0.2248 - val_accuracy: 1.0000 - lr: 0.0100\n",
      "Epoch 80/100\n",
      "3/3 [==============================] - 0s 19ms/step - loss: 0.3165 - accuracy: 0.9479 - val_loss: 0.2366 - val_accuracy: 1.0000 - lr: 0.0100\n",
      "Epoch 81/100\n",
      "3/3 [==============================] - 0s 18ms/step - loss: 0.3282 - accuracy: 0.9583 - val_loss: 0.2679 - val_accuracy: 0.9167 - lr: 0.0100\n",
      "Epoch 82/100\n",
      "3/3 [==============================] - 0s 19ms/step - loss: 0.3191 - accuracy: 0.9688 - val_loss: 0.2453 - val_accuracy: 0.9583 - lr: 0.0100\n",
      "Epoch 83/100\n",
      "3/3 [==============================] - 0s 27ms/step - loss: 0.3189 - accuracy: 0.9271 - val_loss: 0.2133 - val_accuracy: 0.9583 - lr: 0.0100\n",
      "Epoch 84/100\n",
      "3/3 [==============================] - 0s 22ms/step - loss: 0.3163 - accuracy: 0.9375 - val_loss: 0.2353 - val_accuracy: 1.0000 - lr: 0.0100\n",
      "Epoch 85/100\n",
      "3/3 [==============================] - 0s 24ms/step - loss: 0.3014 - accuracy: 0.9583 - val_loss: 0.2155 - val_accuracy: 1.0000 - lr: 0.0100\n",
      "Epoch 86/100\n",
      "3/3 [==============================] - 0s 18ms/step - loss: 0.2971 - accuracy: 0.9583 - val_loss: 0.2402 - val_accuracy: 0.9167 - lr: 0.0100\n",
      "Epoch 87/100\n",
      "3/3 [==============================] - 0s 26ms/step - loss: 0.2972 - accuracy: 0.9688 - val_loss: 0.2133 - val_accuracy: 1.0000 - lr: 0.0100\n",
      "Epoch 88/100\n",
      "3/3 [==============================] - 0s 18ms/step - loss: 0.2922 - accuracy: 0.9583 - val_loss: 0.2295 - val_accuracy: 1.0000 - lr: 0.0100\n",
      "Epoch 89/100\n",
      "3/3 [==============================] - 0s 17ms/step - loss: 0.2908 - accuracy: 0.9688 - val_loss: 0.2266 - val_accuracy: 1.0000 - lr: 1.0000e-03\n",
      "Epoch 90/100\n",
      "3/3 [==============================] - 0s 18ms/step - loss: 0.2903 - accuracy: 0.9583 - val_loss: 0.2242 - val_accuracy: 1.0000 - lr: 1.0000e-03\n",
      "Epoch 91/100\n",
      "3/3 [==============================] - 0s 19ms/step - loss: 0.2893 - accuracy: 0.9792 - val_loss: 0.2226 - val_accuracy: 1.0000 - lr: 1.0000e-03\n",
      "Epoch 92/100\n",
      "3/3 [==============================] - 0s 19ms/step - loss: 0.2887 - accuracy: 0.9792 - val_loss: 0.2214 - val_accuracy: 1.0000 - lr: 1.0000e-03\n",
      "Epoch 93/100\n",
      "3/3 [==============================] - 0s 18ms/step - loss: 0.2884 - accuracy: 0.9688 - val_loss: 0.2204 - val_accuracy: 1.0000 - lr: 1.0000e-03\n",
      "Epoch 94/100\n",
      "3/3 [==============================] - 0s 18ms/step - loss: 0.2881 - accuracy: 0.9688 - val_loss: 0.2203 - val_accuracy: 1.0000 - lr: 1.0000e-04\n",
      "Epoch 95/100\n",
      "3/3 [==============================] - 0s 17ms/step - loss: 0.2881 - accuracy: 0.9688 - val_loss: 0.2202 - val_accuracy: 1.0000 - lr: 1.0000e-04\n",
      "Epoch 96/100\n",
      "3/3 [==============================] - 0s 18ms/step - loss: 0.2880 - accuracy: 0.9688 - val_loss: 0.2202 - val_accuracy: 1.0000 - lr: 1.0000e-04\n",
      "Epoch 97/100\n",
      "3/3 [==============================] - 0s 18ms/step - loss: 0.2880 - accuracy: 0.9688 - val_loss: 0.2201 - val_accuracy: 1.0000 - lr: 1.0000e-04\n"
     ]
    }
   ],
   "source": [
    "from keras.callbacks import EarlyStopping, ModelCheckpoint, ReduceLROnPlateau, CSVLogger\n",
    "\n",
    "es = EarlyStopping(monitor='val_loss', patience=10)\n",
    "\n",
    "# 학습 과정에서 만들어진 최적의 파라미터 조합으로 모형을 저장\n",
    "\n",
    "mc = ModelCheckpoint(\"iris_best.h5\", save_best_only=True)\n",
    "\n",
    "# 학습이 잘 안될 때 학습률을 동적으로 조절하는 옵션\n",
    "\n",
    "rlr = ReduceLROnPlateau(factor=0.1, patience=5) #기존 학습률*factor (배수)\n",
    "\n",
    "# 학습 과정의 주요 history를 csv로 저장\n",
    "csvlogger = CSVLogger(\"mylog.csv\")  \n",
    "\n",
    "hist = model.fit(X_train, y_train, validation_split=0.2, epochs=100, callbacks=[es, mc, rlr, csvlogger])"
   ]
  },
  {
   "cell_type": "code",
   "execution_count": 10,
   "metadata": {},
   "outputs": [
    {
     "data": {
      "text/plain": [
       "[0.29023006558418274, 0.9666666388511658]"
      ]
     },
     "execution_count": 10,
     "metadata": {},
     "output_type": "execute_result"
    }
   ],
   "source": [
    "from keras.models import load_model\n",
    "\n",
    "model=load_model('iris_best.h5')  \n",
    "\n",
    "model.evaluate(X_test, y_test, verbose=0)"
   ]
  },
  {
   "cell_type": "code",
   "execution_count": 11,
   "metadata": {},
   "outputs": [
    {
     "data": {
      "image/png": "[encoded data removed]",
      "text/plain": [
       "<Figure size 1200x800 with 1 Axes>"
      ]
     },
     "metadata": {},
     "output_type": "display_data"
    }
   ],
   "source": [
    "import matplotlib.pyplot as plt\n",
    "\n",
    "#그래프 출력\n",
    "\n",
    "plt.figure(figsize=(12,8))\n",
    "\n",
    "plt.plot(hist.history['loss']) #손실률\n",
    "\n",
    "plt.plot(hist.history['accuracy']) #정확도\n",
    "\n",
    "plt.legend(['loss','accuracy'])\n",
    "\n",
    "plt.grid()\n",
    "\n",
    "plt.show()"
   ]
  },
  {
   "cell_type": "code",
   "execution_count": 12,
   "metadata": {},
   "outputs": [
    {
     "name": "stdout",
     "output_type": "stream",
     "text": [
      "정확도 = 0.97\n"
     ]
    }
   ],
   "source": [
    "#모델 평가\n",
    "\n",
    "loss, accuracy = model.evaluate(X_test, y_test,  verbose=0)\n",
    "\n",
    "print(\"정확도 = {:.2f}\".format(accuracy))"
   ]
  },
  {
   "cell_type": "code",
   "execution_count": 13,
   "metadata": {},
   "outputs": [
    {
     "name": "stdout",
     "output_type": "stream",
     "text": [
      "1/1 [==============================] - 0s 73ms/step\n",
      "[[1.9338882e-02 5.4678982e-01 4.3387124e-01]\n",
      " [9.1915649e-01 7.8659289e-02 2.1842010e-03]\n",
      " [1.7499760e-02 4.7102579e-01 5.1147443e-01]\n",
      " [7.9539251e-03 4.1961947e-01 5.7242656e-01]\n",
      " [8.7658189e-02 6.9227183e-01 2.2006996e-01]\n",
      " [3.2127739e-03 2.9215315e-01 7.0463407e-01]\n",
      " [9.0165651e-01 9.4867483e-02 3.4760097e-03]\n",
      " [2.4264874e-03 2.1359268e-01 7.8398079e-01]\n",
      " [2.7861667e-03 2.3698193e-01 7.6023191e-01]\n",
      " [9.7578067e-01 2.3939060e-02 2.8026162e-04]]\n",
      "[1 0 1 2 1 2 0 2 2 0]\n",
      "[1 0 2 2 1 2 0 2 2 0]\n",
      "[[10  0  0]\n",
      " [ 0  9  1]\n",
      " [ 0  0 10]]\n"
     ]
    }
   ],
   "source": [
    "import numpy as np\n",
    "\n",
    "from sklearn.metrics import confusion_matrix\n",
    "\n",
    "pred = model.predict(X_test)\n",
    "\n",
    "print(pred[:10])\n",
    "\n",
    "y_test_class = np.argmax(y_test,axis=1)\n",
    "\n",
    "pred_class = np.argmax(pred,axis=1)\n",
    "\n",
    "print(y_test_class[:10])\n",
    "\n",
    "print(pred_class[:10])\n",
    "\n",
    "print(confusion_matrix(y_test_class,pred_class))"
   ]
  },
  {
   "cell_type": "code",
   "execution_count": 15,
   "metadata": {},
   "outputs": [],
   "source": [
    "model.save('c:/workspace/data/iris/iris.h5')"
   ]
  }
 ],
 "metadata": {
  "kernelspec": {
   "display_name": "Python 3",
   "language": "python",
   "name": "python3"
  },
  "language_info": {
   "codemirror_mode": {
    "name": "ipython",
    "version": 3
   },
   "file_extension": ".py",
   "mimetype": "text/x-python",
   "name": "python",
   "nbconvert_exporter": "python",
   "pygments_lexer": "ipython3",
   "version": "3.9.13"
  },
  "orig_nbformat": 4
 },
 "nbformat": 4,
 "nbformat_minor": 2
}
