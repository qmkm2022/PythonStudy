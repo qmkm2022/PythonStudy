{
 "cells": [
  {
   "cell_type": "markdown",
   "id": "0996825d",
   "metadata": {},
   "source": [
    "# 10. 데이터베이스 자료처리"
   ]
  },
  {
   "cell_type": "markdown",
   "id": "f2e88029",
   "metadata": {},
   "source": [
    "- 테이블 생성, 레코드 추가, 레코드 조회, 상품명으로 조회 (291 ~ 292p)"
   ]
  },
  {
   "cell_type": "code",
   "execution_count": 5,
   "id": "1da3479c",
   "metadata": {},
   "outputs": [
    {
     "name": "stdout",
     "output_type": "stream",
     "text": [
      "1 냉장고 2 8500000.0\n",
      "2 세탁기 3 5500000.0\n",
      "3 전자레인지 0 0.0\n",
      "4 HDTV 0 15000000.0\n",
      "검색된 레코드 수 :  4\n",
      "상품명 입력 : 세탁기\n",
      "(2, '세탁기', 3, 5500000.0)\n"
     ]
    }
   ],
   "source": [
    "import sqlite3\n",
    "\n",
    "try :\n",
    "    # db 연동 객체\n",
    "    conn = sqlite3.connect(\"sqlite_db\") # db 생성 -> 연결 object \n",
    "    # sql 실행 객체\n",
    "    cursor = conn.cursor()\n",
    "    \n",
    "    # (1) table 생성\n",
    "    sql = \"\"\"create table if not exists goods(\n",
    "    code integer primary key,\n",
    "    name text(30) unique not null,\n",
    "    su integer default 0,\n",
    "    dan real default 0.0\n",
    "    )\"\"\"\n",
    "    cursor.execute(sql) # sql 실행\n",
    "    \n",
    "    # (2) 레코드 추가 - 1회 실행 후 주석처리\n",
    "    \n",
    "#     cursor.execute(\"insert into goods values(1, '냉장고', 2, 8500000)\")\n",
    "#     cursor.execute(\"insert into goods values(2, '세탁기', 3, 5500000)\")\n",
    "#     cursor.execute(\"insert into goods(code, name) values(3, '전자레인지')\")\n",
    "#     cursor.execute(\"insert into goods(code, name, dan) values(4, 'HDTV', 15000000)\")\n",
    "#     conn.commit() # db 반영\n",
    "\n",
    "    # (3) 레코드 조회\n",
    "    sql = \"select * from goods\"\n",
    "    cursor.execute(sql)\n",
    "    rows = cursor.fetchall() # 레코드 가져오기\n",
    "    \n",
    "    for row in rows :\n",
    "        print(row[0], row[1], row[2], row[3])\n",
    "    print('검색된 레코드 수 : ', len(rows))\n",
    "        \n",
    "    # (4) 상품명 조회 - 입력한 상품명을 포함하는 name 칼럼의 레코드 검색 후 칼럼단위로 출력\n",
    "    name = input(\"상품명 입력 : \")\n",
    "    sql = f\"select * from goods where name like '%{name}%'\"\n",
    "    cursor.execute(sql) # 조회\n",
    "    rows = cursor.fetchall()\n",
    "        \n",
    "    if rows : # null = false\n",
    "        for row in rows :\n",
    "            print(row)\n",
    "    else :\n",
    "        print('검색된 레코드 없음')\n",
    "            \n",
    "except Exception as e:\n",
    "    print('db 연동 error : ', e)\n",
    "    conn.rollback()\n",
    "            \n",
    "finally:\n",
    "    cursor.close()\n",
    "    conn.close()"
   ]
  }
 ],
 "metadata": {
  "kernelspec": {
   "display_name": "Python 3 (ipykernel)",
   "language": "python",
   "name": "python3"
  },
  "language_info": {
   "codemirror_mode": {
    "name": "ipython",
    "version": 3
   },
   "file_extension": ".py",
   "mimetype": "text/x-python",
   "name": "python",
   "nbconvert_exporter": "python",
   "pygments_lexer": "ipython3",
   "version": "3.8.7"
  }
 },
 "nbformat": 4,
 "nbformat_minor": 5
}
