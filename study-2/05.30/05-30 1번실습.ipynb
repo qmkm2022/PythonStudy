{
 "cells": [
  {
   "cell_type": "markdown",
   "id": "f835b4b3",
   "metadata": {},
   "source": [
    "# 10. 데이터베이스 자료처리"
   ]
  },
  {
   "cell_type": "markdown",
   "id": "bcaeaa1b",
   "metadata": {},
   "source": [
    "- 실습 1 (289 ~ 290p) : 데이터베이스 만들기 예제 1번\n",
    "- 기본적인 테이블 생성, 레코드 추가, 레코드 조회"
   ]
  },
  {
   "cell_type": "code",
   "execution_count": 1,
   "id": "b5309cc8",
   "metadata": {},
   "outputs": [
    {
     "name": "stdout",
     "output_type": "stream",
     "text": [
      "(3, 33, 0)\n",
      "('홍길동', '010-1111-1111', '서울시')\n",
      "('이순신', '010-2222-2222', '해남시')\n",
      "('강감찬', '010-1111-1111', '평양시')\n",
      "이름 \t전화번호 \t주소\n",
      "홍길동 \t 010-1111-1111 \t 서울시\n",
      "이순신 \t 010-2222-2222 \t 해남시\n",
      "강감찬 \t 010-1111-1111 \t 평양시\n"
     ]
    }
   ],
   "source": [
    "import sqlite3 # sqlite 불러오기\n",
    "\n",
    "print(sqlite3.sqlite_version_info) # (3, XX, X) sqlite 버전 출력\n",
    "\n",
    "try :\n",
    "    # (1) db 연동 객체\n",
    "    conn = sqlite3.connect(\"sqlite_db\") # db 생성 -> 연결 object\n",
    "    \n",
    "    # (2) sql 실행 객체\n",
    "    cursor = conn.cursor() # cursor() 메서드 호출 -> SQL문 실행 가능한 객체 생성\n",
    "    \n",
    "    # (3) table 생성\n",
    "    sql='create table if not exists test_table(name text(10), phone text(15), addr text(50))'\n",
    "    cursor.execute(sql) \n",
    "    # 'test_table'을 생성하며, 테이블은 이름, 전화번호, 주소를 저장 가능한 3개의 컬럼으로 만들어짐\n",
    "    # 테이블을 생성하는 sql문은 cursor 객체에서 호출 가능한 execute() 함수를 이용하여 실행해야 함\n",
    "    \n",
    "    # (4) 레코드 추가\n",
    "    cursor.execute(\"insert into test_table values('홍길동', '010-1111-1111', '서울시')\")\n",
    "    cursor.execute(\"insert into test_table values('이순신', '010-2222-2222', '해남시')\")\n",
    "    cursor.execute(\"insert into test_table values('강감찬', '010-1111-1111', '평양시')\")\n",
    "    # CRUD의 Insert문 형식대로 테이블에 레코드 추가(이름, 전화번호, 주소)\n",
    "    conn.commit() # db에 반영\n",
    "    \n",
    "    # (5) 레코드 조회\n",
    "    cursor.execute(\"select * from test_table\") \n",
    "    # CRUD의 Select문 형식대로 테이블의 레코드 조회\n",
    "    rows = cursor.fetchall() # 조회 레코드 가져오기\n",
    "    \n",
    "    for row in rows : # (6) 레코드 출력1 - 전체 레코드인 rows를 for 문으로 반복해서 튜플단위로 출력\n",
    "        print(row)\n",
    "        \n",
    "    print('이름 \\t전화번호 \\t주소') # (7) 레코드 출력2 - 위와 같이 가져와서 색인 사용 -> 칼럼단위 출력\n",
    "    for row in rows:\n",
    "        print(row[0], '\\t',row[1],'\\t',row[2])\n",
    "        \n",
    "except Exception as e :\n",
    "    print('db 연동 실패 : ', e)\n",
    "    conn.rollback() # 실행 취소"
   ]
  }
 ],
 "metadata": {
  "kernelspec": {
   "display_name": "Python 3 (ipykernel)",
   "language": "python",
   "name": "python3"
  },
  "language_info": {
   "codemirror_mode": {
    "name": "ipython",
    "version": 3
   },
   "file_extension": ".py",
   "mimetype": "text/x-python",
   "name": "python",
   "nbconvert_exporter": "python",
   "pygments_lexer": "ipython3",
   "version": "3.8.7"
  }
 },
 "nbformat": 4,
 "nbformat_minor": 5
}
