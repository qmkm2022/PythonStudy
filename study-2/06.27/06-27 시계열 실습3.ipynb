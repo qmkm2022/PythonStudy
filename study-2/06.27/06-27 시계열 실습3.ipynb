{
 "cells": [
  {
   "cell_type": "code",
   "execution_count": 1,
   "metadata": {},
   "outputs": [],
   "source": [
    "import datetime\n",
    "from datetime import datetime, date\n",
    "import pandas as pd\n",
    "import numpy as np\n",
    "import matplotlib.pyplot as plt\n",
    "import re\n",
    "pd.set_option('display.notebook_repr_html', True)\n",
    "pd.set_option('display.max_columns', 7)\n",
    "pd.set_option('display.max_rows', 10)\n",
    "pd.set_option('display.width', 250)\n",
    "%matplotlib inline "
   ]
  },
  {
   "cell_type": "code",
   "execution_count": 2,
   "metadata": {},
   "outputs": [
    {
     "name": "stdout",
     "output_type": "stream",
     "text": [
      "\n",
      "홍길동-202001001\n",
      "aa이순신-202001002\n",
      "강감찬-202001003\n",
      "이성계-202001004\n",
      "bv을지문덕-202001005\n",
      "연개소문-202001006\n",
      "안중근-202001007\n",
      "cx김구-202001008\n",
      "정도전-202001009\n",
      "이황-202001010\n",
      "유재석-202001011\n",
      "박명수-202001012\n",
      "정준하-202001013\n",
      "qe정형돈-202001014\n",
      "노홍철-202001015\n",
      "하동훈-202001016\n",
      "\n"
     ]
    },
    {
     "data": {
      "text/plain": [
       "'\\n홍길동-202001001\\naa이순신-202001002\\n강감찬-202001003\\n이성계-202001004\\nbv을지문덕-202001005\\n연개소문-202001006\\n안중근-202001007\\ncx김구-202001008\\n정도전-202001009\\n이황-202001010\\n유재석-202001011\\n박명수-202001012\\n정준하-202001013\\nqe정형돈-202001014\\n노홍철-202001015\\n하동훈-202001016\\n'"
      ]
     },
     "execution_count": 2,
     "metadata": {},
     "output_type": "execute_result"
    }
   ],
   "source": [
    "txt_t1 = open(\"./data/filetest.txt\", encoding='UTF-8-SIG')\n",
    "strings = txt_t1.read()\n",
    "print(strings)\n",
    "strings"
   ]
  },
  {
   "cell_type": "code",
   "execution_count": 3,
   "metadata": {},
   "outputs": [
    {
     "data": {
      "text/plain": [
       "'\\n홍길동\\n이순신\\n강감찬\\n이성계\\n을지문덕\\n연개소문\\n안중근\\n김구\\n정도전\\n이황\\n유재석\\n박명수\\n정준하\\n정형돈\\n노홍철\\n하동훈\\n'"
      ]
     },
     "execution_count": 3,
     "metadata": {},
     "output_type": "execute_result"
    }
   ],
   "source": [
    "txt_ko = re.sub(\"[|A-Z,a-z-0-9|]\",\"\",strings)\n",
    "txt_ko"
   ]
  },
  {
   "cell_type": "code",
   "execution_count": 4,
   "metadata": {},
   "outputs": [
    {
     "data": {
      "text/plain": [
       "'홍길동\\n이순신\\n강감찬\\n이성계\\n을지문덕\\n연개소문\\n안중근\\n김구\\n정도전\\n이황\\n유재석\\n박명수\\n정준하\\n정형돈\\n노홍철\\n하동훈'"
      ]
     },
     "execution_count": 4,
     "metadata": {},
     "output_type": "execute_result"
    }
   ],
   "source": [
    "txt_ko = txt_ko.strip()\n",
    "txt_ko"
   ]
  },
  {
   "cell_type": "code",
   "execution_count": 5,
   "metadata": {},
   "outputs": [
    {
     "data": {
      "text/plain": [
       "['홍길동',\n",
       " '이순신',\n",
       " '강감찬',\n",
       " '이성계',\n",
       " '을지문덕',\n",
       " '연개소문',\n",
       " '안중근',\n",
       " '김구',\n",
       " '정도전',\n",
       " '이황',\n",
       " '유재석',\n",
       " '박명수',\n",
       " '정준하',\n",
       " '정형돈',\n",
       " '노홍철',\n",
       " '하동훈']"
      ]
     },
     "execution_count": 5,
     "metadata": {},
     "output_type": "execute_result"
    }
   ],
   "source": [
    "txt_ko = txt_ko.split('\\n')\n",
    "txt_ko"
   ]
  },
  {
   "cell_type": "code",
   "execution_count": 6,
   "metadata": {},
   "outputs": [
    {
     "data": {
      "text/plain": [
       "'\\n202001001\\n202001002\\n202001003\\n202001004\\n202001005\\n202001006\\n202001007\\n202001008\\n202001009\\n202001010\\n202001011\\n202001012\\n202001013\\n202001014\\n202001015\\n202001016\\n'"
      ]
     },
     "execution_count": 6,
     "metadata": {},
     "output_type": "execute_result"
    }
   ],
   "source": [
    "txt_num = re.sub(\"[|A-Z,a-z-가-힣|]\",\"\",strings)\n",
    "txt_num"
   ]
  },
  {
   "cell_type": "code",
   "execution_count": 7,
   "metadata": {},
   "outputs": [
    {
     "data": {
      "text/plain": [
       "'202001001\\n202001002\\n202001003\\n202001004\\n202001005\\n202001006\\n202001007\\n202001008\\n202001009\\n202001010\\n202001011\\n202001012\\n202001013\\n202001014\\n202001015\\n202001016'"
      ]
     },
     "execution_count": 7,
     "metadata": {},
     "output_type": "execute_result"
    }
   ],
   "source": [
    "txt_num = txt_num.strip()\n",
    "txt_num"
   ]
  },
  {
   "cell_type": "code",
   "execution_count": 8,
   "metadata": {},
   "outputs": [
    {
     "data": {
      "text/plain": [
       "['202001001',\n",
       " '202001002',\n",
       " '202001003',\n",
       " '202001004',\n",
       " '202001005',\n",
       " '202001006',\n",
       " '202001007',\n",
       " '202001008',\n",
       " '202001009',\n",
       " '202001010',\n",
       " '202001011',\n",
       " '202001012',\n",
       " '202001013',\n",
       " '202001014',\n",
       " '202001015',\n",
       " '202001016']"
      ]
     },
     "execution_count": 8,
     "metadata": {},
     "output_type": "execute_result"
    }
   ],
   "source": [
    "txt_num = txt_num.split('\\n')\n",
    "txt_num"
   ]
  },
  {
   "cell_type": "code",
   "execution_count": 17,
   "metadata": {},
   "outputs": [
    {
     "name": "stdout",
     "output_type": "stream",
     "text": [
      "202001001     홍길동\n",
      "202001002     이순신\n",
      "202001003     강감찬\n",
      "202001004     이성계\n",
      "202001005    을지문덕\n",
      "             ... \n",
      "202001012     박명수\n",
      "202001013     정준하\n",
      "202001014     정형돈\n",
      "202001015     노홍철\n",
      "202001016     하동훈\n",
      "Length: 16, dtype: object\n",
      "0     202001001\n",
      "1     202001002\n",
      "2     202001003\n",
      "3     202001004\n",
      "4     202001005\n",
      "        ...    \n",
      "11    202001012\n",
      "12    202001013\n",
      "13    202001014\n",
      "14    202001015\n",
      "15    202001016\n",
      "Length: 16, dtype: object\n"
     ]
    }
   ],
   "source": [
    "ls_ko = pd.Series(txt_ko, index=ls_num)\n",
    "ls_num = pd.Series(txt_num)\n",
    "print(ls_ko)\n",
    "print(ls_num)"
   ]
  },
  {
   "cell_type": "code",
   "execution_count": 19,
   "metadata": {},
   "outputs": [
    {
     "data": {
      "text/html": [
       "<div>\n",
       "<style scoped>\n",
       "    .dataframe tbody tr th:only-of-type {\n",
       "        vertical-align: middle;\n",
       "    }\n",
       "\n",
       "    .dataframe tbody tr th {\n",
       "        vertical-align: top;\n",
       "    }\n",
       "\n",
       "    .dataframe thead th {\n",
       "        text-align: right;\n",
       "    }\n",
       "</style>\n",
       "<table border=\"1\" class=\"dataframe\">\n",
       "  <thead>\n",
       "    <tr style=\"text-align: right;\">\n",
       "      <th></th>\n",
       "      <th>Name</th>\n",
       "    </tr>\n",
       "  </thead>\n",
       "  <tbody>\n",
       "    <tr>\n",
       "      <th>202001001</th>\n",
       "      <td>홍길동</td>\n",
       "    </tr>\n",
       "    <tr>\n",
       "      <th>202001002</th>\n",
       "      <td>이순신</td>\n",
       "    </tr>\n",
       "    <tr>\n",
       "      <th>202001003</th>\n",
       "      <td>강감찬</td>\n",
       "    </tr>\n",
       "    <tr>\n",
       "      <th>202001004</th>\n",
       "      <td>이성계</td>\n",
       "    </tr>\n",
       "    <tr>\n",
       "      <th>202001005</th>\n",
       "      <td>을지문덕</td>\n",
       "    </tr>\n",
       "    <tr>\n",
       "      <th>...</th>\n",
       "      <td>...</td>\n",
       "    </tr>\n",
       "    <tr>\n",
       "      <th>202001012</th>\n",
       "      <td>박명수</td>\n",
       "    </tr>\n",
       "    <tr>\n",
       "      <th>202001013</th>\n",
       "      <td>정준하</td>\n",
       "    </tr>\n",
       "    <tr>\n",
       "      <th>202001014</th>\n",
       "      <td>정형돈</td>\n",
       "    </tr>\n",
       "    <tr>\n",
       "      <th>202001015</th>\n",
       "      <td>노홍철</td>\n",
       "    </tr>\n",
       "    <tr>\n",
       "      <th>202001016</th>\n",
       "      <td>하동훈</td>\n",
       "    </tr>\n",
       "  </tbody>\n",
       "</table>\n",
       "<p>16 rows × 1 columns</p>\n",
       "</div>"
      ],
      "text/plain": [
       "           Name\n",
       "202001001   홍길동\n",
       "202001002   이순신\n",
       "202001003   강감찬\n",
       "202001004   이성계\n",
       "202001005  을지문덕\n",
       "...         ...\n",
       "202001012   박명수\n",
       "202001013   정준하\n",
       "202001014   정형돈\n",
       "202001015   노홍철\n",
       "202001016   하동훈\n",
       "\n",
       "[16 rows x 1 columns]"
      ]
     },
     "execution_count": 19,
     "metadata": {},
     "output_type": "execute_result"
    }
   ],
   "source": [
    "df = pd.DataFrame({'Name' : ls_ko})\n",
    "df"
   ]
  },
  {
   "cell_type": "code",
   "execution_count": 23,
   "metadata": {},
   "outputs": [
    {
     "data": {
      "text/html": [
       "<div>\n",
       "<style scoped>\n",
       "    .dataframe tbody tr th:only-of-type {\n",
       "        vertical-align: middle;\n",
       "    }\n",
       "\n",
       "    .dataframe tbody tr th {\n",
       "        vertical-align: top;\n",
       "    }\n",
       "\n",
       "    .dataframe thead th {\n",
       "        text-align: right;\n",
       "    }\n",
       "</style>\n",
       "<table border=\"1\" class=\"dataframe\">\n",
       "  <thead>\n",
       "    <tr style=\"text-align: right;\">\n",
       "      <th></th>\n",
       "      <th>Name</th>\n",
       "    </tr>\n",
       "  </thead>\n",
       "  <tbody>\n",
       "    <tr>\n",
       "      <th>202001001</th>\n",
       "      <td>홍길동</td>\n",
       "    </tr>\n",
       "    <tr>\n",
       "      <th>202001003</th>\n",
       "      <td>강감찬</td>\n",
       "    </tr>\n",
       "    <tr>\n",
       "      <th>202001005</th>\n",
       "      <td>을지문덕</td>\n",
       "    </tr>\n",
       "    <tr>\n",
       "      <th>202001007</th>\n",
       "      <td>안중근</td>\n",
       "    </tr>\n",
       "    <tr>\n",
       "      <th>202001009</th>\n",
       "      <td>정도전</td>\n",
       "    </tr>\n",
       "    <tr>\n",
       "      <th>202001011</th>\n",
       "      <td>유재석</td>\n",
       "    </tr>\n",
       "    <tr>\n",
       "      <th>202001013</th>\n",
       "      <td>정준하</td>\n",
       "    </tr>\n",
       "    <tr>\n",
       "      <th>202001015</th>\n",
       "      <td>노홍철</td>\n",
       "    </tr>\n",
       "  </tbody>\n",
       "</table>\n",
       "</div>"
      ],
      "text/plain": [
       "           Name\n",
       "202001001   홍길동\n",
       "202001003   강감찬\n",
       "202001005  을지문덕\n",
       "202001007   안중근\n",
       "202001009   정도전\n",
       "202001011   유재석\n",
       "202001013   정준하\n",
       "202001015   노홍철"
      ]
     },
     "execution_count": 23,
     "metadata": {},
     "output_type": "execute_result"
    }
   ],
   "source": [
    "# 학번 홀수\n",
    "df1 = df[0::2]\n",
    "df1"
   ]
  },
  {
   "cell_type": "code",
   "execution_count": 24,
   "metadata": {},
   "outputs": [
    {
     "data": {
      "text/html": [
       "<div>\n",
       "<style scoped>\n",
       "    .dataframe tbody tr th:only-of-type {\n",
       "        vertical-align: middle;\n",
       "    }\n",
       "\n",
       "    .dataframe tbody tr th {\n",
       "        vertical-align: top;\n",
       "    }\n",
       "\n",
       "    .dataframe thead th {\n",
       "        text-align: right;\n",
       "    }\n",
       "</style>\n",
       "<table border=\"1\" class=\"dataframe\">\n",
       "  <thead>\n",
       "    <tr style=\"text-align: right;\">\n",
       "      <th></th>\n",
       "      <th>Name</th>\n",
       "    </tr>\n",
       "  </thead>\n",
       "  <tbody>\n",
       "    <tr>\n",
       "      <th>202001002</th>\n",
       "      <td>이순신</td>\n",
       "    </tr>\n",
       "    <tr>\n",
       "      <th>202001004</th>\n",
       "      <td>이성계</td>\n",
       "    </tr>\n",
       "    <tr>\n",
       "      <th>202001006</th>\n",
       "      <td>연개소문</td>\n",
       "    </tr>\n",
       "    <tr>\n",
       "      <th>202001008</th>\n",
       "      <td>김구</td>\n",
       "    </tr>\n",
       "    <tr>\n",
       "      <th>202001010</th>\n",
       "      <td>이황</td>\n",
       "    </tr>\n",
       "    <tr>\n",
       "      <th>202001012</th>\n",
       "      <td>박명수</td>\n",
       "    </tr>\n",
       "    <tr>\n",
       "      <th>202001014</th>\n",
       "      <td>정형돈</td>\n",
       "    </tr>\n",
       "    <tr>\n",
       "      <th>202001016</th>\n",
       "      <td>하동훈</td>\n",
       "    </tr>\n",
       "  </tbody>\n",
       "</table>\n",
       "</div>"
      ],
      "text/plain": [
       "           Name\n",
       "202001002   이순신\n",
       "202001004   이성계\n",
       "202001006  연개소문\n",
       "202001008    김구\n",
       "202001010    이황\n",
       "202001012   박명수\n",
       "202001014   정형돈\n",
       "202001016   하동훈"
      ]
     },
     "execution_count": 24,
     "metadata": {},
     "output_type": "execute_result"
    }
   ],
   "source": [
    "# 학번 짝수\n",
    "df2 = df[1::2]\n",
    "df2"
   ]
  }
 ],
 "metadata": {
  "kernelspec": {
   "display_name": "Python 3",
   "language": "python",
   "name": "python3"
  },
  "language_info": {
   "codemirror_mode": {
    "name": "ipython",
    "version": 3
   },
   "file_extension": ".py",
   "mimetype": "text/x-python",
   "name": "python",
   "nbconvert_exporter": "python",
   "pygments_lexer": "ipython3",
   "version": "3.8.5"
  }
 },
 "nbformat": 4,
 "nbformat_minor": 4
}
