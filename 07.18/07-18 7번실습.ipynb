{
 "cells": [
  {
   "cell_type": "markdown",
   "metadata": {},
   "source": [
    "7) 대용량 데이터 학습"
   ]
  },
  {
   "cell_type": "markdown",
   "metadata": {},
   "source": [
    "대용량 데이터를 기계학습에 사용할 경우 메모리 부족 문제가 발생할 수 있음\n",
    "\n",
    "  서버 용량 증설\n",
    "\n",
    "  학습용 데이터를 적게 설정\n",
    "\n",
    "  분산 처리 시스템(hadoop, spark)"
   ]
  },
  {
   "cell_type": "code",
   "execution_count": 30,
   "metadata": {},
   "outputs": [],
   "source": [
    "from sklearn import datasets\n",
    "\n",
    "import numpy as np\n",
    "\n",
    "iris = datasets.load_iris()\n",
    "\n",
    "X = iris.data\n",
    "\n",
    "y = iris.target"
   ]
  },
  {
   "cell_type": "code",
   "execution_count": 31,
   "metadata": {},
   "outputs": [],
   "source": [
    "# 데이터를 섞고\n",
    "\n",
    "idx = np.arange(X.shape[0])\n",
    "\n",
    "np.random.seed(0) # 고정 시 일정한 값 나옴\n",
    "\n",
    "np.random.shuffle(idx)\n",
    "\n",
    "X = X[idx]\n",
    "\n",
    "y = y[idx]"
   ]
  },
  {
   "cell_type": "code",
   "execution_count": 32,
   "metadata": {},
   "outputs": [],
   "source": [
    "from sklearn.preprocessing import StandardScaler\n",
    "\n",
    "scaler = StandardScaler()\n",
    "\n",
    "scaler.fit(X) # 패턴분석\n",
    "\n",
    "X = scaler.transform(X) # 변환"
   ]
  },
  {
   "cell_type": "code",
   "execution_count": 33,
   "metadata": {},
   "outputs": [
    {
     "name": "stdout",
     "output_type": "stream",
     "text": [
      "0.9733333333333333\n",
      "{'activation': 'tanh', 'alpha': 0.0001, 'hidden_layer_sizes': (50,)}\n"
     ]
    }
   ],
   "source": [
    "from sklearn.model_selection import GridSearchCV\n",
    "\n",
    "from sklearn.neural_network import MLPClassifier\n",
    "\n",
    "params = {\n",
    "\n",
    "    'hidden_layer_sizes': [(10,), (50,), (100,),\n",
    "\n",
    "                           (10,10), (50,50), (100,100)],\n",
    "\n",
    "    'activation': ['tanh', 'relu'],\n",
    "\n",
    "    'alpha': [0.0001, 0.01],\n",
    "\n",
    "}\n",
    "\n",
    "model = MLPClassifier(random_state=0, max_iter=5000)\n",
    "\n",
    "clf = GridSearchCV(model, param_grid=params, cv=3) # 교차검증 횟수\n",
    "#   CrossValidtaion\n",
    "\n",
    "clf.fit(X, y)\n",
    "\n",
    "print(clf.best_score_)\n",
    "\n",
    "print(clf.best_params_)"
   ]
  },
  {
   "cell_type": "code",
   "execution_count": 34,
   "metadata": {},
   "outputs": [],
   "source": [
    "from sklearn.model_selection import train_test_split\n",
    "\n",
    "#학습용, 검증용 구분\n",
    "\n",
    "X_train, X_test, y_train, y_test = train_test_split(X, y, test_size=0.2, stratify=y, random_state=0)\n",
    "\n",
    "scaler = StandardScaler()\n",
    "\n",
    "scaler.fit(X_train)  \n",
    "\n",
    "X_train = scaler.transform(X_train)\n",
    "\n",
    "X_test = scaler.transform(X_test)"
   ]
  },
  {
   "cell_type": "code",
   "execution_count": 35,
   "metadata": {},
   "outputs": [
    {
     "name": "stdout",
     "output_type": "stream",
     "text": [
      "0\n",
      "1\n",
      "2\n",
      "3\n",
      "4\n",
      "5\n"
     ]
    }
   ],
   "source": [
    "# generator\n",
    "\n",
    "# 메모리는 절약할 수 있지만 실행시간이 더 오래 걸릴 수 있음\n",
    "\n",
    "def make_numbers(n):\n",
    "\n",
    "    while n < 6:\n",
    "\n",
    "        yield n # 메모리에 저장하지 않고 호출한 곳으로 값을 보냄(return과 비슷한 역할)\n",
    "\n",
    "        n += 1\n",
    "\n",
    "    \n",
    "\n",
    "for i in make_numbers(0):\n",
    "\n",
    "    print(i)       "
   ]
  },
  {
   "cell_type": "code",
   "execution_count": 36,
   "metadata": {},
   "outputs": [
    {
     "name": "stdout",
     "output_type": "stream",
     "text": [
      "920\n",
      "8856\n"
     ]
    }
   ],
   "source": [
    "import sys\n",
    "\n",
    "#리스트의 데이터가 늘어나면 메모리 사용량이 증가한다.    \n",
    "\n",
    "#리스트의 모든 데이터를 메모리에 적재\n",
    "\n",
    "a = [i for i in range(100)]\n",
    "\n",
    "print(sys.getsizeof(a))\n",
    "\n",
    "b = [i for i in range(1000)]\n",
    "\n",
    "print(sys.getsizeof(b))"
   ]
  },
  {
   "cell_type": "code",
   "execution_count": 37,
   "metadata": {},
   "outputs": [
    {
     "name": "stdout",
     "output_type": "stream",
     "text": [
      "112\n",
      "112\n"
     ]
    }
   ],
   "source": [
    "#generator expression : 위에서 언급한 generator 함수를 좀더 쉽게 사용할 수 있도록 제공되는 표현식\n",
    "\n",
    "#[] 대신 ()을 사용하면 메모리를 효율적으로 사용할 수 있음\n",
    "\n",
    "#모든 데이터를 메모리에 적재하지 않고 next() 함수를 통해 조금씩 메모리에 적재\n",
    "\n",
    "c = (i for i in range(100))\n",
    "\n",
    "print(sys.getsizeof(c))\n",
    "\n",
    "d = (i for i in range(1000))\n",
    "\n",
    "print(sys.getsizeof(d))"
   ]
  },
  {
   "cell_type": "code",
   "execution_count": 38,
   "metadata": {},
   "outputs": [],
   "source": [
    "import time\n",
    "\n",
    "def func_sleep(x):\n",
    "\n",
    "    print('1초 멈춤...')\n",
    "\n",
    "    time.sleep(1)\n",
    "\n",
    "    return x"
   ]
  },
  {
   "cell_type": "code",
   "execution_count": 39,
   "metadata": {},
   "outputs": [
    {
     "name": "stdout",
     "output_type": "stream",
     "text": [
      "1초 멈춤...\n",
      "1초 멈춤...\n",
      "1초 멈춤...\n",
      "1초 멈춤...\n",
      "1초 멈춤...\n"
     ]
    }
   ],
   "source": [
    "# 리스트\n",
    "\n",
    "items1 = [func_sleep(x) for x in range(5)]"
   ]
  },
  {
   "cell_type": "code",
   "execution_count": 40,
   "metadata": {},
   "outputs": [],
   "source": [
    "# generator 생성\n",
    "\n",
    "items2 = (func_sleep(y) for y in range(5))"
   ]
  },
  {
   "cell_type": "code",
   "execution_count": 41,
   "metadata": {},
   "outputs": [
    {
     "name": "stdout",
     "output_type": "stream",
     "text": [
      "0\n",
      "1\n",
      "2\n",
      "3\n",
      "4\n",
      "CPU times: total: 0 ns\n",
      "Wall time: 0 ns\n"
     ]
    }
   ],
   "source": [
    "%%time\n",
    "\n",
    "#리스트를 사용하면 리스트의 모든 원소를 한꺼번에 처리한 후 최종 결과가 출력됨    \n",
    "\n",
    "for i in items1:\n",
    "\n",
    "    print(i)"
   ]
  },
  {
   "cell_type": "code",
   "execution_count": 42,
   "metadata": {},
   "outputs": [
    {
     "name": "stdout",
     "output_type": "stream",
     "text": [
      "1초 멈춤...\n",
      "0\n",
      "1초 멈춤...\n",
      "1\n",
      "1초 멈춤...\n",
      "2\n",
      "1초 멈춤...\n",
      "3\n",
      "1초 멈춤...\n",
      "4\n",
      "CPU times: total: 15.6 ms\n",
      "Wall time: 5.05 s\n"
     ]
    }
   ],
   "source": [
    "%%time\n",
    "\n",
    "#generator를 사용하면 수행 시간이 긴 연산을 한꺼번에 수행하지 않고 조금씩 수행함  \n",
    "\n",
    "for i in items2:\n",
    "\n",
    "    print(i)"
   ]
  },
  {
   "cell_type": "code",
   "execution_count": 43,
   "metadata": {},
   "outputs": [
    {
     "name": "stdout",
     "output_type": "stream",
     "text": [
      "메모리 사용량: 120\n",
      "메모리 사용량: 112\n"
     ]
    }
   ],
   "source": [
    "print('메모리 사용량:',sys.getsizeof(items1))\n",
    "\n",
    "print('메모리 사용량:',sys.getsizeof(items2))"
   ]
  },
  {
   "cell_type": "code",
   "execution_count": 44,
   "metadata": {},
   "outputs": [
    {
     "data": {
      "text/plain": [
       "0.9666666666666667"
      ]
     },
     "execution_count": 44,
     "metadata": {},
     "output_type": "execute_result"
    }
   ],
   "source": [
    "# 일반적인 방식(한꺼번에 처리하는 방식)\n",
    "\n",
    "from sklearn.metrics import accuracy_score\n",
    "\n",
    "clf=MLPClassifier(max_iter=5000, random_state=0) # 모델생성\n",
    "\n",
    "clf.fit(X_train, y_train) # 학습\n",
    "\n",
    "pred = clf.predict(X_test) # 검증\n",
    "\n",
    "accuracy_score(y_test, pred) # 정확도"
   ]
  },
  {
   "cell_type": "markdown",
   "metadata": {},
   "source": [
    "batch       배치(일괄처리)\n",
    "\n",
    "mini_batch  미니배치\n",
    "\n",
    "online      1건씩"
   ]
  },
  {
   "cell_type": "code",
   "execution_count": 45,
   "metadata": {},
   "outputs": [],
   "source": [
    "# batch(X_train, y_train, 10)\n",
    "\n",
    "#전체 데이터를 보내지 않고 10개씩 조금씩 보내서 처리하는 방식\n",
    "\n",
    "def batch(X1, y1, n):\n",
    "\n",
    "    x_size=len(X1)\n",
    "\n",
    "    for idx in range(0, x_size, n):\n",
    "\n",
    "        yield X1[idx:min(idx + n, x_size)], y1[idx:min(idx + n, x_size)]"
   ]
  },
  {
   "cell_type": "code",
   "execution_count": 46,
   "metadata": {},
   "outputs": [],
   "source": [
    "#10개씩 12회로 나누어 처리하는 방식\n",
    "\n",
    "clf2 = MLPClassifier(random_state=0)"
   ]
  },
  {
   "cell_type": "code",
   "execution_count": 47,
   "metadata": {},
   "outputs": [
    {
     "name": "stdout",
     "output_type": "stream",
     "text": [
      "0\n",
      "학습용: 0.48333333333333334\n",
      "검증용: 0.5\n",
      "1\n",
      "학습용: 0.525\n",
      "검증용: 0.5333333333333333\n",
      "2\n",
      "학습용: 0.6416666666666667\n",
      "검증용: 0.6333333333333333\n",
      "3\n",
      "학습용: 0.725\n",
      "검증용: 0.7\n",
      "4\n",
      "학습용: 0.7833333333333333\n",
      "검증용: 0.7333333333333333\n",
      "5\n",
      "학습용: 0.825\n",
      "검증용: 0.7666666666666667\n",
      "6\n",
      "학습용: 0.8416666666666667\n",
      "검증용: 0.7666666666666667\n",
      "7\n",
      "학습용: 0.8333333333333334\n",
      "검증용: 0.8\n",
      "8\n",
      "학습용: 0.85\n",
      "검증용: 0.8\n",
      "9\n",
      "학습용: 0.8583333333333333\n",
      "검증용: 0.8\n",
      "10\n",
      "학습용: 0.8583333333333333\n",
      "검증용: 0.8\n",
      "11\n",
      "학습용: 0.8583333333333333\n",
      "검증용: 0.8\n"
     ]
    }
   ],
   "source": [
    "#시간은 더 오래 걸릴 수 있으나 메모리를 절약할 수 있는 방법\n",
    "\n",
    "points_tr=[]\n",
    "\n",
    "points_te=[]\n",
    "\n",
    "samp = batch(X_train, y_train, 10)\n",
    "\n",
    "for idx, (chunk_X, chunk_y) in enumerate(samp):\n",
    "\n",
    "    print(idx)\n",
    "\n",
    "    #부분적으로 학습, 처음에는 정확도가 낮지만 점차 향상됨\n",
    "\n",
    "    clf2.partial_fit(chunk_X, chunk_y, classes=[0, 1, 2])\n",
    "\n",
    "    pred = clf2.predict(X_train)\n",
    "\n",
    "    point=accuracy_score(y_train, pred)\n",
    "\n",
    "    points_tr.append(point)\n",
    "\n",
    "    print('학습용:',point)\n",
    "\n",
    "    pred = clf2.predict(X_test)\n",
    "\n",
    "    point=accuracy_score(y_test, pred)\n",
    "\n",
    "    points_te.append(point)\n",
    "\n",
    "    print('검증용:',point)"
   ]
  },
  {
   "cell_type": "code",
   "execution_count": 48,
   "metadata": {},
   "outputs": [
    {
     "data": {
      "text/plain": [
       "<matplotlib.legend.Legend at 0x203f32d7a00>"
      ]
     },
     "execution_count": 48,
     "metadata": {},
     "output_type": "execute_result"
    },
    {
     "data": {
      "image/png": "[encoded data removed]",
      "text/plain": [
       "<Figure size 640x480 with 1 Axes>"
      ]
     },
     "metadata": {},
     "output_type": "display_data"
    }
   ],
   "source": [
    "import matplotlib.pyplot as plt\n",
    "\n",
    "plt.rcParams[\"font.size\"]=15\n",
    "\n",
    "plt.plot(range(1,13), points_tr, label=\"Train\")\n",
    "\n",
    "plt.plot(range(1,13), points_te, label=\"Test\")\n",
    "\n",
    "plt.ylabel(\"Accuracy\")\n",
    "\n",
    "plt.xlabel(\"samples\")\n",
    "\n",
    "plt.legend()"
   ]
  }
 ],
 "metadata": {
  "language_info": {
   "name": "python"
  },
  "orig_nbformat": 4
 },
 "nbformat": 4,
 "nbformat_minor": 2
}
