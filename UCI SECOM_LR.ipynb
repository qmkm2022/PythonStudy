{
 "cells": [
  {
   "cell_type": "code",
   "execution_count": 1,
   "id": "757f6317",
   "metadata": {},
   "outputs": [],
   "source": [
    "# 사용할 모델 불러오기\n",
    "import numpy as np\n",
    "import pandas as pd\n",
    "\n",
    "import matplotlib.pyplot as plt\n",
    "import seaborn as sns\n",
    "\n",
    "from sklearn.metrics import confusion_matrix\n",
    "from imblearn.over_sampling import SMOTE\n",
    "from sklearn.model_selection import train_test_split\n",
    "from sklearn.preprocessing import StandardScaler\n",
    "from sklearn.linear_model import LogisticRegression\n",
    "\n",
    "import warnings\n",
    "warnings.filterwarnings(\"ignore\", category=DeprecationWarning)"
   ]
  },
  {
   "cell_type": "code",
   "execution_count": 2,
   "id": "d2c5e72f",
   "metadata": {},
   "outputs": [
    {
     "name": "stdout",
     "output_type": "stream",
     "text": [
      "(1567, 373)\n"
     ]
    }
   ],
   "source": [
    "data = pd.read_csv('./Final_data_fix.csv')\n",
    "\n",
    "print(data.shape)"
   ]
  },
  {
   "cell_type": "markdown",
   "id": "946dcfbe",
   "metadata": {},
   "source": [
    "## Under-Sampling"
   ]
  },
  {
   "cell_type": "markdown",
   "id": "89b5ccf5",
   "metadata": {},
   "source": [
    " - Pass/Fail 데이터 분리"
   ]
  },
  {
   "cell_type": "code",
   "execution_count": 3,
   "id": "cd682b13",
   "metadata": {},
   "outputs": [
    {
     "name": "stdout",
     "output_type": "stream",
     "text": [
      "104\n"
     ]
    }
   ],
   "source": [
    "failed_tests = np.array(data[data['Pass/Fail'] == 1].index)\n",
    "no_failed_tests = len(failed_tests)\n",
    "\n",
    "print(no_failed_tests)"
   ]
  },
  {
   "cell_type": "code",
   "execution_count": 4,
   "id": "3dde78eb",
   "metadata": {},
   "outputs": [
    {
     "name": "stdout",
     "output_type": "stream",
     "text": [
      "1463\n"
     ]
    }
   ],
   "source": [
    "normal_indices = data[data['Pass/Fail'] == -1]\n",
    "no_normal_indices = len(normal_indices)\n",
    "\n",
    "print(no_normal_indices)"
   ]
  },
  {
   "cell_type": "code",
   "execution_count": 5,
   "id": "4d70e712",
   "metadata": {},
   "outputs": [
    {
     "name": "stdout",
     "output_type": "stream",
     "text": [
      "104\n"
     ]
    }
   ],
   "source": [
    "# Pass 데이터에서 무작위로 104개 추출\n",
    "random_normal_indices = np.random.choice(no_normal_indices, size = no_failed_tests, replace = True)\n",
    "random_normal_indices = np.array(random_normal_indices)\n",
    "\n",
    "print(len(random_normal_indices))"
   ]
  },
  {
   "cell_type": "code",
   "execution_count": 6,
   "id": "896ee8aa",
   "metadata": {},
   "outputs": [
    {
     "name": "stdout",
     "output_type": "stream",
     "text": [
      "208\n"
     ]
    }
   ],
   "source": [
    "under_sample = np.concatenate([failed_tests, random_normal_indices])\n",
    "print(len(under_sample))"
   ]
  },
  {
   "cell_type": "code",
   "execution_count": 7,
   "id": "03f195c0",
   "metadata": {},
   "outputs": [],
   "source": [
    "undersample_data = data.iloc[under_sample, :]"
   ]
  },
  {
   "cell_type": "code",
   "execution_count": 8,
   "id": "1488a3fd",
   "metadata": {},
   "outputs": [
    {
     "name": "stdout",
     "output_type": "stream",
     "text": [
      "(208, 372)\n",
      "(208, 1)\n"
     ]
    }
   ],
   "source": [
    "x = undersample_data.iloc[:, undersample_data.columns != 'Pass/Fail'] \n",
    "y = undersample_data.iloc[:, undersample_data.columns == 'Pass/Fail']\n",
    "\n",
    "print(x.shape)\n",
    "print(y.shape)"
   ]
  },
  {
   "cell_type": "code",
   "execution_count": 9,
   "id": "9c709da7",
   "metadata": {},
   "outputs": [
    {
     "name": "stdout",
     "output_type": "stream",
     "text": [
      "(145, 372)\n",
      "(145, 1)\n",
      "(63, 372)\n",
      "(63, 1)\n"
     ]
    }
   ],
   "source": [
    "# train, test 분리\n",
    "from sklearn.model_selection import train_test_split\n",
    "\n",
    "x_train_us, x_test_us, y_train_us, y_test_us = train_test_split(x, y, test_size = 0.3, random_state = 1)\n",
    "\n",
    "print(x_train_us.shape)\n",
    "print(y_train_us.shape)\n",
    "print(x_test_us.shape)\n",
    "print(y_test_us.shape)"
   ]
  },
  {
   "cell_type": "code",
   "execution_count": 10,
   "id": "8b356712",
   "metadata": {},
   "outputs": [],
   "source": [
    "# 표준화\n",
    "sc = StandardScaler()\n",
    "x_train_us = sc.fit_transform(x_train_us)\n",
    "x_test_us = sc.transform(x_test_us)"
   ]
  },
  {
   "cell_type": "markdown",
   "id": "aec876a6",
   "metadata": {},
   "source": [
    "## Logistic regression(UnderSampling)"
   ]
  },
  {
   "cell_type": "code",
   "execution_count": 11,
   "id": "e0c10c89",
   "metadata": {},
   "outputs": [
    {
     "name": "stdout",
     "output_type": "stream",
     "text": [
      "Accuracy:  66.66666666666666\n"
     ]
    },
    {
     "name": "stderr",
     "output_type": "stream",
     "text": [
      "c:\\python38\\lib\\site-packages\\sklearn\\utils\\validation.py:1143: DataConversionWarning: A column-vector y was passed when a 1d array was expected. Please change the shape of y to (n_samples, ), for example using ravel().\n",
      "  y = column_or_1d(y, warn=True)\n"
     ]
    }
   ],
   "source": [
    "# LogisticRegression 모델 적용\n",
    "lr = LogisticRegression(random_state=1)\n",
    "lr.fit(x_train_us, y_train_us) \n",
    "\n",
    "print(\"Accuracy: \", lr.score(x_test_us,y_test_us)*100)"
   ]
  },
  {
   "cell_type": "code",
   "execution_count": 12,
   "id": "617f1631",
   "metadata": {},
   "outputs": [],
   "source": [
    "y_pred = lr.predict(x_test_us)"
   ]
  },
  {
   "cell_type": "code",
   "execution_count": 13,
   "id": "cc2f1ff0",
   "metadata": {},
   "outputs": [
    {
     "data": {
      "text/plain": [
       "<Axes: >"
      ]
     },
     "execution_count": 13,
     "metadata": {},
     "output_type": "execute_result"
    },
    {
     "data": {
      "image/png": "[encoded data removed]",
      "text/plain": [
       "<Figure size 640x480 with 2 Axes>"
      ]
     },
     "metadata": {},
     "output_type": "display_data"
    }
   ],
   "source": [
    "# 혼동행렬 시각화\n",
    "cm = confusion_matrix(y_test_us, y_pred)\n",
    "sns.heatmap(cm, annot = True, cmap = 'rainbow')"
   ]
  },
  {
   "cell_type": "markdown",
   "id": "ff1a068a",
   "metadata": {},
   "source": [
    "# Over-Sampling"
   ]
  },
  {
   "cell_type": "code",
   "execution_count": 14,
   "id": "db32445d",
   "metadata": {},
   "outputs": [
    {
     "name": "stdout",
     "output_type": "stream",
     "text": [
      "(208, 372)\n",
      "(208,)\n"
     ]
    }
   ],
   "source": [
    "# SMOTE 를 이용한 오버샘플링\n",
    "from imblearn.over_sampling import SMOTE\n",
    "\n",
    "x_resample, y_resample  = SMOTE().fit_resample(x, y.values.ravel())\n",
    "\n",
    "print(x_resample.shape)\n",
    "print(y_resample.shape)"
   ]
  },
  {
   "cell_type": "code",
   "execution_count": 15,
   "id": "a0bdc09e",
   "metadata": {},
   "outputs": [
    {
     "name": "stdout",
     "output_type": "stream",
     "text": [
      "(145, 372)\n",
      "(145, 1)\n",
      "(63, 372)\n",
      "(63, 1)\n"
     ]
    }
   ],
   "source": [
    "# train, test 모델 분리\n",
    "x_train_os, x_test_os, y_train_os, y_test_os = train_test_split(x, y, test_size = 0.3, random_state = 1)\n",
    "\n",
    "print(x_train_os.shape)\n",
    "print(y_train_os.shape)\n",
    "print(x_test_os.shape)\n",
    "print(y_test_os.shape)"
   ]
  },
  {
   "cell_type": "code",
   "execution_count": 16,
   "id": "2bb2449b",
   "metadata": {},
   "outputs": [],
   "source": [
    "# 표준화\n",
    "sc = StandardScaler()\n",
    "x_train_os = sc.fit_transform(x_train_os)\n",
    "x_test_os = sc.transform(x_test_os)"
   ]
  },
  {
   "cell_type": "markdown",
   "id": "ab1df872",
   "metadata": {},
   "source": [
    "## Logistic regression(OverSampling)"
   ]
  },
  {
   "cell_type": "code",
   "execution_count": 17,
   "id": "0ec1b36c",
   "metadata": {},
   "outputs": [
    {
     "name": "stdout",
     "output_type": "stream",
     "text": [
      "Accuracy:  66.66666666666666\n"
     ]
    },
    {
     "name": "stderr",
     "output_type": "stream",
     "text": [
      "c:\\python38\\lib\\site-packages\\sklearn\\utils\\validation.py:1143: DataConversionWarning: A column-vector y was passed when a 1d array was expected. Please change the shape of y to (n_samples, ), for example using ravel().\n",
      "  y = column_or_1d(y, warn=True)\n"
     ]
    }
   ],
   "source": [
    "# LogisticRegression 모델 적용\n",
    "lr = LogisticRegression(random_state=1)\n",
    "lr.fit(x_train_os, y_train_os) \n",
    "y_pred_os = lr.predict(x_test_os)\n",
    "\n",
    "print(\"Accuracy: \", lr.score(x_test_os,y_test_os)*100)"
   ]
  },
  {
   "cell_type": "code",
   "execution_count": 18,
   "id": "ecb60031",
   "metadata": {},
   "outputs": [
    {
     "data": {
      "text/plain": [
       "<Axes: >"
      ]
     },
     "execution_count": 18,
     "metadata": {},
     "output_type": "execute_result"
    },
    {
     "data": {
      "image/png": "[encoded data removed]",
      "text/plain": [
       "<Figure size 640x480 with 2 Axes>"
      ]
     },
     "metadata": {},
     "output_type": "display_data"
    }
   ],
   "source": [
    "# 혼동행렬 시각화\n",
    "CM = confusion_matrix(y_test_os, y_pred_os)\n",
    "sns.heatmap(CM, annot = True, cmap = 'rainbow')"
   ]
  }
 ],
 "metadata": {
  "kernelspec": {
   "display_name": "Python 3 (ipykernel)",
   "language": "python",
   "name": "python3"
  },
  "language_info": {
   "codemirror_mode": {
    "name": "ipython",
    "version": 3
   },
   "file_extension": ".py",
   "mimetype": "text/x-python",
   "name": "python",
   "nbconvert_exporter": "python",
   "pygments_lexer": "ipython3",
   "version": "3.8.7"
  }
 },
 "nbformat": 4,
 "nbformat_minor": 5
}
